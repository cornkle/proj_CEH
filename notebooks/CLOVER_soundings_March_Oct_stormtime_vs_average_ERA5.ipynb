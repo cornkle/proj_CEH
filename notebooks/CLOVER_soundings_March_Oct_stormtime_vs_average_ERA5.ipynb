{
 "cells": [
  {
   "cell_type": "code",
   "execution_count": 2,
   "metadata": {},
   "outputs": [],
   "source": [
    "import numpy as np\n",
    "import matplotlib.pyplot as plt\n",
    "import cartopy.crs as ccrs\n",
    "import cartopy.feature as cfeature\n",
    "import cartopy\n",
    "import matplotlib.pylab as pylab\n",
    "import cartopy.feature as cfeature\n",
    "import scipy.stats as stats\n",
    "import xarray as xr\n",
    "import ipdb\n",
    "import glob\n",
    "import itertools\n",
    "import numpy.ma as ma\n",
    "from utils import u_statistics as u_stat\n",
    "from scipy.stats import gaussian_kde\n",
    "import pickle as pkl\n",
    "from utils import u_plot as uplot, u_darrays as uda, u_met\n",
    "import pandas as pd\n",
    "\n",
    "##for regridding, install xesmf:\n",
    "# conda install esmpy\n",
    "# pip install xesmf\n",
    "from utils import constants as cnst\n",
    "\n",
    "pylab.rcParams['figure.figsize'] = (30., 30.)\n",
    "#%matplotlib inline"
   ]
  },
  {
   "cell_type": "code",
   "execution_count": 1,
   "metadata": {},
   "outputs": [
    {
     "name": "stdout",
     "output_type": "stream",
     "text": [
      "/home/ck/pythonWorkspace/proj_CEH\n"
     ]
    }
   ],
   "source": [
    "cd .."
   ]
  },
  {
   "cell_type": "code",
   "execution_count": null,
   "metadata": {},
   "outputs": [],
   "source": [
    "def get_ERA5(era_pl, era_srfc, indic):\n",
    "    \n",
    "    dic = {}\n",
    "\n",
    "    dic['q_col'] = []\n",
    "    dic['u_col'] = []\n",
    "    dic['r_col'] = []\n",
    "    dic['v_col'] = []\n",
    "    \n",
    "    dic['q_col_s'] = []\n",
    "    dic['u_col_s'] = []\n",
    "    dic['r_col_s'] = []\n",
    "    dic['v_col_s'] = []\n",
    "    dic['u925_s'] = []\n",
    "    dic['u650_s'] = []\n",
    "    dic['q925_s'] = []\n",
    "    dic['q700_s'] = []\n",
    "    dic['tcwv_s'] = []\n",
    "    dic['CAPE_s'] = []\n",
    "    \n",
    "    ### single values\n",
    "    dic['tcwv'] = []\n",
    "    dic['CAPE'] = []\n",
    "    dic['dates'] = []\n",
    "    dic['tmin'] = []\n",
    "    dic['tmean'] = []\n",
    "    dic['t10'] = []\n",
    "    dic['area'] = []\n",
    "    dic['area70'] = []\n",
    "    dic['lat'] = []\n",
    "    dic['lon'] = []\n",
    "    dic['u925'] = []\n",
    "    dic['u650'] = []\n",
    "    dic['q925'] = []\n",
    "    dic['q700'] = []\n",
    "    \n",
    "    \n",
    "    \n",
    "    for id, date in enumerate(indic.date):\n",
    "        \n",
    "        print('Doing', date)\n",
    "        \n",
    "\n",
    "#         getera_pl =np.where((era_pl['time.day']==(indic['date'])[id].day) & (era_pl['time.month']==indic.month[id]) \n",
    "#                             & (era_pl['time.year']==indic.year[id]) & (era_pl['time.hour']==12))\n",
    "        \n",
    "#         getera_sf =np.where((era_srfc['time.day']==(indic['date'])[id].day)  & (era_srfc['time.year']==indic.year[id]) \n",
    "#                             & (era_srfc['time.month']==indic.month[id]) & (era_srfc['time.hour']==12))\n",
    "\n",
    "        time = str(date.year)+str(date.month).zfill(2)+str(date.day).zfill(2)+'T12'\n",
    "        stormtime = str(date.year)+str(date.month).zfill(2)+str(date.day).zfill(2)+'T15'\n",
    "      \n",
    "        try:\n",
    "            era_day_pl = era_pl.sel(time=time).isel(time=0)\n",
    "        except (TypeError, IndexError, KeyError):\n",
    "            print('Era missing:', date)\n",
    "#             for k in dic.keys():\n",
    "#                 dic[k].append(np.nan)\n",
    "            continue\n",
    "    \n",
    "       \n",
    "        era_day_sf = era_srfc.sel(time=time).isel(time=0)\n",
    "        try:\n",
    "            era_day_sft = era_srfc.sel(time=stormtime).isel(time=0)\n",
    "        except IndexError:\n",
    "            continue\n",
    "        era_day_plt = era_pl.sel(time=stormtime).isel(time=0)\n",
    "\n",
    "        elat = indic.clat[id]\n",
    "        elon = indic.clon[id]\n",
    "        dic['dates'].append(date)\n",
    "        dic['lat'].append(elat)\n",
    "        dic['lon'].append(elon)\n",
    "        #ipdb.set_trace()\n",
    "        point = era_day_sf.sel(latitude=elat, longitude=elon, method='nearest')\n",
    "        \n",
    "        posx = int(np.where(era_day_sf.longitude == point.longitude)[0])\n",
    "        posy = int(np.where(era_day_sf.latitude == point.latitude)[0])\n",
    "                    \n",
    "#         xxx = 0\n",
    "#         yy = slice(posy-xx,posy+xx)\n",
    "#         xx = slice(posx-xx,posx+xx)\n",
    "        yy = posy\n",
    "        xx = posx\n",
    "        \n",
    "        try:\n",
    "            dic['u925'].append(np.asscalar((era_day_pl['u'].isel(latitude=yy, longitude=xx).sel(level=925).mean().values)))\n",
    "        except ValueError:\n",
    "            continue\n",
    "        #ipdb.set_trace()\n",
    "        dic['u650'].append(np.asscalar((era_day_pl['u'].isel(latitude=yy, longitude=xx).sel( level=650).mean().values)))\n",
    "        dic['q925'].append(np.asscalar((era_day_pl['q'].isel(latitude=yy, longitude=xx).sel( level=925).mean().values)))\n",
    "        dic['q700'].append(np.asscalar((era_day_pl['q'].isel(latitude=yy, longitude=xx).sel( level=700).mean().values)))\n",
    "        dic['CAPE'].append(np.asscalar((era_day_sf['cape'].isel(latitude=yy, longitude=xx).mean().values)))\n",
    "        dic['tcwv'].append(np.asscalar((era_day_sf['tcwv'].isel(latitude=yy, longitude=xx).mean().values)))\n",
    "                          \n",
    "        dic['q_col'].append((era_day_pl['q'].isel(latitude=yy, longitude=xx).values))\n",
    "        dic['u_col'].append((era_day_pl['u'].isel(latitude=yy, longitude=xx).values))\n",
    "        dic['r_col'].append((era_day_pl['r'].isel(latitude=yy, longitude=xx).values))\n",
    "        dic['v_col'].append((era_day_pl['v'].isel(latitude=yy, longitude=xx).values))\n",
    "        \n",
    "        dic['u925_s'].append(np.asscalar((era_day_plt['u'].isel(latitude=yy, longitude=xx).sel(level=925).mean().values)))                \n",
    "        dic['u650_s'].append(np.asscalar((era_day_plt['u'].isel(latitude=yy, longitude=xx).sel( level=650).mean().values)))\n",
    "        dic['q925_s'].append(np.asscalar((era_day_plt['q'].isel(latitude=yy, longitude=xx).sel( level=925).mean().values)))\n",
    "        dic['q700_s'].append(np.asscalar((era_day_plt['q'].isel(latitude=yy, longitude=xx).sel( level=700).mean().values)))\n",
    "        dic['CAPE_s'].append(np.asscalar((era_day_sft['cape'].isel(latitude=yy, longitude=xx).mean().values)))\n",
    "        dic['tcwv_s'].append(np.asscalar((era_day_sft['tcwv'].isel(latitude=yy, longitude=xx).mean().values)))\n",
    "                          \n",
    "        dic['q_col_s'].append((era_day_plt['q'].isel(latitude=yy, longitude=xx).values))\n",
    "        dic['u_col_s'].append((era_day_plt['u'].isel(latitude=yy, longitude=xx).values))\n",
    "        dic['r_col_s'].append((era_day_plt['r'].isel(latitude=yy, longitude=xx).values))\n",
    "        dic['v_col_s'].append((era_day_plt['v'].isel(latitude=yy, longitude=xx).values))\n",
    "       \n",
    "        dic['tmin'].append(indic.tmin[id])\n",
    "        dic['tmean'].append(indic.tmean[id])\n",
    "        dic['t10'].append(indic.t10[id])\n",
    "        dic['area'].append(indic.area[id])\n",
    "        dic['area70'].append((indic['70area'])[id])\n",
    "    dic['level'] = era_pl.level.values\n",
    "    \n",
    "    return dic"
   ]
  },
  {
   "cell_type": "code",
   "execution_count": null,
   "metadata": {},
   "outputs": [],
   "source": [
    "def get_ERA5_clim(era_pl_clim, era_srfc_clim, indic):\n",
    "    \n",
    "    dic = {}\n",
    "\n",
    "    dic['q_col'] = []\n",
    "    dic['u_col'] = []\n",
    "    dic['r_col'] = []\n",
    "    dic['v_col'] = []\n",
    "    ### single values\n",
    "    dic['tcwv'] = []\n",
    "    dic['CAPE'] = []\n",
    "    dic['dates'] = []\n",
    "    dic['tmin'] = []\n",
    "    dic['tmean'] = []\n",
    "    dic['t10'] = []\n",
    "    dic['area'] = []\n",
    "    dic['area70'] = []\n",
    "    dic['lat'] = []\n",
    "    dic['lon'] = []\n",
    "    dic['u925'] = []\n",
    "    dic['u650'] = []\n",
    "    dic['q925'] = []\n",
    "    dic['q700'] = []\n",
    "    \n",
    "    for id, date in enumerate(indic.date):\n",
    "        \n",
    "        print('Doing', date)\n",
    "\n",
    "\n",
    "        time = str(date.year)+'-'+str(date.month)+'-'+'12'\n",
    "        stormtime = str(date.year)+'-'+str(date.month)+'-'+'18'\n",
    "\n",
    "        try:\n",
    "            era_day_pl = era_pl_clim.sel(ymonth=time)\n",
    "        except (TypeError, IndexError, KeyError):\n",
    "            print('Era missing:', date)\n",
    "#             for k in dic.keys():\n",
    "#                 dic[k].append(np.nan)\n",
    "            continue\n",
    "\n",
    "        era_day_sf = era_srfc_clim.sel(ymonth=time)\n",
    "        \n",
    "        era_day_sft = era_srfc_clim.sel(ymonth=stormtime)\n",
    "        era_day_plt = era_pl_clim.sel(ymonth=stormtime)\n",
    "\n",
    "        elat = indic.clat[id]\n",
    "        elon = indic.clon[id]\n",
    "        dic['dates'].append(date)\n",
    "        dic['lat'].append(elat)\n",
    "        dic['lon'].append(elon)\n",
    "        \n",
    "        point = era_day_sf.sel(latitude=elat, longitude=elon, method='nearest')\n",
    "        \n",
    "        posx = int(np.where(era_day_sf.longitude == point.longitude)[0])\n",
    "        posy = int(np.where(era_day_sf.latitude == point.latitude)[0])\n",
    "                    \n",
    "        xxx= 0\n",
    "        \n",
    "        try:\n",
    "            dic['u925'].append(np.asscalar((era_day_pl['u'].isel(latitude=yy, longitude=xx).sel(level=925).mean().values)))\n",
    "        except ValueError:\n",
    "            continue\n",
    "            \n",
    "#         yy = slice(posy-xx,posy+xx)\n",
    "#         xx = slice(posx-xx,posx+xx)\n",
    "        yy = posy\n",
    "        xx = posx\n",
    "\n",
    "        dic['u650'].append(np.asscalar((era_day_pl['u'].isel(latitude=yy, longitude=xx).sel( level=650).mean().values)))\n",
    "        dic['q925'].append(np.asscalar((era_day_pl['q'].isel(latitude=yy, longitude=xx).sel( level=925).mean().values)))\n",
    "        dic['q700'].append(np.asscalar((era_day_pl['q'].isel(latitude=yy, longitude=xx).sel( level=700).mean().values)))\n",
    "        dic['CAPE'].append(np.asscalar((era_day_sf['cape'].isel(latitude=yy, longitude=xx).mean().values)))\n",
    "        dic['tcwv'].append(np.asscalar((era_day_sf['tcwv'].isel(latitude=yy, longitude=xx).mean().values)))\n",
    "                          \n",
    "        dic['q_col'].append((era_day_pl['q'].isel(latitude=yy, longitude=xx).values)) #.mean(['latitude', 'longitude']\n",
    "        dic['u_col'].append((era_day_pl['u'].isel(latitude=yy, longitude=xx).mean(['latitude', 'longitude']).values))\n",
    "        dic['r_col'].append((era_day_pl['r'].isel(latitude=yy, longitude=xx).mean(['latitude', 'longitude']).values))\n",
    "        dic['v_col'].append((era_day_pl['v'].isel(latitude=yy, longitude=xx).mean(['latitude', 'longitude']).values))\n",
    "        \n",
    "        dic['u925_s'].append(np.asscalar((era_day_plt['u'].isel(latitude=yy, longitude=xx).sel(level=925).mean().values)))\n",
    "        dic['u650_s'].append(np.asscalar((era_day_plt['u'].isel(latitude=yy, longitude=xx).sel( level=650).mean().values)))\n",
    "        dic['q925_s'].append(np.asscalar((era_day_plt['q'].isel(latitude=yy, longitude=xx).sel( level=925).mean().values)))\n",
    "        dic['q700_s'].append(np.asscalar((era_day_plt['q'].isel(latitude=yy, longitude=xx).sel( level=700).mean().values)))\n",
    "        dic['CAPE_s'].append(np.asscalar((era_day_sft['cape'].isel(latitude=yy, longitude=xx).mean().values)))\n",
    "        dic['tcwv_s'].append(np.asscalar((era_day_sft['tcwv'].isel(latitude=yy, longitude=xx).mean().values)))\n",
    "                          \n",
    "        dic['q_col_s'].append((era_day_plt['q'].isel(latitude=yy, longitude=xx).mean(['latitude', 'longitude']).values))\n",
    "        dic['u_col_s'].append((era_day_plt['u'].isel(latitude=yy, longitude=xx).mean(['latitude', 'longitude']).values))\n",
    "        dic['r_col_s'].append((era_day_plt['r'].isel(latitude=yy, longitude=xx).mean(['latitude', 'longitude']).values))\n",
    "        dic['v_col_s'].append((era_day_plt['v'].isel(latitude=yy, longitude=xx).mean(['latitude', 'longitude']).values))\n",
    "        \n",
    "        \n",
    "        dic['tmin'].append(indic.tmin[id])\n",
    "        dic['tmean'].append(indic.tmean[id])\n",
    "        dic['t10'].append(indic.t10[id])\n",
    "        dic['area'].append(indic.area[id])\n",
    "        dic['area70'].append((indic['70area'])[id])\n",
    "    dic['level'] = era_pl_clim.level.values\n",
    "    \n",
    "    return dic"
   ]
  },
  {
   "cell_type": "code",
   "execution_count": null,
   "metadata": {},
   "outputs": [],
   "source": [
    "pdf = pkl.load(open (cnst.CLOVER_SAVES + 'StormLoc_-50_5000km_WA.p', 'rb'))"
   ]
  },
  {
   "cell_type": "code",
   "execution_count": null,
   "metadata": {},
   "outputs": [],
   "source": [
    "pdf_all = pdf.where((pdf.clat>=4.5) & (pdf.clat<=9) & (pdf.clon>=-12) & (pdf.clon<=12) &\n",
    "                    (pdf.year >=2006) & (pdf.year <=2014)) # 2000-2014!\n",
    "pdf_all = pdf_all.dropna()"
   ]
  },
  {
   "cell_type": "code",
   "execution_count": null,
   "metadata": {},
   "outputs": [],
   "source": [
    "np.unique(pdf_all.year)"
   ]
  },
  {
   "cell_type": "code",
   "execution_count": null,
   "metadata": {},
   "outputs": [],
   "source": [
    "pdf_march = pdf.where((pdf.clat>=4.5) & (pdf.clat<=8.5) & (pdf.clon>=-12) & (pdf.clon<=12) &\n",
    "(pdf.month == 3) & (pdf.year >=2000) & (pdf.year <=2012))\n",
    "pdf_march = pdf_march.dropna()"
   ]
  },
  {
   "cell_type": "code",
   "execution_count": null,
   "metadata": {},
   "outputs": [],
   "source": [
    "pdf_oct = pdf.where((pdf.clat>=4.5) & (pdf.clat<=8.5) & (pdf.clon>=-12) & (pdf.clon<=12) &\n",
    "(pdf.month == 10) & (pdf.year >=2000) & (pdf.year <=2012))\n",
    "pdf_oct = pdf_oct.dropna()"
   ]
  },
  {
   "cell_type": "code",
   "execution_count": 13,
   "metadata": {},
   "outputs": [],
   "source": [
    "era_pl = xr.open_mfdataset('/home/ck/DIR/mymachine/ERA5/pressure_levels/*.nc')\n",
    "era_srfc = xr.open_mfdataset('/home/ck/DIR/mymachine/ERA5/surface/*.nc')"
   ]
  },
  {
   "cell_type": "code",
   "execution_count": null,
   "metadata": {},
   "outputs": [],
   "source": [
    "era_pl = uda.flip_lat(era_pl)\n",
    "era_srfc = uda.flip_lat(era_srfc)"
   ]
  },
  {
   "cell_type": "code",
   "execution_count": null,
   "metadata": {},
   "outputs": [],
   "source": [
    "np.unique(era_srfc['time.hour'])"
   ]
  },
  {
   "cell_type": "code",
   "execution_count": null,
   "metadata": {},
   "outputs": [],
   "source": [
    "era_out = get_ERA5(era_pl, era_srfc, pdf_all)\n",
    "pkl.dump(era_out,open(cnst.CLOVER_SAVES + 'StormLoc_-50_5000km_WA_ERA5_allmonth_2006-2014_small.p', 'wb'))"
   ]
  },
  {
   "cell_type": "code",
   "execution_count": null,
   "metadata": {},
   "outputs": [],
   "source": [
    "# era_clim_out = get_ERA5_clim(era_pl_mean, era_srfc_mean, pdf_march)\n",
    "# pkl.dump(era_clim_out,open(cnst.CLOVER_SAVES + 'StormLoc_-50_5000km_WA_ERA5_march_clim.p', 'wb'))"
   ]
  },
  {
   "cell_type": "code",
   "execution_count": 3,
   "metadata": {},
   "outputs": [],
   "source": [
    "era_march = pkl.load( open (cnst.CLOVER_SAVES + 'StormLoc_-50_5000km_WA_ERA5_march.p', 'rb'))\n",
    "era_oct = pkl.load( open (cnst.CLOVER_SAVES + 'StormLoc_-50_5000km_WA_ERA5_oct.p', 'rb'))"
   ]
  },
  {
   "cell_type": "code",
   "execution_count": 4,
   "metadata": {},
   "outputs": [],
   "source": [
    "era_march_clim = pkl.load( open (cnst.CLOVER_SAVES + 'StormLoc_-50_5000km_WA_ERA5_march_clim.p', 'rb'))\n",
    "era_oct_clim = pkl.load( open (cnst.CLOVER_SAVES + 'StormLoc_-50_5000km_WA_ERA5_oct_clim.p', 'rb'))"
   ]
  },
  {
   "cell_type": "code",
   "execution_count": 5,
   "metadata": {},
   "outputs": [],
   "source": [
    "level = era_march.pop('level')\n",
    "level = era_oct.pop('level')"
   ]
  },
  {
   "cell_type": "code",
   "execution_count": 6,
   "metadata": {},
   "outputs": [],
   "source": [
    "for k in era_march.keys():\n",
    "    era_march[k] = era_march[k][0:1841]"
   ]
  },
  {
   "cell_type": "code",
   "execution_count": 7,
   "metadata": {},
   "outputs": [],
   "source": [
    "for k in era_oct.keys():\n",
    "    era_oct[k] = era_oct[k][0:2096]"
   ]
  },
  {
   "cell_type": "code",
   "execution_count": 8,
   "metadata": {},
   "outputs": [
    {
     "name": "stdout",
     "output_type": "stream",
     "text": [
      "1063.4757279858334\n",
      "959.3785168465058\n"
     ]
    }
   ],
   "source": [
    "print(np.array(era_oct['CAPE']).mean())\n",
    "print(np.array(era_oct_clim['CAPE']).mean())"
   ]
  },
  {
   "cell_type": "code",
   "execution_count": 9,
   "metadata": {},
   "outputs": [
    {
     "name": "stdout",
     "output_type": "stream",
     "text": [
      "1237.0779014713798\n",
      "1065.4395493295515\n"
     ]
    }
   ],
   "source": [
    "print(np.array(era_march['CAPE']).mean())\n",
    "print(np.array(era_march_clim['CAPE']).mean())"
   ]
  },
  {
   "cell_type": "code",
   "execution_count": 10,
   "metadata": {},
   "outputs": [],
   "source": [
    "perc_mar = np.percentile(era_march['tmin'],[10,90])\n",
    "perc_oct = np.percentile(era_oct['tmin'],[10,90])"
   ]
  },
  {
   "cell_type": "code",
   "execution_count": 11,
   "metadata": {},
   "outputs": [],
   "source": [
    "ostrong = np.where(era_oct['tmin'] < perc_oct[0])[0]\n",
    "oweak = np.where(era_oct['tmin'] > perc_oct[1])[0]\n",
    "mstrong = np.where(era_march['tmin'] < perc_mar[0])[0]\n",
    "mweak = np.where(era_march['tmin'] > perc_mar[1])[0]\n",
    "oct_strong = {}\n",
    "oct_weak = {}\n",
    "mar_strong = {}\n",
    "mar_weak = {}\n",
    "\n",
    "for v in era_march.keys():\n",
    "    oct_strong[v] = np.array(era_oct[v])[ostrong]\n",
    "    oct_weak[v] = np.array(era_oct[v])[oweak]\n",
    "    mar_strong[v] = np.array(era_march[v])[mstrong]\n",
    "    mar_weak[v] = np.array(era_march[v])[mweak]    "
   ]
  },
  {
   "cell_type": "code",
   "execution_count": 12,
   "metadata": {
    "scrolled": false
   },
   "outputs": [
    {
     "ename": "NameError",
     "evalue": "name 'era_pl' is not defined",
     "output_type": "error",
     "traceback": [
      "\u001b[0;31m---------------------------------------------------------------------------\u001b[0m",
      "\u001b[0;31mNameError\u001b[0m                                 Traceback (most recent call last)",
      "\u001b[0;32m<ipython-input-12-cc8f62cf21b7>\u001b[0m in \u001b[0;36m<module>\u001b[0;34m()\u001b[0m\n\u001b[1;32m      3\u001b[0m \u001b[0mf\u001b[0m \u001b[0;34m=\u001b[0m \u001b[0mplt\u001b[0m\u001b[0;34m.\u001b[0m\u001b[0mfigure\u001b[0m\u001b[0;34m(\u001b[0m\u001b[0mfigsize\u001b[0m\u001b[0;34m=\u001b[0m\u001b[0;34m(\u001b[0m\u001b[0;36m15\u001b[0m\u001b[0;34m,\u001b[0m\u001b[0;36m9\u001b[0m\u001b[0;34m)\u001b[0m\u001b[0;34m,\u001b[0m \u001b[0mdpi\u001b[0m\u001b[0;34m=\u001b[0m\u001b[0;36m300\u001b[0m\u001b[0;34m)\u001b[0m\u001b[0;34m\u001b[0m\u001b[0m\n\u001b[1;32m      4\u001b[0m \u001b[0mf\u001b[0m\u001b[0;34m.\u001b[0m\u001b[0madd_subplot\u001b[0m\u001b[0;34m(\u001b[0m\u001b[0;36m331\u001b[0m\u001b[0;34m)\u001b[0m\u001b[0;34m\u001b[0m\u001b[0m\n\u001b[0;32m----> 5\u001b[0;31m \u001b[0mplt\u001b[0m\u001b[0;34m.\u001b[0m\u001b[0mplot\u001b[0m\u001b[0;34m(\u001b[0m\u001b[0mq_march\u001b[0m\u001b[0;34m,\u001b[0m \u001b[0mera_pl\u001b[0m\u001b[0;34m.\u001b[0m\u001b[0mlevel\u001b[0m\u001b[0;34m.\u001b[0m\u001b[0mvalues\u001b[0m\u001b[0;34m,\u001b[0m\u001b[0;34m'r'\u001b[0m\u001b[0;34m,\u001b[0m \u001b[0mlabel\u001b[0m\u001b[0;34m=\u001b[0m\u001b[0;34m'March'\u001b[0m\u001b[0;34m)\u001b[0m\u001b[0;34m\u001b[0m\u001b[0m\n\u001b[0m\u001b[1;32m      6\u001b[0m \u001b[0mplt\u001b[0m\u001b[0;34m.\u001b[0m\u001b[0mplot\u001b[0m\u001b[0;34m(\u001b[0m\u001b[0mq_oct\u001b[0m\u001b[0;34m,\u001b[0m \u001b[0mera_pl\u001b[0m\u001b[0;34m.\u001b[0m\u001b[0mlevel\u001b[0m\u001b[0;34m.\u001b[0m\u001b[0mvalues\u001b[0m\u001b[0;34m,\u001b[0m\u001b[0;34m'b'\u001b[0m\u001b[0;34m,\u001b[0m \u001b[0mlabel\u001b[0m\u001b[0;34m=\u001b[0m\u001b[0;34m'October'\u001b[0m\u001b[0;34m)\u001b[0m\u001b[0;34m\u001b[0m\u001b[0m\n\u001b[1;32m      7\u001b[0m \u001b[0;31m#plt.axvline(x=0)\u001b[0m\u001b[0;34m\u001b[0m\u001b[0;34m\u001b[0m\u001b[0m\n",
      "\u001b[0;31mNameError\u001b[0m: name 'era_pl' is not defined"
     ]
    },
    {
     "data": {
      "image/png": "[encoded data removed]",
      "text/plain": [
       "<Figure size 4500x2700 with 1 Axes>"
      ]
     },
     "metadata": {
      "needs_background": "light"
     },
     "output_type": "display_data"
    }
   ],
   "source": [
    "q_march =  np.array(era_march['q_col']).mean(axis=0)*1000 \n",
    "q_oct =  np.array(era_oct['q_col']).mean(axis=0)*1000 \n",
    "f = plt.figure(figsize=(15,9), dpi=300)\n",
    "f.add_subplot(331)\n",
    "plt.plot(q_march, era_pl.level.values,'r', label='March')\n",
    "plt.plot(q_oct, era_pl.level.values,'b', label='October')\n",
    "#plt.axvline(x=0)\n",
    "plt.gca().invert_yaxis()\n",
    "plt.title('q-profile: climatology | 12UTC')\n",
    "plt.legend()\n",
    "\n",
    "q_march =  np.array(era_march_clim['u_col']).mean(axis=0)\n",
    "q_oct =  np.array(era_oct_clim['u_col']).mean(axis=0)\n",
    "f.add_subplot(334)\n",
    "plt.plot(q_march, era_pl.level.values,'r', label='March')\n",
    "plt.plot(q_oct, era_pl.level.values,'b', label='October')\n",
    "#plt.axvline(x=0)\n",
    "plt.gca().invert_yaxis()\n",
    "plt.title('u-profile:  climatology')\n",
    "\n",
    "q_march = np.array(era_march['q_col']).mean(axis=0)*1000 - np.array(era_march_clim['q_col']).mean(axis=0)*1000 \n",
    "q_oct = np.array(era_oct['q_col']).mean(axis=0)*1000 - np.array(era_oct_clim['q_col']).mean(axis=0)*1000 \n",
    "\n",
    "f.add_subplot(332)\n",
    "plt.plot(q_march, era_pl.level.values,'r', label='March')\n",
    "plt.plot(q_oct, era_pl.level.values,'b', label='October')\n",
    "plt.axvline(x=0)\n",
    "plt.gca().invert_yaxis()\n",
    "plt.title('q-profile: Storm-day - climatology | 12UTC')\n",
    "plt.legend()\n",
    "\n",
    "q_march = np.array(era_march['u_col']).mean(axis=0) - np.array(era_march_clim['u_col']).mean(axis=0)\n",
    "q_oct = np.array(era_oct['u_col']).mean(axis=0) - np.array(era_oct_clim['u_col']).mean(axis=0)\n",
    "f.add_subplot(335)\n",
    "plt.plot(q_march, era_pl.level.values,'r', label='March')\n",
    "plt.plot(q_oct, era_pl.level.values,'b', label='October')\n",
    "plt.axvline(x=0)\n",
    "plt.gca().invert_yaxis()\n",
    "plt.title('u-profile: Storm-day - climatology')\n",
    "\n",
    "\n",
    "q_march = np.array(era_march_clim['q_col']).mean(axis=0)*1000  - np.array(era_oct_clim['q_col']).mean(axis=0)*1000 \n",
    "q_oct = np.array(era_march['q_col']).mean(axis=0)*1000 - np.array(era_oct['q_col']).mean(axis=0)*1000\n",
    "f.add_subplot(333)\n",
    "plt.plot(q_march, era_pl.level.values,'r', label='Climatology')\n",
    "plt.plot(q_oct, era_pl.level.values,'b', label='Storm day')\n",
    "plt.axvline(x=0)\n",
    "plt.gca().invert_yaxis()\n",
    "plt.title('q-profile: March-Oct')\n",
    "plt.legend()\n",
    "\n",
    "q_march = np.array(era_march_clim['u_col']).mean(axis=0) - np.array(era_oct_clim['u_col']).mean(axis=0)\n",
    "q_oct = np.array(era_march['u_col']).mean(axis=0) - np.array(era_oct['u_col']).mean(axis=0)\n",
    "f.add_subplot(336)\n",
    "plt.plot(q_march, era_pl.level.values,'r', label='Climatology')\n",
    "plt.plot(q_oct, era_pl.level.values,'b', label='Storm day')\n",
    "plt.axvline(x=0)\n",
    "plt.gca().invert_yaxis()\n",
    "plt.title('u-profile: March-Oct')\n",
    "\n",
    "sstr = 'v_col'\n",
    "\n",
    "q_march =  np.array(era_march_clim[sstr]).mean(axis=0)\n",
    "q_oct =  np.array(era_oct_clim[sstr]).mean(axis=0)\n",
    "f.add_subplot(337)\n",
    "plt.plot(q_march, era_pl.level.values,'r', label='March')\n",
    "plt.plot(q_oct, era_pl.level.values,'b', label='October')\n",
    "#plt.axvline(x=0)\n",
    "plt.gca().invert_yaxis()\n",
    "plt.title('v-profile:  climatology')\n",
    "\n",
    "q_march = np.array(era_march[sstr]).mean(axis=0) - np.array(era_march_clim[sstr]).mean(axis=0)\n",
    "q_oct = np.array(era_oct[sstr]).mean(axis=0) - np.array(era_oct_clim[sstr]).mean(axis=0)\n",
    "f.add_subplot(338)\n",
    "plt.plot(q_march, era_pl.level.values,'r', label='March')\n",
    "plt.plot(q_oct, era_pl.level.values,'b', label='October')\n",
    "plt.axvline(x=0)\n",
    "plt.gca().invert_yaxis()\n",
    "plt.title('v-profile: Storm-day - climatology')\n",
    "\n",
    "q_march = np.array(era_march_clim[sstr]).mean(axis=0) - np.array(era_oct_clim[sstr]).mean(axis=0)\n",
    "q_oct = np.array(era_march[sstr]).mean(axis=0) - np.array(era_oct[sstr]).mean(axis=0)\n",
    "f.add_subplot(339)\n",
    "plt.plot(q_march, era_pl.level.values,'r', label='Climatology')\n",
    "plt.plot(q_oct, era_pl.level.values,'b', label='Storm day')\n",
    "plt.axvline(x=0)\n",
    "plt.gca().invert_yaxis()\n",
    "plt.title('v-profile: March-Oct')\n",
    "\n",
    "plt.tight_layout()\n",
    "plt.savefig('/home/ck/DIR/cornkle/figs/CLOVER/uvq_profiles.png')"
   ]
  },
  {
   "cell_type": "code",
   "execution_count": null,
   "metadata": {},
   "outputs": [],
   "source": [
    "q_march =  np.array(mar_strong['r_col']).mean(axis=0)*1000 \n",
    "q_oct =  np.array(oct_strong['r_col']).mean(axis=0)*1000 \n",
    "f = plt.figure(figsize=(15,9), dpi=300)\n",
    "f.add_subplot(331)\n",
    "plt.plot(q_march, era_pl.level.values,'r', label='March')\n",
    "plt.plot(q_oct, era_pl.level.values,'b', label='October')\n",
    "#plt.axvline(x=0)\n",
    "plt.gca().invert_yaxis()\n",
    "plt.title('q-profile: Strong storms | 12UTC')\n",
    "plt.legend()\n",
    "\n",
    "q_march =  np.array(mar_strong['u_col']).mean(axis=0)\n",
    "q_oct =  np.array(oct_strong['u_col']).mean(axis=0)\n",
    "f.add_subplot(334)\n",
    "plt.plot(q_march, era_pl.level.values,'r', label='March')\n",
    "plt.plot(q_oct, era_pl.level.values,'b', label='October')\n",
    "#plt.axvline(x=0)\n",
    "plt.gca().invert_yaxis()\n",
    "plt.title('u-profile:  Strong storms')\n",
    "\n",
    "q_march = np.array(mar_strong['r_col']).mean(axis=0)*1000 - np.array(mar_weak['r_col']).mean(axis=0)*1000 \n",
    "q_oct = np.array(oct_strong['r_col']).mean(axis=0)*1000 - np.array(oct_weak['r_col']).mean(axis=0)*1000 \n",
    "\n",
    "f.add_subplot(332)\n",
    "plt.plot(q_march, era_pl.level.values,'r', label='March')\n",
    "plt.plot(q_oct, era_pl.level.values,'b', label='October')\n",
    "plt.axvline(x=0)\n",
    "plt.gca().invert_yaxis()\n",
    "plt.title('q-profile: Strong storm-day - weak storm day | 12UTC')\n",
    "plt.legend()\n",
    "\n",
    "q_march = np.array(mar_strong['u_col']).mean(axis=0) - np.array(mar_weak['u_col']).mean(axis=0)\n",
    "q_oct = np.array(oct_strong['u_col']).mean(axis=0) - np.array(oct_weak['u_col']).mean(axis=0)\n",
    "f.add_subplot(335)\n",
    "plt.plot(q_march, era_pl.level.values,'r', label='March')\n",
    "plt.plot(q_oct, era_pl.level.values,'b', label='October')\n",
    "plt.axvline(x=0)\n",
    "plt.gca().invert_yaxis()\n",
    "plt.title('u-profile: Strong storm-day - weak storm day')\n",
    "\n",
    "\n",
    "q_march = np.array(mar_strong['r_col']).mean(axis=0)*1000  - np.array(oct_strong['r_col']).mean(axis=0)*1000 \n",
    "q_oct = np.array(mar_weak['r_col']).mean(axis=0)*1000 - np.array(oct_weak['r_col']).mean(axis=0)*1000\n",
    "f.add_subplot(333)\n",
    "plt.plot(q_march, era_pl.level.values,'r', label='strong storms')\n",
    "plt.plot(q_oct, era_pl.level.values,'b', label='weak storms')\n",
    "plt.axvline(x=0)\n",
    "plt.gca().invert_yaxis()\n",
    "plt.title('q-profile: March-Oct')\n",
    "plt.legend()\n",
    "\n",
    "q_march = np.array(mar_strong['u_col']).mean(axis=0) - np.array(oct_strong['u_col']).mean(axis=0)\n",
    "q_oct = np.array(mar_weak['u_col']).mean(axis=0) - np.array(oct_weak['u_col']).mean(axis=0)\n",
    "f.add_subplot(336)\n",
    "plt.plot(q_march, era_pl.level.values,'r', label='strong storms')\n",
    "plt.plot(q_oct, era_pl.level.values,'b', label='weak storms')\n",
    "plt.axvline(x=0)\n",
    "plt.gca().invert_yaxis()\n",
    "plt.title('u-profile: March-Oct')\n",
    "\n",
    "sstr = 'v_col'\n",
    "\n",
    "q_march =  np.array(mar_strong[sstr]).mean(axis=0)\n",
    "q_oct =  np.array(oct_strong[sstr]).mean(axis=0)\n",
    "f.add_subplot(337)\n",
    "plt.plot(q_march, era_pl.level.values,'r', label='March')\n",
    "plt.plot(q_oct, era_pl.level.values,'b', label='October')\n",
    "#plt.axvline(x=0)\n",
    "plt.gca().invert_yaxis()\n",
    "plt.title('v-profile:  Strong storms')\n",
    "\n",
    "q_march = np.array(mar_strong[sstr]).mean(axis=0) - np.array(mar_weak[sstr]).mean(axis=0)\n",
    "q_oct = np.array(oct_strong[sstr]).mean(axis=0) - np.array(oct_weak[sstr]).mean(axis=0)\n",
    "f.add_subplot(338)\n",
    "plt.plot(q_march, era_pl.level.values,'r', label='March')\n",
    "plt.plot(q_oct, era_pl.level.values,'b', label='October')\n",
    "plt.axvline(x=0)\n",
    "plt.gca().invert_yaxis()\n",
    "plt.title('v-profile: Strong storm-day - weak storm day')\n",
    "\n",
    "q_march = np.array(mar_strong[sstr]).mean(axis=0) - np.array(oct_strong[sstr]).mean(axis=0)\n",
    "q_oct = np.array(mar_weak[sstr]).mean(axis=0) - np.array(oct_weak[sstr]).mean(axis=0)\n",
    "f.add_subplot(339)\n",
    "plt.plot(q_march, era_pl.level.values,'r', label='strong storms')\n",
    "plt.plot(q_oct, era_pl.level.values,'b', label='weak storms')\n",
    "plt.axvline(x=0)\n",
    "plt.gca().invert_yaxis()\n",
    "plt.title('v-profile: March-Oct')\n",
    "\n",
    "plt.tight_layout()\n",
    "plt.savefig('/home/ck/DIR/cornkle/figs/CLOVER/uvq_profiles_strongWeak.png')"
   ]
  },
  {
   "cell_type": "code",
   "execution_count": null,
   "metadata": {},
   "outputs": [],
   "source": [
    "plt.figure(figsize=(9,5))\n",
    "plt.hist(np.array(era_march['area'])*49/1000, bins=15)\n",
    "plt.hist(np.array(era_oct['area'])*49/1000, bins=15)"
   ]
  },
  {
   "cell_type": "code",
   "execution_count": null,
   "metadata": {},
   "outputs": [],
   "source": [
    "## a clean way of plotting - use matplotlib functions directly:\n",
    "\n",
    "def draw_cross(data, lon, lat, title=None,  mask_sig=None, quiver=None, contour=None, cbar_label=None, twinx=None, **kwargs):\n",
    "    f=plt.figure(figsize=(15,7))  # this opens a plot window\n",
    "    ax = f.add_subplot(111)  # this opens a new plot axis\n",
    "    mapp = ax.contourf(lon, lat, data, **kwargs, extend='both')  # this is the actual plot\n",
    "    plt.gca().invert_yaxis()\n",
    "    if mask_sig is not None:\n",
    "         plt.contourf(lon, lat, mask_sig, colors='none', hatches='.',\n",
    "                     levels=[0.5, 1], linewidth=0.1)\n",
    "    \n",
    "    if quiver is not None:\n",
    "        qu = ax.quiver(quiver['x'], quiver['y'], quiver['u'], quiver['v'], scale=quiver['scale'])\n",
    "        \n",
    "    if contour is not None:\n",
    "        cs = ax.contour(contour['x'], contour['y'], contour['data'], levels=contour['levels'], cmap=contour['cmap'] )\n",
    "        plt.clabel(cs, inline=1, fontsize=10)\n",
    "        \n",
    "    if twinx is not None:\n",
    "        ax1 = ax.twinx()\n",
    "        ax1.plot(twinx['x'], twinx['y'], twinx['color'] )\n",
    "        ax1.set_ylabel(twinx['ylabel'])\n",
    "        ax1.set_ylim(twinx['ylim'][0], twinx['ylim'][1])\n",
    "    \n",
    "    plt.title(title)\n",
    "    cbar = plt.colorbar(mapp)  # adds colorbar\n",
    "    cbar.set_label(cbar_label)\n",
    "    plt.show() "
   ]
  },
  {
   "cell_type": "code",
   "execution_count": null,
   "metadata": {},
   "outputs": [],
   "source": [
    "era_pl['ymonth'] = ('time', [str(m)+'-'+str(h) for (m,h) in zip(era_pl['time.month'].values,era_pl['time.hour'].values)])\n",
    "grouped='ymonth'\n",
    "era_pl_cross =  era_pl.groupby(grouped).mean(dim='time')"
   ]
  },
  {
   "cell_type": "code",
   "execution_count": null,
   "metadata": {},
   "outputs": [],
   "source": [
    "era_pl_cross.ymonth"
   ]
  },
  {
   "cell_type": "code",
   "execution_count": null,
   "metadata": {},
   "outputs": [],
   "source": [
    "cross_march = era_pl_cross.sel(ymonth='3-12')\n",
    "cross_oct = era_pl_cross.sel(ymonth='10-12')"
   ]
  },
  {
   "cell_type": "code",
   "execution_count": null,
   "metadata": {},
   "outputs": [],
   "source": [
    "era_pl_cross"
   ]
  },
  {
   "cell_type": "code",
   "execution_count": null,
   "metadata": {},
   "outputs": [],
   "source": [
    "cross_march['t'].values-273.15"
   ]
  },
  {
   "cell_type": "code",
   "execution_count": null,
   "metadata": {},
   "outputs": [],
   "source": [
    "ccross_march = cross_march.sel(longitude=slice(-10,10)).mean('longitude')\n",
    "ccross_oct = cross_oct.sel(longitude=slice(-10,10)).mean('longitude')"
   ]
  },
  {
   "cell_type": "code",
   "execution_count": null,
   "metadata": {},
   "outputs": [],
   "source": [
    "cross_march"
   ]
  },
  {
   "cell_type": "code",
   "execution_count": null,
   "metadata": {},
   "outputs": [],
   "source": [
    "# \"current zonal wind\" wind vectors\n",
    "uano = ccross_march['u']\n",
    "wano = ccross_march['w']*(-10)  # multiplied by 10 since vertical component is very small compared to horizontal one\n",
    "st=3\n",
    "sarrow = 1\n",
    "xquiv = ccross_march.latitude[sarrow::st]\n",
    "yquiv = ccross_march.level\n",
    "\n",
    "uu = (uano)[::, sarrow::st]  \n",
    "ww = (wano)[::, sarrow::st]\n",
    "\n",
    "qin = {'x' : xquiv, 'y' : yquiv, 'u' : uu, 'v' : ww, 'scale' : 80}"
   ]
  },
  {
   "cell_type": "code",
   "execution_count": null,
   "metadata": {},
   "outputs": [],
   "source": [
    "# temperature and moisture check\n",
    "data = (ccross_march['u'])\n",
    "contour = {'data' : data, 'x' : ccross_march.latitude, 'y' : ccross_march.level, 'levels' : np.arange(-10,10,2), 'cmap' : 'PuOr'}\n",
    "draw_cross((ccross_march['t']-ccross_oct['t']), ccross_march.latitude, ccross_march.level, cmap='RdBu_r', \n",
    "           levels=np.linspace(-2,2,10), quiver=qin, contour=contour, title='Current-past: shading - T, contours - q, vectors: zonal wind')"
   ]
  },
  {
   "cell_type": "code",
   "execution_count": null,
   "metadata": {},
   "outputs": [],
   "source": [
    "## a clean way of plotting - use matplotlib functions directly:\n",
    "\n",
    "def draw_map(data, lon, lat, title=None,  mask_sig=None, quiver=None, contour=None, cbar_label=None, **kwargs):\n",
    "    f=plt.figure(figsize=(15,7))  # this opens a plot window\n",
    "    ax = f.add_subplot(111, projection=ccrs.PlateCarree())  # this opens a new plot axis\n",
    "    mapp = ax.contourf(lon, lat, data, transform=ccrs.PlateCarree(), **kwargs)  # this is the actual plot\n",
    "    \n",
    "    ## mask for significance indicator\n",
    "    if mask_sig is not None:\n",
    "         plt.contourf(lon, lat, mask_sig, colors='none', hatches='.',\n",
    "                     levels=[0.5, 1], linewidth=0.1)\n",
    "    \n",
    "    ## quiver list\n",
    "    if quiver is not None:\n",
    "        qu = ax.quiver(quiver['x'], quiver['y'], quiver['u'], quiver['v'], scale=quiver['scale'])\n",
    "    ## additional contour on plot   \n",
    "    if contour is not None:\n",
    "        ax.contour(contour['x'], contour['y'], contour['data'], levels=contour['levels'], cmap=contour['cmap'] )\n",
    "        \n",
    "    \n",
    "    ax.coastlines()   ## adds coastlines\n",
    "    # Gridlines\n",
    "    xl = ax.gridlines(draw_labels=True);   # adds latlon grid lines\n",
    "    xl.xlabels_top = False   ## labels off\n",
    "    xl.ylabels_right = False\n",
    "    plt.title(title)\n",
    "    # Countries\n",
    "    ax.add_feature(cartopy.feature.BORDERS, linestyle='--'); # adds country borders\n",
    "    cbar = plt.colorbar(mapp)  # adds colorbar\n",
    "    cbar.set_label(cbar_label)\n",
    "    plt.show()   "
   ]
  },
  {
   "cell_type": "code",
   "execution_count": null,
   "metadata": {},
   "outputs": [],
   "source": [
    "(cross_march)['u']"
   ]
  },
  {
   "cell_type": "code",
   "execution_count": null,
   "metadata": {},
   "outputs": [],
   "source": [
    "lon=cross_march.longitude\n",
    "lat=cross_march.latitude\n",
    "map_cross_march = cross_march.sel(level=925)\n",
    "map_cross_oct = cross_oct.sel(level=925)\n",
    "data=map_cross_march['t']-map_cross_oct['t']\n",
    "data2=map_cross_march['q']-map_cross_oct['q']\n",
    "title=''\n",
    "\n",
    "contour = {'data' : data2*1000, 'x' : lon, 'y' : lat, 'levels' : np.arange(-3,3,0.4), 'cmap' : 'PuOr'}\n",
    "\n",
    "# preparation of wind vector data in plot\n",
    "st=4\n",
    "sarrow = 2\n",
    "xquiv = map_cross_march.longitude[sarrow::st]\n",
    "yquiv = map_cross_march.latitude[sarrow::st]\n",
    "\n",
    "uu = (map_cross_march['u'])[sarrow::st, sarrow::st]\n",
    "vv = (map_cross_march['v'])[sarrow::st, sarrow::st]\n",
    "\n",
    "\n",
    "qin = {'x' : xquiv, 'y' : yquiv, 'u' : uu, 'v' : vv, 'scale' : 70}\n",
    "\n",
    "draw_map(data, lon, lat, title=title, levels=np.linspace(-7,7,8), extend='both', quiver=qin, cmap='RdBu_r', contour=contour, cbar_label= 'mm day$^{-1}$')\n"
   ]
  },
  {
   "cell_type": "code",
   "execution_count": null,
   "metadata": {},
   "outputs": [],
   "source": [
    "def linear_trend_lingress_2d(x, nb_missing=None, sig=None, method=None):\n",
    "    \n",
    "    \n",
    "    # stack lat and lon into a single dimension called allpoints\n",
    "    datastacked = x.stack(allpoints=['latitude', 'level'])\n",
    "\n",
    "    # apply the function over allpoints to calculate the trend at each point\n",
    "    print('Entering trend calc')\n",
    "\n",
    "    alpha = 0.05\n",
    "    # NaNs means there is not enough data, slope = 0 means there is no significant trend.\n",
    "    if method=='mk':\n",
    "        dtrend = datastacked.groupby('allpoints').apply(uda.linear_trend_mk, alpha=alpha, eps=0.0001,nb_missing=10)\n",
    "        dtrend = dtrend.unstack('allpoints')\n",
    "        if sig:\n",
    "            (dtrend['slope'].values)[dtrend['ind'].values==0] = 0\n",
    "\n",
    "    # NaNs means there is not enough data, slope = 0 means there is no significant trend.\n",
    "    if method=='polyfit':\n",
    "        dtrend = datastacked.groupby('allpoints').apply(uda.linear_trend_lingress,nb_missing=10)\n",
    "        dtrend = dtrend.unstack('allpoints')\n",
    "\n",
    "        if sig:\n",
    "            (dtrend['slope'].values)[dtrend['pval'].values > alpha] = np.nan\n",
    "            \n",
    "    return dtrend['slope']"
   ]
  },
  {
   "cell_type": "code",
   "execution_count": null,
   "metadata": {},
   "outputs": [],
   "source": [
    "era_srfc = xr.open_dataset(cnst.ERA_MONTHLY_SRFC)\n",
    "era_pl = xr.open_dataset(cnst.ERA_MONTHLY_PL)\n",
    "ccover = xr.open_dataset(cnst.GRIDSAT + 'aggs/gridsat_WA_-70_monthly_count.nc')\n",
    "era_srfc = uda.flip_lat(era_srfc)\n",
    "era_pl = uda.flip_lat(era_pl)\n",
    "era_trend = era_pl.sel(longitude=slice(-10,10)).squeeze().mean('longitude')"
   ]
  },
  {
   "cell_type": "code",
   "execution_count": null,
   "metadata": {},
   "outputs": [],
   "source": [
    "def trends_month(var):\n",
    "    \n",
    "    utrend = era_trend[var][(era_trend['time.year']>1982)].groupby('time.month').apply(linear_trend_lingress_2d,nb_missing=10, method='mk')*10\n",
    "    \n",
    "    return utrend"
   ]
  },
  {
   "cell_type": "code",
   "execution_count": null,
   "metadata": {},
   "outputs": [],
   "source": [
    "utrend = trends_month('t')"
   ]
  },
  {
   "cell_type": "code",
   "execution_count": null,
   "metadata": {},
   "outputs": [],
   "source": [
    "ccross_march['t'].values = u_met.theta(ccross_march.level.values, ccross_march['t'].values-273.15)"
   ]
  },
  {
   "cell_type": "code",
   "execution_count": null,
   "metadata": {},
   "outputs": [],
   "source": [
    "ccross_march['t'].values"
   ]
  },
  {
   "cell_type": "code",
   "execution_count": null,
   "metadata": {},
   "outputs": [],
   "source": [
    "# temperature and moisture check\n",
    "data = (ccross_march['t'])\n",
    "contour = {'data' : data, 'x' : ccross_march.latitude, 'y' : ccross_march.level, 'levels' : np.linspace(data.min(),data.max(),10), 'cmap' : 'PuOr'}\n",
    "draw_cross(utrend.sel(month=3), utrend.latitude, utrend.level, cmap='RdBu_r', contour=contour,\n",
    "           levels=np.linspace(-0.5,0.5,10), title='Current-past: shading - T, contours - q, vectors: zonal wind')"
   ]
  },
  {
   "cell_type": "code",
   "execution_count": null,
   "metadata": {},
   "outputs": [],
   "source": []
  },
  {
   "cell_type": "code",
   "execution_count": null,
   "metadata": {},
   "outputs": [],
   "source": []
  }
 ],
 "metadata": {
  "kernelspec": {
   "display_name": "Python 3",
   "language": "python",
   "name": "python3"
  },
  "language_info": {
   "codemirror_mode": {
    "name": "ipython",
    "version": 3
   },
   "file_extension": ".py",
   "mimetype": "text/x-python",
   "name": "python",
   "nbconvert_exporter": "python",
   "pygments_lexer": "ipython3",
   "version": "3.5.5"
  }
 },
 "nbformat": 4,
 "nbformat_minor": 2
}
