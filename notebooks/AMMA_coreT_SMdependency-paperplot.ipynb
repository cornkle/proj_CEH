{
 "cells": [
  {
   "cell_type": "code",
   "execution_count": 2,
   "metadata": {},
   "outputs": [],
   "source": [
    "import ipdb\n",
    "import numpy as np\n",
    "import xarray as xr\n",
    "import matplotlib.pyplot as plt\n",
    "import pandas as pd\n",
    "import matplotlib.pylab as pylab\n",
    "import cartopy\n",
    "from utils import constants as cnst\n",
    "from eod import msg\n",
    "from utils import u_grid, u_interpolate as u_int, constants as cnst, u_arrays, u_darrays, u_met, u_statistics, u_plot\n",
    "import pandas as pd\n",
    "import matplotlib.pyplot as plt\n",
    "import cartopy.crs as ccrs\n",
    "import cartopy.feature as feature\n",
    "import cartopy.io.shapereader as shapereader\n",
    "import pandas as pd\n",
    "import pickle as pkl\n",
    "from utils import constants as cnst\n",
    "\n",
    "\n",
    "coast = shapereader.natural_earth(resolution='110m',\n",
    "                                  category='physical',\n",
    "                                  name='coastline')\n",
    "\n",
    "countries = shapereader.natural_earth(resolution='110m',\n",
    "                                      category='cultural',\n",
    "                                      name='admin_0_countries')\n",
    "\n",
    "pylab.rcParams['figure.figsize'] = (50., 50.)\n",
    "%matplotlib inline"
   ]
  },
  {
   "cell_type": "code",
   "execution_count": 1,
   "metadata": {},
   "outputs": [
    {
     "name": "stdout",
     "output_type": "stream",
     "text": [
      "/home/ck/pythonWorkspace/proj_CEH\n"
     ]
    }
   ],
   "source": [
    "cd .."
   ]
  },
  {
   "cell_type": "code",
   "execution_count": 3,
   "metadata": {},
   "outputs": [],
   "source": [
    "path = cnst.network_data + '/figs/LSTA/corrected_LSTA/new/ERA5/core_txt/init_merged2/'"
   ]
  },
  {
   "cell_type": "code",
   "execution_count": 4,
   "metadata": {},
   "outputs": [],
   "source": [
    "msgopen = pd.read_csv('/home/ck/DIR/cornkle/figs/LSTA/corrected_LSTA/new/ERA5/core_txt/init_merged2/cores_gt15000km2_table_AMSRE_tracking2_17_init.csv', na_values=-999)"
   ]
  },
  {
   "cell_type": "markdown",
   "metadata": {},
   "source": [
    "##  Wet / Dry case comparison"
   ]
  },
  {
   "cell_type": "markdown",
   "metadata": {},
   "source": [
    "Wet: Day 0 / Day -1 > + 0.01% SM anomaly mean (more like 'neutral & wet condition')\n",
    "\n",
    "Dry: Day  0 < -3% , Day-1 < -1.5% SM anomaly mean\n",
    "\n",
    "Identified in box + - 90 km and 200km upstream from core centre"
   ]
  },
  {
   "cell_type": "code",
   "execution_count": 5,
   "metadata": {},
   "outputs": [
    {
     "data": {
      "text/plain": [
       "(9532, 30)"
      ]
     },
     "execution_count": 5,
     "metadata": {},
     "output_type": "execute_result"
    }
   ],
   "source": [
    "msgopen.shape"
   ]
  },
  {
   "cell_type": "code",
   "execution_count": 6,
   "metadata": {},
   "outputs": [
    {
     "name": "stdout",
     "output_type": "stream",
     "text": [
      "Number of ALL cases: 9532\n"
     ]
    }
   ],
   "source": [
    "print('Number of ALL cases:', msgopen.shape[0])"
   ]
  },
  {
   "cell_type": "code",
   "execution_count": 7,
   "metadata": {},
   "outputs": [],
   "source": [
    "alls = msgopen[(msgopen['lat']>9.5) & (msgopen['lat']<20.5)  & (msgopen['dtime']<=2)]"
   ]
  },
  {
   "cell_type": "code",
   "execution_count": 8,
   "metadata": {},
   "outputs": [],
   "source": [
    "topo = msgopen[(msgopen['lat']>9.5) & (msgopen['lat']<20.5) & (msgopen['topo']<=450) & (msgopen['dtime']<=2)]"
   ]
  },
  {
   "cell_type": "code",
   "execution_count": 9,
   "metadata": {},
   "outputs": [
    {
     "data": {
      "text/plain": [
       "0.2333371837819106"
      ]
     },
     "execution_count": 9,
     "metadata": {},
     "output_type": "execute_result"
    }
   ],
   "source": [
    "1-len(topo)/len(alls)"
   ]
  },
  {
   "cell_type": "code",
   "execution_count": 10,
   "metadata": {},
   "outputs": [],
   "source": [
    "#dry = msgopen[(msgopen['SMmean0']<-3)& (msgopen['SMmean-1'] <-1.5) &(msgopen['SMmean0']>-900)& (msgopen['SMmean-1'] >-900) ]\n",
    "msgopen = msgopen[(msgopen['lat']>9.5) & (msgopen['lat']<20.5) & (msgopen['topo']<=450) & (msgopen['dtime']<=2)]##  & (msgopen['ERAqmean']>14.8) & (msgopen['ERAqmean']<16.5)]"
   ]
  },
  {
   "cell_type": "code",
   "execution_count": 11,
   "metadata": {},
   "outputs": [
    {
     "data": {
      "text/plain": [
       "6637"
      ]
     },
     "execution_count": 11,
     "metadata": {},
     "output_type": "execute_result"
    }
   ],
   "source": [
    "len(msgopen)"
   ]
  },
  {
   "cell_type": "code",
   "execution_count": 12,
   "metadata": {},
   "outputs": [
    {
     "data": {
      "text/plain": [
       "10.278089448606256"
      ]
     },
     "execution_count": 12,
     "metadata": {},
     "output_type": "execute_result"
    }
   ],
   "source": [
    "np.min(msgopen['lat'])"
   ]
  },
  {
   "cell_type": "code",
   "execution_count": 13,
   "metadata": {},
   "outputs": [
    {
     "data": {
      "text/plain": [
       "4446"
      ]
     },
     "execution_count": 13,
     "metadata": {},
     "output_type": "execute_result"
    }
   ],
   "source": [
    "#propagating:\n",
    "len(msgopen[(msgopen['xdiff']>=100) | (msgopen['initTime'] <= 2.5)])"
   ]
  },
  {
   "cell_type": "code",
   "execution_count": 14,
   "metadata": {},
   "outputs": [],
   "source": [
    "#propagation filter\n",
    "propagation = msgopen[((msgopen['xdiff']>=100) | (msgopen['initTime'] <= 2.5))]"
   ]
  },
  {
   "cell_type": "code",
   "execution_count": 15,
   "metadata": {},
   "outputs": [],
   "source": [
    "alls = msgopen[(msgopen['lat']>9.5) & (msgopen['lat']<20.5)  & (msgopen['dtime']<=2) & ((msgopen['xdiff']>=100) | (msgopen['initTime'] <= 2.5))]"
   ]
  },
  {
   "cell_type": "code",
   "execution_count": 16,
   "metadata": {},
   "outputs": [],
   "source": [
    "topo = msgopen[(msgopen['lat']>9.5) & (msgopen['lat']<20.5)  & (msgopen['dtime']<=2) & ((msgopen['xdiff']>=100) | (msgopen['initTime'] <= 2.5)) & (msgopen['topo']<=450)]"
   ]
  },
  {
   "cell_type": "code",
   "execution_count": 17,
   "metadata": {},
   "outputs": [
    {
     "data": {
      "text/plain": [
       "0.0"
      ]
     },
     "execution_count": 17,
     "metadata": {},
     "output_type": "execute_result"
    }
   ],
   "source": [
    "1-len(topo)/len(alls)"
   ]
  },
  {
   "cell_type": "code",
   "execution_count": 18,
   "metadata": {},
   "outputs": [],
   "source": [
    "#SM filter\n",
    "propagation = propagation[np.isfinite(propagation['SMmean0'])]"
   ]
  },
  {
   "cell_type": "code",
   "execution_count": 19,
   "metadata": {},
   "outputs": [
    {
     "data": {
      "text/plain": [
       "4365"
      ]
     },
     "execution_count": 19,
     "metadata": {},
     "output_type": "execute_result"
    }
   ],
   "source": [
    "len(propagation)"
   ]
  },
  {
   "cell_type": "code",
   "execution_count": 20,
   "metadata": {},
   "outputs": [
    {
     "name": "stdout",
     "output_type": "stream",
     "text": [
      "[-6.90545539  1.60460351]\n",
      "[-4.56303636 -0.39557092]\n"
     ]
    }
   ],
   "source": [
    "#Centiles of SMA without day-1 filter, representative of histogram filter\n",
    "print(np.percentile(propagation['SMmean0'], [10,90]))\n",
    "print(np.percentile(propagation['SMmean0'], [25,75]))"
   ]
  },
  {
   "cell_type": "code",
   "execution_count": 21,
   "metadata": {},
   "outputs": [
    {
     "data": {
      "text/plain": [
       "(array([ 474.,    0.,    0.,  969.,    0.,    0., 1788.,    0.,    0.,\n",
       "        1134.]),\n",
       " array([6. , 6.3, 6.6, 6.9, 7.2, 7.5, 7.8, 8.1, 8.4, 8.7, 9. ]),\n",
       " <a list of 10 Patch objects>)"
      ]
     },
     "execution_count": 21,
     "metadata": {},
     "output_type": "execute_result"
    },
    {
     "data": {
      "image/png": "[encoded data removed]",
      "text/plain": [
       "<Figure size 432x288 with 1 Axes>"
      ]
     },
     "metadata": {
      "needs_background": "light"
     },
     "output_type": "display_data"
    }
   ],
   "source": [
    "plt.hist(propagation['month'])"
   ]
  },
  {
   "cell_type": "code",
   "execution_count": 22,
   "metadata": {},
   "outputs": [
    {
     "data": {
      "text/plain": [
       "(array([699., 821., 710., 697., 476., 303., 305., 211.,  98.,  45.]),\n",
       " array([10.27808945, 11.19012577, 12.10216208, 13.0141984 , 13.92623472,\n",
       "        14.83827103, 15.75030735, 16.66234366, 17.57437998, 18.4864163 ,\n",
       "        19.39845261]),\n",
       " <a list of 10 Patch objects>)"
      ]
     },
     "execution_count": 22,
     "metadata": {},
     "output_type": "execute_result"
    },
    {
     "data": {
      "image/png": "[encoded data removed]",
      "text/plain": [
       "<Figure size 432x288 with 1 Axes>"
      ]
     },
     "metadata": {
      "needs_background": "light"
     },
     "output_type": "display_data"
    }
   ],
   "source": [
    "plt.hist(propagation['lat'])"
   ]
  },
  {
   "cell_type": "code",
   "execution_count": 23,
   "metadata": {},
   "outputs": [
    {
     "data": {
      "text/plain": [
       "(array([ 67.,  88., 104., 150., 323., 735., 871., 706., 360., 285.]),\n",
       " array([14.  , 14.21, 14.42, 14.63, 14.84, 15.05, 15.26, 15.47, 15.68,\n",
       "        15.89, 16.1 ]),\n",
       " <a list of 10 Patch objects>)"
      ]
     },
     "execution_count": 23,
     "metadata": {},
     "output_type": "execute_result"
    },
    {
     "data": {
      "image/png": "[encoded data removed]",
      "text/plain": [
       "<Figure size 432x288 with 1 Axes>"
      ]
     },
     "metadata": {
      "needs_background": "light"
     },
     "output_type": "display_data"
    }
   ],
   "source": [
    "plt.hist(propagation['ERAqmean'], range=(14,16.1))"
   ]
  },
  {
   "cell_type": "code",
   "execution_count": 24,
   "metadata": {},
   "outputs": [
    {
     "data": {
      "text/plain": [
       "2141"
      ]
     },
     "execution_count": 24,
     "metadata": {},
     "output_type": "execute_result"
    }
   ],
   "source": [
    "#including day-1 filter\n",
    "len(propagation[np.isfinite(propagation['SMmean0']) & np.isfinite(propagation['SMmean-1'])])"
   ]
  },
  {
   "cell_type": "code",
   "execution_count": 25,
   "metadata": {},
   "outputs": [],
   "source": [
    "wetness = propagation[np.isfinite(propagation['SMmean0'])]# & np.isfinite(propagation['SMmean-1'])]"
   ]
  },
  {
   "cell_type": "code",
   "execution_count": 26,
   "metadata": {},
   "outputs": [
    {
     "data": {
      "text/plain": [
       "4365"
      ]
     },
     "execution_count": 26,
     "metadata": {},
     "output_type": "execute_result"
    }
   ],
   "source": [
    "len(wetness)"
   ]
  },
  {
   "cell_type": "code",
   "execution_count": 27,
   "metadata": {},
   "outputs": [],
   "source": [
    "wetness['date'] = pd.to_datetime(wetness[['year','month','day']])"
   ]
  },
  {
   "cell_type": "code",
   "execution_count": 28,
   "metadata": {},
   "outputs": [
    {
     "data": {
      "text/plain": [
       "<pandas.core.groupby.generic.DataFrameGroupBy object at 0x7fd0d66844d0>"
      ]
     },
     "execution_count": 28,
     "metadata": {},
     "output_type": "execute_result"
    }
   ],
   "source": [
    "wetness.groupby('date')"
   ]
  },
  {
   "cell_type": "code",
   "execution_count": 29,
   "metadata": {},
   "outputs": [],
   "source": [
    "uni, count = np.unique(wetness['date'], return_counts=True)"
   ]
  },
  {
   "cell_type": "code",
   "execution_count": 30,
   "metadata": {},
   "outputs": [
    {
     "data": {
      "text/plain": [
       "322"
      ]
     },
     "execution_count": 30,
     "metadata": {},
     "output_type": "execute_result"
    }
   ],
   "source": [
    "len(uni)"
   ]
  },
  {
   "cell_type": "code",
   "execution_count": 31,
   "metadata": {},
   "outputs": [
    {
     "data": {
      "text/plain": [
       "array([-6.90545539,  1.60460351])"
      ]
     },
     "execution_count": 31,
     "metadata": {},
     "output_type": "execute_result"
    }
   ],
   "source": [
    "np.percentile(wetness['SMmean0'], [10,90])"
   ]
  },
  {
   "cell_type": "code",
   "execution_count": 32,
   "metadata": {},
   "outputs": [
    {
     "data": {
      "text/plain": [
       "array([-5.22949149,  0.15754101])"
      ]
     },
     "execution_count": 32,
     "metadata": {},
     "output_type": "execute_result"
    }
   ],
   "source": [
    "np.percentile(wetness['SMmean0'], [20,80])"
   ]
  },
  {
   "cell_type": "code",
   "execution_count": 33,
   "metadata": {},
   "outputs": [
    {
     "data": {
      "text/html": [
       "<div>\n",
       "<style scoped>\n",
       "    .dataframe tbody tr th:only-of-type {\n",
       "        vertical-align: middle;\n",
       "    }\n",
       "\n",
       "    .dataframe tbody tr th {\n",
       "        vertical-align: top;\n",
       "    }\n",
       "\n",
       "    .dataframe thead th {\n",
       "        text-align: right;\n",
       "    }\n",
       "</style>\n",
       "<table border=\"1\" class=\"dataframe\">\n",
       "  <thead>\n",
       "    <tr style=\"text-align: right;\">\n",
       "      <th></th>\n",
       "      <th>id</th>\n",
       "      <th>id.1</th>\n",
       "      <th>year</th>\n",
       "      <th>month</th>\n",
       "      <th>day</th>\n",
       "      <th>hour</th>\n",
       "      <th>lon</th>\n",
       "      <th>lat</th>\n",
       "      <th>xloc</th>\n",
       "      <th>yloc</th>\n",
       "      <th>...</th>\n",
       "      <th>LSTAmean</th>\n",
       "      <th>LSTAslotfrac</th>\n",
       "      <th>dtime</th>\n",
       "      <th>ERAqmean</th>\n",
       "      <th>SMscale</th>\n",
       "      <th>initTime</th>\n",
       "      <th>xinit</th>\n",
       "      <th>yinit</th>\n",
       "      <th>xdiff</th>\n",
       "      <th>date</th>\n",
       "    </tr>\n",
       "  </thead>\n",
       "  <tbody>\n",
       "    <tr>\n",
       "      <th>24</th>\n",
       "      <td>24</td>\n",
       "      <td>24</td>\n",
       "      <td>2006</td>\n",
       "      <td>6</td>\n",
       "      <td>5</td>\n",
       "      <td>17</td>\n",
       "      <td>-3.666952</td>\n",
       "      <td>10.278089</td>\n",
       "      <td>474</td>\n",
       "      <td>231</td>\n",
       "      <td>...</td>\n",
       "      <td>2.731977</td>\n",
       "      <td>1.000000</td>\n",
       "      <td>1.0</td>\n",
       "      <td>15.07</td>\n",
       "      <td>0.0</td>\n",
       "      <td>5.0</td>\n",
       "      <td>692.0</td>\n",
       "      <td>402.0</td>\n",
       "      <td>218.0</td>\n",
       "      <td>2006-06-05</td>\n",
       "    </tr>\n",
       "    <tr>\n",
       "      <th>25</th>\n",
       "      <td>25</td>\n",
       "      <td>25</td>\n",
       "      <td>2006</td>\n",
       "      <td>6</td>\n",
       "      <td>5</td>\n",
       "      <td>17</td>\n",
       "      <td>-3.891531</td>\n",
       "      <td>10.411511</td>\n",
       "      <td>466</td>\n",
       "      <td>236</td>\n",
       "      <td>...</td>\n",
       "      <td>2.696197</td>\n",
       "      <td>1.000000</td>\n",
       "      <td>1.0</td>\n",
       "      <td>15.07</td>\n",
       "      <td>0.0</td>\n",
       "      <td>5.0</td>\n",
       "      <td>692.0</td>\n",
       "      <td>402.0</td>\n",
       "      <td>226.0</td>\n",
       "      <td>2006-06-05</td>\n",
       "    </tr>\n",
       "    <tr>\n",
       "      <th>26</th>\n",
       "      <td>26</td>\n",
       "      <td>26</td>\n",
       "      <td>2006</td>\n",
       "      <td>6</td>\n",
       "      <td>5</td>\n",
       "      <td>17</td>\n",
       "      <td>-3.442373</td>\n",
       "      <td>10.589316</td>\n",
       "      <td>482</td>\n",
       "      <td>243</td>\n",
       "      <td>...</td>\n",
       "      <td>3.325430</td>\n",
       "      <td>1.000000</td>\n",
       "      <td>1.0</td>\n",
       "      <td>15.09</td>\n",
       "      <td>0.0</td>\n",
       "      <td>5.0</td>\n",
       "      <td>692.0</td>\n",
       "      <td>402.0</td>\n",
       "      <td>210.0</td>\n",
       "      <td>2006-06-05</td>\n",
       "    </tr>\n",
       "    <tr>\n",
       "      <th>27</th>\n",
       "      <td>27</td>\n",
       "      <td>27</td>\n",
       "      <td>2006</td>\n",
       "      <td>6</td>\n",
       "      <td>5</td>\n",
       "      <td>17</td>\n",
       "      <td>-3.622036</td>\n",
       "      <td>10.767017</td>\n",
       "      <td>476</td>\n",
       "      <td>249</td>\n",
       "      <td>...</td>\n",
       "      <td>3.353060</td>\n",
       "      <td>1.000000</td>\n",
       "      <td>0.0</td>\n",
       "      <td>15.06</td>\n",
       "      <td>0.0</td>\n",
       "      <td>5.0</td>\n",
       "      <td>692.0</td>\n",
       "      <td>402.0</td>\n",
       "      <td>216.0</td>\n",
       "      <td>2006-06-05</td>\n",
       "    </tr>\n",
       "    <tr>\n",
       "      <th>28</th>\n",
       "      <td>28</td>\n",
       "      <td>28</td>\n",
       "      <td>2006</td>\n",
       "      <td>6</td>\n",
       "      <td>5</td>\n",
       "      <td>17</td>\n",
       "      <td>-2.813552</td>\n",
       "      <td>10.855828</td>\n",
       "      <td>505</td>\n",
       "      <td>252</td>\n",
       "      <td>...</td>\n",
       "      <td>4.482429</td>\n",
       "      <td>1.000000</td>\n",
       "      <td>1.0</td>\n",
       "      <td>15.11</td>\n",
       "      <td>0.0</td>\n",
       "      <td>5.0</td>\n",
       "      <td>692.0</td>\n",
       "      <td>402.0</td>\n",
       "      <td>187.0</td>\n",
       "      <td>2006-06-05</td>\n",
       "    </tr>\n",
       "    <tr>\n",
       "      <th>...</th>\n",
       "      <td>...</td>\n",
       "      <td>...</td>\n",
       "      <td>...</td>\n",
       "      <td>...</td>\n",
       "      <td>...</td>\n",
       "      <td>...</td>\n",
       "      <td>...</td>\n",
       "      <td>...</td>\n",
       "      <td>...</td>\n",
       "      <td>...</td>\n",
       "      <td>...</td>\n",
       "      <td>...</td>\n",
       "      <td>...</td>\n",
       "      <td>...</td>\n",
       "      <td>...</td>\n",
       "      <td>...</td>\n",
       "      <td>...</td>\n",
       "      <td>...</td>\n",
       "      <td>...</td>\n",
       "      <td>...</td>\n",
       "      <td>...</td>\n",
       "    </tr>\n",
       "    <tr>\n",
       "      <th>9526</th>\n",
       "      <td>9526</td>\n",
       "      <td>9526</td>\n",
       "      <td>2010</td>\n",
       "      <td>9</td>\n",
       "      <td>28</td>\n",
       "      <td>17</td>\n",
       "      <td>-5.957656</td>\n",
       "      <td>13.550746</td>\n",
       "      <td>394</td>\n",
       "      <td>348</td>\n",
       "      <td>...</td>\n",
       "      <td>-1.179445</td>\n",
       "      <td>0.057143</td>\n",
       "      <td>1.0</td>\n",
       "      <td>15.85</td>\n",
       "      <td>0.0</td>\n",
       "      <td>2.0</td>\n",
       "      <td>NaN</td>\n",
       "      <td>NaN</td>\n",
       "      <td>NaN</td>\n",
       "      <td>2010-09-28</td>\n",
       "    </tr>\n",
       "    <tr>\n",
       "      <th>9527</th>\n",
       "      <td>9527</td>\n",
       "      <td>9527</td>\n",
       "      <td>2010</td>\n",
       "      <td>9</td>\n",
       "      <td>28</td>\n",
       "      <td>17</td>\n",
       "      <td>-5.643245</td>\n",
       "      <td>13.814258</td>\n",
       "      <td>405</td>\n",
       "      <td>357</td>\n",
       "      <td>...</td>\n",
       "      <td>-0.849622</td>\n",
       "      <td>0.141558</td>\n",
       "      <td>0.0</td>\n",
       "      <td>15.68</td>\n",
       "      <td>0.0</td>\n",
       "      <td>2.0</td>\n",
       "      <td>NaN</td>\n",
       "      <td>NaN</td>\n",
       "      <td>NaN</td>\n",
       "      <td>2010-09-28</td>\n",
       "    </tr>\n",
       "    <tr>\n",
       "      <th>9528</th>\n",
       "      <td>9528</td>\n",
       "      <td>9528</td>\n",
       "      <td>2010</td>\n",
       "      <td>9</td>\n",
       "      <td>28</td>\n",
       "      <td>17</td>\n",
       "      <td>-5.912740</td>\n",
       "      <td>14.165138</td>\n",
       "      <td>396</td>\n",
       "      <td>369</td>\n",
       "      <td>...</td>\n",
       "      <td>-1.450397</td>\n",
       "      <td>0.120779</td>\n",
       "      <td>0.0</td>\n",
       "      <td>15.25</td>\n",
       "      <td>0.0</td>\n",
       "      <td>2.0</td>\n",
       "      <td>NaN</td>\n",
       "      <td>NaN</td>\n",
       "      <td>NaN</td>\n",
       "      <td>2010-09-28</td>\n",
       "    </tr>\n",
       "    <tr>\n",
       "      <th>9529</th>\n",
       "      <td>9529</td>\n",
       "      <td>9529</td>\n",
       "      <td>2010</td>\n",
       "      <td>9</td>\n",
       "      <td>28</td>\n",
       "      <td>17</td>\n",
       "      <td>-5.912740</td>\n",
       "      <td>14.252773</td>\n",
       "      <td>396</td>\n",
       "      <td>372</td>\n",
       "      <td>...</td>\n",
       "      <td>-1.823011</td>\n",
       "      <td>0.123377</td>\n",
       "      <td>0.0</td>\n",
       "      <td>15.11</td>\n",
       "      <td>0.0</td>\n",
       "      <td>2.0</td>\n",
       "      <td>NaN</td>\n",
       "      <td>NaN</td>\n",
       "      <td>NaN</td>\n",
       "      <td>2010-09-28</td>\n",
       "    </tr>\n",
       "    <tr>\n",
       "      <th>9530</th>\n",
       "      <td>9530</td>\n",
       "      <td>9530</td>\n",
       "      <td>2010</td>\n",
       "      <td>9</td>\n",
       "      <td>28</td>\n",
       "      <td>17</td>\n",
       "      <td>-5.688161</td>\n",
       "      <td>14.252773</td>\n",
       "      <td>404</td>\n",
       "      <td>372</td>\n",
       "      <td>...</td>\n",
       "      <td>-1.947288</td>\n",
       "      <td>0.128571</td>\n",
       "      <td>0.0</td>\n",
       "      <td>15.15</td>\n",
       "      <td>0.0</td>\n",
       "      <td>2.0</td>\n",
       "      <td>NaN</td>\n",
       "      <td>NaN</td>\n",
       "      <td>NaN</td>\n",
       "      <td>2010-09-28</td>\n",
       "    </tr>\n",
       "  </tbody>\n",
       "</table>\n",
       "<p>4365 rows × 31 columns</p>\n",
       "</div>"
      ],
      "text/plain": [
       "        id  id.1  year  month  day  hour       lon        lat  xloc  yloc  \\\n",
       "24      24    24  2006      6    5    17 -3.666952  10.278089   474   231   \n",
       "25      25    25  2006      6    5    17 -3.891531  10.411511   466   236   \n",
       "26      26    26  2006      6    5    17 -3.442373  10.589316   482   243   \n",
       "27      27    27  2006      6    5    17 -3.622036  10.767017   476   249   \n",
       "28      28    28  2006      6    5    17 -2.813552  10.855828   505   252   \n",
       "...    ...   ...   ...    ...  ...   ...       ...        ...   ...   ...   \n",
       "9526  9526  9526  2010      9   28    17 -5.957656  13.550746   394   348   \n",
       "9527  9527  9527  2010      9   28    17 -5.643245  13.814258   405   357   \n",
       "9528  9528  9528  2010      9   28    17 -5.912740  14.165138   396   369   \n",
       "9529  9529  9529  2010      9   28    17 -5.912740  14.252773   396   372   \n",
       "9530  9530  9530  2010      9   28    17 -5.688161  14.252773   404   372   \n",
       "\n",
       "      ...  LSTAmean  LSTAslotfrac  dtime  ERAqmean  SMscale  initTime  xinit  \\\n",
       "24    ...  2.731977      1.000000    1.0     15.07      0.0       5.0  692.0   \n",
       "25    ...  2.696197      1.000000    1.0     15.07      0.0       5.0  692.0   \n",
       "26    ...  3.325430      1.000000    1.0     15.09      0.0       5.0  692.0   \n",
       "27    ...  3.353060      1.000000    0.0     15.06      0.0       5.0  692.0   \n",
       "28    ...  4.482429      1.000000    1.0     15.11      0.0       5.0  692.0   \n",
       "...   ...       ...           ...    ...       ...      ...       ...    ...   \n",
       "9526  ... -1.179445      0.057143    1.0     15.85      0.0       2.0    NaN   \n",
       "9527  ... -0.849622      0.141558    0.0     15.68      0.0       2.0    NaN   \n",
       "9528  ... -1.450397      0.120779    0.0     15.25      0.0       2.0    NaN   \n",
       "9529  ... -1.823011      0.123377    0.0     15.11      0.0       2.0    NaN   \n",
       "9530  ... -1.947288      0.128571    0.0     15.15      0.0       2.0    NaN   \n",
       "\n",
       "      yinit  xdiff       date  \n",
       "24    402.0  218.0 2006-06-05  \n",
       "25    402.0  226.0 2006-06-05  \n",
       "26    402.0  210.0 2006-06-05  \n",
       "27    402.0  216.0 2006-06-05  \n",
       "28    402.0  187.0 2006-06-05  \n",
       "...     ...    ...        ...  \n",
       "9526    NaN    NaN 2010-09-28  \n",
       "9527    NaN    NaN 2010-09-28  \n",
       "9528    NaN    NaN 2010-09-28  \n",
       "9529    NaN    NaN 2010-09-28  \n",
       "9530    NaN    NaN 2010-09-28  \n",
       "\n",
       "[4365 rows x 31 columns]"
      ]
     },
     "execution_count": 33,
     "metadata": {},
     "output_type": "execute_result"
    }
   ],
   "source": [
    "wetness"
   ]
  },
  {
   "cell_type": "code",
   "execution_count": 34,
   "metadata": {},
   "outputs": [
    {
     "data": {
      "text/plain": [
       "Index(['id', 'id.1', 'year', 'month', 'day', 'hour', 'lon', 'lat', 'xloc',\n",
       "       'yloc', 'area', 'csize', 't', 'storm_id', 'topo', 'SMmean0', 'SMdry0',\n",
       "       'SMwet0', 'SMmean-1', 'SMdry-1', 'SMwet-1', 'LSTAmean', 'LSTAslotfrac',\n",
       "       'dtime', 'ERAqmean', 'SMscale', 'initTime', 'xinit', 'yinit', 'xdiff',\n",
       "       'date'],\n",
       "      dtype='object')"
      ]
     },
     "execution_count": 34,
     "metadata": {},
     "output_type": "execute_result"
    }
   ],
   "source": [
    "wetness.keys()"
   ]
  },
  {
   "cell_type": "code",
   "execution_count": 35,
   "metadata": {},
   "outputs": [
    {
     "name": "stdout",
     "output_type": "stream",
     "text": [
      "[-6.90545539  1.60460351]\n",
      "[-4.56303636 -2.24824285 -0.39557092]\n",
      "[-5.22949149 -2.24824285  0.15754101]\n"
     ]
    }
   ],
   "source": [
    "print(np.percentile(wetness['SMmean0'],[10,90]))\n",
    "print(np.percentile(wetness['SMmean0'],[25,50,75]))\n",
    "print(np.percentile(wetness['SMmean0'],[20,50,80]))"
   ]
  },
  {
   "cell_type": "code",
   "execution_count": null,
   "metadata": {},
   "outputs": [],
   "source": []
  },
  {
   "cell_type": "code",
   "execution_count": 36,
   "metadata": {},
   "outputs": [
    {
     "data": {
      "text/plain": [
       "876"
      ]
     },
     "execution_count": 36,
     "metadata": {},
     "output_type": "execute_result"
    }
   ],
   "source": [
    "np.sum((wetness['SMmean0']<=-5.22))"
   ]
  },
  {
   "cell_type": "code",
   "execution_count": 37,
   "metadata": {},
   "outputs": [
    {
     "data": {
      "text/plain": [
       "873"
      ]
     },
     "execution_count": 37,
     "metadata": {},
     "output_type": "execute_result"
    }
   ],
   "source": [
    "np.sum((wetness['SMmean0']>=0.16))"
   ]
  },
  {
   "cell_type": "code",
   "execution_count": 38,
   "metadata": {},
   "outputs": [],
   "source": [
    "dry = wetness[(wetness['SMmean0']<=-5.22)]#&(wetness['SMmean-1']<=-1.3)]\n",
    "wet = wetness[(wetness['SMmean0']>=0.16)]# &(wetness['SMmean-1']>=-2)]"
   ]
  },
  {
   "cell_type": "code",
   "execution_count": 39,
   "metadata": {},
   "outputs": [
    {
     "data": {
      "text/plain": [
       "(array([  1.,   0.,   0.,   1.,   0.,   1.,   2.,   2.,   1.,   8.,  11.,\n",
       "          7.,  10.,  10.,  20.,  15.,  46., 321., 306., 111.]),\n",
       " array([ 6.6  ,  7.089,  7.578,  8.067,  8.556,  9.045,  9.534, 10.023,\n",
       "        10.512, 11.001, 11.49 , 11.979, 12.468, 12.957, 13.446, 13.935,\n",
       "        14.424, 14.913, 15.402, 15.891, 16.38 ]),\n",
       " <a list of 20 Patch objects>)"
      ]
     },
     "execution_count": 39,
     "metadata": {},
     "output_type": "execute_result"
    },
    {
     "data": {
      "image/png": "[encoded data removed]",
      "text/plain": [
       "<Figure size 432x288 with 1 Axes>"
      ]
     },
     "metadata": {
      "needs_background": "light"
     },
     "output_type": "display_data"
    }
   ],
   "source": [
    "plt.hist(dry['ERAqmean'], alpha=0.5, bins=20)\n",
    "plt.hist(wet['ERAqmean'], alpha=0.5, bins=20)"
   ]
  },
  {
   "cell_type": "code",
   "execution_count": 40,
   "metadata": {},
   "outputs": [
    {
     "name": "stdout",
     "output_type": "stream",
     "text": [
      "DRY 15.140547945205475\n",
      "WET 15.175349369988538\n"
     ]
    }
   ],
   "source": [
    "print('DRY', np.mean(dry['ERAqmean']))\n",
    "print('WET', np.mean(wet['ERAqmean']))"
   ]
  },
  {
   "cell_type": "code",
   "execution_count": 41,
   "metadata": {},
   "outputs": [],
   "source": [
    "qwetness = wetness[(wetness['ERAqmean']>=14) ]#& (wetness['ERAqmean']<=15.75)]"
   ]
  },
  {
   "cell_type": "code",
   "execution_count": 42,
   "metadata": {},
   "outputs": [
    {
     "data": {
      "text/plain": [
       "3752"
      ]
     },
     "execution_count": 42,
     "metadata": {},
     "output_type": "execute_result"
    }
   ],
   "source": [
    "len(qwetness)"
   ]
  },
  {
   "cell_type": "code",
   "execution_count": 43,
   "metadata": {},
   "outputs": [
    {
     "name": "stdout",
     "output_type": "stream",
     "text": [
      "[-7.18696743 -5.48081442 -2.4276806   0.31461798  1.7959988 ]\n"
     ]
    }
   ],
   "source": [
    "print(np.percentile(qwetness['SMmean0'],[10, 20,50,80,90]))"
   ]
  },
  {
   "cell_type": "code",
   "execution_count": 44,
   "metadata": {},
   "outputs": [
    {
     "data": {
      "text/plain": [
       "752"
      ]
     },
     "execution_count": 44,
     "metadata": {},
     "output_type": "execute_result"
    }
   ],
   "source": [
    "np.sum((qwetness['SMmean0']<=-5.48))# &(qwetness['SMmean-1']<=-0.01))"
   ]
  },
  {
   "cell_type": "code",
   "execution_count": 45,
   "metadata": {},
   "outputs": [],
   "source": [
    "drytest = qwetness[(qwetness['SMmean0']<=-5.48)]# &(qwetness['SMmean-1']<=-0.01)]"
   ]
  },
  {
   "cell_type": "code",
   "execution_count": 46,
   "metadata": {},
   "outputs": [
    {
     "name": "stderr",
     "output_type": "stream",
     "text": [
      "/home/ck/miniconda3/lib/python3.7/site-packages/ipykernel_launcher.py:1: SettingWithCopyWarning: \n",
      "A value is trying to be set on a copy of a slice from a DataFrame.\n",
      "Try using .loc[row_indexer,col_indexer] = value instead\n",
      "\n",
      "See the caveats in the documentation: http://pandas.pydata.org/pandas-docs/stable/user_guide/indexing.html#returning-a-view-versus-a-copy\n",
      "  \"\"\"Entry point for launching an IPython kernel.\n"
     ]
    }
   ],
   "source": [
    "drytest['date'] = pd.to_datetime(drytest[['year','month','day']])"
   ]
  },
  {
   "cell_type": "code",
   "execution_count": 47,
   "metadata": {},
   "outputs": [],
   "source": [
    "uni, count = np.unique(drytest['date'], return_counts=True)"
   ]
  },
  {
   "cell_type": "code",
   "execution_count": 48,
   "metadata": {},
   "outputs": [
    {
     "data": {
      "text/plain": [
       "array([17,  2,  1,  9,  2,  1,  5,  4, 18, 12, 18,  2,  4,  1,  3,  1,  3,\n",
       "        3,  4,  2,  3,  3,  1, 11,  2,  7,  5,  5,  9, 12,  3,  1,  9,  3,\n",
       "        1,  3,  1,  7,  1,  6,  2,  2,  1,  2,  1,  9,  1,  1,  2,  7,  2,\n",
       "        1, 13, 19,  6,  2,  2,  6, 15, 11,  9,  2,  8,  3,  1,  1,  3,  3,\n",
       "       16,  4,  1,  3,  3, 12,  5,  4,  2,  3,  5,  7,  4,  7,  3,  6, 11,\n",
       "        2,  6,  7,  2,  4,  1,  9, 19,  4, 17,  6,  6,  1, 17,  1,  1, 10,\n",
       "        4, 12,  4,  4,  2,  1,  4, 15,  2,  1,  3,  1,  1,  1, 16,  2,  1,\n",
       "        1,  2, 11, 11,  2,  2,  8,  1,  5,  5,  3,  6,  4,  3, 17, 17,  1,\n",
       "        8,  2,  1,  7,  6,  1,  1,  1,  3])"
      ]
     },
     "execution_count": 48,
     "metadata": {},
     "output_type": "execute_result"
    }
   ],
   "source": [
    "count"
   ]
  },
  {
   "cell_type": "code",
   "execution_count": 49,
   "metadata": {},
   "outputs": [
    {
     "data": {
      "text/plain": [
       "145"
      ]
     },
     "execution_count": 49,
     "metadata": {},
     "output_type": "execute_result"
    }
   ],
   "source": [
    "len(uni)"
   ]
  },
  {
   "cell_type": "code",
   "execution_count": 50,
   "metadata": {},
   "outputs": [
    {
     "data": {
      "text/plain": [
       "753"
      ]
     },
     "execution_count": 50,
     "metadata": {},
     "output_type": "execute_result"
    }
   ],
   "source": [
    "np.sum((qwetness['SMmean0']>=0.31))#& (qwetness['SMmean-1']>=-1))"
   ]
  },
  {
   "cell_type": "code",
   "execution_count": 51,
   "metadata": {},
   "outputs": [],
   "source": [
    "wettest = qwetness[(qwetness['SMmean0']>=0.31)]#& (qwetness['SMmean-1']>=-1)]"
   ]
  },
  {
   "cell_type": "code",
   "execution_count": 52,
   "metadata": {},
   "outputs": [
    {
     "name": "stderr",
     "output_type": "stream",
     "text": [
      "/home/ck/miniconda3/lib/python3.7/site-packages/ipykernel_launcher.py:1: SettingWithCopyWarning: \n",
      "A value is trying to be set on a copy of a slice from a DataFrame.\n",
      "Try using .loc[row_indexer,col_indexer] = value instead\n",
      "\n",
      "See the caveats in the documentation: http://pandas.pydata.org/pandas-docs/stable/user_guide/indexing.html#returning-a-view-versus-a-copy\n",
      "  \"\"\"Entry point for launching an IPython kernel.\n"
     ]
    }
   ],
   "source": [
    "wettest['date'] = pd.to_datetime(wettest[['year','month','day']])"
   ]
  },
  {
   "cell_type": "code",
   "execution_count": 53,
   "metadata": {},
   "outputs": [
    {
     "data": {
      "text/plain": [
       "146"
      ]
     },
     "execution_count": 53,
     "metadata": {},
     "output_type": "execute_result"
    }
   ],
   "source": [
    "len(np.unique(wettest['date']))"
   ]
  },
  {
   "cell_type": "code",
   "execution_count": 54,
   "metadata": {},
   "outputs": [
    {
     "data": {
      "text/plain": [
       "(array([ 88., 109., 127., 122., 114.,  92.,  44.,  35.,  17.,   5.]),\n",
       " array([10.27808945, 10.99291286, 11.70773627, 12.42255969, 13.1373831 ,\n",
       "        13.85220651, 14.56702992, 15.28185334, 15.99667675, 16.71150016,\n",
       "        17.42632357]),\n",
       " <a list of 10 Patch objects>)"
      ]
     },
     "execution_count": 54,
     "metadata": {},
     "output_type": "execute_result"
    },
    {
     "data": {
      "image/png": "[encoded data removed]",
      "text/plain": [
       "<Figure size 432x288 with 1 Axes>"
      ]
     },
     "metadata": {
      "needs_background": "light"
     },
     "output_type": "display_data"
    }
   ],
   "source": [
    "plt.hist(drytest['lat'], alpha=0.5)\n",
    "plt.hist(wettest['lat'], alpha=0.5)"
   ]
  },
  {
   "cell_type": "code",
   "execution_count": 55,
   "metadata": {},
   "outputs": [
    {
     "data": {
      "text/plain": [
       "(array([  7.,   4.,   6.,  21.,  40.,  87., 184., 148.,  98., 102.]),\n",
       " array([14. , 14.2, 14.4, 14.6, 14.8, 15. , 15.2, 15.4, 15.6, 15.8, 16. ]),\n",
       " <a list of 10 Patch objects>)"
      ]
     },
     "execution_count": 55,
     "metadata": {},
     "output_type": "execute_result"
    },
    {
     "data": {
      "image/png": "[encoded data removed]",
      "text/plain": [
       "<Figure size 432x288 with 1 Axes>"
      ]
     },
     "metadata": {
      "needs_background": "light"
     },
     "output_type": "display_data"
    }
   ],
   "source": [
    "plt.hist(drytest['ERAqmean'], alpha=0.5, bins=10, range=(14,16))\n",
    "plt.hist(wettest['ERAqmean'], alpha=0.5, bins=10, range=(14,16))"
   ]
  },
  {
   "cell_type": "code",
   "execution_count": 57,
   "metadata": {},
   "outputs": [
    {
     "data": {
      "image/png": "[encoded data removed]",
      "text/plain": [
       "<Figure size 1800x1500 with 1 Axes>"
      ]
     },
     "metadata": {
      "needs_background": "light"
     },
     "output_type": "display_data"
    }
   ],
   "source": [
    "f= plt.figure(figsize=(6,5), dpi=300)\n",
    "ax = f.add_subplot(111)\n",
    "u_plot.hist_freq(ax, wettest.t, alpha=0.5, label='wet', edgecolor='k', bins=12, range=(-95,-55))\n",
    "u_plot.hist_freq(ax, drytest.t, alpha=0.5, label='dry', edgecolor='k', bins=12, range=(-95,-55))\n",
    "u_plot.hist_freq(ax, qwetness.t, alpha=0.5, label='all', edgecolor='k', linewidth=3, bins=12, range=(-95,-55), facecolor='None')\n",
    "plt.legend(fontsize=12)\n",
    "plt.ylabel('Frequency')\n",
    "plt.xlabel('Convective core temperature')\n",
    "#plt.title('Full q-range')\n",
    "plt.xlim(-95,-55)\n",
    "\n",
    "\n",
    "text = ['a', 'b', 'c', 'd', 'e', 'f']\n",
    "fs = 15\n",
    "# plt.annotate(text[0], xy=(0.009, 0.91), xytext=(0, 4),xycoords=('figure fraction', 'figure fraction'),\n",
    "#              textcoords='offset points', fontweight='bold', fontname='Ubuntu', fontsize=fs)\n",
    "\n",
    "plt.savefig('/home/ck/DIR/cornkle/figs/LSTA/corrected_LSTA/new/coreT_supps.pdf')"
   ]
  },
  {
   "cell_type": "code",
   "execution_count": 47,
   "metadata": {},
   "outputs": [
    {
     "data": {
      "text/plain": [
       "-2.4210377872231987"
      ]
     },
     "execution_count": 47,
     "metadata": {},
     "output_type": "execute_result"
    }
   ],
   "source": [
    "np.mean(drytest.t)-np.mean(wettest.t)"
   ]
  },
  {
   "cell_type": "code",
   "execution_count": 50,
   "metadata": {},
   "outputs": [
    {
     "data": {
      "text/plain": [
       "0.25"
      ]
     },
     "execution_count": 50,
     "metadata": {},
     "output_type": "execute_result"
    }
   ],
   "source": [
    "np.sum(drytest.t<-80)/drytest.t.size"
   ]
  },
  {
   "cell_type": "code",
   "execution_count": 52,
   "metadata": {},
   "outputs": [
    {
     "data": {
      "text/plain": [
       "0.08897742363877822"
      ]
     },
     "execution_count": 52,
     "metadata": {},
     "output_type": "execute_result"
    }
   ],
   "source": [
    "np.sum(wettest.t<-80)/wettest.t.size"
   ]
  },
  {
   "cell_type": "code",
   "execution_count": 54,
   "metadata": {},
   "outputs": [
    {
     "data": {
      "text/plain": [
       "0.3891972046994399"
      ]
     },
     "execution_count": 54,
     "metadata": {},
     "output_type": "execute_result"
    }
   ],
   "source": [
    "(np.mean(drytest.area)-np.mean(wettest.area))/np.mean(wettest.area)"
   ]
  },
  {
   "cell_type": "code",
   "execution_count": 134,
   "metadata": {},
   "outputs": [
    {
     "data": {
      "text/plain": [
       "(array([  5.,   0.,   0.,  50.,   0.,   0., 190.,   0.,   0., 129.]),\n",
       " array([6. , 6.3, 6.6, 6.9, 7.2, 7.5, 7.8, 8.1, 8.4, 8.7, 9. ]),\n",
       " <a list of 10 Patch objects>)"
      ]
     },
     "execution_count": 134,
     "metadata": {},
     "output_type": "execute_result"
    },
    {
     "data": {
      "image/png": "[encoded data removed]",
      "text/plain": [
       "<Figure size 432x288 with 1 Axes>"
      ]
     },
     "metadata": {
      "needs_background": "light"
     },
     "output_type": "display_data"
    }
   ],
   "source": [
    "plt.hist(drytest['month'], alpha=0.5)\n",
    "plt.hist(wettest['month'], alpha=0.5)"
   ]
  },
  {
   "cell_type": "markdown",
   "metadata": {},
   "source": [
    "### We get very few wet cases in June "
   ]
  },
  {
   "cell_type": "code",
   "execution_count": 65,
   "metadata": {},
   "outputs": [
    {
     "data": {
      "text/plain": [
       "Text(0.5,1,'Core frequency binned by month')"
      ]
     },
     "execution_count": 65,
     "metadata": {},
     "output_type": "execute_result"
    },
    {
     "data": {
      "image/png": "[encoded data removed]",
      "text/plain": [
       "<Figure size 648x432 with 1 Axes>"
      ]
     },
     "metadata": {
      "needs_background": "light"
     },
     "output_type": "display_data"
    }
   ],
   "source": [
    "f= plt.figure(figsize=(9,6))\n",
    "ax = f.add_subplot(111)\n",
    "u_plot.hist_freq(ax, wet.month, alpha=0.5, label='wet', edgecolor='k', bins=5, range=(5,10))\n",
    "u_plot.hist_freq(ax, dry.month, alpha=0.5, label='dry', edgecolor='k', bins=5, range=(5,10))\n",
    "u_plot.hist_freq(ax, msgopen.month, alpha=0.5, label='all', edgecolor='k', linewidth=3, bins=5, range=(5,10), facecolor='None')\n",
    "plt.legend(fontsize=15)\n",
    "plt.ylabel('Frequency of cores')\n",
    "plt.xlabel('Month')\n",
    "plt.title('Core frequency binned by month')"
   ]
  },
  {
   "cell_type": "markdown",
   "metadata": {},
   "source": [
    "### The dry cases tend to occur further south - as expected from main occurence during June/July\n",
    "### The wet case doesn't show such a preference"
   ]
  },
  {
   "cell_type": "code",
   "execution_count": 46,
   "metadata": {},
   "outputs": [
    {
     "data": {
      "text/plain": [
       "Text(0.5,1,'Core frequency binned by latitude')"
      ]
     },
     "execution_count": 46,
     "metadata": {},
     "output_type": "execute_result"
    },
    {
     "data": {
      "image/png": "[encoded data removed]",
      "text/plain": [
       "<Figure size 648x432 with 1 Axes>"
      ]
     },
     "metadata": {
      "needs_background": "light"
     },
     "output_type": "display_data"
    }
   ],
   "source": [
    "f= plt.figure(figsize=(9,6))\n",
    "ax = f.add_subplot(111)\n",
    "u_plot.hist_freq(ax, wet.lat, alpha=0.5, label='wet', edgecolor='k', bins=10, range=(9,20))\n",
    "u_plot.hist_freq(ax, dry.lat, alpha=0.5, label='dry', edgecolor='k', bins=10, range=(9,20))\n",
    "u_plot.hist_freq(ax, msgopen.lat, alpha=0.5, label='all', edgecolor='k', linewidth=3, bins=10, range=(9,20), facecolor='None')\n",
    "plt.legend(fontsize=15)\n",
    "plt.ylabel('Frequency of cores')\n",
    "plt.xlabel('Latitude')\n",
    "plt.title('Core frequency binned by latitude')"
   ]
  },
  {
   "cell_type": "code",
   "execution_count": 49,
   "metadata": {},
   "outputs": [
    {
     "data": {
      "text/plain": [
       "<matplotlib.collections.PathCollection at 0x7f0a34c67410>"
      ]
     },
     "execution_count": 49,
     "metadata": {},
     "output_type": "execute_result"
    },
    {
     "data": {
      "image/png": "[encoded data removed]",
      "text/plain": [
       "<Figure size 432x288 with 1 Axes>"
      ]
     },
     "metadata": {
      "needs_background": "light"
     },
     "output_type": "display_data"
    }
   ],
   "source": [
    "plt.scatter(wet.lat,wet.ERAqmean)\n",
    "plt.scatter(dry.lat, dry.ERAqmean, color='r')"
   ]
  },
  {
   "cell_type": "code",
   "execution_count": null,
   "metadata": {},
   "outputs": [],
   "source": []
  },
  {
   "cell_type": "code",
   "execution_count": 144,
   "metadata": {},
   "outputs": [],
   "source": [
    "topo = xr.open_dataarray(cnst.network_data + 'data/ancils_python/lsta_corr_topo.nc')\n",
    "topo = topo.sel(lat=slice(9,16))\n",
    "h = topo.mean(dim='lat')"
   ]
  },
  {
   "cell_type": "markdown",
   "metadata": {},
   "source": [
    "### Overall core frequency follows topography. Would have to look into dry-core case around 5W"
   ]
  },
  {
   "cell_type": "code",
   "execution_count": 145,
   "metadata": {},
   "outputs": [
    {
     "data": {
      "text/plain": [
       "Text(0.5,1,'Core frequency binned by longitude')"
      ]
     },
     "execution_count": 145,
     "metadata": {},
     "output_type": "execute_result"
    },
    {
     "data": {
      "image/png": "[encoded data removed]",
      "text/plain": [
       "<Figure size 648x648 with 2 Axes>"
      ]
     },
     "metadata": {
      "needs_background": "light"
     },
     "output_type": "display_data"
    }
   ],
   "source": [
    "f= plt.figure(figsize=(9,9))\n",
    "\n",
    "ax = f.add_subplot(211)\n",
    "ax.plot(h.lon,h)\n",
    "plt.title('Mean topography 9-16N')\n",
    "\n",
    "ax = f.add_subplot(212)\n",
    "u_plot.hist_freq(ax, wet.lon, alpha=0.5, label='wet', edgecolor='k', bins=20, range=(-10,10))\n",
    "u_plot.hist_freq(ax, dry.lon, alpha=0.5, label='dry', edgecolor='k', bins=20, range=(-10,10))\n",
    "u_plot.hist_freq(ax, msgopen.lon, alpha=0.5, label='all', edgecolor='k', linewidth=3,  bins=20, range=(-10,10), facecolor='None')\n",
    "plt.legend(fontsize=15)\n",
    "#ax.plot(h.lon, h)\n",
    "plt.legend(fontsize=15)\n",
    "plt.ylabel('Frequency of cores')\n",
    "plt.title('Core frequency binned by longitude')"
   ]
  },
  {
   "cell_type": "markdown",
   "metadata": {},
   "source": [
    "### Atmospheric conditions associated with the dry case favour shear and therefore organisation into bigger storms? "
   ]
  },
  {
   "cell_type": "code",
   "execution_count": 146,
   "metadata": {},
   "outputs": [
    {
     "data": {
      "text/plain": [
       "Text(0.5,1,'Core frequency binned by storm area')"
      ]
     },
     "execution_count": 146,
     "metadata": {},
     "output_type": "execute_result"
    },
    {
     "data": {
      "image/png": "[encoded data removed]",
      "text/plain": [
       "<Figure size 648x432 with 1 Axes>"
      ]
     },
     "metadata": {
      "needs_background": "light"
     },
     "output_type": "display_data"
    }
   ],
   "source": [
    "f= plt.figure(figsize=(9,6))\n",
    "ax = f.add_subplot(111)\n",
    "u_plot.hist_freq(ax, wet.area, alpha=0.5, label='wet', edgecolor='k', bins=12, range=(10000,200000))\n",
    "u_plot.hist_freq(ax, dry.area, alpha=0.5, label='dry', edgecolor='k', bins=12, range=(10000,200000))\n",
    "u_plot.hist_freq(ax, msgopen.area, alpha=0.5, label='all', edgecolor='k', linewidth=3, bins=10, range=(10000,200000), facecolor='None')\n",
    "\n",
    "plt.legend(fontsize=15)\n",
    "plt.ylabel('Frequency of cores')\n",
    "plt.xlabel('Storm area (km$^{-2}$)')\n",
    "plt.title('Core frequency binned by storm area')"
   ]
  },
  {
   "cell_type": "code",
   "execution_count": 94,
   "metadata": {},
   "outputs": [
    {
     "data": {
      "text/plain": [
       "75118.12749003984"
      ]
     },
     "execution_count": 94,
     "metadata": {},
     "output_type": "execute_result"
    }
   ],
   "source": [
    "np.mean(wet.area)"
   ]
  },
  {
   "cell_type": "code",
   "execution_count": 95,
   "metadata": {},
   "outputs": [
    {
     "data": {
      "text/plain": [
       "118019.9806949807"
      ]
     },
     "execution_count": 95,
     "metadata": {},
     "output_type": "execute_result"
    }
   ],
   "source": [
    "np.mean(dry.area)"
   ]
  },
  {
   "cell_type": "code",
   "execution_count": 96,
   "metadata": {},
   "outputs": [
    {
     "data": {
      "text/plain": [
       "0.5711251682974838"
      ]
     },
     "execution_count": 96,
     "metadata": {},
     "output_type": "execute_result"
    }
   ],
   "source": [
    "(np.mean(dry.area) - np.mean(wet.area)) / np.mean(wet.area)"
   ]
  },
  {
   "cell_type": "code",
   "execution_count": null,
   "metadata": {},
   "outputs": [],
   "source": [
    "plt.scatter"
   ]
  }
 ],
 "metadata": {
  "kernelspec": {
   "display_name": "Python 3",
   "language": "python",
   "name": "python3"
  },
  "language_info": {
   "codemirror_mode": {
    "name": "ipython",
    "version": 3
   },
   "file_extension": ".py",
   "mimetype": "text/x-python",
   "name": "python",
   "nbconvert_exporter": "python",
   "pygments_lexer": "ipython3",
   "version": "3.7.8"
  }
 },
 "nbformat": 4,
 "nbformat_minor": 2
}
