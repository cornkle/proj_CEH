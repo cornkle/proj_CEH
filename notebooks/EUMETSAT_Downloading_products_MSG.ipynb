{
 "cells": [
  {
   "cell_type": "markdown",
   "metadata": {
    "Collapsed": "false"
   },
   "source": [
    "<img src='./img/DataStore_EUMETSAT.png'/>"
   ]
  },
  {
   "cell_type": "markdown",
   "metadata": {},
   "source": [
    "Copyright (c) 2022 EUMETSAT <br>\n",
    "License: MIT"
   ]
  },
  {
   "cell_type": "markdown",
   "metadata": {
    "Collapsed": "false"
   },
   "source": [
    "<hr>"
   ]
  },
  {
   "cell_type": "markdown",
   "metadata": {
    "Collapsed": "false"
   },
   "source": [
    "<a href=\"./index.ipynb\">← Index</a>\n",
    "<br>\n",
    "<a href=\"./2_Searching_and_filtering_products.ipynb\">← Searching and filtering products</a><span style=\"float:right;\">"
   ]
  },
  {
   "cell_type": "markdown",
   "metadata": {},
   "source": [
    "# Downloading products"
   ]
  },
  {
   "cell_type": "markdown",
   "metadata": {},
   "source": [
    "## What will this module teach you?\n",
    "\n",
    "This module will show you how to:<br>\n",
    "1. Download all products of specific **Collection ID and time**.\n",
    "2. Download a product by **Product ID**.\n",
    "3. Download a **single file** from a product."
   ]
  },
  {
   "cell_type": "markdown",
   "metadata": {},
   "source": [
    "## Selecting and filtering a collection (a recap)\n",
    "As usual, we begin by importing our required modules."
   ]
  },
  {
   "cell_type": "code",
   "execution_count": 21,
   "metadata": {},
   "outputs": [],
   "source": [
    "import eumdac\n",
    "import datetime\n",
    "import shutil\n",
    "import requests\n",
    "import time"
   ]
  },
  {
   "cell_type": "code",
   "execution_count": null,
   "metadata": {},
   "outputs": [],
   "source": [
    "curl -k -d \"grant_type=cornkle\" \\\n",
    "-H \"Authorization: Basic Base64(iqt0toxQXCRd0wV8vJY5DMAOYLQa:lg7SYbPfz1p_KfKv7ql_fLb7NsQa)\" \\\n",
    "https://api.eumetsat.int/token"
   ]
  },
  {
   "cell_type": "markdown",
   "metadata": {},
   "source": [
    "Now, we have to authorize with our personal credentials to generate the token."
   ]
  },
  {
   "cell_type": "code",
   "execution_count": 22,
   "metadata": {},
   "outputs": [
    {
     "name": "stdout",
     "output_type": "stream",
     "text": [
      "This token '070ab075-72c5-3d82-89c7-bcb5247aad97' expires 2024-01-30 10:04:07.849146\n"
     ]
    }
   ],
   "source": [
    "# Insert your personal key and secret into the single quotes\n",
    "\n",
    "consumer_key = 'iqt0toxQXCRd0wV8vJY5DMAOYLQa'\n",
    "consumer_secret = 'lg7SYbPfz1p_KfKv7ql_fLb7NsQa'\n",
    "\n",
    "credentials = (consumer_key, consumer_secret)\n",
    "\n",
    "token = eumdac.AccessToken(credentials)\n",
    "\n",
    "try:\n",
    "    print(f\"This token '{token}' expires {token.expiration}\")\n",
    "except requests.exceptions.HTTPError as error:\n",
    "    print(f\"Unexpected error: {error}\")"
   ]
  },
  {
   "cell_type": "markdown",
   "metadata": {},
   "source": [
    "<div class=\"alert alert-block alert-success\">\n",
    "<b>NOTE:</b><br />\n",
    "You can find your personal API credentials here: <a href=\"https://api.eumetsat.int/api-key/\">https://api.eumetsat.int/api-key/</a>\n",
    "</div>"
   ]
  },
  {
   "cell_type": "markdown",
   "metadata": {},
   "source": [
    "Let's start to select a collection we want to browse through. For more information on determining which collections are available, see the previous tutorial, <a href=\"./1_Discovering_collections.ipynb\">Discovering collections</a>"
   ]
  },
  {
   "cell_type": "code",
   "execution_count": 23,
   "metadata": {},
   "outputs": [
    {
     "name": "stdout",
     "output_type": "stream",
     "text": [
      "EO:EUM:DAT:MSG:HRSEVIRI - High Rate SEVIRI Level 1.5 Image Data - MSG - 0 degree\n"
     ]
    }
   ],
   "source": [
    "datastore = eumdac.DataStore(token)\n",
    "\n",
    "try:    \n",
    "    selected_collection = datastore.get_collection('EO:EUM:DAT:MSG:HRSEVIRI')\n",
    "    print(f\"{selected_collection} - {selected_collection.title}\")\n",
    "except eumdac.datastore.DataStoreError as error:\n",
    "    print(f\"Error related to the data store: '{error.msg}'\")\n",
    "except eumdac.collection.CollectionError as error:\n",
    "    print(f\"Error related to the collection: '{error.msg}'\")\n",
    "except requests.exceptions.ConnectionError as error:\n",
    "    print(f\"Error related to the connection: '{error.msg}'\")\n",
    "except requests.exceptions.RequestException as error:\n",
    "    print(f\"Unexpected error: {error}\")"
   ]
  },
  {
   "cell_type": "markdown",
   "metadata": {},
   "source": [
    "<div class=\"alert alert-block alert-success\">\n",
    "<b>NOTE:</b><br />\n",
    "EUMDAC (>=2.1.0) is retrying requests resulting into a HTTP 500 error automatically. If you are getting HTTP 40X errors you should review your requests, as they are often resulting from invalid user inputs. Find more information about EUMDAC errors, their causes and possible solutions, in our knowledge base: <a href=\"https://user.eumetsat.int/resources/user-guides/eumetsat-data-access-client-eumdac-guide#ID-Exception-handling\">https://user.eumetsat.int/resources/user-guides/eumetsat-data-access-client-eumdac-guide#ID-Exception-handling</a>\n",
    "</div>"
   ]
  },
  {
   "cell_type": "markdown",
   "metadata": {},
   "source": [
    "The previous tutorial also showed us how to select a collection and filter it for products of interest using both time and space. As we are using a GEO product for our examples, there is no need for us to set a bounding box. However, we are going to perform a similar operation using time filtering so that we can set up a download. So, lets run our query to get our product IDs."
   ]
  },
  {
   "cell_type": "code",
   "execution_count": 31,
   "metadata": {},
   "outputs": [
    {
     "name": "stdout",
     "output_type": "stream",
     "text": [
      "MSG3-SEVI-MSG15-0100-NA-20240130085743.024000000Z-NA\n",
      "MSG3-SEVI-MSG15-0100-NA-20240130084243.016000000Z-NA\n",
      "MSG3-SEVI-MSG15-0100-NA-20240130082743.008000000Z-NA\n",
      "MSG3-SEVI-MSG15-0100-NA-20240130081243.000000000Z-NA\n"
     ]
    }
   ],
   "source": [
    "# Set sensing start and end time\n",
    "start = datetime.datetime(2024, 1, 30, 8, 0)\n",
    "end = datetime.datetime(2024, 1, 30, 18, 0)\n",
    "\n",
    "# Retrieve datasets that match our filter\n",
    "products = selected_collection.search(\n",
    "    dtstart=start,\n",
    "    dtend=end)\n",
    "\n",
    "for product in products:\n",
    "    try:\n",
    "        print(product)\n",
    "    except eumdac.collection.CollectionError as error:\n",
    "        print(f\"Error related to the collection: '{error.msg}'\")\n",
    "    except requests.exceptions.ConnectionError as error:\n",
    "        print(f\"Error related to the connection: '{error.msg}'\")\n",
    "    except requests.exceptions.RequestException as error:\n",
    "        print(f\"Unexpected error: {error}\")"
   ]
  },
  {
   "cell_type": "code",
   "execution_count": 32,
   "metadata": {},
   "outputs": [
    {
     "data": {
      "text/plain": [
       "<class 'eumdac.collection.SearchResults'>(EO:EUM:DAT:MSG:HRSEVIRI, {'dtend': '2024-01-30T18:00:00', 'sort': None, 'geo': None, 'publication': None, 'dtstart': '2024-01-30T08:00:00', 'type': None, 'sat': None, 'title': None, 'set': None, 'bbox': None})"
      ]
     },
     "execution_count": 32,
     "metadata": {},
     "output_type": "execute_result"
    }
   ],
   "source": [
    "products"
   ]
  },
  {
   "cell_type": "markdown",
   "metadata": {},
   "source": [
    "Hopefully we have found some datasets. If not, please adapt your search parameters until you have. In the following sections we will look at ways of downloading these."
   ]
  },
  {
   "cell_type": "markdown",
   "metadata": {},
   "source": [
    "## Downloading products\n",
    "Products can be downloaded by providing either their product ID, or a combination of their collection ID and the time of acquisition. We can download entire products, or specific file components (e.g. metadata only). The cells below give three **independant** examples for all these methods."
   ]
  },
  {
   "cell_type": "markdown",
   "metadata": {},
   "source": [
    "### Download all products from search"
   ]
  },
  {
   "cell_type": "markdown",
   "metadata": {},
   "source": [
    "We have now found our relevant products. Now we would like to download all of them without having to select every single product. For this we can simply loop over the products and save the products as files in our directory."
   ]
  },
  {
   "cell_type": "code",
   "execution_count": 33,
   "metadata": {},
   "outputs": [
    {
     "name": "stdout",
     "output_type": "stream",
     "text": [
      "Download of product MSG3-SEVI-MSG15-0100-NA-20240130081243.000000000Z-NA finished.\n",
      "All downloads are finished.\n"
     ]
    }
   ],
   "source": [
    "cnt = 1\n",
    "for product in products:\n",
    "    \n",
    "    if cnt == len(products):\n",
    "        \n",
    "        try:\n",
    "            with product.open() as fsrc, \\\n",
    "                    open(fsrc.name, mode='wb') as fdst:\n",
    "                shutil.copyfileobj(fsrc, fdst)\n",
    "                print(f'Download of product {product} finished.')\n",
    "        except eumdac.product.ProductError as error:\n",
    "            print(f\"Error related to the product '{product}' while trying to download it: '{error.msg}'\")\n",
    "        except requests.exceptions.ConnectionError as error:\n",
    "            print(f\"Error related to the connection: '{error.msg}'\")\n",
    "        except requests.exceptions.RequestException as error:\n",
    "            print(f\"Unexpected error: {error}\")\n",
    "\n",
    "    cnt += 1\n",
    "    \n",
    "    \n",
    "print('All downloads are finished.')"
   ]
  },
  {
   "cell_type": "markdown",
   "metadata": {},
   "source": [
    "### Download a single product"
   ]
  },
  {
   "cell_type": "markdown",
   "metadata": {},
   "source": [
    "Sometimes, however, we only need one specific product from the collection. For this we just search for the product in the collection."
   ]
  },
  {
   "cell_type": "code",
   "execution_count": 8,
   "metadata": {},
   "outputs": [
    {
     "name": "stdout",
     "output_type": "stream",
     "text": [
      "MSG4-SEVI-MSG15-0100-NA-20211110081242.766000000Z-NA\n"
     ]
    }
   ],
   "source": [
    "selected_product = datastore.get_product(\n",
    "    product_id='MSG4-SEVI-MSG15-0100-NA-20211110081242.766000000Z-NA',\n",
    "    collection_id='EO:EUM:DAT:MSG:HRSEVIRI')\n",
    "\n",
    "try:\n",
    "    print(selected_product) \n",
    "except eumdac.product.ProductError as error:\n",
    "    print(f\"Error related to the product: '{error.msg}'\")\n",
    "except requests.exceptions.ConnectionError as error:\n",
    "    print(f\"Error related to the connection: '{error.msg}'\")\n",
    "except requests.exceptions.RequestException as error:\n",
    "    print(f\"Unexpected error: {error}\")"
   ]
  },
  {
   "cell_type": "code",
   "execution_count": 9,
   "metadata": {},
   "outputs": [
    {
     "name": "stdout",
     "output_type": "stream",
     "text": [
      "Download of product MSG4-SEVI-MSG15-0100-NA-20211110081242.766000000Z-NA finished.\n"
     ]
    }
   ],
   "source": [
    "try:\n",
    "    with selected_product.open() as fsrc, \\\n",
    "            open(fsrc.name, mode='wb') as fdst:\n",
    "        shutil.copyfileobj(fsrc, fdst)\n",
    "    print(f'Download of product {selected_product} finished.')\n",
    "except eumdac.product.ProductError as error:\n",
    "    print(f\"Error related to the product '{selected_product}' while trying to download it: '{error.msg}'\")\n",
    "except requests.exceptions.ConnectionError as error:\n",
    "    print(f\"Error related to the connection: '{error.msg}'\")\n",
    "except requests.exceptions.RequestException as error:\n",
    "    print(f\"Unexpected error: {error}\")"
   ]
  },
  {
   "cell_type": "markdown",
   "metadata": {},
   "source": [
    "### Download a single file from product"
   ]
  },
  {
   "cell_type": "markdown",
   "metadata": {},
   "source": [
    "Products are often made up or many files. Sometimes we just want to have a single file. Let's see the files inside the product first."
   ]
  },
  {
   "cell_type": "code",
   "execution_count": 10,
   "metadata": {},
   "outputs": [
    {
     "name": "stdout",
     "output_type": "stream",
     "text": [
      "EOPMetadata.xml\n",
      "MSG4-SEVI-MSG15-0100-NA-20211110081242.766000000Z-NA.nat\n",
      "manifest.xml\n"
     ]
    }
   ],
   "source": [
    "for entry in selected_product.entries:\n",
    "    try:\n",
    "        print(entry)\n",
    "    except eumdac.product.ProductError as error:\n",
    "        print(f\"Error related to the product: '{error.msg}'\")\n",
    "    except requests.exceptions.ConnectionError as error:\n",
    "        print(f\"Error related to the connection: '{error.msg}'\")\n",
    "    except requests.exceptions.RequestException as error:\n",
    "        print(f\"Unexpected error: {error}\")"
   ]
  },
  {
   "cell_type": "markdown",
   "metadata": {},
   "source": [
    "Files within the product may be downloaded by providing the file's name, as demonstrated in the cell below."
   ]
  },
  {
   "cell_type": "code",
   "execution_count": 11,
   "metadata": {},
   "outputs": [
    {
     "name": "stdout",
     "output_type": "stream",
     "text": [
      "Download of file EOPMetadata.xml finished.\n"
     ]
    }
   ],
   "source": [
    "try:\n",
    "    with selected_product.open(entry='EOPMetadata.xml') as fsrc, \\\n",
    "            open(fsrc.name, mode='wb') as fdst:\n",
    "        shutil.copyfileobj(fsrc, fdst)\n",
    "        print(f'Download of file {fsrc.name} finished.')\n",
    "except eumdac.product.ProductError as error:\n",
    "    print(f\"Error related to the product '{selected_product}' while trying to download it: '{error.msg}'\")\n",
    "except requests.exceptions.ConnectionError as error:\n",
    "    print(f\"Error related to the connection: '{error.msg}'\")\n",
    "except requests.exceptions.RequestException as error:\n",
    "    print(f\"Unexpected error: {error}\")"
   ]
  },
  {
   "cell_type": "markdown",
   "metadata": {},
   "source": [
    "And now we can open this file:"
   ]
  },
  {
   "cell_type": "code",
   "execution_count": 12,
   "metadata": {},
   "outputs": [
    {
     "name": "stdout",
     "output_type": "stream",
     "text": [
      "<?xml version=\"1.0\" encoding=\"UTF-8\"?>\n",
      "<eum:EarthObservation xmlns:gml=\"http://www.opengis.net/gml/3.2\"\n",
      "                      xmlns:eop=\"http://www.opengis.net/eop/2.1\"\n",
      "                      xmlns:om=\"http://www.opengis.net/om/2.0\"\n",
      "                      xmlns:ows=\"http://www.opengis.net/ows/2.0\"\n",
      "                      xmlns:xlink=\"http://www.w3.org/1999/xlink\"\n",
      "                      xmlns:eu=\"http://www.eumetsat.int/sentinel\"\n",
      "                      xmlns:eum=\"http://www.eumetsat.int/eop/1.0\"\n",
      "                      gml:id=\"idSIPMetadata_2_1\">\n",
      "   <om:phenomenonTime>\n",
      "      <gml:TimePeriod gml:id=\"phenomenonTime\">\n",
      "         <gml:beginPosition>2021-11-10T08:00:10.065000000Z</gml:beginPosition>\n",
      "         <gml:endPosition>2021-11-10T08:12:42.766000000Z</gml:endPosition>\n",
      "      </gml:TimePeriod>\n",
      "   </om:phenomenonTime>\n",
      "   <om:resultTime>\n",
      "      <gml:TimeInstant gml:id=\"resultTime\">\n",
      "         <gml:timePosition>2021-11-10T08:12:42.766000000Z</gml:timePosition>\n",
      "      </gml:TimeInstant>\n",
      "   </om:resultTime>\n",
      "   <om:procedure>\n",
      "      <eop:EarthObservationEquipment gml:id=\"procedure\">\n",
      "         <eop:platform>\n",
      "            <eop:Platform>\n",
      "               <eop:shortName>MSG4</eop:shortName>\n",
      "               <eop:orbitType>GEO</eop:orbitType>\n",
      "            </eop:Platform>\n",
      "         </eop:platform>\n",
      "         <eop:instrument>\n",
      "            <eop:Instrument>\n",
      "               <eop:shortName>SEVIRI</eop:shortName>\n",
      "            </eop:Instrument>\n",
      "         </eop:instrument>\n",
      "         <eop:sensor>\n",
      "            <eop:Sensor>\n",
      "               <eop:operationalMode>FSS</eop:operationalMode>\n",
      "            </eop:Sensor>\n",
      "         </eop:sensor>\n",
      "      </eop:EarthObservationEquipment>\n",
      "   </om:procedure>\n",
      "   <om:observedProperty nilReason=\"inapplicable\"/>\n",
      "   <om:featureOfInterest>\n",
      "      <eop:Footprint gml:id=\"footprint\">\n",
      "         <eop:multiExtentOf nilReason=\"inapplicable\"/>\n",
      "         <eop:centerOf>\n",
      "            <gml:Point gml:id=\"centerOf\" srsName=\"EPSG:4326\">\n",
      "               <gml:pos>0 0</gml:pos>\n",
      "            </gml:Point>\n",
      "         </eop:centerOf>\n",
      "      </eop:Footprint>\n",
      "   </om:featureOfInterest>\n",
      "   <om:result>\n",
      "      <eop:EarthObservationResult gml:id=\"result\">\n",
      "         <eop:product>\n",
      "            <eop:ProductInformation>\n",
      "               <eop:fileName>\n",
      "                  <ows:ServiceReference xlink:href=\"MSG4-SEVI-MSG15-0100-NA-20211110081242.766000000Z-NA\">\n",
      "                     <ows:Identifier>MSG4-SEVI-MSG15-0100-NA-20211110081242.766000000Z-NA</ows:Identifier>\n",
      "                     <ows:RequestMessage/>\n",
      "                  </ows:ServiceReference>\n",
      "               </eop:fileName>\n",
      "               <eop:version>1</eop:version>\n",
      "               <eop:size uom=\"KB\">264824</eop:size>\n",
      "               <eop:timeliness>NOMINAL</eop:timeliness>\n",
      "            </eop:ProductInformation>\n",
      "         </eop:product>\n",
      "      </eop:EarthObservationResult>\n",
      "   </om:result>\n",
      "   <eop:metaDataProperty>\n",
      "      <eum:EarthObservationMetaData>\n",
      "         <eop:identifier>MSG4-SEVI-MSG15-0100-NA-20211110081242.766000000Z-NA</eop:identifier>\n",
      "         <eop:parentIdentifier>EO:EUM:DAT:MSG:HRSEVIRI</eop:parentIdentifier>\n",
      "         <eop:acquisitionType>NOMINAL</eop:acquisitionType>\n",
      "         <eop:acquisitionSubType>O</eop:acquisitionSubType>\n",
      "         <eop:productType>MSG15</eop:productType>\n",
      "         <eop:status>ACQUIRED</eop:status>\n",
      "         <eop:downlinkedTo>\n",
      "            <eop:DownlinkInformation>\n",
      "               <eop:acquisitionStation codeSpace=\"urn:eop:EUM:stationCode\">PGS</eop:acquisitionStation>\n",
      "               <eop:acquisitionDate>2021-11-10T08:12:42.766000000Z</eop:acquisitionDate>\n",
      "            </eop:DownlinkInformation>\n",
      "         </eop:downlinkedTo>\n",
      "         <eop:productQualityStatus>NOMINAL</eop:productQualityStatus>\n",
      "         <eop:histograms>\n",
      "            <eop:Histogram>\n",
      "               <eop:bandId>XXXXXXXXXXXX</eop:bandId>\n",
      "               <eop:min>-1</eop:min>\n",
      "               <eop:max>-1</eop:max>\n",
      "            </eop:Histogram>\n",
      "         </eop:histograms>\n",
      "         <eop:processing>\n",
      "            <eop:ProcessingInformation>\n",
      "               <eop:processingCenter>EUM</eop:processingCenter>\n",
      "               <eop:processingDate>2021-11-10T08:12:59Z</eop:processingDate>\n",
      "               <eop:processorName>IDPF-I</eop:processorName>\n",
      "               <eop:processorVersion>NA</eop:processorVersion>\n",
      "               <eop:nativeProductFormat>MSGNative</eop:nativeProductFormat>\n",
      "               <eop:processingMode>N</eop:processingMode>\n",
      "            </eop:ProcessingInformation>\n",
      "         </eop:processing>\n",
      "         <eum:granuleType>DP</eum:granuleType>\n",
      "         <eum:processingLevel>15</eum:processingLevel>\n",
      "         <eum:missingData uom=\"Percentage\">0</eum:missingData>\n",
      "      </eum:EarthObservationMetaData>\n",
      "   </eop:metaDataProperty>\n",
      "</eum:EarthObservation>\n",
      "\n"
     ]
    }
   ],
   "source": [
    "with open('EOPMetadata.xml') as f:\n",
    "    print(f.read())"
   ]
  },
  {
   "cell_type": "markdown",
   "metadata": {},
   "source": [
    "Now we know how to download products!"
   ]
  },
  {
   "cell_type": "markdown",
   "metadata": {},
   "source": [
    "<a href=\"./index.ipynb\">← Index</a>\n",
    "<br>\n",
    "<a href=\"./2_Searching_and_filtering_products.ipynb\">← Searching and filtering products</a><span style=\"float:right;\">"
   ]
  },
  {
   "cell_type": "markdown",
   "metadata": {
    "Collapsed": "false"
   },
   "source": [
    "<hr>"
   ]
  },
  {
   "cell_type": "markdown",
   "metadata": {
    "Collapsed": "false"
   },
   "source": [
    "<p style=\"text-align:left;\">This project is licensed under the <a href=\"./LICENSE.txt\">MIT License</a> | <span style=\"float:right;\"><a href=\"https://gitlab.eumetsat.int/eumetlab/data-services/\">View on GitLab</a> | <a href=\"https://training.eumetsat.int/\">EUMETSAT Training</a> | <a href=mailto:ops@eumetsat.int>Contact</a></span></p>"
   ]
  }
 ],
 "metadata": {
  "kernelspec": {
   "display_name": "Python 3 (ipykernel)",
   "language": "python",
   "name": "python3"
  },
  "language_info": {
   "codemirror_mode": {
    "name": "ipython",
    "version": 3
   },
   "file_extension": ".py",
   "mimetype": "text/x-python",
   "name": "python",
   "nbconvert_exporter": "python",
   "pygments_lexer": "ipython3",
   "version": "3.10.11"
  },
  "vscode": {
   "interpreter": {
    "hash": "f61363903226f946a13497630069b9119a23165c9161346d2c3a6f0af415279b"
   }
  }
 },
 "nbformat": 4,
 "nbformat_minor": 4
}
