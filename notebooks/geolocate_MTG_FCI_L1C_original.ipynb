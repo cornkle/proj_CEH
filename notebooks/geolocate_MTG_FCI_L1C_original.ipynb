{
 "cells": [
  {
   "cell_type": "code",
   "execution_count": 1,
   "id": "7279de09-1adb-4409-8646-c86741f41e96",
   "metadata": {},
   "outputs": [],
   "source": [
    "import netCDF4 as nc\n",
    "import numpy as np\n",
    "import matplotlib.pyplot as plt"
   ]
  },
  {
   "cell_type": "code",
   "execution_count": 2,
   "id": "67353ed9-8288-4ec3-a1fa-a3e732a1ce0d",
   "metadata": {},
   "outputs": [],
   "source": [
    "# load the start and end rows and columns of a chunk product on the full disk grid for a channel\n",
    "def load_channel_chunk_grid_parameters(product,channel):\n",
    "    dataset = nc.Dataset(product,'r')\n",
    "    \n",
    "    start_row_index = dataset[f'data/{channel}/measured/start_position_row'][:] - 1\n",
    "    end_row_index = dataset[f'data/{channel}/measured/end_position_row'][:] - 1\n",
    "    start_column_index = dataset[f'data/{channel}/measured/start_position_column'][:] - 1\n",
    "    end_column_index = dataset[f'data/{channel}/measured/end_position_column'][:] - 1\n",
    "    channel_ssd = dataset[f'data/{channel}/ssd_index'][:]\n",
    "    \n",
    "    dataset.close()\n",
    "    \n",
    "    return start_row_index,end_row_index,start_column_index,end_column_index,channel_ssd"
   ]
  },
  {
   "cell_type": "code",
   "execution_count": 3,
   "id": "a5f32682-5270-42e8-98b5-7db333c1727c",
   "metadata": {},
   "outputs": [],
   "source": [
    "SSDS = ['0.5km', '1km', '2km']\n",
    "\n",
    "# load the parameters configuring the geostationary projection-based grid\n",
    "def load_grid_parameters(product):\n",
    "    dataset = nc.Dataset(product,'r')\n",
    "    \n",
    "    grid_parameters = {}\n",
    "    \n",
    "    # ssd independent parameters\n",
    "    mtg_geos_projection = dataset['data/mtg_geos_projection']\n",
    "    grid_parameters['semi_major_axis']                = mtg_geos_projection.semi_major_axis\n",
    "    grid_parameters['semi_minor_axis']                = mtg_geos_projection.semi_minor_axis\n",
    "    grid_parameters['perspective_point_height']       = mtg_geos_projection.perspective_point_height\n",
    "    grid_parameters['longitude_of_projection_origin'] = mtg_geos_projection.longitude_of_projection_origin\n",
    "    \n",
    "    # ssd dependent parameters\n",
    "    reference_grids                          = dataset['state/processor/reference_grid'][:]\n",
    "    reference_grid_number_of_rows            = dataset['state/processor/reference_grid_number_of_rows'][:]\n",
    "    reference_grid_number_of_columns         = dataset['state/processor/reference_grid_number_of_columns'][:]\n",
    "    reference_grid_spatial_sampling_angle_ns = dataset['state/processor/reference_grid_spatial_sampling_angle_ns'][:]\n",
    "    reference_grid_spatial_sampling_angle_ew = dataset['state/processor/reference_grid_spatial_sampling_angle_ew'][:]\n",
    "    \n",
    "    for grid_index in range(len(reference_grids)):\n",
    "        ssd_index = reference_grids[grid_index]\n",
    "        ssd_index=0\n",
    "        #print(ssd_index)\n",
    "        ssd = SSDS[ssd_index]\n",
    "        grid_parameters[ssd] = {}\n",
    "        grid_parameters[ssd]['azimuth_grid_sampling']   = reference_grid_spatial_sampling_angle_ns[grid_index]\n",
    "        grid_parameters[ssd]['elevation_grid_sampling'] = reference_grid_spatial_sampling_angle_ew[grid_index]\n",
    "        grid_parameters[ssd]['azimuth0']   =   reference_grid_spatial_sampling_angle_ns[grid_index] * (reference_grid_number_of_rows[grid_index]    / 2 - 0.5)\n",
    "        grid_parameters[ssd]['elevation0'] = - reference_grid_spatial_sampling_angle_ew[grid_index] * (reference_grid_number_of_columns[grid_index] / 2 - 0.5)\n",
    "        grid_parameters[ssd]['reference_grid_number_of_rows']    = reference_grid_number_of_rows[grid_index]\n",
    "        grid_parameters[ssd]['reference_grid_number_of_columns'] = reference_grid_number_of_columns[grid_index]\n",
    "    \n",
    "    dataset.close()\n",
    "    \n",
    "    return grid_parameters"
   ]
  },
  {
   "cell_type": "code",
   "execution_count": 4,
   "id": "85fc3bbd-4f57-4bf4-99e0-cdf900c8b687",
   "metadata": {},
   "outputs": [],
   "source": [
    "def plot_data(data,title):\n",
    "    plt.figure(figsize=(20,10))\n",
    "    plt.tight_layout()\n",
    "    plt.imshow(data)\n",
    "    plt.title(title)\n",
    "    plt.show()"
   ]
  },
  {
   "cell_type": "code",
   "execution_count": 5,
   "id": "f417d2d1-307f-4589-bb49-413f85482bc4",
   "metadata": {},
   "outputs": [],
   "source": [
    "# transform rows and columns to latitudes and longitudes\n",
    "def grid_coordinates_to_geo_coordinates(rows, columns, grid_parameters, ssd):\n",
    "    shape = rows.shape\n",
    "\n",
    "    azimuth   = grid_parameters[ssd]['azimuth0']   - columns * grid_parameters[ssd]['azimuth_grid_sampling']\n",
    "    elevation = grid_parameters[ssd]['elevation0'] + rows    * grid_parameters[ssd]['elevation_grid_sampling']\n",
    "    \n",
    "    s4 = (grid_parameters['semi_major_axis'] / grid_parameters['semi_minor_axis'])**2\n",
    "    h = grid_parameters['perspective_point_height'] + grid_parameters['semi_major_axis']\n",
    "    s5 = h**2 - grid_parameters['semi_major_axis']**2\n",
    "    \n",
    "    a = np.cos(elevation)**2 + s4 * np.sin(elevation)**2\n",
    "    b = - 2 * h * np.cos(azimuth) * np.cos(elevation)\n",
    "    c = s5\n",
    "    \n",
    "    sd2 = b**2 - 4 * a * c\n",
    "    earth_mask = (sd2 >= 0)\n",
    "    sd = np.nan * np.ones(shape)\n",
    "    sd[earth_mask] = np.sqrt(sd2[earth_mask])\n",
    "    \n",
    "    sn = (- b - sd) / (2 * a)\n",
    "    \n",
    "    s1 = h - sn * np.cos(azimuth) * np.cos(elevation)\n",
    "    s2 = -sn * np.sin(azimuth) * np.cos(elevation)\n",
    "    s3 = sn * np.sin(elevation)\n",
    "    \n",
    "    sxy = np.sqrt(s1**2 + s2**2)\n",
    "    \n",
    "    lons = np.rad2deg(np.arctan(s2 / s1)) + grid_parameters['longitude_of_projection_origin']\n",
    "    lats = np.rad2deg(np.arctan(s4 * s3 / sxy))\n",
    "    \n",
    "    return lats,lons"
   ]
  },
  {
   "cell_type": "code",
   "execution_count": 6,
   "id": "f37e9963-3ed5-42ba-a1f6-092467158261",
   "metadata": {},
   "outputs": [],
   "source": [
    "# run configuration\n",
    "product = 'W_XX-EUMETSAT-Darmstadt,IMG+SAT,MTI1+FCI-1C-RRAD-HRFI-FD--CHK-BODY---NC4E_C_EUMT_20241024104005_IDPFI_OPE_20241024103701_20241024103746_N__C_0064_0030.nc'\n",
    "#W_XX-EUMETSAT-Darmstadt,IMG+SAT,MTI1+FCI-1C-RRAD-HRFI-FD--CHK-BODY---NC4E_C_EUMT_20241024104005_IDPFI_OPE_20241024103701_20241024103746_N__C_0064_0030.nc'\n",
    "#W_XX-EUMETSAT-Darmstadt,IMG+SAT,MTI1+FCI-1C-RRAD-FDHSI-FD--CHK-BODY---NC4E_C_EUMT_20200405120730_GTT_DEV_20200405120215_20200405120230_N__T_0073_0010.nc'\n",
    "ssd = 0#'0.5km'\n",
    "channel = 'vis_06_hr'"
   ]
  },
  {
   "cell_type": "code",
   "execution_count": 7,
   "id": "e2f4e762-02bc-47b7-86bb-5293cecd581e",
   "metadata": {},
   "outputs": [
    {
     "ename": "FileNotFoundError",
     "evalue": "[Errno 2] No such file or directory: 'W_XX-EUMETSAT-Darmstadt,IMG+SAT,MTI1+FCI-1C-RRAD-HRFI-FD--CHK-BODY---NC4E_C_EUMT_20241024104005_IDPFI_OPE_20241024103701_20241024103746_N__C_0064_0030.nc'",
     "output_type": "error",
     "traceback": [
      "\u001b[0;31m---------------------------------------------------------------------------\u001b[0m",
      "\u001b[0;31mFileNotFoundError\u001b[0m                         Traceback (most recent call last)",
      "Cell \u001b[0;32mIn[7], line 2\u001b[0m\n\u001b[1;32m      1\u001b[0m \u001b[38;5;66;03m# load the grid parameters\u001b[39;00m\n\u001b[0;32m----> 2\u001b[0m grid_parameters \u001b[38;5;241m=\u001b[39m \u001b[43mload_grid_parameters\u001b[49m\u001b[43m(\u001b[49m\u001b[43mproduct\u001b[49m\u001b[43m)\u001b[49m\n\u001b[1;32m      4\u001b[0m \u001b[38;5;66;03m# load the grid coordinates for a channel in a chunk product\u001b[39;00m\n\u001b[1;32m      5\u001b[0m start_row_index,end_row_index,start_column_index,end_column_index,channel_ssd \u001b[38;5;241m=\u001b[39m load_channel_chunk_grid_parameters(product,channel)\n",
      "Cell \u001b[0;32mIn[3], line 5\u001b[0m, in \u001b[0;36mload_grid_parameters\u001b[0;34m(product)\u001b[0m\n\u001b[1;32m      4\u001b[0m \u001b[38;5;28;01mdef\u001b[39;00m \u001b[38;5;21mload_grid_parameters\u001b[39m(product):\n\u001b[0;32m----> 5\u001b[0m     dataset \u001b[38;5;241m=\u001b[39m \u001b[43mnc\u001b[49m\u001b[38;5;241;43m.\u001b[39;49m\u001b[43mDataset\u001b[49m\u001b[43m(\u001b[49m\u001b[43mproduct\u001b[49m\u001b[43m,\u001b[49m\u001b[38;5;124;43m'\u001b[39;49m\u001b[38;5;124;43mr\u001b[39;49m\u001b[38;5;124;43m'\u001b[39;49m\u001b[43m)\u001b[49m\n\u001b[1;32m      7\u001b[0m     grid_parameters \u001b[38;5;241m=\u001b[39m {}\n\u001b[1;32m      9\u001b[0m     \u001b[38;5;66;03m# ssd independent parameters\u001b[39;00m\n",
      "File \u001b[0;32msrc/netCDF4/_netCDF4.pyx:2521\u001b[0m, in \u001b[0;36mnetCDF4._netCDF4.Dataset.__init__\u001b[0;34m()\u001b[0m\n",
      "File \u001b[0;32msrc/netCDF4/_netCDF4.pyx:2158\u001b[0m, in \u001b[0;36mnetCDF4._netCDF4._ensure_nc_success\u001b[0;34m()\u001b[0m\n",
      "\u001b[0;31mFileNotFoundError\u001b[0m: [Errno 2] No such file or directory: 'W_XX-EUMETSAT-Darmstadt,IMG+SAT,MTI1+FCI-1C-RRAD-HRFI-FD--CHK-BODY---NC4E_C_EUMT_20241024104005_IDPFI_OPE_20241024103701_20241024103746_N__C_0064_0030.nc'"
     ]
    }
   ],
   "source": [
    "# load the grid parameters\n",
    "grid_parameters = load_grid_parameters(product)\n",
    "\n",
    "# load the grid coordinates for a channel in a chunk product\n",
    "start_row_index,end_row_index,start_column_index,end_column_index,channel_ssd = load_channel_chunk_grid_parameters(product,channel)"
   ]
  },
  {
   "cell_type": "code",
   "execution_count": 29,
   "id": "54012d71-eb84-4d6a-b01c-ad190d99c610",
   "metadata": {},
   "outputs": [
    {
     "data": {
      "text/plain": [
       "masked"
      ]
     },
     "execution_count": 29,
     "metadata": {},
     "output_type": "execute_result"
    }
   ],
   "source": [
    "channel_ssd"
   ]
  },
  {
   "cell_type": "code",
   "execution_count": 30,
   "id": "630ab00f-6d60-4c48-b516-ad1645d2074b",
   "metadata": {},
   "outputs": [],
   "source": [
    "# determine the geolocation for the selected channel in the selected chunk product \n",
    "chunk_rs,chunk_cs = np.mgrid[start_row_index:end_row_index+1,start_column_index:end_column_index+1]\n",
    "channel_ssd=0\n",
    "chunk_lats,chunk_lons = grid_coordinates_to_geo_coordinates(chunk_rs,chunk_cs,grid_parameters,SSDS[channel_ssd])\n"
   ]
  },
  {
   "cell_type": "code",
   "execution_count": 31,
   "id": "e166a826-7a59-453b-83b0-4556c340a7df",
   "metadata": {},
   "outputs": [
    {
     "data": {
      "image/png": "[encoded data removed]",
      "text/plain": [
       "<Figure size 2000x1000 with 1 Axes>"
      ]
     },
     "metadata": {},
     "output_type": "display_data"
    }
   ],
   "source": [
    "plot_data(chunk_lats[::-1],'Latitude for the chunk')"
   ]
  },
  {
   "cell_type": "code",
   "execution_count": 32,
   "id": "3594ca0b-21b8-48ee-a567-dd7b2f620a91",
   "metadata": {},
   "outputs": [
    {
     "data": {
      "image/png": "[encoded data removed]",
      "text/plain": [
       "<Figure size 2000x1000 with 1 Axes>"
      ]
     },
     "metadata": {},
     "output_type": "display_data"
    }
   ],
   "source": [
    "plot_data(chunk_lons[::-1],'Longitude for the chunk')"
   ]
  },
  {
   "cell_type": "code",
   "execution_count": 33,
   "id": "0a2f7fc1-e2b1-4a6c-abb2-b7f8445b96ea",
   "metadata": {},
   "outputs": [
    {
     "ename": "KeyError",
     "evalue": "0",
     "output_type": "error",
     "traceback": [
      "\u001b[0;31m---------------------------------------------------------------------------\u001b[0m",
      "\u001b[0;31mKeyError\u001b[0m                                  Traceback (most recent call last)",
      "Cell \u001b[0;32mIn[33], line 2\u001b[0m\n\u001b[1;32m      1\u001b[0m \u001b[38;5;66;03m# determine the geolocation for the full disk grid for a specific SSD\u001b[39;00m\n\u001b[0;32m----> 2\u001b[0m rs,cs \u001b[38;5;241m=\u001b[39m np\u001b[38;5;241m.\u001b[39mindices((\u001b[43mgrid_parameters\u001b[49m\u001b[43m[\u001b[49m\u001b[43mssd\u001b[49m\u001b[43m]\u001b[49m[\u001b[38;5;124m'\u001b[39m\u001b[38;5;124mreference_grid_number_of_rows\u001b[39m\u001b[38;5;124m'\u001b[39m],grid_parameters[ssd][\u001b[38;5;124m'\u001b[39m\u001b[38;5;124mreference_grid_number_of_columns\u001b[39m\u001b[38;5;124m'\u001b[39m]))\n\u001b[1;32m      3\u001b[0m lats,lons \u001b[38;5;241m=\u001b[39m grid_coordinates_to_geo_coordinates(rs,cs,grid_parameters,ssd)\n",
      "\u001b[0;31mKeyError\u001b[0m: 0"
     ]
    }
   ],
   "source": [
    "# determine the geolocation for the full disk grid for a specific SSD\n",
    "rs,cs = np.indices((grid_parameters[ssd]['reference_grid_number_of_rows'],grid_parameters[ssd]['reference_grid_number_of_columns']))\n",
    "lats,lons = grid_coordinates_to_geo_coordinates(rs,cs,grid_parameters,ssd)"
   ]
  },
  {
   "cell_type": "code",
   "execution_count": null,
   "id": "8bc74785-fd7c-49b6-bd90-ab1ee354052d",
   "metadata": {},
   "outputs": [],
   "source": [
    "plot_data(lats[::-1],'Latitude for the full disk')"
   ]
  },
  {
   "cell_type": "code",
   "execution_count": null,
   "id": "268e1082-0e69-40ed-aed1-7d556de73c20",
   "metadata": {},
   "outputs": [],
   "source": []
  }
 ],
 "metadata": {
  "kernelspec": {
   "display_name": "Python 3 (ipykernel)",
   "language": "python",
   "name": "python3"
  },
  "language_info": {
   "codemirror_mode": {
    "name": "ipython",
    "version": 3
   },
   "file_extension": ".py",
   "mimetype": "text/x-python",
   "name": "python",
   "nbconvert_exporter": "python",
   "pygments_lexer": "ipython3",
   "version": "3.13.1"
  }
 },
 "nbformat": 4,
 "nbformat_minor": 5
}
