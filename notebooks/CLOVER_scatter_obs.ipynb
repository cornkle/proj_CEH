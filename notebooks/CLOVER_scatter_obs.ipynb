{
 "cells": [
  {
   "cell_type": "code",
   "execution_count": null,
   "metadata": {},
   "outputs": [],
   "source": [
    "# import seaborn as sns\n",
    "import pickle as pkl\n",
    "# pal = sns.color_palette('Blues')\n",
    "# sns.set_context(\"paper\", font_scale=1.5)\n",
    "# sns.set_style(\"ticks\")\n",
    "from scipy.stats import gaussian_kde\n",
    "import numpy as np\n",
    "import matplotlib.pyplot as plt\n",
    "from utils import u_statistics as ustat\n",
    "import pdb\n",
    "import itertools\n",
    "from utils import u_plot as uplot, constants as cnst\n",
    "import scipy.stats as stats\n",
    "import numpy.ma as ma\n",
    "from utils import u_statistics as u_stat\n",
    "import pandas as pd\n",
    "import xarray as xr"
   ]
  }
 ],
 "metadata": {
  "kernelspec": {
   "display_name": "Python 3",
   "language": "python",
   "name": "python3"
  },
  "language_info": {
   "codemirror_mode": {
    "name": "ipython",
    "version": 3
   },
   "file_extension": ".py",
   "mimetype": "text/x-python",
   "name": "python",
   "nbconvert_exporter": "python",
   "pygments_lexer": "ipython3",
   "version": "3.6.6"
  }
 },
 "nbformat": 4,
 "nbformat_minor": 2
}
