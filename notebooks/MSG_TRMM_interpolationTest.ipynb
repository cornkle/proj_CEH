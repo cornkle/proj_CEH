{
 "cells": [
  {
   "cell_type": "code",
   "execution_count": null,
   "metadata": {
    "collapsed": true
   },
   "outputs": [],
   "source": [
    "from utils import u_time as ut\n",
    "from eod import read_eod as re\n",
    "import salem\n",
    "import datetime as dt\n",
    "import numpy as np\n",
    "from scipy.ndimage.measurements import label \n",
    "import pyproj\n",
    "import matplotlib.pyplot as plt\n",
    "from mpl_toolkits.basemap import Basemap\n",
    "from scipy.interpolate import griddata\n",
    "import cartopy.crs as ccrs\n",
    "import cartopy.feature as cfeature\n",
    "import matplotlib.pylab as pylab\n",
    "import cartopy.feature as cfeature\n",
    "from wavelet import util\n",
    "import cleo\n",
    "from skimage.feature import match_template\n",
    "from skimage.feature import peak_local_max\n",
    "import pickle as pkl\n",
    "from skimage.measure import compare_ssim\n",
    "from scipy.stats.stats import pearsonr\n",
    "from scipy import ndimage\n",
    "import pywt\n",
    "pylab.rcParams['figure.figsize'] = 20., 12.\n",
    "%matplotlib inline"
   ]
  },
  {
   "cell_type": "code",
   "execution_count": null,
   "metadata": {},
   "outputs": [],
   "source": [
    "trmm_folder='/users/global/cornkle/data/OBS/TRMM/trmm_swaths_WA'\n",
    "msg_folder='/users/global/cornkle/data/OBS/meteosat_SA15'\n",
    "# make a salem grid\n",
    "proj = pyproj.Proj('+proj=merc +lat_0=0. +lon_0=0.')\n",
    "_y = 2009\n",
    "_m = 9\n",
    "_d = 2\n",
    "_h = 0\n",
    "_mi = 15\n",
    "\n",
    "#2009-09-19 15:41:00\n",
    "#'20090921 15:28:00',\n",
    "\n",
    "m=re.msg(msg_folder)\n",
    "t=re.trmm(trmm_folder, yrange=range(2009, 2010), area=[-10, 10, 10, 20]) \n",
    "\n",
    "arr=np.array([15,30,45,60, 0])\n",
    "dm = arr - _mi\n",
    "ind=(np.abs(dm)).argmin()\n",
    "       \n",
    "# set zero shift time for msg\n",
    "date=dt.datetime(_y, _m, _d, _h, _mi)\n",
    "print(date)\n",
    "dt0=dm[ind] \n",
    "ndate = date + dt.timedelta(minutes=int(dt0))   \n",
    "print(ndate)\n",
    "td=t.getDData(date.year, date.month, date.day, date.hour, date.minute, cut=[9,21])\n",
    "              \n",
    "d=m.getData(y=ndate.year, m=ndate.month, d=ndate.day, h=ndate.hour, mi=ndate.minute, llbox=[td['lon'].min(), td['lon'].max(), td['lat'].min(), td['lat'].max() ])\n",
    "d1 = d['t']\n",
    "lon1=d['lon']\n",
    "lat1=d['lat']\n",
    "d1[d1>-40]=0\n",
    "labels, numL = label(d1)\n",
    "u , inv = np.unique(labels, return_inverse=True)\n",
    "n = np.bincount(inv)"
   ]
  },
  {
   "cell_type": "code",
   "execution_count": null,
   "metadata": {},
   "outputs": [],
   "source": [
    "date.strftime('%Y-%m-%d_%H:%M:%S')"
   ]
  },
  {
   "cell_type": "code",
   "execution_count": null,
   "metadata": {},
   "outputs": [],
   "source": [
    "ax = plt.axes(projection=ccrs.PlateCarree())\n",
    "plt.contourf(lon1, lat1, d1,levels=np.arange(-70,0,1), transform=ccrs.PlateCarree())\n",
    "cbar=plt.colorbar()"
   ]
  },
  {
   "cell_type": "code",
   "execution_count": null,
   "metadata": {},
   "outputs": [],
   "source": [
    "ax = plt.axes(projection=ccrs.PlateCarree())\n",
    "plt.contourf(td['lon'], td['lat'], td['p'], levels=np.arange(0,10,1), transform=ccrs.PlateCarree(), cmap='Pastel1')\n",
    "plt.contourf(lon1, lat1, labels, levels=np.arange(10,20,1), transform=ccrs.PlateCarree())\n",
    "#plt.contour(td['lon'], td['lat'], td['p'], levels=np.arange(0,10,1), transform=ccrs.PlateCarree())\n",
    "ax.coastlines()\n",
    "cbar=plt.colorbar()"
   ]
  },
  {
   "cell_type": "code",
   "execution_count": null,
   "metadata": {},
   "outputs": [],
   "source": [
    "inds=np.where(labels==17)\n",
    "print(len(inds[0]))\n",
    "# cut a box for every single blob from msg - get min max lat lon of the blob\n",
    "latmax, latmin = lat1[inds].max() , lat1[inds].min()\n",
    "lonmax, lonmin = lon1[inds].max() , lon1[inds].min()\n",
    "td = t.getDData(date.year, date.month, date.day, date.hour, date.minute, cut=[latmin-0.3, latmax+0.3])\n",
    "\n",
    "dt0=dm[ind] \n",
    "ndate = date + dt.timedelta(minutes=int(dt0) )                \n",
    "print('Date1', ndate)                              \n",
    "ml0=m.getData(y=ndate.year, m=ndate.month, d=ndate.day, h=ndate.hour, mi=ndate.minute, llbox=[lonmin-0.5, lonmax+0.5, latmin-0.5, latmax+0.5]) "
   ]
  },
  {
   "cell_type": "code",
   "execution_count": null,
   "metadata": {},
   "outputs": [],
   "source": [
    "x, y = pyproj.transform(salem.wgs84, proj, ml0['lon'], ml0['lat'])\n",
    "xmax, xmin = np.max(x), np.min(x)\n",
    "ymax, ymin = np.max(y), np.min(y)\n",
    "dx = 5000\n",
    "nx, r = divmod(xmax - xmin, dx)\n",
    "ny, r = divmod(ymax - ymin, dx)\n",
    "grid = salem.Grid(nxny=(nx, ny), dxdy=(dx, dx), ll_corner=(xmin, ymin), proj=proj)            \n",
    "xi, yi = grid.ij_coordinates\n",
    "lon, lat = grid.ll_coordinates\n",
    "xm, ym = grid.transform( ml0['lon'].flatten(), ml0['lat'].flatten(), crs=salem.wgs84)\n",
    "xt, yt = grid.transform(td['lon'].flatten(), td['lat'].flatten(), crs=salem.wgs84)\n",
    "mpoints = np.array((ym, xm)).T\n",
    "tpoints = np.array((yt, xt)).T\n",
    "inter = np.array((np.ravel(yi), np.ravel(xi))).T\n",
    " \n",
    "outm = griddata(mpoints, ml0['t'].flatten(), inter, method='linear')\n",
    "outm = outm.reshape((grid.ny, grid.nx))\n",
    "outt = griddata(tpoints, td['p'].flatten(), inter, method='linear')\n",
    "outt = outt.reshape((grid.ny, grid.nx)) "
   ]
  },
  {
   "cell_type": "code",
   "execution_count": null,
   "metadata": {},
   "outputs": [],
   "source": [
    "ax = plt.axes(projection=ccrs.PlateCarree())\n",
    "plt.contourf(lon, lat, outt, levels=np.arange(0,10,1), transform=ccrs.PlateCarree(), cmap='Pastel1')\n",
    "plt.contourf(lon, lat, outm, levels=np.arange(-70,0,1), transform=ccrs.PlateCarree())\n",
    "#plt.contour(td['lon'], td['lat'], td['p'], levels=np.arange(0,10,1), transform=ccrs.PlateCarree())\n",
    "ax.coastlines()\n",
    "cbar=plt.colorbar()"
   ]
  },
  {
   "cell_type": "code",
   "execution_count": null,
   "metadata": {},
   "outputs": [],
   "source": [
    "# cleo map\n",
    "cm = cleo.Map(grid)\n",
    "cm.set_cmap(plt.cm.RdYlBu_r)\n",
    "cm.set_nlevels(256)\n",
    "cm.set_data(outm)\n",
    "cm.visualize()"
   ]
  },
  {
   "cell_type": "code",
   "execution_count": null,
   "metadata": {},
   "outputs": [],
   "source": [
    "outl = np.full_like(outm, -150)\n",
    "\n",
    "xl, yl = grid.transform(lon1[inds], lat1[inds], crs=salem.wgs84, nearest=True, maskout=True)"
   ]
  },
  {
   "cell_type": "code",
   "execution_count": null,
   "metadata": {},
   "outputs": [],
   "source": [
    "outl[yl.compressed(), xl.compressed()]=outm[yl.compressed(), xl.compressed()]"
   ]
  },
  {
   "cell_type": "code",
   "execution_count": null,
   "metadata": {},
   "outputs": [],
   "source": [
    "# zero lag\n",
    "outt=outt[1:-1, 4:-4]\n",
    "outl=outl[1:-1, 4:-4]\n",
    "llon = lon[1:-1, 4:-4]\n",
    "llat = lat[1:-1, 4:-4]\n",
    "tmask=np.isnan(outt)\n",
    "outt[np.isnan(outt)]=-10**-5\n",
    "outl[np.isnan(outl)]=-150  \n",
    "\n"
   ]
  },
  {
   "cell_type": "code",
   "execution_count": null,
   "metadata": {},
   "outputs": [],
   "source": [
    "ax = plt.axes(projection=ccrs.PlateCarree())\n",
    "plt.contourf(llon, llat, outt,levels=np.arange(-10**-5,25,1), transform=ccrs.PlateCarree())\n",
    "cbar=plt.colorbar()\n",
    "cbar.set_label('mm h-1', rotation=270, labelpad=+11)\n",
    "plt.contourf(llon, llat ,outl,levels=np.arange(-80,-40,1), transform=ccrs.PlateCarree(), cmap='jet')\n",
    "cbar=plt.colorbar()\n",
    "cbar.set_label('degC', rotation=270, labelpad=+11)\n",
    "plt.contour(llon, llat, outt,levels=np.arange(5,25,1), transform=ccrs.PlateCarree())\n",
    "\n",
    "\n",
    "#plt.contour(llon, llat, outt,levels=np.arange(100,110,1), transform=ccrs.PlateCarree())\n",
    "#plt.title('Precip on T original')\n",
    "#plt.savefig('/users/global/cornkle/grpm/TP_original2.png', dpi=300)\n",
    "#ax.coastlines()"
   ]
  },
  {
   "cell_type": "code",
   "execution_count": null,
   "metadata": {},
   "outputs": [],
   "source": [
    "grad=np.gradient(outl)\n",
    "plt.pcolormesh(grad[1])\n",
    "plt.colorbar()\n",
    "plt.title('Identify edges - gradient > 50C ')\n",
    "nok = np.where(abs(grad[1]) > 40)\n",
    "mmeans=np.percentile(d1[inds], 90)\n",
    "#plt.savefig('/users/global/cornkle/grpm/gradient.png', dpi=300)\n",
    "print(mmeans)"
   ]
  },
  {
   "cell_type": "code",
   "execution_count": null,
   "metadata": {},
   "outputs": [],
   "source": [
    "o=outl.copy()\n",
    "o2=outl.copy()\n",
    "o[o<-100]=mmeans\n",
    "o2[o2<-100]=mmeans\n",
    "d=2\n",
    "i=nok[0]\n",
    "j=nok[1]"
   ]
  },
  {
   "cell_type": "code",
   "execution_count": null,
   "metadata": {},
   "outputs": [],
   "source": [
    "for ii,jj in zip(i,j):\n",
    "    \n",
    "    kernel=o2[ii-d:ii+d+1, jj-d:jj+d+1]\n",
    "    if not kernel.any():\n",
    "        o2[ii,jj]=mmeans\n",
    "    else:    \n",
    "        o2[ii-d:ii+d+1, jj-d:jj+d+1]=ndimage.gaussian_filter(kernel, 3)"
   ]
  },
  {
   "cell_type": "code",
   "execution_count": null,
   "metadata": {},
   "outputs": [],
   "source": [
    "plt.pcolormesh(o2)\n",
    "plt.colorbar()\n",
    "plt.title('Smooth edges')\n",
    "#plt.savefig('/users/global/cornkle/grpm/smooth.png', dpi=300)\n",
    "print(mmeans)"
   ]
  },
  {
   "cell_type": "code",
   "execution_count": null,
   "metadata": {},
   "outputs": [],
   "source": [
    "pos=10\n",
    "dic = util.waveletTP(o2, outt, 5)\n",
    "print(dic['scales'][pos])\n",
    "tt=dic['t'][pos,:,:]\n",
    "pp=dic['p'][pos,:, :]\n",
    "tt[tmask]=0\n",
    "plt.pcolormesh(tt)\n",
    "tt[0:100]"
   ]
  },
  {
   "cell_type": "code",
   "execution_count": null,
   "metadata": {},
   "outputs": [],
   "source": [
    "plt.pcolormesh(pp)"
   ]
  },
  {
   "cell_type": "code",
   "execution_count": null,
   "metadata": {},
   "outputs": [],
   "source": [
    "ax = plt.axes(projection=ccrs.PlateCarree())\n",
    "plt.contourf(llon, llat ,outl,levels=np.arange(-80,-40,1), transform=ccrs.PlateCarree(), cmap='jet')\n",
    "cbar=plt.colorbar()\n",
    "cbar.set_label('degC', rotation=270, labelpad=+11)\n",
    "plt.contourf(llon, llat ,tt,levels=np.arange(1,100,5), transform=ccrs.PlateCarree(), cmap='jet')\n",
    "cbar=plt.colorbar()\n",
    "cbar.set_label('Power', rotation=270, labelpad=+11)\n",
    "ax.coastlines()\n",
    "plt.title('27km T smoothed')\n",
    "#plt.savefig('/users/global/cornkle/grpm/smoothed_ex2.png', dpi=300)\n",
    "print(llon.shape)"
   ]
  },
  {
   "cell_type": "code",
   "execution_count": null,
   "metadata": {},
   "outputs": [],
   "source": [
    "ax = plt.axes(projection=ccrs.PlateCarree())\n",
    "#plt.contourf(llon, llat ,outt,levels=np.arange(0,10,1), transform=ccrs.PlateCarree(), cmap='Set1')\n",
    "#cbar=plt.colorbar()\n",
    "#cbar.set_label('mm h-1', rotation=270, labelpad=+11)\n",
    "plt.contourf(llon, llat, tt,levels=np.arange(1,50,1), transform=ccrs.PlateCarree(), cmap='jet')\n",
    "#cbar=plt.colorbar()\n",
    "#cbar.set_label('Power', rotation=270, labelpad=+11)\n",
    "plt.contour(llon, llat, pp,levels=np.arange(1,10,1), transform=ccrs.PlateCarree(), cmap='jet')\n",
    "plt.title('Precip power 27km')\n",
    "#plt.savefig('/users/global/cornkle/grpm/P_power27km.png', dpi=300)\n",
    "ax.coastlines()"
   ]
  },
  {
   "cell_type": "code",
   "execution_count": null,
   "metadata": {},
   "outputs": [],
   "source": [
    "pp.shape"
   ]
  },
  {
   "cell_type": "code",
   "execution_count": null,
   "metadata": {},
   "outputs": [],
   "source": [
    "thing=match_template(tt, pp[5:-5, 5:-5])\n",
    "print(max(thing.flatten()))\n",
    "y,x = np.unravel_index(np.argmax(thing), thing.shape)"
   ]
  },
  {
   "cell_type": "code",
   "execution_count": null,
   "metadata": {},
   "outputs": [],
   "source": [
    "plt.pcolormesh(thing)\n",
    "plt.colorbar()\n",
    "plt.plot(5,5, 'bo')"
   ]
  },
  {
   "cell_type": "code",
   "execution_count": null,
   "metadata": {
    "collapsed": true
   },
   "outputs": [],
   "source": []
  }
 ],
 "metadata": {
  "kernelspec": {
   "display_name": "Python 3",
   "language": "python",
   "name": "python3"
  },
  "language_info": {
   "codemirror_mode": {
    "name": "ipython",
    "version": 3
   },
   "file_extension": ".py",
   "mimetype": "text/x-python",
   "name": "python",
   "nbconvert_exporter": "python",
   "pygments_lexer": "ipython3",
   "version": "3.5.5"
  }
 },
 "nbformat": 4,
 "nbformat_minor": 1
}
