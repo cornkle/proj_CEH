{
 "cells": [
  {
   "cell_type": "code",
   "execution_count": 16,
   "metadata": {},
   "outputs": [],
   "source": [
    "import ipdb\n",
    "import numpy as np\n",
    "import xarray as xr\n",
    "import matplotlib.pyplot as plt\n",
    "import pandas as pd\n",
    "import matplotlib.pylab as pylab\n",
    "import cartopy\n",
    "import cartopy.crs as ccrs\n",
    "\n",
    "pylab.rcParams['figure.figsize'] = (50., 50.)\n",
    "%matplotlib inline"
   ]
  },
  {
   "cell_type": "code",
   "execution_count": 2,
   "metadata": {},
   "outputs": [],
   "source": [
    "scale_file =  '/home/ck/DIR/cornkle/MCSfiles/blob_map_allscales_-50_JJAS_points_dominant.nc'\n",
    "tir_file = '/home/ck/DIR/cornkle/MCSfiles/blob_map_MCSs_-40-75000_JJAS_-50-points_dominant.nc'"
   ]
  },
  {
   "cell_type": "code",
   "execution_count": 3,
   "metadata": {},
   "outputs": [],
   "source": [
    "scale_ds = xr.open_dataarray(scale_file)\n",
    "tir_ds = xr.open_dataarray(tir_file)\n",
    "\n",
    "pick_time = pd.to_datetime('2006-08-07_18', format='%Y-%m-%d_%H')"
   ]
  },
  {
   "cell_type": "code",
   "execution_count": 7,
   "metadata": {},
   "outputs": [],
   "source": [
    "scale_pick = scale_ds.sel(time=pick_time, method='nearest')\n",
    "tir_pick = tir_ds.sel(time=scale_pick.time)"
   ]
  },
  {
   "cell_type": "code",
   "execution_count": 11,
   "metadata": {},
   "outputs": [],
   "source": [
    "\"\"\"\n",
    "Find all indices within the local circle of radius\n",
    "Input:\n",
    "x: x index of center point\n",
    "y: y index of center point\n",
    "radius: radius in pixels, floats are handled including the farthest point\n",
    "Returns a tuple of (y index, x index)\n",
    "\"\"\"\n",
    "def draw_circle(x, y, radius):\n",
    "\n",
    "    xloc1 = np.arange(x - radius, x + radius + 1)\n",
    "    yloc1 = np.arange(y - radius, y + radius + 1)\n",
    "    xloc, yloc = np.meshgrid(xloc1, yloc1)\n",
    "    distloc = ( ((xloc - x) * (xloc - x)) + ((yloc - y) * (yloc - y)) )**.5\n",
    "\n",
    "    indloc = (distloc <= radius).nonzero()\n",
    "    ycirc = indloc[0] - radius + y\n",
    "    xcirc = indloc[1] - radius + x\n",
    "\n",
    "    return (ycirc, xcirc)"
   ]
  },
  {
   "cell_type": "code",
   "execution_count": 19,
   "metadata": {},
   "outputs": [
    {
     "data": {
      "text/plain": [
       "<matplotlib.colorbar.Colorbar at 0x7f6818807390>"
      ]
     },
     "execution_count": 19,
     "metadata": {},
     "output_type": "execute_result"
    },
    {
     "data": {
      "image/png": "[encoded data removed]",
      "text/plain": [
       "<Figure size 432x288 with 2 Axes>"
      ]
     },
     "metadata": {
      "needs_background": "light"
     },
     "output_type": "display_data"
    }
   ],
   "source": [
    "f=plt.figure()\n",
    "ax = f.add_subplot(111, projection=ccrs.PlateCarree())\n",
    "plt.contourf(scale_pick.lon, scale_pick.lat, scale_pick, transform=ccrs.PlateCarree())\n",
    "ax.coastlines()\n",
    "# Gridlines\n",
    "xl = ax.gridlines(draw_labels=True);\n",
    "xl.xlabels_top = False\n",
    "xl.ylabels_right = False\n",
    "# Countries\n",
    "ax.add_feature(cartopy.feature.BORDERS, linestyle='--');\n",
    "plt.colorbar()"
   ]
  },
  {
   "cell_type": "code",
   "execution_count": null,
   "metadata": {},
   "outputs": [],
   "source": [
    "for pix in scale_pick:\n",
    "    if pix == 0: continue\n",
    "    \n"
   ]
  }
 ],
 "metadata": {
  "kernelspec": {
   "display_name": "Python 3",
   "language": "python",
   "name": "python3"
  },
  "language_info": {
   "codemirror_mode": {
    "name": "ipython",
    "version": 3
   },
   "file_extension": ".py",
   "mimetype": "text/x-python",
   "name": "python",
   "nbconvert_exporter": "python",
   "pygments_lexer": "ipython3",
   "version": "3.5.5"
  }
 },
 "nbformat": 4,
 "nbformat_minor": 2
}
