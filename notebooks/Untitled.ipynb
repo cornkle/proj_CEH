{
 "cells": [
  {
   "cell_type": "code",
   "execution_count": 2,
   "metadata": {},
   "outputs": [],
   "source": [
    "import numpy as np\n",
    "import matplotlib.pyplot as plt\n",
    "import cartopy.crs as ccrs\n",
    "import cartopy.feature as cfeature\n",
    "import cartopy\n",
    "import matplotlib.pylab as pylab\n",
    "import cartopy.feature as cfeature\n",
    "import scipy.stats as stats\n",
    "import xarray as xr\n",
    "import ipdb\n",
    "import os\n",
    "import glob\n",
    "import itertools\n",
    "import ipdb\n",
    "import numpy.ma as ma\n",
    "from utils import u_statistics as u_stat\n",
    "from scipy.stats import gaussian_kde\n",
    "from collections import OrderedDict\n",
    "import pickle as pkl\n",
    "from utils import u_plot as uplot, u_darrays as ua, u_met, u_interpolate as u_int, u_lists\n",
    "import pandas as pd\n",
    "from metpy.calc import kinematics\n",
    "\n",
    "##for regridding, install xesmf:\n",
    "# conda install esmpy\n",
    "# pip install xesmf\n",
    "from utils import constants as cnst\n",
    "\n",
    "pylab.rcParams['figure.figsize'] = (50., 50.)\n",
    "%matplotlib inline"
   ]
  },
  {
   "cell_type": "code",
   "execution_count": 1,
   "metadata": {},
   "outputs": [
    {
     "name": "stdout",
     "output_type": "stream",
     "text": [
      "/home/ck/pythonWorkspace/proj_CEH\n"
     ]
    }
   ],
   "source": [
    "cd .."
   ]
  },
  {
   "cell_type": "code",
   "execution_count": 11,
   "metadata": {},
   "outputs": [],
   "source": [
    "def get_CP4(cp_dir, out_dir, ancils_dir, vars, datestring, box,inter):\n",
    "    \n",
    "\n",
    "    #create empty dataset\n",
    "    ds = xr.Dataset()\n",
    "    # create empty\n",
    "    \n",
    "    keys = vars.keys()\n",
    "\n",
    "    #loop through every var\n",
    "    for v in keys:\n",
    "\n",
    "        h = (vars[v])[1]\n",
    "        pl = (vars[v])[0]\n",
    "        derived = False\n",
    "        if (v == 'shear') | (v == 'u_mid') | (v == 'u_srfc'):\n",
    "            derived = v\n",
    "            v = 'u_pl'\n",
    "\n",
    "        filepath = cp_dir+os.sep+str(v)+os.sep+'*'+str(d['time.year'].values)+str(d['time.month'].values).zfill(2)+'*.nc'\n",
    "\n",
    "        arr = xr.open_mfdataset(filepath, autoclose=True)\n",
    "\n",
    "        dar = arr[v].sel(longitude=slice(box[0],box[1]), latitude=slice(box[2],box[3]))\n",
    "        pdt = pd.to_datetime(datestring.values)\n",
    "        pdt = pdt.replace(hour=h)\n",
    "        dar = dar.sel(time=pdt, method='nearest')\n",
    "\n",
    "        if int(dar['time.hour'])!=h:\n",
    "            print('Wrong hour')\n",
    "            return\n",
    "\n",
    "        if 'pressure' in dar.coords:\n",
    "            dar.values[dar.values==0] = np.nan # potential missing value maskout\n",
    "            if len(pl) > 1:\n",
    "                shear = dar.sel(pressure=pl[0]).values - dar.sel(pressure=pl[1]).values\n",
    "                dar = dar.sum(dim='pressure').squeeze()\n",
    "                dar.values = shear\n",
    "                if derived:\n",
    "                    v = derived\n",
    "\n",
    "            else:\n",
    "                dar = dar.sel(pressure=pl[0]).squeeze()\n",
    "            if derived:\n",
    "                v = derived\n",
    "\n",
    "        # regrid to common grid (unstagger wind, bring to landsea mask grid)\n",
    "        regrid = u_int.interpolate_data(dar.values, inter[0], inter[1], inter[2])\n",
    "        #regrid = griddata_lin(dar.values, dar.longitude, dar.latitude, ls_arr.rlon, ls_arr.rlat)\n",
    "        da = xr.DataArray(regrid,\n",
    "                          coords={'time': dar.time, 'latitude': ls_arr.rlat.values,\n",
    "                                  'longitude': ls_arr.rlon.values, },\n",
    "                          dims=['latitude', 'longitude'])\n",
    "\n",
    "\n",
    "        da.attrs = dar.attrs\n",
    "        da.values[pos[0], pos[1]] = np.nan  # mask sea\n",
    "        \n",
    "        if (v == 'lsRain') | (v == 'totRain'):\n",
    "            da.values = da.values*3600  # rain to mm/h\n",
    "            da.attrs['units'] = 'mm h-1'\n",
    "\n",
    "        ds[v] = da\n",
    "        \n",
    "    return ds\n",
    "\n",
    "        #print('Saved ', v)\n",
    "\n",
    "\n",
    "### Inputs CP25\n",
    "\n",
    "data_path = cnst.network_data + 'data/CP4/CLOVER/CP4hist'  # CP4 data directory\n",
    "ancils_path = cnst.network_data + 'data/CP4/ANCILS' # directory with seamask file inside\n",
    "out_path = cnst.CLOVER_SAVES  # out directory to save MCS files\n",
    "\n",
    "years = np.array(np.arange(1998,2007), dtype=str)\n",
    "months = np.array([ '03', '04', '05', '09', '10', '11'])\n",
    "days = np.array(np.arange(1,32), dtype=str)\n",
    "\n",
    "box = [-15,15,3,16]\n",
    "\n",
    "#load seamask\n",
    "landsea_path = glob.glob(ancils_path+os.sep+'landseamask*.nc')[0]\n",
    "landsea = xr.open_dataset(landsea_path, decode_times=False)\n",
    "ls = landsea['lsm']\n",
    "\n",
    "ls.rlon.values = ls.rlon.values-360\n",
    "ls_arr = ls.sel(rlon=slice(box[0], box[1]), rlat=slice(box[2], box[3]))\n",
    "pos = np.where(ls_arr[0, 0, :, :] == 0)\n",
    "\n",
    "new_lons, new_lats = np.meshgrid(ls_arr.rlon.values, ls_arr.rlat.values)\n",
    "\n",
    "\n",
    "\n",
    "#vars = u_lists.dir_names(data_path, dir_only=True)\n",
    "vars = OrderedDict()   # dictionary which contains info on pressure level and hour extraction for wanted variables\n",
    "vars['lw_out_PBLtop'] = ([], 18)\n",
    "vars['lsRain'] =  ([], 18)   # pressure levels, hour # totRain for CP25, lsRain for CP\n",
    "vars['shear'] = ([650, 925], 12) # should use 925 later\n",
    "vars['u_mid'] = ([650], 12)\n",
    "vars['u_srfc'] = ([925], 12)\n",
    "vars['q_pl'] = ([925], 12)  # 925, 650 available\n",
    "\n",
    "ds= xr.open_mfdataset(data_path+os.sep+'lw_out_PBLtop'+os.sep+'*200508*.nc', autoclose=True)\n",
    "ds = ds.sel(longitude=slice(box[0], box[1]), latitude=slice(box[2], box[3]))\n",
    "ds = ds['lw_out_PBLtop'][ds['time.hour']==18]\n",
    "time = ds.time\n",
    "\n",
    "lons, lats = np.meshgrid(ds.longitude.values, ds.latitude.values)\n",
    "inds, weights, shape = u_int.interpolation_weights(lons, lats, new_lons, new_lats)\n",
    "\n",
    "\n",
    "ds_out = None\n",
    "\n",
    "for d in time:\n",
    "    out_ds = get_CP4(data_path, out_path, ancils_path, vars, d, box, (inds,weights,shape))\n",
    "\n",
    "    if ds_out is None:\n",
    "        ds_out = out_ds\n",
    "    else:\n",
    "    \n",
    "        ds_out = xr.concat([ds_out, out_ds], dim='time')"
   ]
  },
  {
   "cell_type": "code",
   "execution_count": 16,
   "metadata": {},
   "outputs": [
    {
     "data": {
      "text/plain": [
       "<matplotlib.contour.QuadContourSet at 0x7faa58076f98>"
      ]
     },
     "execution_count": 16,
     "metadata": {},
     "output_type": "execute_result"
    },
    {
     "data": {
      "image/png": "[encoded data removed]",
      "text/plain": [
       "<Figure size 432x288 with 2 Axes>"
      ]
     },
     "metadata": {
      "needs_background": "light"
     },
     "output_type": "display_data"
    }
   ],
   "source": [
    "ds_out['lsRain'][15,:,:].plot.contourf()"
   ]
  },
  {
   "cell_type": "code",
   "execution_count": 6,
   "metadata": {},
   "outputs": [],
   "source": [
    "data_path = cnst.network_data + 'data/CP4/CLOVER/CP4hist'"
   ]
  },
  {
   "cell_type": "code",
   "execution_count": 12,
   "metadata": {},
   "outputs": [
    {
     "data": {
      "text/plain": [
       "(321, 741)"
      ]
     },
     "execution_count": 12,
     "metadata": {},
     "output_type": "execute_result"
    }
   ],
   "source": [
    "ds_out['lw_out_PBLtop'].shape"
   ]
  },
  {
   "cell_type": "code",
   "execution_count": 22,
   "metadata": {},
   "outputs": [],
   "source": [
    "def dir_names(data_path):\n",
    "    dir_basename = []\n",
    "    for d in glob.glob(data_path + '/*'):\n",
    "        dir_basename.append(os.path.basename(d))\n",
    "    return dir_basename"
   ]
  },
  {
   "cell_type": "code",
   "execution_count": 23,
   "metadata": {},
   "outputs": [],
   "source": [
    "dirs = dir_names(data_path)"
   ]
  },
  {
   "cell_type": "code",
   "execution_count": 25,
   "metadata": {},
   "outputs": [
    {
     "data": {
      "text/plain": [
       "['lsRain', 'q_pl', 'u_pl', 'v_pl', 'lw_out_PBLtop', 't_pl', 't2', 'omega_pl']"
      ]
     },
     "execution_count": 25,
     "metadata": {},
     "output_type": "execute_result"
    }
   ],
   "source": [
    "dirs"
   ]
  },
  {
   "cell_type": "code",
   "execution_count": null,
   "metadata": {},
   "outputs": [],
   "source": []
  }
 ],
 "metadata": {
  "kernelspec": {
   "display_name": "Python 3",
   "language": "python",
   "name": "python3"
  },
  "language_info": {
   "codemirror_mode": {
    "name": "ipython",
    "version": 3
   },
   "file_extension": ".py",
   "mimetype": "text/x-python",
   "name": "python",
   "nbconvert_exporter": "python",
   "pygments_lexer": "ipython3",
   "version": "3.5.5"
  }
 },
 "nbformat": 4,
 "nbformat_minor": 2
}
