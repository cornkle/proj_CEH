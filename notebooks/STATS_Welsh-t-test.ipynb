{
 "cells": [
  {
   "cell_type": "code",
   "execution_count": 1,
   "metadata": {
    "collapsed": true
   },
   "outputs": [],
   "source": [
    "import numpy as np\n",
    "import matplotlib.pyplot as plt\n",
    "import scipy.stats as stats\n",
    "%matplotlib inline"
   ]
  },
  {
   "cell_type": "code",
   "execution_count": 39,
   "metadata": {
    "collapsed": true
   },
   "outputs": [],
   "source": [
    "def welch_t_test(mu1, s1, N1, mu2, s2, N2):\n",
    "    \"\"\"http://en.wikipedia.org/wiki/Welch%27s_t_test\"\"\"\n",
    "    \n",
    "    mu1 = np.asarray(mu1)\n",
    "    mu2 = np.asarray(mu2)\n",
    "    s1 = np.asarray(s1)\n",
    "    s2 = np.asarray(s2)\n",
    "    \n",
    "    if not np.allclose(mu1.shape, mu2.shape):\n",
    "        raise ValueError('mu1 and mu2 should have the same shape')\n",
    "    \n",
    "    if not np.allclose(s1.shape, s2.shape):\n",
    "        raise ValueError('s2 and s2 should have the same shape')\n",
    "    \n",
    "    if not mu1.shape:\n",
    "        # Construct arrays to make calculations more succint.\n",
    "        N_i = np.array([N1, N2])\n",
    "        dof_i = N_i - 1\n",
    "        v_i = np.array([s1, s2]) ** 2\n",
    "        # Calculate t-stat, degrees of freedom, use scipy to find p-value.\n",
    "        t = (mu1 - mu2) / np.sqrt(np.sum(v_i / N_i))\n",
    "        dof = (np.sum(v_i / N_i) ** 2) / np.sum((v_i ** 2) / ((N_i ** 2) * dof_i))\n",
    "        p = stats.distributions.t.sf(np.abs(t), dof) * 2\n",
    "        return t, p\n",
    "    else:\n",
    "        ps = []\n",
    "        ts = []\n",
    "        for _mu1, _mu2, _s1, _s2 in zip(mu1.flatten(), mu2.flatten(), s1.flatten(), s2.flatten()):\n",
    "            t, p = welch_t_test(_mu1, _mu2, N1, _s1, _s2, N2)  \n",
    "            ps.append(p)\n",
    "            ts.append(t)\n",
    "        return np.asarray(ts).reshape(mu1.shape), np.asarray(ps).reshape(mu1.shape)"
   ]
  },
  {
   "cell_type": "code",
   "execution_count": 23,
   "metadata": {
    "collapsed": true
   },
   "outputs": [],
   "source": [
    "p1 = np.random.randn(1000)\n",
    "p2 = np.random.randn(1000) + 5"
   ]
  },
  {
   "cell_type": "code",
   "execution_count": 24,
   "metadata": {},
   "outputs": [
    {
     "data": {
      "image/png": "[encoded data removed]",
      "text/plain": [
       "<matplotlib.figure.Figure at 0x7fdd32c12160>"
      ]
     },
     "metadata": {},
     "output_type": "display_data"
    }
   ],
   "source": [
    "plt.hist(p1, bins=100)\n",
    "plt.hist(p2, bins=100);"
   ]
  },
  {
   "cell_type": "code",
   "execution_count": 25,
   "metadata": {},
   "outputs": [
    {
     "name": "stdout",
     "output_type": "stream",
     "text": [
      "0.0208513613781 0.993320553933 1000\n",
      "5.00720967245 1.00310824716 1000\n"
     ]
    }
   ],
   "source": [
    "mu1, s1, N1 = np.mean(p1), np.std(p1), len(p1)\n",
    "mu2, s2, N2 = np.mean(p2), np.std(p2), len(p2)\n",
    "\n",
    "print(mu1, s1, N1)\n",
    "print(mu2, s2, N2)"
   ]
  },
  {
   "cell_type": "code",
   "execution_count": 26,
   "metadata": {},
   "outputs": [
    {
     "data": {
      "text/plain": [
       "(-111.69646665206189, 0.0)"
      ]
     },
     "execution_count": 26,
     "metadata": {},
     "output_type": "execute_result"
    }
   ],
   "source": [
    "welch_t_test(mu1, s1, N1, mu2, s2, N2)"
   ]
  },
  {
   "cell_type": "code",
   "execution_count": 33,
   "metadata": {},
   "outputs": [],
   "source": [
    "t, p = welch_t_test([[mu1, mu1], [mu1, mu1]], [[s1, s1], [s1, s1]], N1, \n",
    "                    [[mu2, mu2], [mu2, mu2]], [[s2, s2], [s2, s2]], N2)"
   ]
  },
  {
   "cell_type": "code",
   "execution_count": 34,
   "metadata": {},
   "outputs": [
    {
     "data": {
      "text/plain": [
       "array([[  2.36013383e-09,   2.36013383e-09],\n",
       "       [  2.36013383e-09,   2.36013383e-09]])"
      ]
     },
     "execution_count": 34,
     "metadata": {},
     "output_type": "execute_result"
    }
   ],
   "source": [
    "t, p =  welch_t_test(mu1, s1, N1, mu2, s2, N2):"
   ]
  },
  {
   "cell_type": "code",
   "execution_count": 35,
   "metadata": {},
   "outputs": [
    {
     "data": {
      "text/plain": [
       "array([[-6.02192844, -6.02192844],\n",
       "       [-6.02192844, -6.02192844]])"
      ]
     },
     "execution_count": 35,
     "metadata": {},
     "output_type": "execute_result"
    }
   ],
   "source": [
    "p"
   ]
  },
  {
   "cell_type": "code",
   "execution_count": 13,
   "metadata": {},
   "outputs": [
    {
     "data": {
      "text/plain": [
       "Ttest_indResult(statistic=-110.71854942034835, pvalue=0.0)"
      ]
     },
     "execution_count": 13,
     "metadata": {},
     "output_type": "execute_result"
    }
   ],
   "source": [
    "df.array.values "
   ]
  },
  {
   "cell_type": "code",
   "execution_count": 14,
   "metadata": {},
   "outputs": [
    {
     "data": {
      "image/png": "[encoded data removed]",
      "text/plain": [
       "<matplotlib.figure.Figure at 0x7fdd34f91a90>"
      ]
     },
     "metadata": {},
     "output_type": "display_data"
    }
   ],
   "source": [
    "fakeps = np.clip(np.random.randn(200, 100) * 0.05 + 0.1, 0, 1)\n",
    "plt.hist(fakeps.flatten());"
   ]
  },
  {
   "cell_type": "code",
   "execution_count": 15,
   "metadata": {
    "collapsed": true
   },
   "outputs": [],
   "source": [
    "fakeps[2:29, 2:29] = 0.00000001"
   ]
  },
  {
   "cell_type": "code",
   "execution_count": 16,
   "metadata": {
    "collapsed": true
   },
   "outputs": [],
   "source": [
    "def fdr_threshold(pvalues, alpha=0.05):\n",
    "    \"\"\"Computes the FDR threshod after Wilks (2016).\"\"\"\n",
    "    p = np.sort(np.asarray(pvalues).flatten())\n",
    "    n = len(p)\n",
    "    return np.max(np.where(p <= (np.arange(1, n+1) / n * alpha), p, 0))"
   ]
  },
  {
   "cell_type": "code",
   "execution_count": 17,
   "metadata": {},
   "outputs": [
    {
     "data": {
      "text/plain": [
       "0.0030694727960693807"
      ]
     },
     "execution_count": 17,
     "metadata": {},
     "output_type": "execute_result"
    }
   ],
   "source": [
    "new_alpha = fdr_threshold(fakeps, alpha=0.05)\n",
    "new_alpha"
   ]
  },
  {
   "cell_type": "code",
   "execution_count": 18,
   "metadata": {},
   "outputs": [
    {
     "data": {
      "image/png": "[encoded data removed]",
      "text/plain": [
       "<matplotlib.figure.Figure at 0x7fdd32c64080>"
      ]
     },
     "metadata": {},
     "output_type": "display_data"
    }
   ],
   "source": [
    "# plot my anomaly with xarray\n",
    "plt.contourf(fakeps < new_alpha, hatches=['///'], colors='none', levels=[0.5, 1.5]);"
   ]
  },
  {
   "cell_type": "code",
   "execution_count": 19,
   "metadata": {},
   "outputs": [
    {
     "data": {
      "text/plain": [
       "array([[False, False,  True, ..., False, False, False],\n",
       "       [False, False, False, ..., False, False, False],\n",
       "       [False, False,  True, ..., False, False,  True],\n",
       "       ..., \n",
       "       [False, False, False, ..., False, False, False],\n",
       "       [False, False, False, ..., False, False, False],\n",
       "       [False, False, False, ..., False, False, False]], dtype=bool)"
      ]
     },
     "execution_count": 19,
     "metadata": {},
     "output_type": "execute_result"
    }
   ],
   "source": [
    "fakeps < new_alpha"
   ]
  },
  {
   "cell_type": "code",
   "execution_count": null,
   "metadata": {
    "collapsed": true
   },
   "outputs": [],
   "source": []
  }
 ],
 "metadata": {
  "kernelspec": {
   "display_name": "Python 3",
   "language": "python",
   "name": "python3"
  },
  "language_info": {
   "codemirror_mode": {
    "name": "ipython",
    "version": 3
   },
   "file_extension": ".py",
   "mimetype": "text/x-python",
   "name": "python",
   "nbconvert_exporter": "python",
   "pygments_lexer": "ipython3",
   "version": "3.7.6"
  }
 },
 "nbformat": 4,
 "nbformat_minor": 2
}
