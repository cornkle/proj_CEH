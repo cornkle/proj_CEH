{
 "cells": [
  {
   "cell_type": "code",
   "execution_count": 2,
   "metadata": {},
   "outputs": [],
   "source": [
    "import ipdb\n",
    "import numpy as np\n",
    "import xarray as xr\n",
    "import matplotlib.pyplot as plt\n",
    "import pandas as pd\n",
    "import matplotlib.pylab as pylab\n",
    "import cartopy\n",
    "from utils import constants as cnst\n",
    "from eod import msg\n",
    "from utils import u_grid, u_interpolate as u_int, constants as cnst, u_arrays, u_darrays, u_met, u_statistics, u_plot\n",
    "import pandas as pd\n",
    "import matplotlib.pyplot as plt\n",
    "import cartopy.crs as ccrs\n",
    "import cartopy.feature as feature\n",
    "import cartopy.io.shapereader as shapereader\n",
    "import pandas as pd\n",
    "import pickle as pkl\n",
    "from utils import constants as cnst\n",
    "\n",
    "\n",
    "coast = shapereader.natural_earth(resolution='110m',\n",
    "                                  category='physical',\n",
    "                                  name='coastline')\n",
    "\n",
    "countries = shapereader.natural_earth(resolution='110m',\n",
    "                                      category='cultural',\n",
    "                                      name='admin_0_countries')\n",
    "\n",
    "pylab.rcParams['figure.figsize'] = (50., 50.)\n",
    "%matplotlib inline"
   ]
  },
  {
   "cell_type": "code",
   "execution_count": 1,
   "metadata": {},
   "outputs": [
    {
     "name": "stdout",
     "output_type": "stream",
     "text": [
      "/home/ck/pythonWorkspace/proj_CEH\n"
     ]
    }
   ],
   "source": [
    "cd .."
   ]
  },
  {
   "cell_type": "code",
   "execution_count": null,
   "metadata": {},
   "outputs": [],
   "source": []
  },
  {
   "cell_type": "code",
   "execution_count": 13,
   "metadata": {},
   "outputs": [
    {
     "ename": "NameError",
     "evalue": "name 'cores_gt15000km2_table_AMSRE_LSTA_tracking_bigWin_2hOverlap' is not defined",
     "output_type": "error",
     "traceback": [
      "\u001b[0;31m---------------------------------------------------------------------------\u001b[0m",
      "\u001b[0;31mNameError\u001b[0m                                 Traceback (most recent call last)",
      "\u001b[0;32m<ipython-input-13-9e8293448c4b>\u001b[0m in \u001b[0;36m<module>\u001b[0;34m\u001b[0m\n\u001b[0;32m----> 1\u001b[0;31m \u001b[0mcores_gt15000km2_table_AMSRE_LSTA_tracking_bigWin_2hOverlap\u001b[0m\u001b[0;34m\u001b[0m\u001b[0;34m\u001b[0m\u001b[0m\n\u001b[0m",
      "\u001b[0;31mNameError\u001b[0m: name 'cores_gt15000km2_table_AMSRE_LSTA_tracking_bigWin_2hOverlap' is not defined"
     ]
    }
   ],
   "source": [
    "cores_gt15000km2_table_AMSRE_LSTA_tracking_bigWin_2hOverlap"
   ]
  },
  {
   "cell_type": "code",
   "execution_count": 14,
   "metadata": {},
   "outputs": [],
   "source": [
    "msg = pd.read_csv(cnst.network_data + 'figs/LSTA/corrected_LSTA/new/ERA5/core_txt/cores_gt15000km2_table_AMSRE_LSTA_tracking_2hOverlap_17.csv', na_values=-999)\n",
    "#msg = pd.read_csv(cnst.network_data + 'figs/LSTA/corrected_LSTA/new/ERA5/core_txt/cores_gt15000km2_table_AMSRE_LSTA_tracking_bigWin_2hOverlap_17.csv', na_values=-999)"
   ]
  },
  {
   "cell_type": "code",
   "execution_count": 17,
   "metadata": {},
   "outputs": [],
   "source": [
    "msg = msg[ (msg['dtime']<=2)  & (np.isfinite(msg['SMmean0'])) & (msg['LSTAslotfrac']>=0.05)] #  & (np.isfinite(msg['SMmean0'])) #msg['LSTAslotfrac']>=0.3) &\n",
    "\n",
    "msgin = msg[(msg['lat']>9.5) & (msg['lat']<19) & (msg['topo']<450)]"
   ]
  },
  {
   "cell_type": "code",
   "execution_count": null,
   "metadata": {},
   "outputs": [],
   "source": []
  },
  {
   "cell_type": "code",
   "execution_count": 18,
   "metadata": {},
   "outputs": [
    {
     "data": {
      "text/html": [
       "<div>\n",
       "<style scoped>\n",
       "    .dataframe tbody tr th:only-of-type {\n",
       "        vertical-align: middle;\n",
       "    }\n",
       "\n",
       "    .dataframe tbody tr th {\n",
       "        vertical-align: top;\n",
       "    }\n",
       "\n",
       "    .dataframe thead th {\n",
       "        text-align: right;\n",
       "    }\n",
       "</style>\n",
       "<table border=\"1\" class=\"dataframe\">\n",
       "  <thead>\n",
       "    <tr style=\"text-align: right;\">\n",
       "      <th></th>\n",
       "      <th>id</th>\n",
       "      <th>year</th>\n",
       "      <th>month</th>\n",
       "      <th>day</th>\n",
       "      <th>hour</th>\n",
       "      <th>lon</th>\n",
       "      <th>lat</th>\n",
       "      <th>xloc</th>\n",
       "      <th>yloc</th>\n",
       "      <th>area</th>\n",
       "      <th>...</th>\n",
       "      <th>topo</th>\n",
       "      <th>SMmean0</th>\n",
       "      <th>SMdry0</th>\n",
       "      <th>SMwet0</th>\n",
       "      <th>SMmean-1</th>\n",
       "      <th>SMdry-1</th>\n",
       "      <th>SMwet-1</th>\n",
       "      <th>LSTAmean</th>\n",
       "      <th>LSTAslotfrac</th>\n",
       "      <th>dtime</th>\n",
       "    </tr>\n",
       "  </thead>\n",
       "  <tbody>\n",
       "    <tr>\n",
       "      <th>53</th>\n",
       "      <td>53</td>\n",
       "      <td>2006</td>\n",
       "      <td>6</td>\n",
       "      <td>2</td>\n",
       "      <td>17</td>\n",
       "      <td>0.150888</td>\n",
       "      <td>10.278089</td>\n",
       "      <td>612</td>\n",
       "      <td>232</td>\n",
       "      <td>15000</td>\n",
       "      <td>...</td>\n",
       "      <td>154.50</td>\n",
       "      <td>-1.514151</td>\n",
       "      <td>1.0</td>\n",
       "      <td>0.0</td>\n",
       "      <td>-4.590760</td>\n",
       "      <td>1.0</td>\n",
       "      <td>0.0</td>\n",
       "      <td>3.725500</td>\n",
       "      <td>0.950649</td>\n",
       "      <td>1.0</td>\n",
       "    </tr>\n",
       "    <tr>\n",
       "      <th>183</th>\n",
       "      <td>183</td>\n",
       "      <td>2006</td>\n",
       "      <td>6</td>\n",
       "      <td>7</td>\n",
       "      <td>17</td>\n",
       "      <td>-4.250857</td>\n",
       "      <td>11.653897</td>\n",
       "      <td>453</td>\n",
       "      <td>281</td>\n",
       "      <td>205650</td>\n",
       "      <td>...</td>\n",
       "      <td>326.50</td>\n",
       "      <td>-9.787069</td>\n",
       "      <td>1.0</td>\n",
       "      <td>0.0</td>\n",
       "      <td>1.163167</td>\n",
       "      <td>0.0</td>\n",
       "      <td>1.0</td>\n",
       "      <td>-0.186907</td>\n",
       "      <td>1.000000</td>\n",
       "      <td>2.0</td>\n",
       "    </tr>\n",
       "    <tr>\n",
       "      <th>186</th>\n",
       "      <td>186</td>\n",
       "      <td>2006</td>\n",
       "      <td>6</td>\n",
       "      <td>7</td>\n",
       "      <td>17</td>\n",
       "      <td>-5.104256</td>\n",
       "      <td>11.919413</td>\n",
       "      <td>423</td>\n",
       "      <td>290</td>\n",
       "      <td>205650</td>\n",
       "      <td>...</td>\n",
       "      <td>343.00</td>\n",
       "      <td>-6.332150</td>\n",
       "      <td>1.0</td>\n",
       "      <td>0.0</td>\n",
       "      <td>1.495200</td>\n",
       "      <td>0.0</td>\n",
       "      <td>1.0</td>\n",
       "      <td>0.523872</td>\n",
       "      <td>1.000000</td>\n",
       "      <td>1.0</td>\n",
       "    </tr>\n",
       "    <tr>\n",
       "      <th>187</th>\n",
       "      <td>187</td>\n",
       "      <td>2006</td>\n",
       "      <td>6</td>\n",
       "      <td>7</td>\n",
       "      <td>17</td>\n",
       "      <td>-5.463582</td>\n",
       "      <td>11.963640</td>\n",
       "      <td>410</td>\n",
       "      <td>291</td>\n",
       "      <td>205650</td>\n",
       "      <td>...</td>\n",
       "      <td>304.00</td>\n",
       "      <td>-4.803972</td>\n",
       "      <td>1.0</td>\n",
       "      <td>0.0</td>\n",
       "      <td>1.092783</td>\n",
       "      <td>0.0</td>\n",
       "      <td>1.0</td>\n",
       "      <td>0.781796</td>\n",
       "      <td>1.000000</td>\n",
       "      <td>0.0</td>\n",
       "    </tr>\n",
       "    <tr>\n",
       "      <th>191</th>\n",
       "      <td>191</td>\n",
       "      <td>2006</td>\n",
       "      <td>6</td>\n",
       "      <td>7</td>\n",
       "      <td>17</td>\n",
       "      <td>-3.846615</td>\n",
       "      <td>12.273024</td>\n",
       "      <td>468</td>\n",
       "      <td>303</td>\n",
       "      <td>205650</td>\n",
       "      <td>...</td>\n",
       "      <td>281.75</td>\n",
       "      <td>-6.939937</td>\n",
       "      <td>1.0</td>\n",
       "      <td>0.0</td>\n",
       "      <td>0.639680</td>\n",
       "      <td>0.0</td>\n",
       "      <td>1.0</td>\n",
       "      <td>0.227236</td>\n",
       "      <td>1.000000</td>\n",
       "      <td>2.0</td>\n",
       "    </tr>\n",
       "    <tr>\n",
       "      <th>...</th>\n",
       "      <td>...</td>\n",
       "      <td>...</td>\n",
       "      <td>...</td>\n",
       "      <td>...</td>\n",
       "      <td>...</td>\n",
       "      <td>...</td>\n",
       "      <td>...</td>\n",
       "      <td>...</td>\n",
       "      <td>...</td>\n",
       "      <td>...</td>\n",
       "      <td>...</td>\n",
       "      <td>...</td>\n",
       "      <td>...</td>\n",
       "      <td>...</td>\n",
       "      <td>...</td>\n",
       "      <td>...</td>\n",
       "      <td>...</td>\n",
       "      <td>...</td>\n",
       "      <td>...</td>\n",
       "      <td>...</td>\n",
       "      <td>...</td>\n",
       "    </tr>\n",
       "    <tr>\n",
       "      <th>19432</th>\n",
       "      <td>20248</td>\n",
       "      <td>2010</td>\n",
       "      <td>9</td>\n",
       "      <td>28</td>\n",
       "      <td>17</td>\n",
       "      <td>-5.643245</td>\n",
       "      <td>13.814258</td>\n",
       "      <td>405</td>\n",
       "      <td>357</td>\n",
       "      <td>38400</td>\n",
       "      <td>...</td>\n",
       "      <td>262.75</td>\n",
       "      <td>-3.217164</td>\n",
       "      <td>1.0</td>\n",
       "      <td>0.0</td>\n",
       "      <td>-0.328692</td>\n",
       "      <td>0.0</td>\n",
       "      <td>0.0</td>\n",
       "      <td>-2.728796</td>\n",
       "      <td>0.141558</td>\n",
       "      <td>0.0</td>\n",
       "    </tr>\n",
       "    <tr>\n",
       "      <th>19433</th>\n",
       "      <td>20249</td>\n",
       "      <td>2010</td>\n",
       "      <td>9</td>\n",
       "      <td>28</td>\n",
       "      <td>17</td>\n",
       "      <td>-5.912740</td>\n",
       "      <td>14.165138</td>\n",
       "      <td>396</td>\n",
       "      <td>369</td>\n",
       "      <td>38400</td>\n",
       "      <td>...</td>\n",
       "      <td>277.00</td>\n",
       "      <td>-2.538554</td>\n",
       "      <td>1.0</td>\n",
       "      <td>0.0</td>\n",
       "      <td>0.428418</td>\n",
       "      <td>0.0</td>\n",
       "      <td>1.0</td>\n",
       "      <td>-3.267512</td>\n",
       "      <td>0.120779</td>\n",
       "      <td>0.0</td>\n",
       "    </tr>\n",
       "    <tr>\n",
       "      <th>19434</th>\n",
       "      <td>20250</td>\n",
       "      <td>2010</td>\n",
       "      <td>9</td>\n",
       "      <td>28</td>\n",
       "      <td>17</td>\n",
       "      <td>-5.912740</td>\n",
       "      <td>14.252773</td>\n",
       "      <td>396</td>\n",
       "      <td>372</td>\n",
       "      <td>38400</td>\n",
       "      <td>...</td>\n",
       "      <td>269.75</td>\n",
       "      <td>-2.649321</td>\n",
       "      <td>1.0</td>\n",
       "      <td>0.0</td>\n",
       "      <td>0.346594</td>\n",
       "      <td>0.0</td>\n",
       "      <td>1.0</td>\n",
       "      <td>-3.635463</td>\n",
       "      <td>0.123377</td>\n",
       "      <td>0.0</td>\n",
       "    </tr>\n",
       "    <tr>\n",
       "      <th>19435</th>\n",
       "      <td>20251</td>\n",
       "      <td>2010</td>\n",
       "      <td>9</td>\n",
       "      <td>28</td>\n",
       "      <td>17</td>\n",
       "      <td>-5.688161</td>\n",
       "      <td>14.252773</td>\n",
       "      <td>404</td>\n",
       "      <td>372</td>\n",
       "      <td>38400</td>\n",
       "      <td>...</td>\n",
       "      <td>275.00</td>\n",
       "      <td>-2.600472</td>\n",
       "      <td>1.0</td>\n",
       "      <td>0.0</td>\n",
       "      <td>0.321475</td>\n",
       "      <td>0.0</td>\n",
       "      <td>1.0</td>\n",
       "      <td>-3.794424</td>\n",
       "      <td>0.128571</td>\n",
       "      <td>0.0</td>\n",
       "    </tr>\n",
       "    <tr>\n",
       "      <th>19436</th>\n",
       "      <td>20252</td>\n",
       "      <td>2010</td>\n",
       "      <td>9</td>\n",
       "      <td>28</td>\n",
       "      <td>17</td>\n",
       "      <td>-5.104256</td>\n",
       "      <td>14.252773</td>\n",
       "      <td>425</td>\n",
       "      <td>372</td>\n",
       "      <td>38400</td>\n",
       "      <td>...</td>\n",
       "      <td>270.50</td>\n",
       "      <td>-2.505669</td>\n",
       "      <td>1.0</td>\n",
       "      <td>0.0</td>\n",
       "      <td>-0.239056</td>\n",
       "      <td>0.0</td>\n",
       "      <td>0.0</td>\n",
       "      <td>-3.298019</td>\n",
       "      <td>0.199351</td>\n",
       "      <td>1.0</td>\n",
       "    </tr>\n",
       "  </tbody>\n",
       "</table>\n",
       "<p>2712 rows × 23 columns</p>\n",
       "</div>"
      ],
      "text/plain": [
       "          id  year  month  day  hour       lon        lat  xloc  yloc    area  \\\n",
       "53        53  2006      6    2    17  0.150888  10.278089   612   232   15000   \n",
       "183      183  2006      6    7    17 -4.250857  11.653897   453   281  205650   \n",
       "186      186  2006      6    7    17 -5.104256  11.919413   423   290  205650   \n",
       "187      187  2006      6    7    17 -5.463582  11.963640   410   291  205650   \n",
       "191      191  2006      6    7    17 -3.846615  12.273024   468   303  205650   \n",
       "...      ...   ...    ...  ...   ...       ...        ...   ...   ...     ...   \n",
       "19432  20248  2010      9   28    17 -5.643245  13.814258   405   357   38400   \n",
       "19433  20249  2010      9   28    17 -5.912740  14.165138   396   369   38400   \n",
       "19434  20250  2010      9   28    17 -5.912740  14.252773   396   372   38400   \n",
       "19435  20251  2010      9   28    17 -5.688161  14.252773   404   372   38400   \n",
       "19436  20252  2010      9   28    17 -5.104256  14.252773   425   372   38400   \n",
       "\n",
       "       ...    topo   SMmean0  SMdry0  SMwet0  SMmean-1  SMdry-1  SMwet-1  \\\n",
       "53     ...  154.50 -1.514151     1.0     0.0 -4.590760      1.0      0.0   \n",
       "183    ...  326.50 -9.787069     1.0     0.0  1.163167      0.0      1.0   \n",
       "186    ...  343.00 -6.332150     1.0     0.0  1.495200      0.0      1.0   \n",
       "187    ...  304.00 -4.803972     1.0     0.0  1.092783      0.0      1.0   \n",
       "191    ...  281.75 -6.939937     1.0     0.0  0.639680      0.0      1.0   \n",
       "...    ...     ...       ...     ...     ...       ...      ...      ...   \n",
       "19432  ...  262.75 -3.217164     1.0     0.0 -0.328692      0.0      0.0   \n",
       "19433  ...  277.00 -2.538554     1.0     0.0  0.428418      0.0      1.0   \n",
       "19434  ...  269.75 -2.649321     1.0     0.0  0.346594      0.0      1.0   \n",
       "19435  ...  275.00 -2.600472     1.0     0.0  0.321475      0.0      1.0   \n",
       "19436  ...  270.50 -2.505669     1.0     0.0 -0.239056      0.0      0.0   \n",
       "\n",
       "       LSTAmean  LSTAslotfrac  dtime  \n",
       "53     3.725500      0.950649    1.0  \n",
       "183   -0.186907      1.000000    2.0  \n",
       "186    0.523872      1.000000    1.0  \n",
       "187    0.781796      1.000000    0.0  \n",
       "191    0.227236      1.000000    2.0  \n",
       "...         ...           ...    ...  \n",
       "19432 -2.728796      0.141558    0.0  \n",
       "19433 -3.267512      0.120779    0.0  \n",
       "19434 -3.635463      0.123377    0.0  \n",
       "19435 -3.794424      0.128571    0.0  \n",
       "19436 -3.298019      0.199351    1.0  \n",
       "\n",
       "[2712 rows x 23 columns]"
      ]
     },
     "execution_count": 18,
     "metadata": {},
     "output_type": "execute_result"
    }
   ],
   "source": [
    "msgin"
   ]
  },
  {
   "cell_type": "code",
   "execution_count": 55,
   "metadata": {},
   "outputs": [
    {
     "data": {
      "text/plain": [
       "0.8458816225926276"
      ]
     },
     "execution_count": 55,
     "metadata": {},
     "output_type": "execute_result"
    }
   ],
   "source": [
    "np.percentile(msgin['SMmean-1'],75)"
   ]
  },
  {
   "cell_type": "code",
   "execution_count": 59,
   "metadata": {},
   "outputs": [
    {
     "data": {
      "text/plain": [
       "-3.602738596205788"
      ]
     },
     "execution_count": 59,
     "metadata": {},
     "output_type": "execute_result"
    }
   ],
   "source": [
    "np.percentile(msgin['SMmean-1'],10)"
   ]
  },
  {
   "cell_type": "code",
   "execution_count": 57,
   "metadata": {},
   "outputs": [
    {
     "data": {
      "text/plain": [
       "251"
      ]
     },
     "execution_count": 57,
     "metadata": {},
     "output_type": "execute_result"
    }
   ],
   "source": [
    "len(msgin[(msgin['SMmean0']>0.01)&(msgin['SMmean-1']>0.8)])"
   ]
  },
  {
   "cell_type": "code",
   "execution_count": 62,
   "metadata": {},
   "outputs": [
    {
     "data": {
      "text/plain": [
       "259"
      ]
     },
     "execution_count": 62,
     "metadata": {},
     "output_type": "execute_result"
    }
   ],
   "source": [
    "len(msgin[(msgin.SMmean0<-0.5) & (msgin['SMmean-1']<-3.5)])"
   ]
  },
  {
   "cell_type": "code",
   "execution_count": 78,
   "metadata": {},
   "outputs": [
    {
     "data": {
      "text/plain": [
       "-5.330660679190093"
      ]
     },
     "execution_count": 78,
     "metadata": {},
     "output_type": "execute_result"
    }
   ],
   "source": [
    "np.percentile(msgin.SMmean0,10)"
   ]
  },
  {
   "cell_type": "code",
   "execution_count": 61,
   "metadata": {},
   "outputs": [
    {
     "data": {
      "text/plain": [
       "<matplotlib.lines.Line2D at 0x7fc35616aa90>"
      ]
     },
     "execution_count": 61,
     "metadata": {},
     "output_type": "execute_result"
    },
    {
     "data": {
      "image/png": "[encoded data removed]",
      "text/plain": [
       "<Figure size 432x288 with 1 Axes>"
      ]
     },
     "metadata": {
      "needs_background": "light"
     },
     "output_type": "display_data"
    }
   ],
   "source": [
    "plt.hist(msgin.SMmean0, bins=20)\n",
    "plt.axvline(0, color='r')"
   ]
  },
  {
   "cell_type": "code",
   "execution_count": 53,
   "metadata": {},
   "outputs": [
    {
     "data": {
      "text/plain": [
       "<matplotlib.lines.Line2D at 0x7fc3561731d0>"
      ]
     },
     "execution_count": 53,
     "metadata": {},
     "output_type": "execute_result"
    },
    {
     "data": {
      "image/png": "[encoded data removed]",
      "text/plain": [
       "<Figure size 432x288 with 1 Axes>"
      ]
     },
     "metadata": {
      "needs_background": "light"
     },
     "output_type": "display_data"
    }
   ],
   "source": [
    "plt.hist(msgin.SMmean0, bins=20)\n",
    "plt.axvline(0, color='r')"
   ]
  },
  {
   "cell_type": "code",
   "execution_count": 203,
   "metadata": {},
   "outputs": [
    {
     "data": {
      "text/html": [
       "<pre>&lt;xarray.DataArray &#x27;time&#x27; ()&gt;\n",
       "array(&#x27;2006-06-05T16:00:00.000000000&#x27;, dtype=&#x27;datetime64[ns]&#x27;)\n",
       "Coordinates:\n",
       "    time     datetime64[ns] 2006-06-05T16:00:00</pre>"
      ],
      "text/plain": [
       "<xarray.DataArray 'time' ()>\n",
       "array('2006-06-05T16:00:00.000000000', dtype='datetime64[ns]')\n",
       "Coordinates:\n",
       "    time     datetime64[ns] 2006-06-05T16:00:00"
      ]
     },
     "execution_count": 203,
     "metadata": {},
     "output_type": "execute_result"
    }
   ],
   "source": [
    "mcsimage = xr.open_dataarray(cnst.MCS_15K)\n",
    "date = mcsimage[112].time\n",
    "date"
   ]
  },
  {
   "cell_type": "code",
   "execution_count": 204,
   "metadata": {},
   "outputs": [],
   "source": [
    "date=pd.to_datetime(date.values)"
   ]
  },
  {
   "cell_type": "code",
   "execution_count": 205,
   "metadata": {},
   "outputs": [
    {
     "data": {
      "text/plain": [
       "Timestamp('2006-06-05 16:00:00')"
      ]
     },
     "execution_count": 205,
     "metadata": {},
     "output_type": "execute_result"
    }
   ],
   "source": [
    "date"
   ]
  },
  {
   "cell_type": "code",
   "execution_count": 189,
   "metadata": {},
   "outputs": [],
   "source": [
    "file = cnst.MCS_POINTS_DOM\n",
    "msg = xr.open_dataarray(file)\n",
    "msg = msg.sel(time=date, lat=slice(9,19.5), lon=slice(-11.5, 11.5))\n",
    "mcs_hour = xr.open_dataarray(cnst.MCS_HOUR_DAILY)  ###5km grid\n",
    "mcsimage = mcsimage.sel(time=date, lat=slice(9,19.5), lon=slice(-11.5, 11.5))\n",
    "date = date.replace(hour=14)\n",
    "mhour = mcs_hour.sel(time=date, lat=slice(9,19.5), lon=slice(-11.5, 11.5))"
   ]
  },
  {
   "cell_type": "code",
   "execution_count": 190,
   "metadata": {},
   "outputs": [
    {
     "data": {
      "text/html": [
       "<pre>&lt;xarray.DataArray (lat: 240, lon: 512)&gt;\n",
       "[122880 values with dtype=float64]\n",
       "Coordinates:\n",
       "  * lon      (lon) float64 -11.48 -11.44 -11.39 -11.35 ... 11.38 11.42 11.47\n",
       "  * lat      (lat) float64 9.03 9.075 9.119 9.164 ... 19.36 19.4 19.44 19.48\n",
       "    time     datetime64[ns] 2006-06-05T16:00:00</pre>"
      ],
      "text/plain": [
       "<xarray.DataArray (lat: 240, lon: 512)>\n",
       "[122880 values with dtype=float64]\n",
       "Coordinates:\n",
       "  * lon      (lon) float64 -11.48 -11.44 -11.39 -11.35 ... 11.38 11.42 11.47\n",
       "  * lat      (lat) float64 9.03 9.075 9.119 9.164 ... 19.36 19.4 19.44 19.48\n",
       "    time     datetime64[ns] 2006-06-05T16:00:00"
      ]
     },
     "execution_count": 190,
     "metadata": {},
     "output_type": "execute_result"
    }
   ],
   "source": [
    "msg"
   ]
  },
  {
   "cell_type": "code",
   "execution_count": 191,
   "metadata": {},
   "outputs": [
    {
     "data": {
      "text/plain": [
       "<matplotlib.contour.QuadContourSet at 0x7f58a522a390>"
      ]
     },
     "execution_count": 191,
     "metadata": {},
     "output_type": "execute_result"
    },
    {
     "data": {
      "image/png": "[encoded data removed]",
      "text/plain": [
       "<Figure size 432x288 with 1 Axes>"
      ]
     },
     "metadata": {
      "needs_background": "light"
     },
     "output_type": "display_data"
    }
   ],
   "source": [
    "plt.contourf(mcsimage[0:130,90:240])\n",
    "plt.contour(msg[0:130,90:240], cmap='Reds')"
   ]
  },
  {
   "cell_type": "code",
   "execution_count": 197,
   "metadata": {},
   "outputs": [
    {
     "name": "stdout",
     "output_type": "stream",
     "text": [
      "[16. 15. 15. 16. 15. 15. 15. 16. 16. 16. 16. 15. 15. 14. 16. 14. 15. 16.\n",
      " 15. 15. 16. 14. 14. 14. 16. 16.]\n"
     ]
    },
    {
     "data": {
      "image/png": "[encoded data removed]",
      "text/plain": [
       "<Figure size 432x288 with 2 Axes>"
      ]
     },
     "metadata": {
      "needs_background": "light"
     },
     "output_type": "display_data"
    }
   ],
   "source": [
    "plt.contourf(mhour[0:130,80:240], levels=[13,15])\n",
    "plt.colorbar()\n",
    "plt.contour(mcsimage[0:130,80:240], cmap='jet')\n",
    "plt.contour(msg[0:130,80:240], cmap='Reds')\n",
    "pos = np.where(msg > 5)\n",
    "print(mhour.values[pos])"
   ]
  },
  {
   "cell_type": "code",
   "execution_count": 170,
   "metadata": {},
   "outputs": [
    {
     "data": {
      "text/plain": [
       "<matplotlib.collections.QuadMesh at 0x7f58a6268590>"
      ]
     },
     "execution_count": 170,
     "metadata": {},
     "output_type": "execute_result"
    },
    {
     "data": {
      "image/png": "[encoded data removed]",
      "text/plain": [
       "<Figure size 432x288 with 1 Axes>"
      ]
     },
     "metadata": {
      "needs_background": "light"
     },
     "output_type": "display_data"
    }
   ],
   "source": [
    "plt.pcolormesh(mhour)"
   ]
  },
  {
   "cell_type": "code",
   "execution_count": 171,
   "metadata": {},
   "outputs": [
    {
     "data": {
      "text/plain": [
       "<matplotlib.collections.QuadMesh at 0x7f58a6268f10>"
      ]
     },
     "execution_count": 171,
     "metadata": {},
     "output_type": "execute_result"
    },
    {
     "data": {
      "image/png": "[encoded data removed]",
      "text/plain": [
       "<Figure size 432x288 with 1 Axes>"
      ]
     },
     "metadata": {
      "needs_background": "light"
     },
     "output_type": "display_data"
    }
   ],
   "source": [
    "plt.pcolormesh(mcsimage)"
   ]
  },
  {
   "cell_type": "code",
   "execution_count": null,
   "metadata": {},
   "outputs": [],
   "source": []
  }
 ],
 "metadata": {
  "kernelspec": {
   "display_name": "Python 3",
   "language": "python",
   "name": "python3"
  },
  "language_info": {
   "codemirror_mode": {
    "name": "ipython",
    "version": 3
   },
   "file_extension": ".py",
   "mimetype": "text/x-python",
   "name": "python",
   "nbconvert_exporter": "python",
   "pygments_lexer": "ipython3",
   "version": "3.7.6"
  }
 },
 "nbformat": 4,
 "nbformat_minor": 2
}
