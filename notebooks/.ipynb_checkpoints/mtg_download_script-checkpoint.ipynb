{
 "cells": [
  {
   "cell_type": "code",
   "execution_count": null,
   "id": "10c89991-f742-4fd2-9287-f1240e85adde",
   "metadata": {},
   "outputs": [],
   "source": [
    "# useful links\n",
    "# https://classroom.eumetsat.int/pluginfile.php/51243/course/section/4850/SIFT_short_course_20230531.pdf\n"
   ]
  },
  {
   "cell_type": "code",
   "execution_count": null,
   "id": "19d919a3-a78f-4127-a256-9d2b746c820b",
   "metadata": {},
   "outputs": [],
   "source": [
    "# Import libraries\n",
    "# run once only\n",
    "#pip install eumdac\n",
    "import eumdac\n",
    "import datetime\n",
    "import shutil\n",
    "import requests\n",
    "import time\n",
    "import fnmatch\n",
    "import os\n",
    "import zipfile\n",
    "import netCDF4 as nc4"
   ]
  },
  {
   "cell_type": "code",
   "execution_count": null,
   "id": "63062580-d4ab-4daa-9820-818431980b0e",
   "metadata": {},
   "outputs": [],
   "source": [
    "# Insert your personal key and secret into the single quotes\n",
    "consumer_key = 'iqt0toxQXCRd0wV8vJY5DMAOYLQa' #input your consumer key\n",
    "#'OQWlx8rl05qiZdxek3D0yvnJ8FYa'\n",
    "consumer_secret = 'lg7SYbPfz1p_KfKv7ql_fLb7NsQa' #input your consumer secret\n",
    "#'CDYkjaRBrbhPbJAvpfIXVOLfjaAa'\n",
    "\n",
    "credentials = (consumer_key, consumer_secret)\n",
    "\n",
    "token = eumdac.AccessToken(credentials)\n"
   ]
  },
  {
   "cell_type": "code",
   "execution_count": null,
   "id": "6f5107f4-abe4-4aff-b1b3-58c9d536eb39",
   "metadata": {},
   "outputs": [],
   "source": [
    "# To download all channels\n",
    "datastore = eumdac.DataStore(token)\n",
    "\n",
    "# Select an FCI collection, eg \"FCI Level 1c High Resolution Image Data - MTG - 0 degree\" - \"EO:EUM:DAT:0665\"\n",
    "selected_collection = datastore.get_collection('EO:EUM:DAT:0662')#EO:EUM:DAT:0665')\n",
    "\n",
    "# Set sensing start and end time\n",
    "start = datetime.datetime(2024, 10, 24, 10, 30)\n",
    "end = datetime.datetime(2024, 10, 24, 12, 30)\n",
    "\n",
    "# Retrieve datasets that match the filter\n",
    "products = selected_collection.search(\n",
    "    dtstart=start,\n",
    "    dtend=end)\n",
    "\n",
    "# Print found products\n",
    "for product in products:\n",
    "        print(product)"
   ]
  },
  {
   "cell_type": "code",
   "execution_count": null,
   "id": "d8c8eb84-b486-4943-83db-e667253abf72",
   "metadata": {},
   "outputs": [],
   "source": [
    "FD = [\"_????_00[0-3][0-9].nc\", \"_????_0040.nc\", \"_????_0041.nc\"] # Full disc; chunks 01-40 + 41\n",
    "H1 = [\"*_????_000[1-9].nc\", \"*_????_001[0-9].nc\", \"*_????_002[0-1].nc\", \"_????_0041.nc\"] # chunks 01-21 + 41\n",
    "H2 = [\"*_????_002[0-9].nc\", \"*_????_003[0-9].nc\", \"*_????_0040.nc\", \"_????_0041.nc\"] # chunks 20-40 + 41\n",
    "T1 = [\"*_????_000[1-9].nc\", \"*_????_001[0-6].nc\", \"_????_0041.nc\"] # chunks 01-16 + 41\n",
    "T2 = [\"*_????_001[3-9].nc\", \"*_????_002[0-7].nc\", \"_????_0041.nc\"] # chunks 13-27 + 41\n",
    "T3 = [\"*_????_002[6-9].nc\", \"*_????_003[0-9].nc\", \"*_????_0040.nc\", \"_????_0041.nc\"] # chunks 26-48 + 41\n",
    "Q1 = [\"*_????_000[0-9].nc\", \"*_????_001[0-3].nc\", \"_????_0041.nc\"] # chunks 01-13 + 41\n",
    "Q2 = [\"*_????_001[0-9].nc\", \"*_????_002[0-1].nc\", \"_????_0041.nc\"] # chunks 10-21 + 41\n",
    "Q3 = [\"*_????_002[0-9].nc\", \"*_????_0030.nc\", \"_????_0041.nc\"] # chunks 20-30 + 41\n",
    "Q4 = [\"*_????_0029.nc\", \"*_????_003[0-9].nc\", \"*_????_0040.nc\", \"_????_0041.nc\"] # chunks 29-40 + 41\n",
    "\n",
    "# This function checks if a product entry is part of the requested coverage\n",
    "def get_coverage(coverage, filenames):\n",
    "    chunks = []\n",
    "    for pattern in coverage:\n",
    "        for file in filenames:\n",
    "            if fnmatch.fnmatch(file, pattern):\n",
    "                chunks.append(file)\n",
    "    return chunks"
   ]
  },
  {
   "cell_type": "code",
   "execution_count": null,
   "id": "68e60dc4-0512-433a-9d83-3c8ea0d897b2",
   "metadata": {},
   "outputs": [],
   "source": [
    "coverage = Q3\n",
    "\n",
    "for file in get_coverage(coverage, product.entries):\n",
    "    try:\n",
    "        with product.open(entry=file) as fsrc, \\\n",
    "                open(fsrc.name, mode='wb') as fdst:\n",
    "            shutil.copyfileobj(fsrc, fdst)\n",
    "            print(f'Download of file {fsrc.name} finished.')\n",
    "    except eumdac.product.ProductError as error:\n",
    "        print(f\"Error related to the product '{selected_product}' while trying to download it: '{error}'\")\n",
    "    except requests.exceptions.ConnectionError as error:\n",
    "        print(f\"Error related to the connection: '{error}'\")\n",
    "    except requests.exceptions.RequestException as error:\n",
    "        print(f\"Unexpected error: {error}\")"
   ]
  },
  {
   "cell_type": "code",
   "execution_count": null,
   "id": "e3f12e02-4ffb-4def-9586-643cd57a36b2",
   "metadata": {},
   "outputs": [],
   "source": [
    "# read and visualize mtg fci data for one channel\n",
    "from satpy import Scene\n",
    "import glob\n",
    "import os\n",
    "\n",
    "# initialize scene\n",
    "path_to_data = ''\n",
    "#file_name = 'W_XX-EUMETSAT-Darmstadt,IMG+SAT,MTI1+FCI-1C-RRAD-HRFI-FD--CHK-BODY---NC4E_C_EUMT_20241024104005_IDPFI_OPE_20241024103701_20241024103746_N__C_0064_0030.nc'\n",
    "scn=Scene(filenames=glob.glob(os.path.join(path_to_data,'*.nc*')),reader='fci_l1c_nc')\n",
    "# select channel\n",
    "scn.load(['vis_06'], upper_right_corner='NE')\n",
    "vis_06_hr_val = scn['vis_06'].values\n",
    "#scn.load(['vis_06'], calibration= 'radiance', upper_right_corner='NE')\n",
    "scn.load(['vis_06_index_map','vis_06_time','vis_06_pixel_quality'],upper_right_corner='NE')\n",
    "# #scn.available_dataset_names()                             \n"
   ]
  },
  {
   "cell_type": "code",
   "execution_count": null,
   "id": "373181ee-9d30-4f73-a85a-a191da6a3e23",
   "metadata": {},
   "outputs": [],
   "source": [
    "scn.available_dataset_names()                             \n"
   ]
  },
  {
   "cell_type": "code",
   "execution_count": null,
   "id": "043e91ab-b3ef-4ee5-af23-bd5fe667b08b",
   "metadata": {},
   "outputs": [],
   "source": [
    "scn.show('vis_06')\n"
   ]
  },
  {
   "cell_type": "code",
   "execution_count": null,
   "id": "93da708e",
   "metadata": {},
   "outputs": [],
   "source": []
  },
  {
   "cell_type": "code",
   "execution_count": null,
   "id": "f7c404a7-7888-4c2e-bece-22ca0bbef427",
   "metadata": {},
   "outputs": [],
   "source": [
    "# to download a specific channel via data tailor\n",
    "datastore = eumdac.DataStore(token)\n",
    "\n",
    "# Select an FCI collection, eg \"FCI Level 1c High Resolution Image Data - MTG - 0 degree\" - \"EO:EUM:DAT:0665\"\n",
    "selected_collection = datastore.get_collection('EO:EUM:DAT:0665')\n",
    "\n",
    "# Set sensing start and end time\n",
    "start = datetime.datetime(2024, 10, 24, 19, 30)\n",
    "end = datetime.datetime(2024, 10, 24, 20, 30)\n",
    "\n",
    "# Retrieve datasets that match the filter\n",
    "products = selected_collection.search(\n",
    "    dtstart=start,\n",
    "    dtend=end).first()\n",
    "\n",
    "# define a chain configuration\n",
    "chain = eumdac.tailor_models.Chain(\n",
    "    product='FCIL1HRFI',\n",
    "    format='netcdf',\n",
    "    filter={\"bands\":[\"ir105_hrfi\"]},  #vis_06_hr\n",
    "    projection='geographic',\n",
    "    roi='western_europe'\n",
    ")"
   ]
  },
  {
   "cell_type": "code",
   "execution_count": null,
   "id": "895b52f7-c148-4136-9eb2-b83ec94cddb2",
   "metadata": {},
   "outputs": [],
   "source": [
    "from eumdac import datatailor\n",
    "# Send the customisation to Data Tailor Web Services\n",
    "customisation = datatailor.Customisation(product, chain=chain)"
   ]
  },
  {
   "cell_type": "code",
   "execution_count": null,
   "id": "5d65152a-1ad6-4748-ae67-7b7d6ac0ef71",
   "metadata": {},
   "outputs": [],
   "source": [
    "datatailor. "
   ]
  },
  {
   "cell_type": "code",
   "execution_count": null,
   "id": "6d018c0d-3c81-4e83-95fd-9b781e5c2830",
   "metadata": {},
   "outputs": [],
   "source": [
    "from eumdac import datatailor\n",
    "# Send the customisation to Data Tailor Web Services\n",
    "customisation = datatailor.new_customisation(product, chain=chain)\n",
    "\n",
    "status = customisation.status\n",
    "sleep_time = 10 # seconds\n",
    "\n",
    "# Customisation loop to read current status of the customisation\n",
    "print(\"Starting customisation process...\")\n",
    "while status:\n",
    "    # Get the status of the ongoing customisation\n",
    "    status = customisation.status\n",
    "    if \"DONE\" in status:\n",
    "        print(f\"Customisation {customisation._id} is successfully completed.\")\n",
    "        break\n",
    "    elif status in [\"ERROR\", \"FAILED\", \"DELETED\", \"KILLED\", \"INACTIVE\"]:\n",
    "        print(f\"Customisation {customisation._id} was unsuccessful. Customisation log is printed.\\n\")\n",
    "        print(customisation.logfile)\n",
    "        break\n",
    "    elif \"QUEUED\" in status:\n",
    "        print(f\"Customisation {customisation._id} is queued.\")\n",
    "    elif \"RUNNING\" in status:\n",
    "        print(f\"Customisation {customisation._id} is running.\")\n",
    "    time.sleep(sleep_time)\n",
    "\n",
    "# Download the customised product\n",
    "print(\"Starting download of customised products...\")\n",
    "for product in customisation.outputs:\n",
    "    print(f\"Downloading product: {product}\")\n",
    "    with customisation.stream_output(product) as source_file, open(source_file.name, 'wb') as destination_file:\n",
    "        shutil.copyfileobj(source_file, destination_file)\n",
    "    print(f\"Product {product} downloaded successfully.\")\n",
    "    \n"
   ]
  },
  {
   "cell_type": "code",
   "execution_count": null,
   "id": "6be18400-ad25-4b79-a020-209e5c6ae793",
   "metadata": {},
   "outputs": [],
   "source": []
  },
  {
   "cell_type": "code",
   "execution_count": null,
   "id": "8cd92c59-9add-4676-821f-8bde843ea055",
   "metadata": {},
   "outputs": [],
   "source": []
  },
  {
   "cell_type": "code",
   "execution_count": null,
   "id": "e5e9a1f1-aff2-4fe8-8598-a8b4c70cff41",
   "metadata": {},
   "outputs": [],
   "source": []
  },
  {
   "cell_type": "code",
   "execution_count": null,
   "id": "2b5020ca-65bb-4597-8fb0-712938c67ac4",
   "metadata": {},
   "outputs": [],
   "source": [
    "import eumdac\n",
    "from datetime import datetime, timedelta\n",
    "\n",
    "# to download a specific channel via data tailor\n",
    "datastore = eumdac.DataStore(token)\n",
    "\n",
    "# Explore the Data Store\n",
    "search_params = {\n",
    "    'platformname': 'MTG',\n",
    "    'producttype': 'FDHSI',\n",
    "    'processinglevel': 'L1C',  # Adjust if needed\n",
    "    'start': (datetime.utcnow() - timedelta(days=1)).strftime('%Y-%m-%dT15:00:00Z'),\n",
    "    'end': (datetime.utcnow() - timedelta(days=1)).strftime('%Y-%m-%dT15:05:00Z')\n",
    "}\n",
    "\n",
    "# Connect to the catalogue\n",
    "catalogue = datastore.get_collection('EO:EUM:DAT:0665')"
   ]
  },
  {
   "cell_type": "code",
   "execution_count": null,
   "id": "73003811",
   "metadata": {},
   "outputs": [],
   "source": []
  },
  {
   "cell_type": "code",
   "execution_count": null,
   "id": "9c72e42b",
   "metadata": {},
   "outputs": [],
   "source": [
    "# Search for the desired file\n",
    "products = catalogue.search(**search_params)"
   ]
  },
  {
   "cell_type": "code",
   "execution_count": null,
   "id": "87e9e8a5",
   "metadata": {},
   "outputs": [],
   "source": []
  },
  {
   "cell_type": "code",
   "execution_count": null,
   "id": "059bc81a",
   "metadata": {},
   "outputs": [],
   "source": [
    "\n",
    "\n",
    "# Download the first matching file\n",
    "for product in products:\n",
    "    print(f\"Found: {product['title']} - Downloading...\")\n",
    "    product.download('./')\n",
    "    print(\"Download completed.\")\n",
    "    break\n",
    "else:\n",
    "    print(\"No matching files found.\")"
   ]
  }
 ],
 "metadata": {
  "kernelspec": {
   "display_name": "Python 3 (ipykernel)",
   "language": "python",
   "name": "python3"
  },
  "language_info": {
   "codemirror_mode": {
    "name": "ipython",
    "version": 3
   },
   "file_extension": ".py",
   "mimetype": "text/x-python",
   "name": "python",
   "nbconvert_exporter": "python",
   "pygments_lexer": "ipython3",
   "version": "3.13.1"
  }
 },
 "nbformat": 4,
 "nbformat_minor": 5
}
