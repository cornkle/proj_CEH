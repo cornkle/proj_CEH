{
 "cells": [
  {
   "cell_type": "code",
   "execution_count": null,
   "metadata": {
    "collapsed": true
   },
   "outputs": [],
   "source": [
    "import numpy as np\n",
    "from scipy import ndimage\n",
    "import itertools\n",
    "import matplotlib as mpl\n",
    "import matplotlib.pyplot as plt\n",
    "from utils import u_time as ut\n",
    "from mpl_toolkits.basemap import Basemap\n",
    "from eod import msg\n",
    "import cartopy.crs as ccrs\n",
    "import cartopy.feature as cfeature\n",
    "import matplotlib.pylab as pylab\n",
    "pylab.rcParams['figure.figsize'] = (16., 9.)\n",
    "%matplotlib inline\n",
    "from scipy.stats import pearsonr\n",
    "from scipy.stats import gaussian_kde\n",
    "import scipy.optimize as so\n",
    "import pickle as pkl"
   ]
  },
  {
   "cell_type": "code",
   "execution_count": null,
   "metadata": {
    "collapsed": true
   },
   "outputs": [],
   "source": [
    "#myDicts = pkl.load( open ('/users/global/cornkle/data/OBS/MSG_TRMM_temp_pcp_300px2004-2013.p', 'rb'))\n",
    "\n",
    "myDicts = pkl.load( open ('/users/global/cornkle/data/OBS/MSG_TRMM_temp_pcp_300px2004-2013_new.p', 'rb'))"
   ]
  },
  {
   "cell_type": "code",
   "execution_count": null,
   "metadata": {
    "collapsed": true
   },
   "outputs": [],
   "source": [
    "dic=myDicts[0]\n",
    "dicf=myDicts[1]"
   ]
  },
  {
   "cell_type": "code",
   "execution_count": null,
   "metadata": {},
   "outputs": [],
   "source": [
    "print(dic.keys())\n",
    "print(dicf.keys())"
   ]
  },
  {
   "cell_type": "code",
   "execution_count": null,
   "metadata": {},
   "outputs": [],
   "source": [
    "p=np.array(dic['pp'])\n",
    "t=np.array(dic['t'])\n",
    "print(p.size)\n",
    "print(np.nanmean(np.array(dic['perc'])))"
   ]
  },
  {
   "cell_type": "code",
   "execution_count": null,
   "metadata": {},
   "outputs": [],
   "source": [
    "pc = p\n",
    "tm = t\n",
    "\n",
    "#m,b = np.polyfit(pc,pc,1)\n",
    "print(pearsonr(pc,tm))\n"
   ]
  },
  {
   "cell_type": "code",
   "execution_count": null,
   "metadata": {},
   "outputs": [],
   "source": [
    "# Calculate the point density\n",
    "xy = np.vstack([pc,tm])\n",
    "z = gaussian_kde(xy)(xy)\n",
    "\n",
    "fig, ax = plt.subplots()\n",
    "ax.scatter(pc, tm, c=z, edgecolor='')\n",
    "plt.xlabel('Max. Pcp (mm h-1)')\n",
    "plt.ylabel('TIR (degC)')\n",
    "#plt.savefig('/users/global/cornkle/msg_trmm_scatter_max.pdf')"
   ]
  },
  {
   "cell_type": "code",
   "execution_count": null,
   "metadata": {},
   "outputs": [],
   "source": [
    "plt.plot(pc, tm, '.')\n",
    "plt.xlabel('Max. Pcp (mm h-1)')\n",
    "plt.ylabel('T (degC)')\n",
    "#plt.plot(pc, m*pc+b, '-')\n",
    "#plt.savefig('/users/global/cornkle/scatter_maxPCP.pdf')"
   ]
  },
  {
   "cell_type": "code",
   "execution_count": null,
   "metadata": {
    "collapsed": true
   },
   "outputs": [],
   "source": [
    "binst=list(range(-70, -39, 1))\n",
    "cum=[]\n",
    "for i in bins:\n",
    "    pos = np.where(tm <= i)\n",
    "    p70 = pc[pos]\n",
    "    prob=np.sum(p70>30)/p70.size\n",
    "    cum.append(prob)"
   ]
  },
  {
   "cell_type": "code",
   "execution_count": null,
   "metadata": {},
   "outputs": [],
   "source": [
    "\n",
    "to30.size/tm.size  # probability for systems < 40degC"
   ]
  },
  {
   "cell_type": "code",
   "execution_count": null,
   "metadata": {},
   "outputs": [],
   "source": [
    "bins=list(range(-75, -39, 1))\n",
    "po30=np.where(pc > 30) # \n",
    "to30=tm[po30]   \n",
    "\n",
    "H1, bins1 = np.histogram(to30, bins=bins, range=(tm.min(), tm.max()))\n",
    "H, bins = np.histogram(tm, bins=bins, range=(tm.min(), tm.max()))\n",
    "#width=np.diff(bins)\n",
    "#freq=float(H)/float(to30.size)\n",
    "#plt.bar(bins[:-1], freq, width)\n",
    "H=H.astype(float)\n",
    "H1=H1.astype(float)\n",
    "print(H1)\n",
    "print(H)\n",
    "H1cum = np.cumsum(H1)\n",
    "Hcum = np.cumsum(H)\n",
    "histcum = H1cum/Hcum*100.\n",
    "hist=H1/H*100.\n",
    "print(hist)\n",
    "width = 0.7 * (bins[1] - bins[0])\n",
    "print(bins[1] - bins[0])\n",
    "center = (bins[:-1] + bins[1:]) / 2\n",
    "print(center)\n",
    "plt.bar(center, hist, align='center', width=width)\n",
    "plt.xlabel('Mean T per MCS')\n",
    "plt.ylabel('MCS max. PCP > 30mm h-1 (%)')\n",
    "plt.savefig('/users/global/cornkle/histo_maxPCP_over_98thcentile_convFlag.pdf')"
   ]
  },
  {
   "cell_type": "code",
   "execution_count": null,
   "metadata": {},
   "outputs": [],
   "source": [
    "plt.scatter(center, hist)"
   ]
  },
  {
   "cell_type": "code",
   "execution_count": null,
   "metadata": {},
   "outputs": [],
   "source": [
    "plt.scatter(binst, cum)"
   ]
  },
  {
   "cell_type": "code",
   "execution_count": null,
   "metadata": {
    "collapsed": true
   },
   "outputs": [],
   "source": [
    "fig = plt.figure()\n",
    "ax = fig.add_subplot(111)\n",
    "H, xedges, yedges = np.histogram2d(tm, pc, bins=(25, 25))\n",
    "\n",
    "p25=np.percentile(H, 25)\n",
    "p50=np.percentile(H, 50)\n",
    "p75=np.percentile(H, 75)\n",
    "\n",
    "print p25\n",
    "print p50\n",
    "print p75\n",
    "dy = yedges[1]-yedges[0]\n",
    "dx = xedges[1]-xedges[0]\n",
    "extent_dens = [yedges[0], yedges[-1], xedges[0], xedges[-1]]\n",
    "extent_cont = [yedges[0]+dy/2, yedges[-1]-dy/2, xedges[0]+dx/2, xedges[-1]-dx/2]\n",
    "#subplots_adjust(bottom=0.15, left=0.15)\n",
    "levels = (pp75, pp50, pp25)\n",
    "plt.imshow(H,origin='lower',extent=extent_dens,aspect='auto', interpolation='none', cmap='YlGnBu')\n",
    "plt.colorbar()\n",
    "cset = plt.contour(H, levels, origin='lower',colors=['red', 'black','grey'],linewidths=(1.9, 1.6, 1.5, 1.4),extent=extent_cont)\n",
    "#plt.clabel(cset, inline=1, fontsize=10, fmt='%1.0i')\n",
    "for c in cset.collections:\n",
    "    c.set_linestyle('solid')"
   ]
  },
  {
   "cell_type": "code",
   "execution_count": null,
   "metadata": {},
   "outputs": [],
   "source": [
    "# Calculate the point density\n",
    "xy = np.vstack([pc,tm])\n",
    "z = gaussian_kde(xy)(xy)\n",
    "\n",
    "fig, ax = plt.subplots()\n",
    "ax.scatter(pc, tm, c=z, edgecolor='')\n",
    "plt.xlabel('Max. Pcp (mm h-1)')\n",
    "plt.ylabel('TIR (degC)')\n",
    "#plt.savefig('/users/global/cornkle/msg_trmm_scatter_max.pdf')"
   ]
  },
  {
   "cell_type": "code",
   "execution_count": null,
   "metadata": {},
   "outputs": [],
   "source": [
    "plt.plot(pc, tm, '.')\n",
    "plt.xlabel('Pcp (mm h-1)')\n",
    "plt.ylabel('TIR (degC)')\n",
    "#plt.plot(pc, m*pc+b, '-')\n",
    "plt.savefig('/users/global/cornkle/msg_trmm_scatter_nofilter.pdf')"
   ]
  },
  {
   "cell_type": "code",
   "execution_count": null,
   "metadata": {},
   "outputs": [],
   "source": [
    "# Calculate the point density\n",
    "xy = np.vstack([pc,tm])\n",
    "z = gaussian_kde(xy)(xy)\n",
    "\n",
    "fig, ax = plt.subplots()\n",
    "ax.scatter(pc, tm, c=z, edgecolor='', cmap=plt.cm.jet)\n",
    "plt.xlabel('Conv. Pcp (mm h-1)')\n",
    "plt.ylabel('TIR (degC)')\n",
    "plt.savefig('/users/global/cornkle/msg_trmm_scatter_dens.pdf')\n"
   ]
  },
  {
   "cell_type": "code",
   "execution_count": null,
   "metadata": {},
   "outputs": [],
   "source": [
    "plt.hist2d(pc, tm, bins=25, cmap=plt.cm.jet)\n",
    "plt.colorbar()"
   ]
  },
  {
   "cell_type": "code",
   "execution_count": null,
   "metadata": {},
   "outputs": [],
   "source": [
    "fig = plt.figure()\n",
    "ax = fig.add_subplot(111)\n",
    "H, xedges, yedges = np.histogram2d(tm, pc, bins=(25, 25))\n",
    "\n",
    "p25=np.percentile(H, 25)\n",
    "p50=np.percentile(H, 50)\n",
    "p75=np.percentile(H, 75)\n",
    "\n",
    "print p25\n",
    "print p50\n",
    "print p75\n",
    "dy = yedges[1]-yedges[0]\n",
    "dx = xedges[1]-xedges[0]\n",
    "extent_dens = [yedges[0], yedges[-1], xedges[0], xedges[-1]]\n",
    "extent_cont = [yedges[0]+dy/2, yedges[-1]-dy/2, xedges[0]+dx/2, xedges[-1]-dx/2]\n",
    "#subplots_adjust(bottom=0.15, left=0.15)\n",
    "levels = (pp75, pp50, pp25)\n",
    "plt.imshow(H,origin='lower',extent=extent_dens,aspect='auto', interpolation='none', cmap='YlGnBu')\n",
    "plt.colorbar()\n",
    "cset = plt.contour(H, levels, origin='lower',colors=['red', 'black','grey'],linewidths=(1.9, 1.6, 1.5, 1.4),extent=extent_cont)\n",
    "#plt.clabel(cset, inline=1, fontsize=10, fmt='%1.0i')\n",
    "for c in cset.collections:\n",
    "    c.set_linestyle('solid')\n"
   ]
  },
  {
   "cell_type": "code",
   "execution_count": null,
   "metadata": {},
   "outputs": [],
   "source": [
    "x=pc\n",
    "y=tm\n",
    "nbins = 20\n",
    "\n",
    "fig, axes = plt.subplots(ncols=2, nrows=2, sharex=True, sharey=True)\n",
    "xy = np.vstack([pc,tm])\n",
    "axes[0, 0].set_title('Scatterplot')\n",
    "axes[0, 0].plot(x, y, 'ko')\n",
    "\n",
    "axes[0, 1].set_title('Hexbin plot')\n",
    "axes[0, 1].hexbin(x, y, gridsize=nbins)\n",
    "\n",
    "axes[1, 0].set_title('2D Histogram')\n",
    "axes[1, 0].hist2d(x, y, bins=nbins)\n",
    "\n",
    "# Evaluate a gaussian kde on a regular grid of nbins x nbins over data extents\n",
    "k = gaussian_kde(xy)(xy)\n",
    "\n",
    "axes[1, 1].set_title('Gaussian KDE')\n",
    "axes[1, 1].scatter(pc, tm, c=z, edgecolor='')\n",
    "\n",
    "fig.tight_layout()\n",
    "plt.show()"
   ]
  },
  {
   "cell_type": "code",
   "execution_count": null,
   "metadata": {},
   "outputs": [],
   "source": [
    "H, xedges, yedges = np.histogram2d(tm, pc, bins=(25, 25))\n",
    "x_bin_sizes = (xedges[1:] - xedges[:-1]).reshape((1,25))\n",
    "y_bin_sizes = (yedges[1:] - yedges[:-1]).reshape((25,1))\n",
    "dy = yedges[1]-yedges[0]\n",
    "dx = xedges[1]-xedges[0]\n",
    "extent_dens = [yedges[0], yedges[-1], xedges[0], xedges[-1]]\n",
    "extent_cont = [yedges[0]+dy/2, yedges[-1]-dy/2, xedges[0]+dx/2, xedges[-1]-dx/2]\n",
    "\n",
    "pdf = (H*(x_bin_sizes*y_bin_sizes))\n",
    "\n",
    "one_sigma = so.brentq(find_confidence_interval, 0., 1., args=(pdf, 0.68))\n",
    "two_sigma = so.brentq(find_confidence_interval, 0., 1., args=(pdf, 0.95))\n",
    "three_sigma = so.brentq(find_confidence_interval, 0., 1., args=(pdf, 0.99))\n",
    "levels = [one_sigma, two_sigma, three_sigma]\n",
    "\n",
    "fig = plt.figure()\n",
    "ax = fig.add_subplot(111)\n",
    "\n",
    "#subplots_adjust(bottom=0.15, left=0.15)\n",
    "\n",
    "plt.imshow(H,origin='lower',extent=extent_dens,aspect='auto', interpolation='none', cmap='YlGnBu')\n",
    "plt.colorbar()\n",
    "cset = plt.contour(H, levels, origin='lower',colors=['black', 'green','red'],linewidths=(1.9, 1.6, 1.5, 1.4),extent=extent_cont)\n",
    "plt.clabel(cset, inline=1, fontsize=10, fmt='%1.0i')\n",
    "for c in cset.collections:\n",
    "    c.set_linestyle('solid')"
   ]
  },
  {
   "cell_type": "code",
   "execution_count": null,
   "metadata": {},
   "outputs": [],
   "source": [
    "def find_confidence_interval(x, pdf, confidence_level):\n",
    "    return pdf[pdf > x].sum() - confidence_level\n",
    "\n",
    "def density_contour(xdata, ydata, nbins_x, nbins_y, ax=None, **contour_kwargs):\n",
    "    \"\"\" Create a density contour plot.\n",
    "    Parameters\n",
    "    ----------\n",
    "    xdata : numpy.ndarray\n",
    "    ydata : numpy.ndarray\n",
    "    nbins_x : int\n",
    "        Number of bins along x dimension\n",
    "    nbins_y : int\n",
    "        Number of bins along y dimension\n",
    "    ax : matplotlib.Axes (optional)\n",
    "        If supplied, plot the contour to this axis. Otherwise, open a new figure\n",
    "    contour_kwargs : dict\n",
    "        kwargs to be passed to pyplot.contour()\n",
    "    \"\"\"\n",
    "\n",
    "    H, xedges, yedges = np.histogram2d(xdata, ydata, bins=(nbins_x,nbins_y), normed=True)\n",
    "    x_bin_sizes = (xedges[1:] - xedges[:-1]).reshape((1,nbins_x))\n",
    "    y_bin_sizes = (yedges[1:] - yedges[:-1]).reshape((nbins_y,1))\n",
    "\n",
    "    pdf = (H*(x_bin_sizes*y_bin_sizes))\n",
    "\n",
    "    one_sigma = so.brentq(find_confidence_interval, 0., 1., args=(pdf, 0.68))\n",
    "    two_sigma = so.brentq(find_confidence_interval, 0., 1., args=(pdf, 0.95))\n",
    "    three_sigma = so.brentq(find_confidence_interval, 0., 1., args=(pdf, 0.99))\n",
    "    levels = [one_sigma, two_sigma, three_sigma]\n",
    "\n",
    "    X, Y = 0.5*(xedges[1:]+xedges[:-1]), 0.5*(yedges[1:]+yedges[:-1])\n",
    "    Z = pdf.T\n",
    "\n",
    "    if ax == None:\n",
    "        contour = plt.contour(X, Y, Z, levels=levels, origin=\"lower\", **contour_kwargs)\n",
    "    else:\n",
    "        contour = ax.contour(X, Y, Z, levels=levels, origin=\"lower\", **contour_kwargs)\n",
    "\n",
    "    return contour\n",
    "\n",
    "def test_density_contour():\n",
    "    norm = np.random.normal(10., 15., size=(12540035, 2))\n",
    "    density_contour(norm[:,0], norm[:,1], 100, 100)\n",
    "    plt.show()\n",
    "\n",
    "test_density_contour()"
   ]
  },
  {
   "cell_type": "code",
   "execution_count": null,
   "metadata": {},
   "outputs": [],
   "source": [
    "aa=np.array([[1,2,0,4],[5,0,5,8]])\n",
    "np.count_nonzero(aa)"
   ]
  },
  {
   "cell_type": "code",
   "execution_count": null,
   "metadata": {
    "collapsed": true
   },
   "outputs": [],
   "source": [
    "a= np.array([1,3,4,5,6,7,8])\n",
    "b=np.array([4,6,6,7,8,9])\n",
    "t=unq_searchsorted(a,b)"
   ]
  },
  {
   "cell_type": "code",
   "execution_count": null,
   "metadata": {},
   "outputs": [],
   "source": [
    "g=t[1]\n",
    "g"
   ]
  },
  {
   "cell_type": "code",
   "execution_count": null,
   "metadata": {},
   "outputs": [],
   "source": [
    "a[g]"
   ]
  },
  {
   "cell_type": "code",
   "execution_count": null,
   "metadata": {
    "collapsed": true
   },
   "outputs": [],
   "source": [
    "def unq_searchsorted(A,B):\n",
    "\n",
    "    # Get unique elements of A and B and the indices based on the uniqueness\n",
    "    unqA,idx1 = np.unique(A,return_inverse=True)\n",
    "    unqB,idx2 = np.unique(B,return_inverse=True)\n",
    "\n",
    "    # Create mask equivalent to np.in1d(A,B) and np.in1d(B,A) for unique elements\n",
    "    mask1 = (np.searchsorted(unqB,unqA,'right') - np.searchsorted(unqB,unqA,'left'))==1\n",
    "    mask2 = (np.searchsorted(unqA,unqB,'right') - np.searchsorted(unqA,unqB,'left'))==1\n",
    "\n",
    "    # Map back to all non-unique indices to get equivalent of np.in1d(A,B), \n",
    "    # np.in1d(B,A) results for non-unique elements\n",
    "    return mask1[idx1],mask2[idx2]"
   ]
  }
 ],
 "metadata": {
  "kernelspec": {
   "display_name": "Python 3",
   "language": "python",
   "name": "python3"
  },
  "language_info": {
   "codemirror_mode": {
    "name": "ipython",
    "version": 3
   },
   "file_extension": ".py",
   "mimetype": "text/x-python",
   "name": "python",
   "nbconvert_exporter": "python",
   "pygments_lexer": "ipython3",
   "version": "3.5.5"
  }
 },
 "nbformat": 4,
 "nbformat_minor": 1
}
