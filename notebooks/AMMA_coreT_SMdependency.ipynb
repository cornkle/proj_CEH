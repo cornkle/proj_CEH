{
 "cells": [
  {
   "cell_type": "code",
   "execution_count": 3,
   "metadata": {},
   "outputs": [],
   "source": [
    "import ipdb\n",
    "import numpy as np\n",
    "import xarray as xr\n",
    "import matplotlib.pyplot as plt\n",
    "import pandas as pd\n",
    "import matplotlib.pylab as pylab\n",
    "import cartopy\n",
    "from utils import constants as cnst\n",
    "from eod import msg\n",
    "from utils import u_grid, u_interpolate as u_int, constants as cnst, u_arrays, u_darrays, u_met, u_statistics, u_plot\n",
    "import pandas as pd\n",
    "import matplotlib.pyplot as plt\n",
    "import cartopy.crs as ccrs\n",
    "import cartopy.feature as feature\n",
    "import cartopy.io.shapereader as shapereader\n",
    "import pandas as pd\n",
    "import pickle as pkl\n",
    "from utils import constants as cnst\n",
    "\n",
    "\n",
    "coast = shapereader.natural_earth(resolution='110m',\n",
    "                                  category='physical',\n",
    "                                  name='coastline')\n",
    "\n",
    "countries = shapereader.natural_earth(resolution='110m',\n",
    "                                      category='cultural',\n",
    "                                      name='admin_0_countries')\n",
    "\n",
    "pylab.rcParams['figure.figsize'] = (50., 50.)\n",
    "%matplotlib inline"
   ]
  },
  {
   "cell_type": "code",
   "execution_count": 2,
   "metadata": {},
   "outputs": [
    {
     "name": "stdout",
     "output_type": "stream",
     "text": [
      "/home/ck/pythonWorkspace/proj_CEH\n"
     ]
    }
   ],
   "source": [
    "cd .."
   ]
  },
  {
   "cell_type": "code",
   "execution_count": 55,
   "metadata": {},
   "outputs": [],
   "source": [
    "msgopen = pd.read_csv('/home/ck/DIR/cornkle/figs/LSTA/corrected_LSTA/new/ERA5/core_txt/cores_gt15000km2_table_AMSRE_LSTA_tracking_SMcircle_2hOverlap_17.csv', na_values=-999)"
   ]
  },
  {
   "cell_type": "markdown",
   "metadata": {},
   "source": [
    "##  Wet / Dry case comparison"
   ]
  },
  {
   "cell_type": "markdown",
   "metadata": {},
   "source": [
    "Wet: Day 0 / Day -1 > + 0.01% SM anomaly mean (more like 'neutral & wet condition')\n",
    "\n",
    "Dry: Day  0 < -3% , Day-1 < -1.5% SM anomaly mean\n",
    "\n",
    "Identified in box + - 90 km and 200km upstream from core centre"
   ]
  },
  {
   "cell_type": "code",
   "execution_count": 56,
   "metadata": {},
   "outputs": [
    {
     "data": {
      "text/plain": [
       "(19454, 25)"
      ]
     },
     "execution_count": 56,
     "metadata": {},
     "output_type": "execute_result"
    }
   ],
   "source": [
    "msgopen.shape"
   ]
  },
  {
   "cell_type": "code",
   "execution_count": 57,
   "metadata": {},
   "outputs": [
    {
     "name": "stdout",
     "output_type": "stream",
     "text": [
      "Number of ALL cases: 19454\n"
     ]
    }
   ],
   "source": [
    "print('Number of ALL cases:', msgopen.shape[0])"
   ]
  },
  {
   "cell_type": "code",
   "execution_count": 58,
   "metadata": {},
   "outputs": [],
   "source": [
    "#dry = msgopen[(msgopen['SMmean0']<-3)& (msgopen['SMmean-1'] <-1.5) &(msgopen['SMmean0']>-900)& (msgopen['SMmean-1'] >-900) ]\n",
    "msgopen = msgopen[(msgopen['lat']>9) & (msgopen['lat']<19) & (msgopen['topo']<450) & (msgopen['ERAqmean']>14.7) & (msgopen['ERAqmean']<16)]##  & (msgopen['ERAqmean']>14.8) & (msgopen['ERAqmean']<16.5)]\n",
    "dry = msgopen[(msgopen['dtime'] <= 2) & (msgopen['SMmean0'] < -6) & (msgopen['SMmean-1'] < -3.3) & (msgopen['LSTAslotfrac'] >= 0.03)]"
   ]
  },
  {
   "cell_type": "code",
   "execution_count": 59,
   "metadata": {},
   "outputs": [],
   "source": [
    "wet = msgopen[(msgopen['dtime'] <= 2) & (msgopen['SMmean0']>0.05) & (msgopen['SMmean-1']>0.8) & (msgopen['LSTAslotfrac'] >= 0.03) ]#msgopen[(msgopen['SMmean0']>0.01)& (msgopen['SMmean-1'] >0.01)]"
   ]
  },
  {
   "cell_type": "code",
   "execution_count": 60,
   "metadata": {},
   "outputs": [
    {
     "name": "stdout",
     "output_type": "stream",
     "text": [
      "228\n",
      "228\n"
     ]
    }
   ],
   "source": [
    "print(len(dry))\n",
    "print(len(wet))"
   ]
  },
  {
   "cell_type": "code",
   "execution_count": 61,
   "metadata": {},
   "outputs": [
    {
     "data": {
      "text/plain": [
       "<matplotlib.lines.Line2D at 0x7ffbace91490>"
      ]
     },
     "execution_count": 61,
     "metadata": {},
     "output_type": "execute_result"
    },
    {
     "data": {
      "image/png": "[encoded data removed]",
      "text/plain": [
       "<Figure size 432x288 with 1 Axes>"
      ]
     },
     "metadata": {
      "needs_background": "light"
     },
     "output_type": "display_data"
    }
   ],
   "source": [
    "plt.figure()\n",
    "plt.scatter(msgopen['ERAqmean'], msgopen['SMmean0'])\n",
    "plt.axhline(0, xmin=6, xmax=16, color='k')"
   ]
  },
  {
   "cell_type": "code",
   "execution_count": 62,
   "metadata": {},
   "outputs": [
    {
     "data": {
      "text/html": [
       "<div>\n",
       "<style scoped>\n",
       "    .dataframe tbody tr th:only-of-type {\n",
       "        vertical-align: middle;\n",
       "    }\n",
       "\n",
       "    .dataframe tbody tr th {\n",
       "        vertical-align: top;\n",
       "    }\n",
       "\n",
       "    .dataframe thead th {\n",
       "        text-align: right;\n",
       "    }\n",
       "</style>\n",
       "<table border=\"1\" class=\"dataframe\">\n",
       "  <thead>\n",
       "    <tr style=\"text-align: right;\">\n",
       "      <th></th>\n",
       "      <th>id</th>\n",
       "      <th>year</th>\n",
       "      <th>month</th>\n",
       "      <th>day</th>\n",
       "      <th>hour</th>\n",
       "      <th>lon</th>\n",
       "      <th>lat</th>\n",
       "      <th>xloc</th>\n",
       "      <th>yloc</th>\n",
       "      <th>area</th>\n",
       "      <th>...</th>\n",
       "      <th>SMdry0</th>\n",
       "      <th>SMwet0</th>\n",
       "      <th>SMmean-1</th>\n",
       "      <th>SMdry-1</th>\n",
       "      <th>SMwet-1</th>\n",
       "      <th>LSTAmean</th>\n",
       "      <th>LSTAslotfrac</th>\n",
       "      <th>dtime</th>\n",
       "      <th>ERAqmean</th>\n",
       "      <th>SMscale</th>\n",
       "    </tr>\n",
       "  </thead>\n",
       "  <tbody>\n",
       "    <tr>\n",
       "      <th>517</th>\n",
       "      <td>517</td>\n",
       "      <td>2006</td>\n",
       "      <td>6</td>\n",
       "      <td>28</td>\n",
       "      <td>17</td>\n",
       "      <td>0.869540</td>\n",
       "      <td>10.367043</td>\n",
       "      <td>639</td>\n",
       "      <td>235</td>\n",
       "      <td>35775</td>\n",
       "      <td>...</td>\n",
       "      <td>1.0</td>\n",
       "      <td>0.0</td>\n",
       "      <td>-7.766056</td>\n",
       "      <td>1.000000</td>\n",
       "      <td>0.000000</td>\n",
       "      <td>3.161305</td>\n",
       "      <td>0.995005</td>\n",
       "      <td>0.0</td>\n",
       "      <td>15.27</td>\n",
       "      <td>24.0</td>\n",
       "    </tr>\n",
       "    <tr>\n",
       "      <th>518</th>\n",
       "      <td>518</td>\n",
       "      <td>2006</td>\n",
       "      <td>6</td>\n",
       "      <td>28</td>\n",
       "      <td>17</td>\n",
       "      <td>0.689877</td>\n",
       "      <td>10.544875</td>\n",
       "      <td>632</td>\n",
       "      <td>241</td>\n",
       "      <td>35775</td>\n",
       "      <td>...</td>\n",
       "      <td>1.0</td>\n",
       "      <td>0.0</td>\n",
       "      <td>-7.963693</td>\n",
       "      <td>1.000000</td>\n",
       "      <td>0.000000</td>\n",
       "      <td>3.687608</td>\n",
       "      <td>0.996582</td>\n",
       "      <td>0.0</td>\n",
       "      <td>15.30</td>\n",
       "      <td>24.0</td>\n",
       "    </tr>\n",
       "    <tr>\n",
       "      <th>519</th>\n",
       "      <td>519</td>\n",
       "      <td>2006</td>\n",
       "      <td>6</td>\n",
       "      <td>28</td>\n",
       "      <td>17</td>\n",
       "      <td>1.408530</td>\n",
       "      <td>10.900223</td>\n",
       "      <td>658</td>\n",
       "      <td>254</td>\n",
       "      <td>35775</td>\n",
       "      <td>...</td>\n",
       "      <td>1.0</td>\n",
       "      <td>0.0</td>\n",
       "      <td>-7.581216</td>\n",
       "      <td>1.000000</td>\n",
       "      <td>0.000000</td>\n",
       "      <td>2.744523</td>\n",
       "      <td>0.999351</td>\n",
       "      <td>1.0</td>\n",
       "      <td>15.37</td>\n",
       "      <td>24.0</td>\n",
       "    </tr>\n",
       "    <tr>\n",
       "      <th>520</th>\n",
       "      <td>520</td>\n",
       "      <td>2006</td>\n",
       "      <td>6</td>\n",
       "      <td>28</td>\n",
       "      <td>17</td>\n",
       "      <td>2.037350</td>\n",
       "      <td>11.432437</td>\n",
       "      <td>681</td>\n",
       "      <td>273</td>\n",
       "      <td>35775</td>\n",
       "      <td>...</td>\n",
       "      <td>1.0</td>\n",
       "      <td>0.0</td>\n",
       "      <td>-5.397137</td>\n",
       "      <td>0.976276</td>\n",
       "      <td>0.009655</td>\n",
       "      <td>3.272768</td>\n",
       "      <td>0.994805</td>\n",
       "      <td>2.0</td>\n",
       "      <td>15.41</td>\n",
       "      <td>24.0</td>\n",
       "    </tr>\n",
       "    <tr>\n",
       "      <th>521</th>\n",
       "      <td>521</td>\n",
       "      <td>2006</td>\n",
       "      <td>6</td>\n",
       "      <td>28</td>\n",
       "      <td>17</td>\n",
       "      <td>2.217013</td>\n",
       "      <td>11.698167</td>\n",
       "      <td>687</td>\n",
       "      <td>282</td>\n",
       "      <td>35775</td>\n",
       "      <td>...</td>\n",
       "      <td>1.0</td>\n",
       "      <td>0.0</td>\n",
       "      <td>-4.452505</td>\n",
       "      <td>0.898207</td>\n",
       "      <td>0.076966</td>\n",
       "      <td>4.063855</td>\n",
       "      <td>0.988961</td>\n",
       "      <td>0.0</td>\n",
       "      <td>15.36</td>\n",
       "      <td>45.0</td>\n",
       "    </tr>\n",
       "  </tbody>\n",
       "</table>\n",
       "<p>5 rows × 25 columns</p>\n",
       "</div>"
      ],
      "text/plain": [
       "      id  year  month  day  hour       lon        lat  xloc  yloc   area  ...  \\\n",
       "517  517  2006      6   28    17  0.869540  10.367043   639   235  35775  ...   \n",
       "518  518  2006      6   28    17  0.689877  10.544875   632   241  35775  ...   \n",
       "519  519  2006      6   28    17  1.408530  10.900223   658   254  35775  ...   \n",
       "520  520  2006      6   28    17  2.037350  11.432437   681   273  35775  ...   \n",
       "521  521  2006      6   28    17  2.217013  11.698167   687   282  35775  ...   \n",
       "\n",
       "     SMdry0  SMwet0  SMmean-1   SMdry-1   SMwet-1  LSTAmean  LSTAslotfrac  \\\n",
       "517     1.0     0.0 -7.766056  1.000000  0.000000  3.161305      0.995005   \n",
       "518     1.0     0.0 -7.963693  1.000000  0.000000  3.687608      0.996582   \n",
       "519     1.0     0.0 -7.581216  1.000000  0.000000  2.744523      0.999351   \n",
       "520     1.0     0.0 -5.397137  0.976276  0.009655  3.272768      0.994805   \n",
       "521     1.0     0.0 -4.452505  0.898207  0.076966  4.063855      0.988961   \n",
       "\n",
       "     dtime  ERAqmean  SMscale  \n",
       "517    0.0     15.27     24.0  \n",
       "518    0.0     15.30     24.0  \n",
       "519    1.0     15.37     24.0  \n",
       "520    2.0     15.41     24.0  \n",
       "521    0.0     15.36     45.0  \n",
       "\n",
       "[5 rows x 25 columns]"
      ]
     },
     "execution_count": 62,
     "metadata": {},
     "output_type": "execute_result"
    }
   ],
   "source": [
    "dry.head()"
   ]
  },
  {
   "cell_type": "code",
   "execution_count": 63,
   "metadata": {},
   "outputs": [
    {
     "name": "stdout",
     "output_type": "stream",
     "text": [
      "Number of dry cases: 228\n"
     ]
    }
   ],
   "source": [
    "print('Number of dry cases:', dry.shape[0])"
   ]
  },
  {
   "cell_type": "code",
   "execution_count": 64,
   "metadata": {},
   "outputs": [
    {
     "data": {
      "text/plain": [
       "Index(['id', 'year', 'month', 'day', 'hour', 'lon', 'lat', 'xloc', 'yloc',\n",
       "       'area', 'csize', 't', 'storm_id', 'topo', 'SMmean0', 'SMdry0', 'SMwet0',\n",
       "       'SMmean-1', 'SMdry-1', 'SMwet-1', 'LSTAmean', 'LSTAslotfrac', 'dtime',\n",
       "       'ERAqmean', 'SMscale'],\n",
       "      dtype='object')"
      ]
     },
     "execution_count": 64,
     "metadata": {},
     "output_type": "execute_result"
    }
   ],
   "source": [
    "wet.keys()"
   ]
  },
  {
   "cell_type": "code",
   "execution_count": 65,
   "metadata": {},
   "outputs": [
    {
     "name": "stdout",
     "output_type": "stream",
     "text": [
      "Number of wet cases: 228\n"
     ]
    }
   ],
   "source": [
    "print('Number of wet cases:', wet.shape[0])"
   ]
  },
  {
   "cell_type": "markdown",
   "metadata": {},
   "source": [
    "### The dry case shows a shift in the core temperature distribution by -2K"
   ]
  },
  {
   "cell_type": "code",
   "execution_count": 66,
   "metadata": {},
   "outputs": [
    {
     "data": {
      "text/plain": [
       "Text(0.5,1,'Core frequency binned by core centre temperature')"
      ]
     },
     "execution_count": 66,
     "metadata": {},
     "output_type": "execute_result"
    },
    {
     "data": {
      "image/png": "[encoded data removed]",
      "text/plain": [
       "<Figure size 648x432 with 1 Axes>"
      ]
     },
     "metadata": {
      "needs_background": "light"
     },
     "output_type": "display_data"
    }
   ],
   "source": [
    "f= plt.figure(figsize=(9,6))\n",
    "ax = f.add_subplot(111)\n",
    "u_plot.hist_freq(ax, wet.t, alpha=0.5, label='wet', edgecolor='k', bins=15, range=(-95,-55))\n",
    "u_plot.hist_freq(ax, dry.t, alpha=0.5, label='dry', edgecolor='k', bins=15, range=(-95,-55))\n",
    "u_plot.hist_freq(ax, msgopen.t, alpha=0.5, label='all', edgecolor='k', linewidth=3, bins=15, range=(-95,-55), facecolor='None')\n",
    "plt.legend(fontsize=15)\n",
    "plt.ylabel('Frequency of cores')\n",
    "plt.xlabel('Core temperature')\n",
    "plt.title('Core frequency binned by core centre temperature')\n",
    "#plt.savefig('/home/ck/DIR/cornkle/figs/LSTA/corrected_LSTA/new/coreT_GT14LT16_Q.png')"
   ]
  },
  {
   "cell_type": "code",
   "execution_count": 67,
   "metadata": {},
   "outputs": [
    {
     "data": {
      "text/plain": [
       "(array([147., 401., 224.,   0., 161.,   0.,   0., 118.,   0.,   0.,  94.,\n",
       "          0.,   0.,   0.,   0.,  84.,   0.,   0.,   0.]),\n",
       " array([ 28.        ,  39.68421053,  51.36842105,  63.05263158,\n",
       "         74.73684211,  86.42105263,  98.10526316, 109.78947368,\n",
       "        121.47368421, 133.15789474, 144.84210526, 156.52631579,\n",
       "        168.21052632, 179.89473684, 191.57894737, 203.26315789,\n",
       "        214.94736842, 226.63157895, 238.31578947, 250.        ]),\n",
       " <a list of 19 Patch objects>)"
      ]
     },
     "execution_count": 67,
     "metadata": {},
     "output_type": "execute_result"
    },
    {
     "data": {
      "image/png": "[encoded data removed]",
      "text/plain": [
       "<Figure size 432x288 with 1 Axes>"
      ]
     },
     "metadata": {
      "needs_background": "light"
     },
     "output_type": "display_data"
    }
   ],
   "source": [
    "plt.hist(msgopen.SMscale[msgopen.SMscale!=0], bins=np.linspace(28,250,20))"
   ]
  },
  {
   "cell_type": "code",
   "execution_count": 48,
   "metadata": {},
   "outputs": [
    {
     "data": {
      "text/plain": [
       "array([ 33.,  33.,  45.,  45.,  61.,  61.,  84., 114., 156., 543.])"
      ]
     },
     "execution_count": 48,
     "metadata": {},
     "output_type": "execute_result"
    }
   ],
   "source": [
    "np.percentile(msgopen.SMscale[msgopen.SMscale>=25], np.linspace(0,100,10))"
   ]
  },
  {
   "cell_type": "code",
   "execution_count": 60,
   "metadata": {},
   "outputs": [
    {
     "data": {
      "text/plain": [
       "-80.99890845163682"
      ]
     },
     "execution_count": 60,
     "metadata": {},
     "output_type": "execute_result"
    }
   ],
   "source": [
    "np.percentile(msgopen.t, 10)"
   ]
  },
  {
   "cell_type": "code",
   "execution_count": 61,
   "metadata": {},
   "outputs": [
    {
     "data": {
      "text/plain": [
       "0.052941176470588235"
      ]
     },
     "execution_count": 61,
     "metadata": {},
     "output_type": "execute_result"
    }
   ],
   "source": [
    "np.sum(wet.t<-81.389)/wet.t.size"
   ]
  },
  {
   "cell_type": "code",
   "execution_count": 62,
   "metadata": {},
   "outputs": [
    {
     "data": {
      "text/plain": [
       "0.17647058823529413"
      ]
     },
     "execution_count": 62,
     "metadata": {},
     "output_type": "execute_result"
    }
   ],
   "source": [
    "np.sum(dry.t<-81.389)/wet.t.size"
   ]
  },
  {
   "cell_type": "code",
   "execution_count": 63,
   "metadata": {},
   "outputs": [
    {
     "name": "stdout",
     "output_type": "stream",
     "text": [
      "Core mean temperature DRY:  -75.96148883211391\n",
      "Core mean temperature WET:  -73.17101732375546\n"
     ]
    }
   ],
   "source": [
    "print('Core mean temperature DRY: ', np.mean(np.mean(dry.t)))\n",
    "print('Core mean temperature WET: ', np.mean(np.mean(wet.t)))"
   ]
  },
  {
   "cell_type": "code",
   "execution_count": 64,
   "metadata": {},
   "outputs": [
    {
     "name": "stdout",
     "output_type": "stream",
     "text": [
      "Core mean temperature DRY:  -82.13904552956853\n",
      "Core mean temperature WET:  -79.19026194060332\n"
     ]
    }
   ],
   "source": [
    "print('Core mean temperature DRY: ', np.mean(np.percentile(dry.t,10)))\n",
    "print('Core mean temperature WET: ', np.mean(np.percentile(wet.t,10)))"
   ]
  },
  {
   "cell_type": "markdown",
   "metadata": {},
   "source": [
    "### We get very few wet cases in June "
   ]
  },
  {
   "cell_type": "code",
   "execution_count": 65,
   "metadata": {},
   "outputs": [
    {
     "data": {
      "text/plain": [
       "Text(0.5,1,'Core frequency binned by month')"
      ]
     },
     "execution_count": 65,
     "metadata": {},
     "output_type": "execute_result"
    },
    {
     "data": {
      "image/png": "[encoded data removed]",
      "text/plain": [
       "<Figure size 648x432 with 1 Axes>"
      ]
     },
     "metadata": {
      "needs_background": "light"
     },
     "output_type": "display_data"
    }
   ],
   "source": [
    "f= plt.figure(figsize=(9,6))\n",
    "ax = f.add_subplot(111)\n",
    "u_plot.hist_freq(ax, wet.month, alpha=0.5, label='wet', edgecolor='k', bins=5, range=(5,10))\n",
    "u_plot.hist_freq(ax, dry.month, alpha=0.5, label='dry', edgecolor='k', bins=5, range=(5,10))\n",
    "u_plot.hist_freq(ax, msgopen.month, alpha=0.5, label='all', edgecolor='k', linewidth=3, bins=5, range=(5,10), facecolor='None')\n",
    "plt.legend(fontsize=15)\n",
    "plt.ylabel('Frequency of cores')\n",
    "plt.xlabel('Month')\n",
    "plt.title('Core frequency binned by month')"
   ]
  },
  {
   "cell_type": "markdown",
   "metadata": {},
   "source": [
    "### The dry cases tend to occur further south - as expected from main occurence during June/July\n",
    "### The wet case doesn't show such a preference"
   ]
  },
  {
   "cell_type": "code",
   "execution_count": 46,
   "metadata": {},
   "outputs": [
    {
     "data": {
      "text/plain": [
       "Text(0.5,1,'Core frequency binned by latitude')"
      ]
     },
     "execution_count": 46,
     "metadata": {},
     "output_type": "execute_result"
    },
    {
     "data": {
      "image/png": "[encoded data removed]",
      "text/plain": [
       "<Figure size 648x432 with 1 Axes>"
      ]
     },
     "metadata": {
      "needs_background": "light"
     },
     "output_type": "display_data"
    }
   ],
   "source": [
    "f= plt.figure(figsize=(9,6))\n",
    "ax = f.add_subplot(111)\n",
    "u_plot.hist_freq(ax, wet.lat, alpha=0.5, label='wet', edgecolor='k', bins=10, range=(9,20))\n",
    "u_plot.hist_freq(ax, dry.lat, alpha=0.5, label='dry', edgecolor='k', bins=10, range=(9,20))\n",
    "u_plot.hist_freq(ax, msgopen.lat, alpha=0.5, label='all', edgecolor='k', linewidth=3, bins=10, range=(9,20), facecolor='None')\n",
    "plt.legend(fontsize=15)\n",
    "plt.ylabel('Frequency of cores')\n",
    "plt.xlabel('Latitude')\n",
    "plt.title('Core frequency binned by latitude')"
   ]
  },
  {
   "cell_type": "code",
   "execution_count": 49,
   "metadata": {},
   "outputs": [
    {
     "data": {
      "text/plain": [
       "<matplotlib.collections.PathCollection at 0x7f0a34c67410>"
      ]
     },
     "execution_count": 49,
     "metadata": {},
     "output_type": "execute_result"
    },
    {
     "data": {
      "image/png": "[encoded data removed]",
      "text/plain": [
       "<Figure size 432x288 with 1 Axes>"
      ]
     },
     "metadata": {
      "needs_background": "light"
     },
     "output_type": "display_data"
    }
   ],
   "source": [
    "plt.scatter(wet.lat,wet.ERAqmean)\n",
    "plt.scatter(dry.lat, dry.ERAqmean, color='r')"
   ]
  },
  {
   "cell_type": "code",
   "execution_count": null,
   "metadata": {},
   "outputs": [],
   "source": []
  },
  {
   "cell_type": "code",
   "execution_count": 144,
   "metadata": {},
   "outputs": [],
   "source": [
    "topo = xr.open_dataarray(cnst.network_data + 'data/ancils_python/lsta_corr_topo.nc')\n",
    "topo = topo.sel(lat=slice(9,16))\n",
    "h = topo.mean(dim='lat')"
   ]
  },
  {
   "cell_type": "markdown",
   "metadata": {},
   "source": [
    "### Overall core frequency follows topography. Would have to look into dry-core case around 5W"
   ]
  },
  {
   "cell_type": "code",
   "execution_count": 145,
   "metadata": {},
   "outputs": [
    {
     "data": {
      "text/plain": [
       "Text(0.5,1,'Core frequency binned by longitude')"
      ]
     },
     "execution_count": 145,
     "metadata": {},
     "output_type": "execute_result"
    },
    {
     "data": {
      "image/png": "[encoded data removed]",
      "text/plain": [
       "<Figure size 648x648 with 2 Axes>"
      ]
     },
     "metadata": {
      "needs_background": "light"
     },
     "output_type": "display_data"
    }
   ],
   "source": [
    "f= plt.figure(figsize=(9,9))\n",
    "\n",
    "ax = f.add_subplot(211)\n",
    "ax.plot(h.lon,h)\n",
    "plt.title('Mean topography 9-16N')\n",
    "\n",
    "ax = f.add_subplot(212)\n",
    "u_plot.hist_freq(ax, wet.lon, alpha=0.5, label='wet', edgecolor='k', bins=20, range=(-10,10))\n",
    "u_plot.hist_freq(ax, dry.lon, alpha=0.5, label='dry', edgecolor='k', bins=20, range=(-10,10))\n",
    "u_plot.hist_freq(ax, msgopen.lon, alpha=0.5, label='all', edgecolor='k', linewidth=3,  bins=20, range=(-10,10), facecolor='None')\n",
    "plt.legend(fontsize=15)\n",
    "#ax.plot(h.lon, h)\n",
    "plt.legend(fontsize=15)\n",
    "plt.ylabel('Frequency of cores')\n",
    "plt.title('Core frequency binned by longitude')"
   ]
  },
  {
   "cell_type": "markdown",
   "metadata": {},
   "source": [
    "### Atmospheric conditions associated with the dry case favour shear and therefore organisation into bigger storms? "
   ]
  },
  {
   "cell_type": "code",
   "execution_count": 146,
   "metadata": {},
   "outputs": [
    {
     "data": {
      "text/plain": [
       "Text(0.5,1,'Core frequency binned by storm area')"
      ]
     },
     "execution_count": 146,
     "metadata": {},
     "output_type": "execute_result"
    },
    {
     "data": {
      "image/png": "[encoded data removed]",
      "text/plain": [
       "<Figure size 648x432 with 1 Axes>"
      ]
     },
     "metadata": {
      "needs_background": "light"
     },
     "output_type": "display_data"
    }
   ],
   "source": [
    "f= plt.figure(figsize=(9,6))\n",
    "ax = f.add_subplot(111)\n",
    "u_plot.hist_freq(ax, wet.area, alpha=0.5, label='wet', edgecolor='k', bins=12, range=(10000,200000))\n",
    "u_plot.hist_freq(ax, dry.area, alpha=0.5, label='dry', edgecolor='k', bins=12, range=(10000,200000))\n",
    "u_plot.hist_freq(ax, msgopen.area, alpha=0.5, label='all', edgecolor='k', linewidth=3, bins=10, range=(10000,200000), facecolor='None')\n",
    "\n",
    "plt.legend(fontsize=15)\n",
    "plt.ylabel('Frequency of cores')\n",
    "plt.xlabel('Storm area (km$^{-2}$)')\n",
    "plt.title('Core frequency binned by storm area')"
   ]
  },
  {
   "cell_type": "code",
   "execution_count": 94,
   "metadata": {},
   "outputs": [
    {
     "data": {
      "text/plain": [
       "75118.12749003984"
      ]
     },
     "execution_count": 94,
     "metadata": {},
     "output_type": "execute_result"
    }
   ],
   "source": [
    "np.mean(wet.area)"
   ]
  },
  {
   "cell_type": "code",
   "execution_count": 95,
   "metadata": {},
   "outputs": [
    {
     "data": {
      "text/plain": [
       "118019.9806949807"
      ]
     },
     "execution_count": 95,
     "metadata": {},
     "output_type": "execute_result"
    }
   ],
   "source": [
    "np.mean(dry.area)"
   ]
  },
  {
   "cell_type": "code",
   "execution_count": 96,
   "metadata": {},
   "outputs": [
    {
     "data": {
      "text/plain": [
       "0.5711251682974838"
      ]
     },
     "execution_count": 96,
     "metadata": {},
     "output_type": "execute_result"
    }
   ],
   "source": [
    "(np.mean(dry.area) - np.mean(wet.area)) / np.mean(wet.area)"
   ]
  },
  {
   "cell_type": "code",
   "execution_count": null,
   "metadata": {},
   "outputs": [],
   "source": [
    "plt.scatter"
   ]
  }
 ],
 "metadata": {
  "kernelspec": {
   "display_name": "Python 3",
   "language": "python",
   "name": "python3"
  },
  "language_info": {
   "codemirror_mode": {
    "name": "ipython",
    "version": 3
   },
   "file_extension": ".py",
   "mimetype": "text/x-python",
   "name": "python",
   "nbconvert_exporter": "python",
   "pygments_lexer": "ipython3",
   "version": "3.7.6"
  }
 },
 "nbformat": 4,
 "nbformat_minor": 2
}
