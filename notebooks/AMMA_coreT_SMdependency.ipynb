{
 "cells": [
  {
   "cell_type": "code",
   "execution_count": 2,
   "metadata": {},
   "outputs": [],
   "source": [
    "import ipdb\n",
    "import numpy as np\n",
    "import xarray as xr\n",
    "import matplotlib.pyplot as plt\n",
    "import pandas as pd\n",
    "import matplotlib.pylab as pylab\n",
    "import cartopy\n",
    "from utils import constants as cnst\n",
    "from eod import msg\n",
    "from utils import u_grid, u_interpolate as u_int, constants as cnst, u_arrays, u_darrays, u_met, u_statistics, u_plot\n",
    "import pandas as pd\n",
    "import matplotlib.pyplot as plt\n",
    "import cartopy.crs as ccrs\n",
    "import cartopy.feature as feature\n",
    "import cartopy.io.shapereader as shapereader\n",
    "import pandas as pd\n",
    "import pickle as pkl\n",
    "from utils import constants as cnst\n",
    "\n",
    "\n",
    "coast = shapereader.natural_earth(resolution='110m',\n",
    "                                  category='physical',\n",
    "                                  name='coastline')\n",
    "\n",
    "countries = shapereader.natural_earth(resolution='110m',\n",
    "                                      category='cultural',\n",
    "                                      name='admin_0_countries')\n",
    "\n",
    "pylab.rcParams['figure.figsize'] = (50., 50.)\n",
    "%matplotlib inline"
   ]
  },
  {
   "cell_type": "code",
   "execution_count": 1,
   "metadata": {},
   "outputs": [
    {
     "name": "stdout",
     "output_type": "stream",
     "text": [
      "/home/ck/pythonWorkspace/proj_CEH\n"
     ]
    }
   ],
   "source": [
    "cd .."
   ]
  },
  {
   "cell_type": "code",
   "execution_count": 3,
   "metadata": {},
   "outputs": [],
   "source": [
    "msgopen = pd.read_csv('/home/ck/DIR/cornkle/figs/LSTA/corrected_LSTA/new/ERA5/core_txt/cores_gt15000km2_table_AMSRE_tracking_17_init.csv')"
   ]
  },
  {
   "cell_type": "markdown",
   "metadata": {},
   "source": [
    "##  Wet / Dry case comparison"
   ]
  },
  {
   "cell_type": "markdown",
   "metadata": {},
   "source": [
    "Wet: Day 0 / Day -1 > + 0.01% SM anomaly mean (more like 'neutral & wet condition')\n",
    "\n",
    "Dry: Day  0 < -3% , Day-1 < -1.5% SM anomaly mean\n",
    "\n",
    "Identified in box + - 90 km and 200km upstream from core centre"
   ]
  },
  {
   "cell_type": "code",
   "execution_count": 4,
   "metadata": {},
   "outputs": [
    {
     "data": {
      "text/plain": [
       "(7519, 24)"
      ]
     },
     "execution_count": 4,
     "metadata": {},
     "output_type": "execute_result"
    }
   ],
   "source": [
    "msgopen.shape"
   ]
  },
  {
   "cell_type": "code",
   "execution_count": 5,
   "metadata": {},
   "outputs": [
    {
     "name": "stdout",
     "output_type": "stream",
     "text": [
      "Number of ALL cases: 7519\n"
     ]
    }
   ],
   "source": [
    "print('Number of ALL cases:', msgopen.shape[0])"
   ]
  },
  {
   "cell_type": "code",
   "execution_count": 6,
   "metadata": {},
   "outputs": [],
   "source": [
    "dry = msgopen[(msgopen['SMmean0']<-3)& (msgopen['SMmean-1'] <-1.5) &(msgopen['SMmean0']>-900)& (msgopen['SMmean-1'] >-900) ]"
   ]
  },
  {
   "cell_type": "code",
   "execution_count": 7,
   "metadata": {},
   "outputs": [],
   "source": [
    "wet = msgopen[(msgopen['SMmean0']>0.01)& (msgopen['SMmean-1'] >0.01)]"
   ]
  },
  {
   "cell_type": "code",
   "execution_count": 8,
   "metadata": {},
   "outputs": [
    {
     "data": {
      "text/html": [
       "<div>\n",
       "<style scoped>\n",
       "    .dataframe tbody tr th:only-of-type {\n",
       "        vertical-align: middle;\n",
       "    }\n",
       "\n",
       "    .dataframe tbody tr th {\n",
       "        vertical-align: top;\n",
       "    }\n",
       "\n",
       "    .dataframe thead th {\n",
       "        text-align: right;\n",
       "    }\n",
       "</style>\n",
       "<table border=\"1\" class=\"dataframe\">\n",
       "  <thead>\n",
       "    <tr style=\"text-align: right;\">\n",
       "      <th></th>\n",
       "      <th>id</th>\n",
       "      <th>id.1</th>\n",
       "      <th>year</th>\n",
       "      <th>month</th>\n",
       "      <th>day</th>\n",
       "      <th>hour</th>\n",
       "      <th>lon</th>\n",
       "      <th>lat</th>\n",
       "      <th>xloc</th>\n",
       "      <th>yloc</th>\n",
       "      <th>...</th>\n",
       "      <th>SMmean0</th>\n",
       "      <th>SMdry0</th>\n",
       "      <th>SMwet0</th>\n",
       "      <th>SMmean-1</th>\n",
       "      <th>SMdry-1</th>\n",
       "      <th>SMwet-1</th>\n",
       "      <th>initTime</th>\n",
       "      <th>xinit</th>\n",
       "      <th>yinit</th>\n",
       "      <th>xdiff</th>\n",
       "    </tr>\n",
       "  </thead>\n",
       "  <tbody>\n",
       "    <tr>\n",
       "      <th>12</th>\n",
       "      <td>12</td>\n",
       "      <td>12</td>\n",
       "      <td>2006</td>\n",
       "      <td>6</td>\n",
       "      <td>2</td>\n",
       "      <td>17</td>\n",
       "      <td>-0.882174</td>\n",
       "      <td>9.030164</td>\n",
       "      <td>575</td>\n",
       "      <td>187</td>\n",
       "      <td>...</td>\n",
       "      <td>-3.691519</td>\n",
       "      <td>1.0</td>\n",
       "      <td>0.0</td>\n",
       "      <td>-4.139150</td>\n",
       "      <td>1.0</td>\n",
       "      <td>0.0</td>\n",
       "      <td>12.5</td>\n",
       "      <td>928.0</td>\n",
       "      <td>196.0</td>\n",
       "      <td>17.0</td>\n",
       "    </tr>\n",
       "    <tr>\n",
       "      <th>16</th>\n",
       "      <td>16</td>\n",
       "      <td>16</td>\n",
       "      <td>2006</td>\n",
       "      <td>6</td>\n",
       "      <td>2</td>\n",
       "      <td>17</td>\n",
       "      <td>-0.567764</td>\n",
       "      <td>9.565561</td>\n",
       "      <td>586</td>\n",
       "      <td>206</td>\n",
       "      <td>...</td>\n",
       "      <td>-4.154485</td>\n",
       "      <td>1.0</td>\n",
       "      <td>0.0</td>\n",
       "      <td>-4.073038</td>\n",
       "      <td>1.0</td>\n",
       "      <td>0.0</td>\n",
       "      <td>12.5</td>\n",
       "      <td>928.0</td>\n",
       "      <td>196.0</td>\n",
       "      <td>15.0</td>\n",
       "    </tr>\n",
       "    <tr>\n",
       "      <th>17</th>\n",
       "      <td>17</td>\n",
       "      <td>17</td>\n",
       "      <td>2006</td>\n",
       "      <td>6</td>\n",
       "      <td>2</td>\n",
       "      <td>17</td>\n",
       "      <td>-0.702511</td>\n",
       "      <td>9.743840</td>\n",
       "      <td>581</td>\n",
       "      <td>212</td>\n",
       "      <td>...</td>\n",
       "      <td>-3.593240</td>\n",
       "      <td>1.0</td>\n",
       "      <td>0.0</td>\n",
       "      <td>-4.116375</td>\n",
       "      <td>1.0</td>\n",
       "      <td>0.0</td>\n",
       "      <td>8.0</td>\n",
       "      <td>662.0</td>\n",
       "      <td>330.0</td>\n",
       "      <td>192.0</td>\n",
       "    </tr>\n",
       "    <tr>\n",
       "      <th>69</th>\n",
       "      <td>69</td>\n",
       "      <td>69</td>\n",
       "      <td>2006</td>\n",
       "      <td>6</td>\n",
       "      <td>7</td>\n",
       "      <td>17</td>\n",
       "      <td>-5.014425</td>\n",
       "      <td>9.074812</td>\n",
       "      <td>424</td>\n",
       "      <td>188</td>\n",
       "      <td>...</td>\n",
       "      <td>-10.423020</td>\n",
       "      <td>1.0</td>\n",
       "      <td>0.0</td>\n",
       "      <td>-4.209049</td>\n",
       "      <td>1.0</td>\n",
       "      <td>0.0</td>\n",
       "      <td>12.5</td>\n",
       "      <td>611.0</td>\n",
       "      <td>221.0</td>\n",
       "      <td>41.0</td>\n",
       "    </tr>\n",
       "    <tr>\n",
       "      <th>70</th>\n",
       "      <td>70</td>\n",
       "      <td>70</td>\n",
       "      <td>2006</td>\n",
       "      <td>6</td>\n",
       "      <td>7</td>\n",
       "      <td>17</td>\n",
       "      <td>-5.014425</td>\n",
       "      <td>9.119454</td>\n",
       "      <td>424</td>\n",
       "      <td>190</td>\n",
       "      <td>...</td>\n",
       "      <td>-10.543681</td>\n",
       "      <td>1.0</td>\n",
       "      <td>0.0</td>\n",
       "      <td>-4.259786</td>\n",
       "      <td>1.0</td>\n",
       "      <td>0.0</td>\n",
       "      <td>12.5</td>\n",
       "      <td>611.0</td>\n",
       "      <td>221.0</td>\n",
       "      <td>43.0</td>\n",
       "    </tr>\n",
       "  </tbody>\n",
       "</table>\n",
       "<p>5 rows × 24 columns</p>\n",
       "</div>"
      ],
      "text/plain": [
       "    id  id.1  year  month  day  hour       lon       lat  xloc  yloc  ...  \\\n",
       "12  12    12  2006      6    2    17 -0.882174  9.030164   575   187  ...   \n",
       "16  16    16  2006      6    2    17 -0.567764  9.565561   586   206  ...   \n",
       "17  17    17  2006      6    2    17 -0.702511  9.743840   581   212  ...   \n",
       "69  69    69  2006      6    7    17 -5.014425  9.074812   424   188  ...   \n",
       "70  70    70  2006      6    7    17 -5.014425  9.119454   424   190  ...   \n",
       "\n",
       "      SMmean0  SMdry0  SMwet0  SMmean-1  SMdry-1  SMwet-1  initTime  xinit  \\\n",
       "12  -3.691519     1.0     0.0 -4.139150      1.0      0.0      12.5  928.0   \n",
       "16  -4.154485     1.0     0.0 -4.073038      1.0      0.0      12.5  928.0   \n",
       "17  -3.593240     1.0     0.0 -4.116375      1.0      0.0       8.0  662.0   \n",
       "69 -10.423020     1.0     0.0 -4.209049      1.0      0.0      12.5  611.0   \n",
       "70 -10.543681     1.0     0.0 -4.259786      1.0      0.0      12.5  611.0   \n",
       "\n",
       "    yinit  xdiff  \n",
       "12  196.0   17.0  \n",
       "16  196.0   15.0  \n",
       "17  330.0  192.0  \n",
       "69  221.0   41.0  \n",
       "70  221.0   43.0  \n",
       "\n",
       "[5 rows x 24 columns]"
      ]
     },
     "execution_count": 8,
     "metadata": {},
     "output_type": "execute_result"
    }
   ],
   "source": [
    "dry.head()"
   ]
  },
  {
   "cell_type": "code",
   "execution_count": 9,
   "metadata": {},
   "outputs": [
    {
     "name": "stdout",
     "output_type": "stream",
     "text": [
      "Number of dry cases: 353\n"
     ]
    }
   ],
   "source": [
    "print('Number of dry cases:', dry.shape[0])"
   ]
  },
  {
   "cell_type": "code",
   "execution_count": 10,
   "metadata": {},
   "outputs": [
    {
     "data": {
      "text/plain": [
       "Index(['id', 'id.1', 'year', 'month', 'day', 'hour', 'lon', 'lat', 'xloc',\n",
       "       'yloc', 'area', 'csize', 't', 'storm_id', 'SMmean0', 'SMdry0', 'SMwet0',\n",
       "       'SMmean-1', 'SMdry-1', 'SMwet-1', 'initTime', 'xinit', 'yinit',\n",
       "       'xdiff'],\n",
       "      dtype='object')"
      ]
     },
     "execution_count": 10,
     "metadata": {},
     "output_type": "execute_result"
    }
   ],
   "source": [
    "wet.keys()"
   ]
  },
  {
   "cell_type": "code",
   "execution_count": 11,
   "metadata": {},
   "outputs": [
    {
     "name": "stdout",
     "output_type": "stream",
     "text": [
      "Number of wet cases: 376\n"
     ]
    }
   ],
   "source": [
    "print('Number of wet cases:', wet.shape[0])"
   ]
  },
  {
   "cell_type": "markdown",
   "metadata": {},
   "source": [
    "### The dry case shows a shift in the core temperature distribution by -2K"
   ]
  },
  {
   "cell_type": "code",
   "execution_count": 14,
   "metadata": {},
   "outputs": [
    {
     "data": {
      "image/png": "[encoded data removed]",
      "text/plain": [
       "<Figure size 648x432 with 1 Axes>"
      ]
     },
     "metadata": {
      "needs_background": "light"
     },
     "output_type": "display_data"
    }
   ],
   "source": [
    "f= plt.figure(figsize=(9,6))\n",
    "ax = f.add_subplot(111)\n",
    "u_plot.hist_freq(ax, wet.t, alpha=0.5, label='wet', edgecolor='k', bins=15, range=(-95,-55))\n",
    "u_plot.hist_freq(ax, dry.t, alpha=0.5, label='dry', edgecolor='k', bins=15, range=(-95,-55))\n",
    "u_plot.hist_freq(ax, msgopen.t, alpha=0.5, label='all', edgecolor='k', linewidth=3, bins=15, range=(-95,-55), facecolor='None')\n",
    "plt.legend(fontsize=15)\n",
    "plt.ylabel('Frequency of cores')\n",
    "plt.xlabel('Core temperature')\n",
    "plt.title('Core frequency binned by core centre temperature')\n",
    "plt.savefig('/home/ck/DIR/cornkle/figs/LSTA/corrected_LSTA/new/coreT.png')"
   ]
  },
  {
   "cell_type": "code",
   "execution_count": 22,
   "metadata": {},
   "outputs": [
    {
     "data": {
      "text/plain": [
       "-81.38907299963962"
      ]
     },
     "execution_count": 22,
     "metadata": {},
     "output_type": "execute_result"
    }
   ],
   "source": [
    "np.percentile(msgopen.t, 10)"
   ]
  },
  {
   "cell_type": "code",
   "execution_count": 23,
   "metadata": {},
   "outputs": [
    {
     "data": {
      "text/plain": [
       "0.10638297872340426"
      ]
     },
     "execution_count": 23,
     "metadata": {},
     "output_type": "execute_result"
    }
   ],
   "source": [
    "np.sum(wet.t<-81.389)/wet.t.size"
   ]
  },
  {
   "cell_type": "code",
   "execution_count": 24,
   "metadata": {},
   "outputs": [
    {
     "data": {
      "text/plain": [
       "0.19148936170212766"
      ]
     },
     "execution_count": 24,
     "metadata": {},
     "output_type": "execute_result"
    }
   ],
   "source": [
    "np.sum(dry.t<-81.389)/wet.t.size"
   ]
  },
  {
   "cell_type": "code",
   "execution_count": 158,
   "metadata": {},
   "outputs": [
    {
     "name": "stdout",
     "output_type": "stream",
     "text": [
      "Core mean temperature DRY:  -76.6592853098851\n",
      "Core mean temperature WET:  -74.68478357861194\n"
     ]
    }
   ],
   "source": [
    "print('Core mean temperature DRY: ', np.mean(np.mean(dry.t)))\n",
    "print('Core mean temperature WET: ', np.mean(np.mean(wet.t)))"
   ]
  },
  {
   "cell_type": "code",
   "execution_count": 160,
   "metadata": {},
   "outputs": [
    {
     "name": "stdout",
     "output_type": "stream",
     "text": [
      "Core mean temperature DRY:  -83.76294669728108\n",
      "Core mean temperature WET:  -81.6095490757735\n"
     ]
    }
   ],
   "source": [
    "print('Core mean temperature DRY: ', np.mean(np.percentile(dry.t,10)))\n",
    "print('Core mean temperature WET: ', np.mean(np.percentile(wet.t,10)))"
   ]
  },
  {
   "cell_type": "markdown",
   "metadata": {},
   "source": [
    "### We get very few wet cases in June "
   ]
  },
  {
   "cell_type": "code",
   "execution_count": 149,
   "metadata": {},
   "outputs": [
    {
     "data": {
      "text/plain": [
       "Text(0.5, 1.0, 'Core frequency binned by month')"
      ]
     },
     "execution_count": 149,
     "metadata": {},
     "output_type": "execute_result"
    },
    {
     "data": {
      "image/png": "[encoded data removed]",
      "text/plain": [
       "<Figure size 648x432 with 1 Axes>"
      ]
     },
     "metadata": {
      "needs_background": "light"
     },
     "output_type": "display_data"
    }
   ],
   "source": [
    "f= plt.figure(figsize=(9,6))\n",
    "ax = f.add_subplot(111)\n",
    "u_plot.hist_freq(ax, wet.month, alpha=0.5, label='wet', edgecolor='k', bins=5, range=(5,10))\n",
    "u_plot.hist_freq(ax, dry.month, alpha=0.5, label='dry', edgecolor='k', bins=5, range=(5,10))\n",
    "u_plot.hist_freq(ax, msgopen.month, alpha=0.5, label='all', edgecolor='k', linewidth=3, bins=5, range=(5,10), facecolor='None')\n",
    "plt.legend(fontsize=15)\n",
    "plt.ylabel('Frequency of cores')\n",
    "plt.xlabel('Month')\n",
    "plt.title('Core frequency binned by month')"
   ]
  },
  {
   "cell_type": "markdown",
   "metadata": {},
   "source": [
    "### The dry cases tend to occur further south - as expected from main occurence during June/July\n",
    "### The wet case doesn't show such a preference"
   ]
  },
  {
   "cell_type": "code",
   "execution_count": 154,
   "metadata": {},
   "outputs": [
    {
     "data": {
      "text/plain": [
       "Text(0.5, 1.0, 'Core frequency binned by latitude')"
      ]
     },
     "execution_count": 154,
     "metadata": {},
     "output_type": "execute_result"
    },
    {
     "data": {
      "image/png": "[encoded data removed]",
      "text/plain": [
       "<Figure size 648x432 with 1 Axes>"
      ]
     },
     "metadata": {
      "needs_background": "light"
     },
     "output_type": "display_data"
    }
   ],
   "source": [
    "f= plt.figure(figsize=(9,6))\n",
    "ax = f.add_subplot(111)\n",
    "u_plot.hist_freq(ax, wet.lat, alpha=0.5, label='wet', edgecolor='k', bins=10, range=(9,20))\n",
    "u_plot.hist_freq(ax, dry.lat, alpha=0.5, label='dry', edgecolor='k', bins=10, range=(9,20))\n",
    "u_plot.hist_freq(ax, msgopen.lat, alpha=0.5, label='all', edgecolor='k', linewidth=3, bins=10, range=(9,20), facecolor='None')\n",
    "plt.legend(fontsize=15)\n",
    "plt.ylabel('Frequency of cores')\n",
    "plt.xlabel('Latitude')\n",
    "plt.title('Core frequency binned by latitude')"
   ]
  },
  {
   "cell_type": "code",
   "execution_count": 113,
   "metadata": {},
   "outputs": [],
   "source": [
    "topo = xr.open_dataarray(cnst.network_data + 'data/ancils_python/lsta_corr_topo.nc')\n",
    "topo = topo.sel(lat=slice(9,16))\n",
    "h = topo.mean(dim='lat')"
   ]
  },
  {
   "cell_type": "markdown",
   "metadata": {},
   "source": [
    "### Overall core frequency follows topography. Would have to look into dry-core case around 5W"
   ]
  },
  {
   "cell_type": "code",
   "execution_count": 156,
   "metadata": {},
   "outputs": [
    {
     "data": {
      "text/plain": [
       "Text(0.5, 1.0, 'Core frequency binned by longitude')"
      ]
     },
     "execution_count": 156,
     "metadata": {},
     "output_type": "execute_result"
    },
    {
     "data": {
      "image/png": "[encoded data removed]",
      "text/plain": [
       "<Figure size 648x648 with 2 Axes>"
      ]
     },
     "metadata": {
      "needs_background": "light"
     },
     "output_type": "display_data"
    }
   ],
   "source": [
    "f= plt.figure(figsize=(9,9))\n",
    "\n",
    "ax = f.add_subplot(211)\n",
    "ax.plot(h.lon,h)\n",
    "plt.title('Mean topography 9-16N')\n",
    "\n",
    "ax = f.add_subplot(212)\n",
    "u_plot.hist_freq(ax, wet.lon, alpha=0.5, label='wet', edgecolor='k', bins=20, range=(-10,10))\n",
    "u_plot.hist_freq(ax, dry.lon, alpha=0.5, label='dry', edgecolor='k', bins=20, range=(-10,10))\n",
    "u_plot.hist_freq(ax, msgopen.lon, alpha=0.5, label='all', edgecolor='k', linewidth=3,  bins=20, range=(-10,10), facecolor='None')\n",
    "plt.legend(fontsize=15)\n",
    "#ax.plot(h.lon, h)\n",
    "plt.legend(fontsize=15)\n",
    "plt.ylabel('Frequency of cores')\n",
    "plt.title('Core frequency binned by longitude')"
   ]
  },
  {
   "cell_type": "markdown",
   "metadata": {},
   "source": [
    "### Atmospheric conditions associated with the dry case favour shear and therefore organisation into bigger storms? "
   ]
  },
  {
   "cell_type": "code",
   "execution_count": 25,
   "metadata": {},
   "outputs": [
    {
     "data": {
      "text/plain": [
       "Text(0.5,1,'Core frequency binned by storm area')"
      ]
     },
     "execution_count": 25,
     "metadata": {},
     "output_type": "execute_result"
    },
    {
     "data": {
      "image/png": "[encoded data removed]",
      "text/plain": [
       "<Figure size 648x432 with 1 Axes>"
      ]
     },
     "metadata": {
      "needs_background": "light"
     },
     "output_type": "display_data"
    }
   ],
   "source": [
    "f= plt.figure(figsize=(9,6))\n",
    "ax = f.add_subplot(111)\n",
    "u_plot.hist_freq(ax, wet.area, alpha=0.5, label='wet', edgecolor='k', bins=10, range=(10000,200000))\n",
    "u_plot.hist_freq(ax, dry.area, alpha=0.5, label='dry', edgecolor='k', bins=10, range=(10000,200000))\n",
    "u_plot.hist_freq(ax, msgopen.area, alpha=0.5, label='all', edgecolor='k', linewidth=3, bins=10, range=(10000,200000), facecolor='None')\n",
    "\n",
    "plt.legend(fontsize=15)\n",
    "plt.ylabel('Frequency of cores')\n",
    "plt.xlabel('Storm area (km$^{-2}$)')\n",
    "plt.title('Core frequency binned by storm area')"
   ]
  },
  {
   "cell_type": "code",
   "execution_count": 29,
   "metadata": {},
   "outputs": [
    {
     "data": {
      "text/plain": [
       "64765.6914893617"
      ]
     },
     "execution_count": 29,
     "metadata": {},
     "output_type": "execute_result"
    }
   ],
   "source": [
    "np.mean(wet.area)"
   ]
  },
  {
   "cell_type": "code",
   "execution_count": 30,
   "metadata": {},
   "outputs": [
    {
     "data": {
      "text/plain": [
       "109542.70538243627"
      ]
     },
     "execution_count": 30,
     "metadata": {},
     "output_type": "execute_result"
    }
   ],
   "source": [
    "np.mean(dry.area)"
   ]
  },
  {
   "cell_type": "code",
   "execution_count": 28,
   "metadata": {},
   "outputs": [
    {
     "data": {
      "text/plain": [
       "0.6913693479275144"
      ]
     },
     "execution_count": 28,
     "metadata": {},
     "output_type": "execute_result"
    }
   ],
   "source": [
    "(np.mean(dry.area) - np.mean(wet.area)) / np.mean(wet.area)"
   ]
  },
  {
   "cell_type": "code",
   "execution_count": null,
   "metadata": {},
   "outputs": [],
   "source": []
  }
 ],
 "metadata": {
  "kernelspec": {
   "display_name": "Python 3",
   "language": "python",
   "name": "python3"
  },
  "language_info": {
   "codemirror_mode": {
    "name": "ipython",
    "version": 3
   },
   "file_extension": ".py",
   "mimetype": "text/x-python",
   "name": "python",
   "nbconvert_exporter": "python",
   "pygments_lexer": "ipython3",
   "version": "3.7.6"
  }
 },
 "nbformat": 4,
 "nbformat_minor": 2
}
