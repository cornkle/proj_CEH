{
 "cells": [
  {
   "cell_type": "code",
   "execution_count": 2,
   "id": "d726f03f-c638-4670-a246-718d4fb4b3a4",
   "metadata": {},
   "outputs": [],
   "source": [
    "import pdb\n",
    "import numpy as np\n",
    "import xarray as xr\n",
    "import matplotlib.pyplot as plt\n",
    "import pandas as pd\n",
    "import matplotlib.pylab as pylab\n",
    "import cartopy\n",
    "import cartopy.crs as ccrs\n",
    "from utils import constants as cnst\n",
    "\n",
    "pylab.rcParams['figure.figsize'] = (50., 50.)\n",
    "%matplotlib inline"
   ]
  },
  {
   "cell_type": "code",
   "execution_count": 1,
   "id": "8d023c48-a1f4-4cf4-9632-afef1741b78b",
   "metadata": {},
   "outputs": [
    {
     "name": "stdout",
     "output_type": "stream",
     "text": [
      "/home/users/cornkle/pythonWorkspace/proj_CEH\n"
     ]
    }
   ],
   "source": [
    "cd ..\n"
   ]
  },
  {
   "cell_type": "code",
   "execution_count": 7,
   "id": "0373c34c-c6a9-4b88-8b4a-572a59de66ad",
   "metadata": {},
   "outputs": [],
   "source": [
    "#venv_path = \"~/nb_envs/name-of-environment\""
   ]
  },
  {
   "cell_type": "code",
   "execution_count": 3,
   "id": "cda7c2d9-61cc-44be-8167-15b76818d792",
   "metadata": {},
   "outputs": [],
   "source": [
    "ds_hist = xr.open_mfdataset('/home/users/cornkle/lmcs/cklein/CP_models/MCS_files/moved_fromCEH/CP4_box/CP4_allHours_historical_5000km2_-50_WAf_box_v2/*_17:*.nc', concat_dim=\"cases\", combine=\"nested\", decode_times=False)"
   ]
  },
  {
   "cell_type": "code",
   "execution_count": 4,
   "id": "1f7e9764-9f0c-4f28-b473-17398ae113aa",
   "metadata": {},
   "outputs": [],
   "source": [
    "ds_fut = xr.open_mfdataset('/home/users/cornkle/lmcs/cklein/CP_models/MCS_files/moved_fromCEH/CP4_box/CP4_allHours_future_5000km2_-50_WAf_box_v2/*_17:*.nc', concat_dim=\"cases\", combine=\"nested\", decode_times=False)"
   ]
  },
  {
   "cell_type": "code",
   "execution_count": 5,
   "id": "bfc218d2-41e5-4ea3-8143-72c5a0cd6d3d",
   "metadata": {},
   "outputs": [],
   "source": [
    "da_hist = ds_hist.mean('cases')\n",
    "da_fut = ds_fut.mean('cases')"
   ]
  },
  {
   "cell_type": "code",
   "execution_count": null,
   "id": "cbcafcdb-f312-4fc8-93da-29a03f75e2da",
   "metadata": {},
   "outputs": [],
   "source": [
    "f = plt.figure(figsize=(12,5), dpi=300)\n",
    "mname = 'node'\n",
    "extent = 57 #* 4.4\n",
    "\n",
    "ticks = np.array([0,58-57/2,58,58+57/2,114])\n",
    "#labels = np.rint([-57*4.4,-57/2*4.4,0,57/2*4.4, 57*4.4])\n",
    "labels = [-250,-125,0,125,250]\n",
    "\n",
    "ax = f.add_subplot(1,2,1)\n",
    "\n",
    "ano =da_fut['lw_out_PBLtop']-da_hist['lw_out_PBLtop']\n",
    "cont = da_hist['lw_out_PBLtop']\n",
    "\n",
    "thresh = np.max(np.abs(np.percentile(ano, [5, 95])))\n",
    "\n",
    "plt.contourf(ano, cmap='RdBu_r', extend='both', levels=np.linspace(thresh * -1, thresh, 12)) #levels=np.linspace(thresh * -1, thresh, 10)\n",
    "plt.colorbar(label='$\\Delta$ Cloud top temperature (K)')\n",
    "plt.title('black: Historical cloud top temperature (degC)')\n",
    "cm = ax.contour(cont, colors='k', levels=[-80, -70, -60], linewidths=1.5)\n",
    "ax.clabel(cm, inline=True, fontsize=10, fmt='%1.1f', colors='turquoise')\n",
    "\n",
    "plt.plot(extent, extent, 'bo')\n",
    "ax.set_xlabel('km')\n",
    "ax.set_ylabel('km')\n",
    "ax.set_xticks(ticks)\n",
    "ax.set_xticklabels(labels)\n",
    "ax.set_yticks(ticks)\n",
    "ax.set_yticklabels(labels)\n",
    "\n",
    "ax = f.add_subplot(1,2,2)\n",
    "ano =(da_fut['lsRain']-da_hist['lsRain'])\n",
    "cont = da_hist['lsRain']\n",
    "\n",
    "thresh = np.max(np.abs(np.percentile(ano, [5, 95])))\n",
    "\n",
    "plt.contourf(ano, cmap='RdBu', extend='both', levels=np.linspace(thresh * -1, thresh, 12)) #levels=np.linspace(thresh * -1, thresh, 10)\n",
    "plt.colorbar(label='$\\Delta$ Rainfall (mm h$^{-1}$)')\n",
    "plt.title('black: Historical rainfall mean (mm h$^{-1}$)')\n",
    "cm = ax.contour(cont, colors='k', levels=[2,4,6,8,10,12], linewidths=1.5)\n",
    "ax.clabel(cm, inline=True, fontsize=10, fmt='%1.1f', colors='turquoise')\n",
    "\n",
    "# pv, pw = da_hist_anom['u_srfc'].values, da_hist_anom['v_srfc'].values\n",
    "# qv = plt.quiver(np.arange(da_hist.longitude.shape[0])[::10], np.arange(da_hist.latitude.shape[0])[::10], pv[::10,::10], pw[::10,::10])\n",
    "\n",
    "plt.plot(extent, extent, 'bo')\n",
    "ax.set_xlabel('km')\n",
    "ax.set_ylabel('km')\n",
    "ax.set_xticks(ticks)\n",
    "ax.set_xticklabels(labels)\n",
    "ax.set_yticks(ticks)\n",
    "ax.set_yticklabels(labels)\n",
    "\n",
    "plt.tight_layout()\n",
    "\n",
    "plt.contourf(ano, cmap='BrBG', extend='both', levels=np.linspace(thresh * -1, thresh, 12)) #levels=np.linspace(thresh * -1, thresh, 10)\n",
    "plt.colorbar(label=r'$\\Delta$ 925hPa Geopot. height anomaly')\n",
    "plt.title('black: $\\Delta$ 925hPa T_ano (K)')\n",
    "cm = ax.contour(cont, colors='k', levels=[-0.9, -0.7,-0.5,-0.3,0,0.3,0.5,0.7,0.9], linewidths=1.5)\n",
    "ax.clabel(cm, inline=True, fontsize=10, fmt='%1.1f', colors='r')\n",
    "\n",
    "\n",
    "plt.plot(extent, extent, 'bo')\n",
    "ax.set_xlabel('km')\n",
    "ax.set_ylabel('km')\n",
    "ax.set_xticks(ticks)\n",
    "ax.set_xticklabels(labels)\n",
    "ax.set_yticks(ticks)\n",
    "ax.set_yticklabels(labels)\n",
    "\n",
    "\n",
    "\n",
    "plt.tight_layout()"
   ]
  },
  {
   "cell_type": "code",
   "execution_count": null,
   "id": "3c8d71bc-a0b0-4847-9971-afbc2fee39b2",
   "metadata": {},
   "outputs": [],
   "source": []
  }
 ],
 "metadata": {
  "kernelspec": {
   "display_name": "Python 3 (ipykernel)",
   "language": "python",
   "name": "python3"
  },
  "language_info": {
   "codemirror_mode": {
    "name": "ipython",
    "version": 3
   },
   "file_extension": ".py",
   "mimetype": "text/x-python",
   "name": "python",
   "nbconvert_exporter": "python",
   "pygments_lexer": "ipython3",
   "version": "3.10.11"
  }
 },
 "nbformat": 4,
 "nbformat_minor": 5
}
