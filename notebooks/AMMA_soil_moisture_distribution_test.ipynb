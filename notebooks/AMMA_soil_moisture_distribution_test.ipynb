{
 "cells": [
  {
   "cell_type": "code",
   "execution_count": 2,
   "metadata": {},
   "outputs": [],
   "source": [
    "import ipdb\n",
    "import numpy as np\n",
    "import xarray as xr\n",
    "import matplotlib.pyplot as plt\n",
    "import pandas as pd\n",
    "import matplotlib.pylab as pylab\n",
    "import cartopy\n",
    "from utils import constants as cnst\n",
    "from eod import msg\n",
    "from utils import u_grid, u_interpolate as u_int, constants as cnst, u_arrays, u_darrays, u_met\n",
    "import pandas as pd\n",
    "import matplotlib.pyplot as plt\n",
    "import cartopy.crs as ccrs\n",
    "import cartopy.feature as feature\n",
    "import cartopy.io.shapereader as shapereader\n",
    "import pandas as pd\n",
    "import pickle as pkl\n",
    "import glob\n",
    "from utils import constants as cnst\n",
    "\n",
    "\n",
    "coast = shapereader.natural_earth(resolution='110m',\n",
    "                                  category='physical',\n",
    "                                  name='coastline')\n",
    "\n",
    "countries = shapereader.natural_earth(resolution='110m',\n",
    "                                      category='cultural',\n",
    "                                      name='admin_0_countries')\n",
    "\n",
    "pylab.rcParams['figure.figsize'] = (50., 50.)\n",
    "%matplotlib inline"
   ]
  },
  {
   "cell_type": "code",
   "execution_count": 1,
   "metadata": {},
   "outputs": [
    {
     "name": "stdout",
     "output_type": "stream",
     "text": [
      "/home/ck/pythonWorkspace/proj_CEH\n"
     ]
    }
   ],
   "source": [
    "cd .."
   ]
  },
  {
   "cell_type": "markdown",
   "metadata": {},
   "source": [
    "##### Load 1 year of soil moisture data"
   ]
  },
  {
   "cell_type": "code",
   "execution_count": 29,
   "metadata": {},
   "outputs": [],
   "source": [
    "path = cnst.network_data + 'data/OBS/AMSRE/aqua/nc_day/AMSR_L3_LPRMv05_A_*0624.nc'\n",
    "files = glob.glob(path)"
   ]
  },
  {
   "cell_type": "code",
   "execution_count": 30,
   "metadata": {},
   "outputs": [
    {
     "name": "stdout",
     "output_type": "stream",
     "text": [
      "['/home/ck/DIR/cornkle/data/OBS/AMSRE/aqua/nc_day/AMSR_L3_LPRMv05_A_20080624.nc', '/home/ck/DIR/cornkle/data/OBS/AMSRE/aqua/nc_day/AMSR_L3_LPRMv05_A_20070624.nc', '/home/ck/DIR/cornkle/data/OBS/AMSRE/aqua/nc_day/AMSR_L3_LPRMv05_A_20100624.nc', '/home/ck/DIR/cornkle/data/OBS/AMSRE/aqua/nc_day/AMSR_L3_LPRMv05_A_20110624.nc', '/home/ck/DIR/cornkle/data/OBS/AMSRE/aqua/nc_day/AMSR_L3_LPRMv05_A_20050624.nc', '/home/ck/DIR/cornkle/data/OBS/AMSRE/aqua/nc_day/AMSR_L3_LPRMv05_A_20030624.nc', '/home/ck/DIR/cornkle/data/OBS/AMSRE/aqua/nc_day/AMSR_L3_LPRMv05_A_20040624.nc', '/home/ck/DIR/cornkle/data/OBS/AMSRE/aqua/nc_day/AMSR_L3_LPRMv05_A_20060624.nc', '/home/ck/DIR/cornkle/data/OBS/AMSRE/aqua/nc_day/AMSR_L3_LPRMv05_A_20090624.nc']\n"
     ]
    }
   ],
   "source": [
    "print(files)"
   ]
  },
  {
   "cell_type": "code",
   "execution_count": 31,
   "metadata": {},
   "outputs": [],
   "source": [
    "data = xr.open_mfdataset(files, autoclose=True).load()"
   ]
  },
  {
   "cell_type": "code",
   "execution_count": 32,
   "metadata": {
    "scrolled": true
   },
   "outputs": [],
   "source": [
    "data = data.sel(lon=slice(-10,10), lat=slice(9,20))"
   ]
  },
  {
   "cell_type": "code",
   "execution_count": 33,
   "metadata": {},
   "outputs": [],
   "source": [
    "alls = data['SM'].values[np.isfinite(data['SM']).values].flatten()"
   ]
  },
  {
   "cell_type": "markdown",
   "metadata": {},
   "source": [
    "#### SM histogram original data: Like rainfall, SM is not normally distributed"
   ]
  },
  {
   "cell_type": "code",
   "execution_count": 34,
   "metadata": {},
   "outputs": [
    {
     "data": {
      "text/plain": [
       "<matplotlib.legend.Legend at 0x7fb77dbb2d30>"
      ]
     },
     "execution_count": 34,
     "metadata": {},
     "output_type": "execute_result"
    },
    {
     "data": {
      "image/png": "[encoded data removed]",
      "text/plain": [
       "<Figure size 432x288 with 1 Axes>"
      ]
     },
     "metadata": {
      "needs_background": "light"
     },
     "output_type": "display_data"
    }
   ],
   "source": [
    "plt.hist(alls, bins=20, range=(0,35))\n",
    "#plt.axvline(x=15, color='k', label='Zero line')\n",
    "plt.axvline(x=np.median(alls), color='r', label='Median')\n",
    "plt.axvline(x=np.mean(alls), color='orange', label='Mean')\n",
    "plt.legend()"
   ]
  },
  {
   "cell_type": "markdown",
   "metadata": {},
   "source": [
    "#### SM histogram for proxy anomaly"
   ]
  },
  {
   "cell_type": "code",
   "execution_count": 35,
   "metadata": {},
   "outputs": [
    {
     "name": "stderr",
     "output_type": "stream",
     "text": [
      "/home/ck/miniconda3/lib/python3.5/site-packages/xarray/core/nanops.py:162: RuntimeWarning: Mean of empty slice\n",
      "  return np.nanmean(a, axis=axis, dtype=dtype)\n"
     ]
    }
   ],
   "source": [
    "valid_days = data['SM'].count(dim='time') \n",
    "mean =  data['SM'].mean(dim='time')\n",
    "mean.values[valid_days.values<5] = np.nan"
   ]
  },
  {
   "cell_type": "code",
   "execution_count": 36,
   "metadata": {},
   "outputs": [],
   "source": [
    "ano  = data['SM']-mean"
   ]
  },
  {
   "cell_type": "code",
   "execution_count": 37,
   "metadata": {},
   "outputs": [
    {
     "data": {
      "text/plain": [
       "(9, 44, 80)"
      ]
     },
     "execution_count": 37,
     "metadata": {},
     "output_type": "execute_result"
    }
   ],
   "source": [
    "data['SM'].shape"
   ]
  },
  {
   "cell_type": "code",
   "execution_count": 38,
   "metadata": {},
   "outputs": [
    {
     "data": {
      "text/plain": [
       "<xarray.DataArray 'time' (time: 9)>\n",
       "array(['2008-06-24T13:00:00.000000000', '2007-06-24T13:00:00.000000000',\n",
       "       '2010-06-24T13:00:00.000000000', '2011-06-24T13:00:00.000000000',\n",
       "       '2005-06-24T13:00:00.000000000', '2003-06-24T13:00:00.000000000',\n",
       "       '2004-06-24T13:00:00.000000000', '2006-06-24T13:00:00.000000000',\n",
       "       '2009-06-24T13:00:00.000000000'], dtype='datetime64[ns]')\n",
       "Coordinates:\n",
       "  * time     (time) datetime64[ns] 2008-06-24T13:00:00 ... 2009-06-24T13:00:00"
      ]
     },
     "execution_count": 38,
     "metadata": {},
     "output_type": "execute_result"
    }
   ],
   "source": [
    "data.time"
   ]
  },
  {
   "cell_type": "code",
   "execution_count": 39,
   "metadata": {},
   "outputs": [
    {
     "data": {
      "text/plain": [
       "<matplotlib.collections.QuadMesh at 0x7fb77db05e48>"
      ]
     },
     "execution_count": 39,
     "metadata": {},
     "output_type": "execute_result"
    },
    {
     "data": {
      "image/png": "[encoded data removed]",
      "text/plain": [
       "<Figure size 432x288 with 1 Axes>"
      ]
     },
     "metadata": {
      "needs_background": "light"
     },
     "output_type": "display_data"
    }
   ],
   "source": [
    "plt.pcolormesh(ano[5,:,:])"
   ]
  },
  {
   "cell_type": "code",
   "execution_count": 40,
   "metadata": {},
   "outputs": [],
   "source": [
    "hist_ano = ano.values[np.isfinite(ano.values)]"
   ]
  },
  {
   "cell_type": "code",
   "execution_count": 43,
   "metadata": {},
   "outputs": [
    {
     "data": {
      "text/plain": [
       "<matplotlib.legend.Legend at 0x7fb77d9a5cc0>"
      ]
     },
     "execution_count": 43,
     "metadata": {},
     "output_type": "execute_result"
    },
    {
     "data": {
      "image/png": "[encoded data removed]",
      "text/plain": [
       "<Figure size 432x288 with 1 Axes>"
      ]
     },
     "metadata": {
      "needs_background": "light"
     },
     "output_type": "display_data"
    }
   ],
   "source": [
    "plt.hist(hist_ano, bins=40, range=(-15,15))\n",
    "plt.axvline(x=0, color='k', label='0-line')\n",
    "plt.axvline(x=np.median(hist_ano), color='r', label='Median')\n",
    "plt.axvline(x=np.mean(hist_ano), color='k', label='Mean')\n",
    "plt.title('10-years anomaly values for June 24 domain')\n",
    "plt.legend()"
   ]
  },
  {
   "cell_type": "code",
   "execution_count": 44,
   "metadata": {},
   "outputs": [],
   "source": [
    "path = cnst.network_data + 'data/OBS/AMSRE/aqua/sma_nc_day/sma_*.nc'\n",
    "files = glob.glob(path)"
   ]
  },
  {
   "cell_type": "code",
   "execution_count": 45,
   "metadata": {},
   "outputs": [],
   "source": [
    "data = xr.open_mfdataset(files, autoclose=True)\n",
    "data = data.sel(lon=slice(-10,10), lat=slice(9,20))"
   ]
  },
  {
   "cell_type": "code",
   "execution_count": 46,
   "metadata": {},
   "outputs": [],
   "source": [
    "data = data['SM'][(data['time.month']>=6) & (data['time.month']<=9)]"
   ]
  },
  {
   "cell_type": "code",
   "execution_count": 47,
   "metadata": {},
   "outputs": [
    {
     "data": {
      "text/plain": [
       "<xarray.DataArray 'SM' (time: 1520, lat: 44, lon: 80)>\n",
       "dask.array<shape=(1520, 44, 80), dtype=float64, chunksize=(1, 44, 80)>\n",
       "Coordinates:\n",
       "  * lat      (lat) float32 9.125 9.375 9.625 9.875 ... 19.375 19.625 19.875\n",
       "  * lon      (lon) float32 -9.875 -9.625 -9.375 -9.125 ... 9.375 9.625 9.875\n",
       "  * time     (time) datetime64[ns] 2005-06-27 2016-08-17 ... 2007-09-22"
      ]
     },
     "execution_count": 47,
     "metadata": {},
     "output_type": "execute_result"
    }
   ],
   "source": [
    "data "
   ]
  },
  {
   "cell_type": "code",
   "execution_count": 48,
   "metadata": {},
   "outputs": [
    {
     "data": {
      "text/plain": [
       "(1520, 44, 80)"
      ]
     },
     "execution_count": 48,
     "metadata": {},
     "output_type": "execute_result"
    }
   ],
   "source": [
    "data.shape"
   ]
  },
  {
   "cell_type": "code",
   "execution_count": 50,
   "metadata": {},
   "outputs": [
    {
     "data": {
      "text/plain": [
       "<matplotlib.collections.QuadMesh at 0x7fb77de6ada0>"
      ]
     },
     "execution_count": 50,
     "metadata": {},
     "output_type": "execute_result"
    },
    {
     "data": {
      "image/png": "[encoded data removed]",
      "text/plain": [
       "<Figure size 432x288 with 1 Axes>"
      ]
     },
     "metadata": {
      "needs_background": "light"
     },
     "output_type": "display_data"
    }
   ],
   "source": [
    "plt.pcolormesh(data[15,:,:])"
   ]
  },
  {
   "cell_type": "code",
   "execution_count": 53,
   "metadata": {},
   "outputs": [],
   "source": [
    "hist_ano = data.values[np.isfinite(data.values)]"
   ]
  },
  {
   "cell_type": "code",
   "execution_count": 54,
   "metadata": {},
   "outputs": [
    {
     "data": {
      "text/plain": [
       "<matplotlib.legend.Legend at 0x7fb77c1cd400>"
      ]
     },
     "execution_count": 54,
     "metadata": {},
     "output_type": "execute_result"
    },
    {
     "data": {
      "image/png": "[encoded data removed]",
      "text/plain": [
       "<Figure size 432x288 with 1 Axes>"
      ]
     },
     "metadata": {
      "needs_background": "light"
     },
     "output_type": "display_data"
    }
   ],
   "source": [
    "plt.hist(hist_ano, bins=40, range=(-15,15))\n",
    "plt.axvline(x=0, color='k', label='0-line')\n",
    "plt.axvline(x=np.median(hist_ano), color='r', label='Median')\n",
    "plt.axvline(x=np.mean(hist_ano), color='k', label='Mean')\n",
    "plt.title('10 years of JJAS daily anomalies vs monthly climatology')\n",
    "plt.legend()"
   ]
  },
  {
   "cell_type": "code",
   "execution_count": null,
   "metadata": {},
   "outputs": [],
   "source": []
  }
 ],
 "metadata": {
  "kernelspec": {
   "display_name": "Python 3",
   "language": "python",
   "name": "python3"
  },
  "language_info": {
   "codemirror_mode": {
    "name": "ipython",
    "version": 3
   },
   "file_extension": ".py",
   "mimetype": "text/x-python",
   "name": "python",
   "nbconvert_exporter": "python",
   "pygments_lexer": "ipython3",
   "version": "3.5.5"
  }
 },
 "nbformat": 4,
 "nbformat_minor": 2
}
