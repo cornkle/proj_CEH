{
 "cells": [
  {
   "cell_type": "code",
   "execution_count": 2,
   "metadata": {},
   "outputs": [],
   "source": [
    "import ipdb\n",
    "import numpy as np\n",
    "import xarray as xr\n",
    "import matplotlib.pyplot as plt\n",
    "import pandas as pd\n",
    "import matplotlib.pylab as pylab\n",
    "import cartopy\n",
    "from utils import constants as cnst\n",
    "from eod import msg\n",
    "from utils import u_grid, u_interpolate as u_int, constants as cnst, u_arrays, u_darrays, u_met\n",
    "import pandas as pd\n",
    "import matplotlib.pyplot as plt\n",
    "import cartopy.crs as ccrs\n",
    "import cartopy.feature as feature\n",
    "import cartopy.io.shapereader as shapereader\n",
    "import pandas as pd\n",
    "import pickle as pkl\n",
    "import glob\n",
    "from utils import constants as cnst\n",
    "\n",
    "\n",
    "coast = shapereader.natural_earth(resolution='110m',\n",
    "                                  category='physical',\n",
    "                                  name='coastline')\n",
    "\n",
    "countries = shapereader.natural_earth(resolution='110m',\n",
    "                                      category='cultural',\n",
    "                                      name='admin_0_countries')\n",
    "\n",
    "pylab.rcParams['figure.figsize'] = (50., 50.)\n",
    "%matplotlib inline"
   ]
  },
  {
   "cell_type": "code",
   "execution_count": 1,
   "metadata": {},
   "outputs": [
    {
     "name": "stdout",
     "output_type": "stream",
     "text": [
      "/home/ck/pythonWorkspace/proj_CEH\n"
     ]
    }
   ],
   "source": [
    "cd .."
   ]
  },
  {
   "cell_type": "markdown",
   "metadata": {},
   "source": [
    "## Anomaly for single day in June vs daily climatology"
   ]
  },
  {
   "cell_type": "code",
   "execution_count": 77,
   "metadata": {},
   "outputs": [],
   "source": [
    "path = cnst.network_data + 'data/OBS/AMSRE/aqua/nc_day/AMSR_L3_LPRMv05_A_*0605.nc'\n",
    "files = glob.glob(path)"
   ]
  },
  {
   "cell_type": "code",
   "execution_count": 79,
   "metadata": {},
   "outputs": [],
   "source": [
    "data = xr.open_mfdataset(files, autoclose=True).load()"
   ]
  },
  {
   "cell_type": "code",
   "execution_count": 80,
   "metadata": {
    "scrolled": true
   },
   "outputs": [],
   "source": [
    "data = data.sel(lon=slice(-10,10), lat=slice(9,20))"
   ]
  },
  {
   "cell_type": "code",
   "execution_count": 81,
   "metadata": {},
   "outputs": [],
   "source": [
    "alls = data['SM'].values[np.isfinite(data['SM']).values].flatten()"
   ]
  },
  {
   "cell_type": "code",
   "execution_count": 83,
   "metadata": {},
   "outputs": [
    {
     "name": "stderr",
     "output_type": "stream",
     "text": [
      "/home/ck/miniconda3/lib/python3.5/site-packages/xarray/core/nanops.py:162: RuntimeWarning: Mean of empty slice\n",
      "  return np.nanmean(a, axis=axis, dtype=dtype)\n"
     ]
    }
   ],
   "source": [
    "valid_days = data['SM'].count(dim='time') \n",
    "mean =  data['SM'].mean(dim='time')\n",
    "mean.values[valid_days.values<5] = np.nan"
   ]
  },
  {
   "cell_type": "code",
   "execution_count": 84,
   "metadata": {},
   "outputs": [],
   "source": [
    "ano  = data['SM']-mean"
   ]
  },
  {
   "cell_type": "code",
   "execution_count": 85,
   "metadata": {},
   "outputs": [
    {
     "data": {
      "text/plain": [
       "(9, 44, 80)"
      ]
     },
     "execution_count": 85,
     "metadata": {},
     "output_type": "execute_result"
    }
   ],
   "source": [
    "data['SM'].shape"
   ]
  },
  {
   "cell_type": "code",
   "execution_count": 88,
   "metadata": {},
   "outputs": [],
   "source": [
    "hist_ano = ano.values[np.isfinite(ano.values)]"
   ]
  },
  {
   "cell_type": "code",
   "execution_count": 99,
   "metadata": {},
   "outputs": [
    {
     "data": {
      "text/plain": [
       "<matplotlib.legend.Legend at 0x7fb77ce3e828>"
      ]
     },
     "execution_count": 99,
     "metadata": {},
     "output_type": "execute_result"
    },
    {
     "data": {
      "image/png": "[encoded data removed]",
      "text/plain": [
       "<Figure size 432x288 with 1 Axes>"
      ]
     },
     "metadata": {
      "needs_background": "light"
     },
     "output_type": "display_data"
    }
   ],
   "source": [
    "plt.hist(hist_ano, bins=30, range=(-15,15), edgecolor='k')\n",
    "plt.axvline(x=0, color='k', label='0-line')\n",
    "plt.axvline(x=np.median(hist_ano), color='r', label='Median')\n",
    "plt.axvline(x=np.mean(hist_ano), color='k', label='Mean')\n",
    "plt.title('10-years anomaly values for June 05 domain')\n",
    "plt.legend()"
   ]
  },
  {
   "cell_type": "markdown",
   "metadata": {},
   "source": [
    "## Entire SM anomaly dataset - anomaly based on monthly climatologies"
   ]
  },
  {
   "cell_type": "code",
   "execution_count": 44,
   "metadata": {},
   "outputs": [],
   "source": [
    "path = cnst.network_data + 'data/OBS/AMSRE/aqua/sma_nc_day/sma_*.nc'\n",
    "files = glob.glob(path)"
   ]
  },
  {
   "cell_type": "code",
   "execution_count": 45,
   "metadata": {},
   "outputs": [],
   "source": [
    "data = xr.open_mfdataset(files, autoclose=True)\n",
    "data = data.sel(lon=slice(-10,10), lat=slice(9,20))"
   ]
  },
  {
   "cell_type": "code",
   "execution_count": 46,
   "metadata": {},
   "outputs": [],
   "source": [
    "data = data['SM'][(data['time.month']>=6) & (data['time.month']<=9)]"
   ]
  },
  {
   "cell_type": "code",
   "execution_count": 53,
   "metadata": {},
   "outputs": [],
   "source": [
    "hist_ano = data.values[np.isfinite(data.values)]"
   ]
  },
  {
   "cell_type": "code",
   "execution_count": 61,
   "metadata": {},
   "outputs": [
    {
     "data": {
      "text/plain": [
       "<matplotlib.legend.Legend at 0x7fb76ffb4710>"
      ]
     },
     "execution_count": 61,
     "metadata": {},
     "output_type": "execute_result"
    },
    {
     "data": {
      "image/png": "[encoded data removed]",
      "text/plain": [
       "<Figure size 432x288 with 1 Axes>"
      ]
     },
     "metadata": {
      "needs_background": "light"
     },
     "output_type": "display_data"
    }
   ],
   "source": [
    "plt.hist(hist_ano, bins=30, range=(-15,15), edgecolor='k')\n",
    "plt.axvline(x=0, color='k', label='0-line')\n",
    "# plt.axvline(x=np.median(hist_ano), color='r', label='Median')\n",
    "# plt.axvline(x=np.mean(hist_ano), color='k', label='Mean')\n",
    "plt.title('10 years of JJAS daily anomalies vs monthly climatology')\n",
    "plt.legend()"
   ]
  },
  {
   "cell_type": "markdown",
   "metadata": {},
   "source": [
    "## Core-associated SM anomaly distribution - random sampling on core days"
   ]
  },
  {
   "cell_type": "code",
   "execution_count": 100,
   "metadata": {},
   "outputs": [
    {
     "name": "stdout",
     "output_type": "stream",
     "text": [
      "dict_keys(['rs100', 'r30', 's100', 'c30', 'e100', 're100'])\n"
     ]
    }
   ],
   "source": [
    "path = cnst.network_data + 'figs/LSTA/corrected_LSTA/new/wavelet_coefficients'\n",
    "dic = pkl.load(open(path+\"/LSTA_histograms_AMSRE_17_corrected_SouthBox.p\", \"rb\"))\n",
    "for k in dic.keys():\n",
    "    coll = []\n",
    "    for ll in dic[k]:\n",
    "        coll.extend(ll)\n",
    "    dic[k] = coll\n",
    "print(dic.keys())\n",
    "\n",
    "cinput = np.array(dic['c30'])\n",
    "rinput = np.array(dic['r30'])\n",
    "\n",
    "cinput = cinput[np.isfinite(cinput)]\n",
    "rinput = rinput[np.isfinite(rinput)]"
   ]
  },
  {
   "cell_type": "code",
   "execution_count": 101,
   "metadata": {},
   "outputs": [
    {
     "data": {
      "text/plain": [
       "<matplotlib.legend.Legend at 0x7fb77ced2208>"
      ]
     },
     "execution_count": 101,
     "metadata": {},
     "output_type": "execute_result"
    },
    {
     "data": {
      "image/png": "[encoded data removed]",
      "text/plain": [
       "<Figure size 432x288 with 1 Axes>"
      ]
     },
     "metadata": {
      "needs_background": "light"
     },
     "output_type": "display_data"
    }
   ],
   "source": [
    "plt.hist(rinput, range=(-15,15), bins=30, edgecolor='k')\n",
    "plt.axvline(x=0, color='k', label='0-line')\n",
    "plt.axvline(0)\n",
    "plt.title('Core-associated random sampling')\n",
    "plt.legend()"
   ]
  },
  {
   "cell_type": "code",
   "execution_count": null,
   "metadata": {},
   "outputs": [],
   "source": []
  }
 ],
 "metadata": {
  "kernelspec": {
   "display_name": "Python 3",
   "language": "python",
   "name": "python3"
  },
  "language_info": {
   "codemirror_mode": {
    "name": "ipython",
    "version": 3
   },
   "file_extension": ".py",
   "mimetype": "text/x-python",
   "name": "python",
   "nbconvert_exporter": "python",
   "pygments_lexer": "ipython3",
   "version": "3.5.5"
  }
 },
 "nbformat": 4,
 "nbformat_minor": 2
}
