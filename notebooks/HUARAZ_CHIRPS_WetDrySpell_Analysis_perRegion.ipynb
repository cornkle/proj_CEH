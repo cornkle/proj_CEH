{
 "cells": [
  {
   "cell_type": "code",
   "execution_count": 2,
   "metadata": {},
   "outputs": [],
   "source": [
    "import ipdb\n",
    "import numpy as np\n",
    "import xarray as xr\n",
    "import matplotlib.pyplot as plt\n",
    "import pandas as pd\n",
    "import matplotlib.pylab as pylab\n",
    "import cartopy\n",
    "import cartopy.crs as ccrs\n",
    "from utils import constants as cnst\n",
    "from eod import msg\n",
    "from utils import u_grid, u_interpolate as u_int, u_darrays as uda, u_arrays as ua\n",
    "import datetime\n",
    "import matplotlib.colors as mcolors\n",
    "from cartopy.io.shapereader import Reader\n",
    "from cartopy.feature import ShapelyFeature\n",
    "from utils import u_plot as uplot\n",
    "import salem\n",
    "import numpy.ma as ma\n",
    "from scipy import stats, ndimage\n",
    "import warnings\n",
    "from scipy.ndimage.measurements import label\n",
    "import pickle as pkl\n",
    "\n",
    "\n",
    "pylab.rcParams['figure.figsize'] = (50., 50.)\n",
    "%matplotlib inline"
   ]
  },
  {
   "cell_type": "code",
   "execution_count": 1,
   "metadata": {},
   "outputs": [
    {
     "name": "stdout",
     "output_type": "stream",
     "text": [
      "/home/ck/pythonWorkspace/proj_CEH\n"
     ]
    }
   ],
   "source": [
    "cd .."
   ]
  },
  {
   "cell_type": "code",
   "execution_count": 3,
   "metadata": {},
   "outputs": [],
   "source": [
    "fpath = cnst.network_data + 'figs/HUARAZ/'"
   ]
  },
  {
   "cell_type": "code",
   "execution_count": 4,
   "metadata": {},
   "outputs": [],
   "source": [
    "corr_all = xr.open_dataset('/home/ck/DIR/mymachine/CHIRPS/peru/CHIRPS_u200_correlation_5dRolling_1mm_peruBIG_1985-2018_diffs.nc')"
   ]
  },
  {
   "cell_type": "code",
   "execution_count": 5,
   "metadata": {},
   "outputs": [],
   "source": [
    "g_on_era = xr.open_dataset('/home/ck/DIR/mymachine/GRIDSAT/MCS18_peru/aggs/daily_-40ALLkm2_DAY_onBIGERA_allyears.nc')"
   ]
  },
  {
   "cell_type": "code",
   "execution_count": 10,
   "metadata": {},
   "outputs": [],
   "source": [
    "ch_on_era = xr.open_mfdataset('/media/ck/Elements/SouthAmerica/CHIRPS/SA_daily_onERA/CHIRPS_daily_onERA_*.nc')"
   ]
  },
  {
   "cell_type": "code",
   "execution_count": 11,
   "metadata": {},
   "outputs": [],
   "source": [
    "chirps_doypick = ch_on_era['precip'].sel(time=((ch_on_era['time.year']>=1985)&(ch_on_era['time.year']<=2018))).sel(latitude=slice(-25,0), longitude=slice(-81,-65))"
   ]
  },
  {
   "cell_type": "code",
   "execution_count": 12,
   "metadata": {},
   "outputs": [],
   "source": [
    "g_doypick = g_on_era['tir'].sel(time=((g_on_era['time.year']>=1985)&(g_on_era['time.year']<=2018))).sel(latitude=slice(-25,0), longitude=slice(-81,-65))"
   ]
  },
  {
   "cell_type": "code",
   "execution_count": 13,
   "metadata": {},
   "outputs": [],
   "source": [
    "topo = xr.open_dataarray(cnst.TOPO_1MIN).sel(lon=slice(-81,-65), lat=slice(-25,0))\n",
    "topo_on_g = corr_all.salem.lookup_transform(topo)"
   ]
  },
  {
   "cell_type": "code",
   "execution_count": 14,
   "metadata": {},
   "outputs": [],
   "source": [
    "## places\n",
    "\n",
    "fname = '/home/ck/DIR/cornkle/data/HUARAZ/shapes/riosan_sel_one.shp'\n",
    "sdf = salem.read_shapefile(fname)\n",
    "sdf = salem.transform_geopandas(sdf, to_crs=salem.wgs84)\n",
    "\n",
    "regions = {\n",
    "'equatorial' : [(-5,0), (-80,-76)],\n",
    "'transition' : [(-8,-5), (-80,-75)],\n",
    "'central' : [(-12,-8), (-80,-74)],\n",
    "'southern' : [(-18,-15), (-75,-65)]}"
   ]
  },
  {
   "cell_type": "code",
   "execution_count": 15,
   "metadata": {},
   "outputs": [],
   "source": [
    "corrdic = pkl.load(open(cnst.network_data + 'data/HUARAZ/saves/corr_GRIDSAT-15_start_end.p', \"rb\"))\n",
    "outarr_3 = corrdic['start_3d']\n",
    "endarr_5 = corrdic['end_5d']"
   ]
  },
  {
   "cell_type": "code",
   "execution_count": 27,
   "metadata": {},
   "outputs": [],
   "source": [
    "def dry_wet_gridsat_box(gridsat, doy_start, doy_end, dry=False, wet=False, region=None):\n",
    "    \n",
    "    pindex = 0\n",
    "    \n",
    "    tot =(365-doy_start)+doy_end\n",
    "    \n",
    "    if region != None:\n",
    "        box = regions[region]\n",
    "    \n",
    "        latbox = box[0]\n",
    "        lonbox = box[1]\n",
    "    else:\n",
    "        region='RioSanta'\n",
    "    \n",
    "    if region in ['equatorial', 'transition']:\n",
    "        hh=2000\n",
    "    else:\n",
    "        hh=3000\n",
    "    \n",
    "    if region != 'RioSanta':\n",
    "        doys = doy_start.where(topo_on_g>=hh).sel(longitude=slice(lonbox[0],lonbox[1]), latitude=slice(latbox[0],latbox[1])).median(['latitude','longitude'])\n",
    "        doye = doy_end.where(topo_on_g>=hh).sel(longitude=slice(lonbox[0],lonbox[1]), latitude=slice(latbox[0], latbox[1])).median(['latitude','longitude'])\n",
    "        chirps_box = gridsat.where(topo_on_g>=hh).sel(longitude=slice(lonbox[0],lonbox[1]), latitude=slice(latbox[0], latbox[1])).where((gridsat['time.dayofyear']>=doys) | (gridsat['time.dayofyear']<=doye))/100#.mean(['latitude','longitude'])\n",
    "\n",
    "        \n",
    "    else:\n",
    "        doys = doy_start.salem.roi(shape=sdf).median(['latitude','longitude'])\n",
    "        doye = doy_end.salem.roi(shape=sdf).median(['latitude','longitude'])\n",
    "        chirps_box = gridsat.salem.roi(shape=sdf).where((gridsat['time.dayofyear']>=doys) | (gridsat['time.dayofyear']<=doye))/100 #.mean(['latitude','longitude'])\n",
    "        \n",
    "#     f = plt.figure()\n",
    "#     plt.pcolormesh(chirps_box.mean('time'))\n",
    "    \n",
    "    perc = np.percentile(chirps_box.values[np.isfinite(chirps_box)], [30,70])\n",
    "    print(perc)\n",
    "    \n",
    "    date = datetime.datetime(2017, 1, 1) + pd.Timedelta(str(doys.values - 1)+' days')\n",
    "    dstr = date.strftime(\"%d/%m\")\n",
    "    print('Box onset', doys.values, 'Date', dstr)\n",
    "    date = datetime.datetime(2017, 1, 1) + pd.Timedelta(str(doye.values - 1)+' days')\n",
    "    dstr = date.strftime(\"%d/%m\")\n",
    "    print('Box retreat', doye.values, 'Date', dstr)\n",
    "    #ipdb.set_trace()\n",
    "    ts_rainy = chirps_box\n",
    "    \n",
    "    #ch_perc = ts_rainy.groupby('time.year').quantile(0.99)\n",
    "    \n",
    "    if wet:\n",
    "        pp = (ts_rainy.where(ts_rainy<=-40).count(['latitude','longitude'])/ts_rainy.count(['latitude','longitude'])).load()\n",
    "        in_arr = pp>0.15 #ts_rainy.mean(['latitude','longitude']).where(pp>0.5)\n",
    "        in_arr.values = (in_arr.values.astype(int))\n",
    "        tag = 'wet'\n",
    "    if dry:\n",
    "        pp = (ts_rainy.where(ts_rainy>=0).count(['latitude','longitude'])/ts_rainy.count(['latitude','longitude'])).load()\n",
    "        in_arr = pp>0.15 #ts_rainy.mean(['latitude','longitude']).where(\n",
    "        #in_arr = (ts_rainy<perc[0])\n",
    "        in_arr.values = (in_arr.values.astype(int))\n",
    "        #ipdb.set_trace()\n",
    "        tag = 'dry'\n",
    "    #ipdb.set_trace()\n",
    "    out_arr = np.zeros(ts_rainy.shape[0])\n",
    "\n",
    "\n",
    "    if (np.isnan(doys) | np.isnan(doye)):\n",
    "        ipdb.set_trace()\n",
    "\n",
    "    ts = in_arr\n",
    "\n",
    "    labels, numL = label(ts)\n",
    "\n",
    "    u, inv = np.unique(labels, return_inverse=True)\n",
    "    n = np.bincount(inv)\n",
    "\n",
    "    inds_3 = u[(n>=3)&(n<5)&(u!=0)] ## min 3 days onset\n",
    "    inds_5 = u[(n>=5)&(n<7)&(u!=0)] ## min 5 days breakdown\n",
    "    inds_7 = u[(n>=7)&(n<9)&(u!=0)] ## min 5 days breakdown\n",
    "\n",
    "\n",
    "    if len(inds_3)>0:\n",
    "        for i in inds_3:\n",
    "            pos = np.where(labels==i)\n",
    "            out_arr[pos[0][0]] = 3\n",
    "\n",
    "    if len(inds_5)>0:\n",
    "        for i in inds_5:\n",
    "            pos = np.where(labels==i)\n",
    "            out_arr[pos[0][0]] = 5\n",
    "\n",
    "    if len(inds_7)>0:\n",
    "        for i in inds_7:\n",
    "            pos = np.where(labels==i)\n",
    "            out_arr[pos[0][0]] = 7\n",
    "\n",
    "\n",
    "    da = xr.DataArray(out_arr, coords=[ts_rainy['time']], dims=['time'])                    \n",
    "\n",
    "    da.to_netcdf('/media/ck/Elements/SouthAmerica/CHIRPS/'+tag+'_GRIDSATspells_1mm_3-7days_'+region+'_StartOfSpell_areaCheck.nc')\n",
    "    #return da, ts_rainy, in_arr"
   ]
  },
  {
   "cell_type": "code",
   "execution_count": 32,
   "metadata": {},
   "outputs": [],
   "source": [
    "def dry_wet_chirps_box(chirps, doy_start, doy_end, dry=False, wet=False, region=None):\n",
    "    \n",
    "    pindex = 0\n",
    "    \n",
    "    tot =(365-doy_start)+doy_end\n",
    "    \n",
    "    if region != None:\n",
    "        box = regions[region]\n",
    "    \n",
    "        latbox = box[0]\n",
    "        lonbox = box[1]\n",
    "    else:\n",
    "        region='RioSanta'\n",
    "    \n",
    "    if region in ['equatorial', 'transition']:\n",
    "        hh=2000\n",
    "    else:\n",
    "        hh=3000\n",
    "    \n",
    "    if region != 'RioSanta':\n",
    "        doys = doy_start.where(topo_on_g>=hh).sel(longitude=slice(lonbox[0],lonbox[1]), latitude=slice(latbox[0],latbox[1])).median(['latitude','longitude'])\n",
    "        doye = doy_end.where(topo_on_g>=hh).sel(longitude=slice(lonbox[0],lonbox[1]), latitude=slice(latbox[0], latbox[1])).median(['latitude','longitude'])\n",
    "        chirps_box = chirps.where(topo_on_g>=hh).sel(longitude=slice(lonbox[0],lonbox[1]), latitude=slice(latbox[0], latbox[1])).where((chirps['time.dayofyear']>=doys) | (chirps['time.dayofyear']<=doye))#.mean(['latitude','longitude'])\n",
    "\n",
    "        \n",
    "    else:\n",
    "        doys = doy_start.salem.roi(shape=sdf).median(['latitude','longitude'])\n",
    "        doye = doy_end.salem.roi(shape=sdf).median(['latitude','longitude'])\n",
    "        chirps_box = chirps.salem.roi(shape=sdf).where((chirps['time.dayofyear']>=doys) | (chirps['time.dayofyear']<=doye)) #.mean(['latitude','longitude'])\n",
    "        \n",
    "#     f = plt.figure()\n",
    "#     plt.pcolormesh(chirps_box.mean('time'))\n",
    "    \n",
    "    perc = np.percentile(chirps_box.values[np.isfinite(chirps_box)], [30,70])\n",
    "    \n",
    "    perc = (0.1,1)\n",
    "    print(perc)\n",
    "    \n",
    "    date = datetime.datetime(2017, 1, 1) + pd.Timedelta(str(doys.values - 1)+' days')\n",
    "    dstr = date.strftime(\"%d/%m\")\n",
    "    print('Box onset', doys.values, 'Date', dstr)\n",
    "    date = datetime.datetime(2017, 1, 1) + pd.Timedelta(str(doye.values - 1)+' days')\n",
    "    dstr = date.strftime(\"%d/%m\")\n",
    "    print('Box retreat', doye.values, 'Date', dstr)\n",
    "    #ipdb.set_trace()\n",
    "    ts_rainy = chirps_box\n",
    "    \n",
    "    #ch_perc = ts_rainy.groupby('time.year').quantile(0.99)\n",
    "    \n",
    "    if wet:\n",
    "        pp = (ts_rainy.where(ts_rainy>=1).count(['latitude','longitude'])/ts_rainy.count(['latitude','longitude'])).load()\n",
    "        in_arr = pp>0.5 #ts_rainy.mean(['latitude','longitude']).where(pp>0.5)\n",
    "        in_arr.values = (in_arr.values.astype(int))\n",
    "        tag = 'wet'\n",
    "    if dry:\n",
    "        pp = (ts_rainy.where(ts_rainy<=0.5).count(['latitude','longitude'])/ts_rainy.count(['latitude','longitude'])).load()\n",
    "        in_arr = pp>0.5\n",
    "        #in_arr = (ts_rainy<perc[0])\n",
    "        in_arr.values = (in_arr.values.astype(int))\n",
    "        #ipdb.set_trace()\n",
    "        tag = 'dry'\n",
    "    #ipdb.set_trace()\n",
    "    out_arr = np.zeros(ts_rainy.shape[0])\n",
    "\n",
    "\n",
    "    if (np.isnan(doys) | np.isnan(doye)):\n",
    "        ipdb.set_trace()\n",
    "\n",
    "    ts = in_arr\n",
    "\n",
    "    labels, numL = label(ts)\n",
    "\n",
    "    u, inv = np.unique(labels, return_inverse=True)\n",
    "    n = np.bincount(inv)\n",
    "\n",
    "    inds_3 = u[(n>=3)&(n<5)&(u!=0)] ## min 3 days onset\n",
    "    inds_5 = u[(n>=5)&(n<7)&(u!=0)] ## min 5 days breakdown\n",
    "    inds_7 = u[(n>=7)&(n<9)&(u!=0)] ## min 5 days breakdown\n",
    "\n",
    "\n",
    "    if len(inds_3)>0:\n",
    "        for i in inds_3:\n",
    "            pos = np.where(labels==i)\n",
    "            out_arr[pos[0][0]] = 3\n",
    "\n",
    "    if len(inds_5)>0:\n",
    "        for i in inds_5:\n",
    "            pos = np.where(labels==i)\n",
    "            out_arr[pos[0][0]] = 5\n",
    "\n",
    "    if len(inds_7)>0:\n",
    "        for i in inds_7:\n",
    "            pos = np.where(labels==i)\n",
    "            out_arr[pos[0][0]] = 7\n",
    "\n",
    "\n",
    "    da = xr.DataArray(out_arr, coords=[ts_rainy['time']], dims=['time'])                    \n",
    "\n",
    "    da.to_netcdf('/media/ck/Elements/SouthAmerica/CHIRPS/'+tag+'_spells_1mm_3-7days_'+region+'_StartOfSpell_areaCheck.nc')\n",
    "    #return da, ts_rainy, in_arr"
   ]
  },
  {
   "cell_type": "code",
   "execution_count": 29,
   "metadata": {},
   "outputs": [],
   "source": [
    "def dry_wet_chirps_box_fixedThresh(chirps, doy_start, doy_end, dry=False, wet=False, region=None):\n",
    "    \n",
    "    pindex = 0\n",
    "    \n",
    "    tot =(365-doy_start)+doy_end\n",
    "    \n",
    "    if region != None:\n",
    "        box = regions[region]\n",
    "    \n",
    "        latbox = box[0]\n",
    "        lonbox = box[1]\n",
    "    else:\n",
    "        region='RioSanta'\n",
    "    \n",
    "    if region in ['equatorial', 'transition']:\n",
    "        hh=2000\n",
    "    else:\n",
    "        hh=3000\n",
    "    \n",
    "    if region != 'RioSanta':\n",
    "        doys = doy_start.where(topo_on_g>=hh).sel(longitude=slice(lonbox[0],lonbox[1]), latitude=slice(latbox[0],latbox[1])).median(['latitude','longitude'])\n",
    "        doye = doy_end.where(topo_on_g>=hh).sel(longitude=slice(lonbox[0],lonbox[1]), latitude=slice(latbox[0], latbox[1])).median(['latitude','longitude'])\n",
    "        chirps_box = chirps.where(topo_on_g>=hh).sel(longitude=slice(lonbox[0],lonbox[1]), latitude=slice(latbox[0], latbox[1])).where((chirps['time.dayofyear']>=doys) | (chirps['time.dayofyear']<=doye)).mean(['latitude','longitude'])\n",
    "\n",
    "        \n",
    "    else:\n",
    "        doys = doy_start.salem.roi(shape=sdf).median(['latitude','longitude'])\n",
    "        doye = doy_end.salem.roi(shape=sdf).median(['latitude','longitude'])\n",
    "        chirps_box = chirps.salem.roi(shape=sdf).where((chirps['time.dayofyear']>=doys) | (chirps['time.dayofyear']<=doye)) #.mean(['latitude','longitude'])\n",
    "        \n",
    "#     f = plt.figure()\n",
    "#     plt.pcolormesh(chirps_box.mean('time'))\n",
    "    \n",
    "    perc = np.percentile(chirps_box.values[np.isfinite(chirps_box)], [30,70])\n",
    "    print(perc)\n",
    "    \n",
    "    date = datetime.datetime(2017, 1, 1) + pd.Timedelta(str(doys.values - 1)+' days')\n",
    "    dstr = date.strftime(\"%d/%m\")\n",
    "    print('Box onset', doys.values, 'Date', dstr)\n",
    "    date = datetime.datetime(2017, 1, 1) + pd.Timedelta(str(doye.values - 1)+' days')\n",
    "    dstr = date.strftime(\"%d/%m\")\n",
    "    print('Box retreat', doye.values, 'Date', dstr)\n",
    "    #ipdb.set_trace()\n",
    "    ts_rainy = chirps_box\n",
    "    \n",
    "    #ch_perc = ts_rainy.groupby('time.year').quantile(0.99)\n",
    "    \n",
    "    if wet:\n",
    "        #pp = (ts_rainy.where(ts_rainy>=perc[1]).count(['latitude','longitude'])/ts_rainy.count(['latitude','longitude'])).load()\n",
    "        in_arr = ts_rainy.where(pp>2)\n",
    "        in_arr.values = (in_arr.values.astype(int))\n",
    "        tag = 'wet'\n",
    "    if dry:\n",
    "        #pp = (ts_rainy.where(ts_rainy<=perc[0]).count(['latitude','longitude'])/ts_rainy.count(['latitude','longitude'])).load()\n",
    "        in_arr = ts_rainy.where(pp<0.5) #pp>0.5 #ts_rainy.mean(['latitude','longitude']).where(\n",
    "        #in_arr = (ts_rainy<perc[0])\n",
    "        in_arr.values = (in_arr.values.astype(int))\n",
    "        #ipdb.set_trace()\n",
    "        tag = 'dry'\n",
    "    #ipdb.set_trace()\n",
    "    out_arr = np.zeros(ts_rainy.shape[0])\n",
    "\n",
    "\n",
    "    if (np.isnan(doys) | np.isnan(doye)):\n",
    "        ipdb.set_trace()\n",
    "\n",
    "    ts = in_arr\n",
    "\n",
    "    labels, numL = label(ts)\n",
    "\n",
    "    u, inv = np.unique(labels, return_inverse=True)\n",
    "    n = np.bincount(inv)\n",
    "\n",
    "    inds_3 = u[(n>=3)&(n<5)&(u!=0)] ## min 3 days onset\n",
    "    inds_5 = u[(n>=5)&(n<7)&(u!=0)] ## min 5 days breakdown\n",
    "    inds_7 = u[(n>=7)&(n<9)&(u!=0)] ## min 5 days breakdown\n",
    "\n",
    "\n",
    "    if len(inds_3)>0:\n",
    "        for i in inds_3:\n",
    "            pos = np.where(labels==i)\n",
    "            out_arr[pos[0][0]] = 3\n",
    "\n",
    "    if len(inds_5)>0:\n",
    "        for i in inds_5:\n",
    "            pos = np.where(labels==i)\n",
    "            out_arr[pos[0][0]] = 5\n",
    "\n",
    "    if len(inds_7)>0:\n",
    "        for i in inds_7:\n",
    "            pos = np.where(labels==i)\n",
    "            out_arr[pos[0][0]] = 7\n",
    "\n",
    "\n",
    "    da = xr.DataArray(out_arr, coords=[ts_rainy['time']], dims=['time'])                    \n",
    "\n",
    "    da.to_netcdf('/media/ck/Elements/SouthAmerica/CHIRPS/'+tag+'_spells_1mm_3-7days_'+region+'_StartOfSpell_NoAreaCheck.nc')\n",
    "    #return da, ts_rainy, in_arr"
   ]
  },
  {
   "cell_type": "code",
   "execution_count": 30,
   "metadata": {},
   "outputs": [
    {
     "name": "stdout",
     "output_type": "stream",
     "text": [
      "[-14.31333333   0.        ]\n",
      "Box onset 254.0 Date 11/09\n",
      "Box retreat 152.0 Date 01/06\n",
      "[-14.31333333   0.        ]\n",
      "Box onset 254.0 Date 11/09\n",
      "Box retreat 152.0 Date 01/06\n",
      "[0. 0.]\n",
      "Box onset 222.0 Date 10/08\n",
      "Box retreat 202.0 Date 21/07\n",
      "[0. 0.]\n",
      "Box onset 222.0 Date 10/08\n",
      "Box retreat 202.0 Date 21/07\n",
      "[-2.548125  0.      ]\n",
      "Box onset 247.0 Date 04/09\n",
      "Box retreat 155.0 Date 04/06\n",
      "[-2.548125  0.      ]\n",
      "Box onset 247.0 Date 04/09\n",
      "Box retreat 155.0 Date 04/06\n",
      "[-25.45333333   0.        ]\n",
      "Box onset 253.0 Date 10/09\n",
      "Box retreat 113.0 Date 23/04\n",
      "[-25.45333333   0.        ]\n",
      "Box onset 253.0 Date 10/09\n",
      "Box retreat 113.0 Date 23/04\n",
      "[-43.925   0.   ]\n",
      "Box onset 271.0 Date 28/09\n",
      "Box retreat 92.0 Date 02/04\n",
      "[-43.925   0.   ]\n",
      "Box onset 271.0 Date 28/09\n",
      "Box retreat 92.0 Date 02/04\n"
     ]
    }
   ],
   "source": [
    "dry_wet_gridsat_box(g_doypick, outarr_3, endarr_5, dry=True, wet=False)\n",
    "dry_wet_gridsat_box(g_doypick, outarr_3, endarr_5, dry=False, wet=True)\n",
    "\n",
    "dry_wet_gridsat_box(g_doypick, outarr_3, endarr_5, dry=True, wet=False, region='equatorial')\n",
    "dry_wet_gridsat_box(g_doypick, outarr_3, endarr_5, dry=False, wet=True, region='equatorial')\n",
    "\n",
    "dry_wet_gridsat_box(g_doypick, outarr_3, endarr_5, dry=True, wet=False, region='transition')\n",
    "dry_wet_gridsat_box(g_doypick, outarr_3, endarr_5, dry=False, wet=True, region='transition')\n",
    "\n",
    "dry_wet_gridsat_box(g_doypick, outarr_3, endarr_5, dry=True, wet=False, region='central')\n",
    "dry_wet_gridsat_box(g_doypick, outarr_3, endarr_5, dry=False, wet=True, region='central')\n",
    "\n",
    "dry_wet_gridsat_box(g_doypick, outarr_3, endarr_5, dry=True, wet=False, region='southern')\n",
    "dry_wet_gridsat_box(g_doypick, outarr_3, endarr_5, dry=False, wet=True, region='southern')"
   ]
  },
  {
   "cell_type": "code",
   "execution_count": 33,
   "metadata": {},
   "outputs": [
    {
     "name": "stdout",
     "output_type": "stream",
     "text": [
      "(0.1, 1)\n",
      "Box onset 254.0 Date 11/09\n",
      "Box retreat 152.0 Date 01/06\n"
     ]
    },
    {
     "name": "stderr",
     "output_type": "stream",
     "text": [
      "/home/ck/miniconda3/lib/python3.7/site-packages/dask/core.py:121: RuntimeWarning: invalid value encountered in true_divide\n",
      "  return func(*(_execute_task(a, cache) for a in args))\n"
     ]
    },
    {
     "name": "stdout",
     "output_type": "stream",
     "text": [
      "(0.1, 1)\n",
      "Box onset 254.0 Date 11/09\n",
      "Box retreat 152.0 Date 01/06\n"
     ]
    },
    {
     "name": "stderr",
     "output_type": "stream",
     "text": [
      "/home/ck/miniconda3/lib/python3.7/site-packages/dask/core.py:121: RuntimeWarning: invalid value encountered in true_divide\n",
      "  return func(*(_execute_task(a, cache) for a in args))\n"
     ]
    },
    {
     "name": "stdout",
     "output_type": "stream",
     "text": [
      "(0.1, 1)\n",
      "Box onset 222.0 Date 10/08\n",
      "Box retreat 202.0 Date 21/07\n"
     ]
    },
    {
     "name": "stderr",
     "output_type": "stream",
     "text": [
      "/home/ck/miniconda3/lib/python3.7/site-packages/dask/core.py:121: RuntimeWarning: invalid value encountered in true_divide\n",
      "  return func(*(_execute_task(a, cache) for a in args))\n"
     ]
    },
    {
     "name": "stdout",
     "output_type": "stream",
     "text": [
      "(0.1, 1)\n",
      "Box onset 222.0 Date 10/08\n",
      "Box retreat 202.0 Date 21/07\n"
     ]
    },
    {
     "name": "stderr",
     "output_type": "stream",
     "text": [
      "/home/ck/miniconda3/lib/python3.7/site-packages/dask/core.py:121: RuntimeWarning: invalid value encountered in true_divide\n",
      "  return func(*(_execute_task(a, cache) for a in args))\n"
     ]
    },
    {
     "name": "stdout",
     "output_type": "stream",
     "text": [
      "(0.1, 1)\n",
      "Box onset 247.0 Date 04/09\n",
      "Box retreat 155.0 Date 04/06\n"
     ]
    },
    {
     "name": "stderr",
     "output_type": "stream",
     "text": [
      "/home/ck/miniconda3/lib/python3.7/site-packages/dask/core.py:121: RuntimeWarning: invalid value encountered in true_divide\n",
      "  return func(*(_execute_task(a, cache) for a in args))\n"
     ]
    },
    {
     "name": "stdout",
     "output_type": "stream",
     "text": [
      "(0.1, 1)\n",
      "Box onset 247.0 Date 04/09\n",
      "Box retreat 155.0 Date 04/06\n"
     ]
    },
    {
     "name": "stderr",
     "output_type": "stream",
     "text": [
      "/home/ck/miniconda3/lib/python3.7/site-packages/dask/core.py:121: RuntimeWarning: invalid value encountered in true_divide\n",
      "  return func(*(_execute_task(a, cache) for a in args))\n"
     ]
    },
    {
     "name": "stdout",
     "output_type": "stream",
     "text": [
      "(0.1, 1)\n",
      "Box onset 253.0 Date 10/09\n",
      "Box retreat 113.0 Date 23/04\n"
     ]
    },
    {
     "name": "stderr",
     "output_type": "stream",
     "text": [
      "/home/ck/miniconda3/lib/python3.7/site-packages/dask/core.py:121: RuntimeWarning: invalid value encountered in true_divide\n",
      "  return func(*(_execute_task(a, cache) for a in args))\n"
     ]
    },
    {
     "name": "stdout",
     "output_type": "stream",
     "text": [
      "(0.1, 1)\n",
      "Box onset 253.0 Date 10/09\n",
      "Box retreat 113.0 Date 23/04\n"
     ]
    },
    {
     "name": "stderr",
     "output_type": "stream",
     "text": [
      "/home/ck/miniconda3/lib/python3.7/site-packages/dask/core.py:121: RuntimeWarning: invalid value encountered in true_divide\n",
      "  return func(*(_execute_task(a, cache) for a in args))\n"
     ]
    },
    {
     "name": "stdout",
     "output_type": "stream",
     "text": [
      "(0.1, 1)\n",
      "Box onset 271.0 Date 28/09\n",
      "Box retreat 92.0 Date 02/04\n"
     ]
    },
    {
     "name": "stderr",
     "output_type": "stream",
     "text": [
      "/home/ck/miniconda3/lib/python3.7/site-packages/dask/core.py:121: RuntimeWarning: invalid value encountered in true_divide\n",
      "  return func(*(_execute_task(a, cache) for a in args))\n"
     ]
    },
    {
     "name": "stdout",
     "output_type": "stream",
     "text": [
      "(0.1, 1)\n",
      "Box onset 271.0 Date 28/09\n",
      "Box retreat 92.0 Date 02/04\n"
     ]
    },
    {
     "name": "stderr",
     "output_type": "stream",
     "text": [
      "/home/ck/miniconda3/lib/python3.7/site-packages/dask/core.py:121: RuntimeWarning: invalid value encountered in true_divide\n",
      "  return func(*(_execute_task(a, cache) for a in args))\n"
     ]
    }
   ],
   "source": [
    "dry_wet_chirps_box(chirps_doypick, outarr_3, endarr_5, dry=True, wet=False)\n",
    "dry_wet_chirps_box(chirps_doypick, outarr_3, endarr_5, dry=False, wet=True)\n",
    "\n",
    "dry_wet_chirps_box(chirps_doypick, outarr_3, endarr_5, dry=True, wet=False, region='equatorial')\n",
    "dry_wet_chirps_box(chirps_doypick, outarr_3, endarr_5, dry=False, wet=True, region='equatorial')\n",
    "\n",
    "dry_wet_chirps_box(chirps_doypick, outarr_3, endarr_5, dry=True, wet=False, region='transition')\n",
    "dry_wet_chirps_box(chirps_doypick, outarr_3, endarr_5, dry=False, wet=True, region='transition')\n",
    "\n",
    "dry_wet_chirps_box(chirps_doypick, outarr_3, endarr_5, dry=True, wet=False, region='central')\n",
    "dry_wet_chirps_box(chirps_doypick, outarr_3, endarr_5, dry=False, wet=True, region='central')\n",
    "\n",
    "dry_wet_chirps_box(chirps_doypick, outarr_3, endarr_5, dry=True, wet=False, region='southern')\n",
    "dry_wet_chirps_box(chirps_doypick, outarr_3, endarr_5, dry=False, wet=True, region='southern')"
   ]
  },
  {
   "cell_type": "code",
   "execution_count": 3,
   "metadata": {},
   "outputs": [],
   "source": [
    "test = xr.open_dataarray('/media/ck/Elements/SouthAmerica/CHIRPS/wet_GRIDSATspells_1mm_3-7days_RioSanta_StartOfSpell_areaCheck.nc')"
   ]
  },
  {
   "cell_type": "code",
   "execution_count": 4,
   "metadata": {},
   "outputs": [
    {
     "data": {
      "text/plain": [
       "[<matplotlib.lines.Line2D at 0x7f9838551850>]"
      ]
     },
     "execution_count": 4,
     "metadata": {},
     "output_type": "execute_result"
    },
    {
     "data": {
      "image/png": "[encoded data removed]",
      "text/plain": [
       "<Figure size 432x288 with 1 Axes>"
      ]
     },
     "metadata": {
      "needs_background": "light"
     },
     "output_type": "display_data"
    }
   ],
   "source": [
    "test.sel(time=test['time.year']==2014).plot()"
   ]
  },
  {
   "cell_type": "code",
   "execution_count": null,
   "metadata": {},
   "outputs": [],
   "source": []
  }
 ],
 "metadata": {
  "kernelspec": {
   "display_name": "Python 3",
   "language": "python",
   "name": "python3"
  },
  "language_info": {
   "codemirror_mode": {
    "name": "ipython",
    "version": 3
   },
   "file_extension": ".py",
   "mimetype": "text/x-python",
   "name": "python",
   "nbconvert_exporter": "python",
   "pygments_lexer": "ipython3",
   "version": "3.7.8"
  }
 },
 "nbformat": 4,
 "nbformat_minor": 2
}
