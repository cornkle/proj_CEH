{
 "cells": [
  {
   "cell_type": "code",
   "execution_count": 3,
   "metadata": {},
   "outputs": [],
   "source": [
    "import numpy as np\n",
    "import matplotlib.pyplot as plt\n",
    "import cartopy.crs as ccrs\n",
    "import cartopy.feature as cfeature\n",
    "import cartopy\n",
    "import matplotlib.pylab as pylab\n",
    "import cartopy.feature as cfeature\n",
    "import scipy.stats as stats\n",
    "import xarray as xr\n",
    "import ipdb\n",
    "import glob\n",
    "import itertools\n",
    "import numpy.ma as ma\n",
    "from utils import u_statistics as u_stat, u_darrays\n",
    "from scipy.stats import gaussian_kde, binned_statistic\n",
    "import pickle as pkl\n",
    "from utils import u_plot as uplot, u_met\n",
    "import pandas as pd\n",
    "\n",
    "##for regridding, install xesmf:\n",
    "# conda install esmpy\n",
    "# pip install xesmf\n",
    "from utils import constants as cnst\n",
    "\n",
    "pylab.rcParams['figure.figsize'] = (50., 50.)\n",
    "%matplotlib inline"
   ]
  },
  {
   "cell_type": "code",
   "execution_count": 1,
   "metadata": {},
   "outputs": [
    {
     "name": "stdout",
     "output_type": "stream",
     "text": [
      "/home/ck/pythonWorkspace/proj_CEH\n"
     ]
    }
   ],
   "source": [
    "cd .."
   ]
  },
  {
   "cell_type": "code",
   "execution_count": 4,
   "metadata": {},
   "outputs": [],
   "source": [
    "OBS = pkl.load( open (cnst.CLOVER_SAVES + 'bulk_-50_5000km2_GPM_ERA-I.p', 'rb'))"
   ]
  },
  {
   "cell_type": "code",
   "execution_count": 5,
   "metadata": {},
   "outputs": [
    {
     "name": "stdout",
     "output_type": "stream",
     "text": [
      "dict_keys(['year', 'u650', 'tmin', 'q650', 'lat', 'rh925', 'v650', 'pv925', 'month', 'q925', 'area', 'w650', 'pgt30', 'pv650', 't', 'pmax', 'clon', 't925', 'v925', 'clat', 'u925', 'tmean', 'rh650', 'hour', 'lon', 't650', 'w925', 'pmean', 'pgt01isvalid', 'p', 'div650', 'div925', 'shear'])\n"
     ]
    }
   ],
   "source": [
    "print(OBS.keys())"
   ]
  },
  {
   "cell_type": "code",
   "execution_count": 6,
   "metadata": {},
   "outputs": [],
   "source": [
    "dic = OBS\n",
    "\n",
    "pp = np.array(dic['pmax'])\n",
    "sh = np.array(dic['shear']) #np.array(dic['shear']) * (-1)\n",
    "umin = np.array(dic['u650'])\n",
    "umax = np.array(dic['u925'])\n",
    "qq = np.array(dic['q925']) \n",
    "rh = np.array(dic['rh925']) \n",
    "tt = np.array(dic['tmin'])\n",
    "ttm = np.array(dic['tmean'])\n",
    "month = np.array(dic['month'])\n",
    "area = np.array(dic['area'])\n",
    "lat = np.array(dic['clat'])\n",
    "lon = np.array(dic['clon'])\n",
    "\n",
    "obs_pcp = {\n",
    "    'prcp' : pp,\n",
    "    'u650' : umin,\n",
    "    'u925' : umax,\n",
    "    'q925' : qq*1000,\n",
    "    'rhtot' : rh,\n",
    "    'shear' : sh*-1,\n",
    "    'month' : month,\n",
    "    'area' : area*7.7**2,\n",
    "    'tmin' : tt,\n",
    "    'tmean' : ttm,\n",
    "    'lat' : lat,\n",
    "    'lon' : lon,\n",
    "} \n",
    "obs = pd.DataFrame(obs_pcp)"
   ]
  },
  {
   "cell_type": "code",
   "execution_count": 108,
   "metadata": {},
   "outputs": [],
   "source": [
    "def get_ERA(era, indic, clim=False):\n",
    "\n",
    "    dic = {}\n",
    "    dic['u925'] = []\n",
    "    dic['u650'] = []\n",
    "    dic['q925'] = []\n",
    "    dic['q700'] = []\n",
    "    dic['rh925'] = []\n",
    "    \n",
    "    for id, date in enumerate(indic.date):\n",
    "        \n",
    "        if clim == True:\n",
    "            getera =np.where((era['time.month']==indic.month[id]) & (era['time.year']==indic.year[id]))\n",
    "\n",
    "        else:\n",
    "            getera =np.where((era['time.day']==(indic['date'])[id].day) & (era['time.month']==indic.month[id]) & (era['time.year']==indic.year[id]))\n",
    "\n",
    "        try:\n",
    "            era_day = era.isel(time=int(getera[0]))\n",
    "        except TypeError:\n",
    "            print('Era missing')\n",
    "            for k in dic.keys():\n",
    "                dic[k].append(np.nan)\n",
    "\n",
    "            continue\n",
    "\n",
    "        elat = indic.clat[id]\n",
    "        elon = indic.clon[id]\n",
    "        dic['u925'].append(float(era_day['u'].sel(latitude=elat, longitude=elon, level=925, method='nearest').values))\n",
    "        dic['u650'].append(float(era_day['u'].sel(latitude=elat, longitude=elon, level=650, method='nearest').values))\n",
    "        dic['q925'].append(float(era_day['q'].sel(latitude=elat, longitude=elon, level=925, method='nearest').values))\n",
    "        dic['q700'].append(float(era_day['q'].sel(latitude=elat, longitude=elon, level=700, method='nearest').values))\n",
    "        dic['rh925'].append(float(era_day['r'].sel(latitude=elat, longitude=elon, level=925, method='nearest').values))\n",
    "\n",
    "    return dic"
   ]
  },
  {
   "cell_type": "code",
   "execution_count": 109,
   "metadata": {},
   "outputs": [],
   "source": [
    "pdf = pkl.load(open (cnst.CLOVER_SAVES + 'StormLoc_-50_5000km_WA.p', 'rb'))\n",
    "pdf = pdf.where((pdf.clat>=5.1) & (pdf.clat<=8.1) & (pdf.clon>=-10) & (pdf.clon<=12))\n",
    "pdf = pdf.dropna()\n",
    "\n",
    "ttg = np.array(pdf.tmin, dtype=float)\n",
    "ttm = np.array(pdf.tmean, dtype=float)\n",
    "month = pdf.month.values\n",
    "area = pdf.area.values\n",
    "area70 = np.array(pdf['70area'], dtype=int)\n",
    "lat = pdf.clat.values\n",
    "lon = pdf.clon.values"
   ]
  },
  {
   "cell_type": "code",
   "execution_count": 110,
   "metadata": {},
   "outputs": [],
   "source": [
    "era = xr.open_dataset(cnst.ERA_DAILY_PL12UTC)\n",
    "era = u_darrays.flip_lat(era)"
   ]
  },
  {
   "cell_type": "code",
   "execution_count": 111,
   "metadata": {},
   "outputs": [],
   "source": [
    "# era_out = get_ERA(era, pdf)\n",
    "# pkl.dump(era_out,open(cnst.CLOVER_SAVES + 'StormLoc_-50_5000km_WA_ERA_qhistogram.p', 'wb'))"
   ]
  },
  {
   "cell_type": "code",
   "execution_count": 7,
   "metadata": {},
   "outputs": [],
   "source": [
    "era_out = pkl.load( open (cnst.CLOVER_SAVES + 'StormLoc_-50_5000km_WA_ERA5_allmonth_5-8N_2000-2014_18UTC_front.p', 'rb'))\n",
    "era_clim = pkl.load( open (cnst.CLOVER_SAVES + 'StormLoc_-50_5000km_WA_ERA5_allmonth_5-8N_2000-2014_18UTC_front_CLIM.p', 'rb'))"
   ]
  },
  {
   "cell_type": "code",
   "execution_count": 8,
   "metadata": {},
   "outputs": [
    {
     "data": {
      "text/plain": [
       "dict_keys(['u_col', 't_col', 'u650_s', 'tmin', 'tcwv', 'level', 'CAPE', 'r_col', 'u_col_s', 'u650', 'tmean', 'q925', 'area', 'u925_s', 'lon', 'r_col_s', 'tcwv_s', 'q700', 'dates', 't2', 'divMoist', 'u925', 'slp_s', 'area70', 'd925_s', 'CAPE_s', 'q_col', 'd925', 't_col_s', 'v_col', 'lat', 'v_col_s', 'q925_s', 'slp', 't2_s', 'divMoist_s', 'd_col_s', 'd_col', 't10', 'q700_s', 'q_col_s'])"
      ]
     },
     "execution_count": 8,
     "metadata": {},
     "output_type": "execute_result"
    }
   ],
   "source": [
    "era_out.keys()"
   ]
  },
  {
   "cell_type": "code",
   "execution_count": 18,
   "metadata": {},
   "outputs": [],
   "source": [
    "def get_col(var):\n",
    "    vdic = {}\n",
    "    vdic['low'] = []\n",
    "    vdic['high'] = []\n",
    "    vdic['mean'] = []\n",
    "    for v in var:\n",
    "        \n",
    "        vdic['low'].append(v.flatten()[16])\n",
    "        vdic['high'].append(v.flatten()[9])\n",
    "        vdic['mean'].append(np.array(v).flatten().mean())        \n",
    "    return vdic\n",
    "    \n",
    "\n",
    "ucdic = get_col(era_clim['u_col'])\n",
    "vcdic = get_col(era_clim['v_col'])\n"
   ]
  },
  {
   "cell_type": "code",
   "execution_count": 11,
   "metadata": {},
   "outputs": [],
   "source": [
    "e_u650 = np.array(era_out['u650'])  - np.array(era_clim['u650'])\n",
    "e_u925 = np.array(era_out['u925'])  - np.array(era_clim['u925'])\n",
    "e_q925 = np.array(era_out['q925']) - np.array(era_clim['q925'])\n",
    "e_q700 = np.array(era_out['q700']) - np.array(era_clim['q700'])#\n",
    "cape = np.array(era_out['CAPE']) - np.array(era_clim['CAPE'])#"
   ]
  },
  {
   "cell_type": "code",
   "execution_count": 12,
   "metadata": {},
   "outputs": [
    {
     "data": {
      "text/plain": [
       "array([ 4.52581483,  3.48597854,  1.60011536, ..., -0.48884061,\n",
       "       -0.95528711,  2.01701461])"
      ]
     },
     "execution_count": 12,
     "metadata": {},
     "output_type": "execute_result"
    }
   ],
   "source": [
    "e_u650-e_u925"
   ]
  },
  {
   "cell_type": "code",
   "execution_count": 14,
   "metadata": {},
   "outputs": [],
   "source": [
    "era_out['month'] = []\n",
    "for d in era_out['dates']:\n",
    "    era_out['month'].append(d.month)"
   ]
  },
  {
   "cell_type": "code",
   "execution_count": 21,
   "metadata": {},
   "outputs": [],
   "source": [
    "udic = get_col(era_out['u_col'])\n",
    "vdic = get_col(era_out['v_col'])\n",
    "ushear = (np.array(udic['high'])-np.array(udic['low'])) \n",
    "vshear = (np.array(vdic['high'])-np.array(vdic['low'])) \n",
    "shearsc = u_met.u_v_to_ws_wd(ushear, vshear)\n",
    "\n",
    "dicc = {\n",
    "    'u650' : np.array(era_out['u650']),\n",
    "    'u925' : np.array(era_out['u925']),\n",
    "    'q925' : np.array(era_out['q925'])*1000,\n",
    "    'q700' : np.array(era_out['q700'])*1000,\n",
    "    'shear' : np.array(era_out['u650'])-np.array(era_out['u925']),#shearsc[0],\n",
    "    'month' : era_out['month'],\n",
    "    'area' : np.array(era_out['area'])*7.7**2,\n",
    "    'tmin' : era_out['tmin'],\n",
    "    'tmean' : era_out['tmean'],\n",
    "    'lat' : era_out['lat'],\n",
    "    'lon' : era_out['lon'],\n",
    "    'cape' : era_out['CAPE']\n",
    "} \n",
    "dsc = pd.DataFrame(dicc)"
   ]
  },
  {
   "cell_type": "code",
   "execution_count": 22,
   "metadata": {},
   "outputs": [],
   "source": [
    "ushear = (np.array(udic['high'])-np.array(udic['low'])) - (np.array(ucdic['high'])-np.array(ucdic['low']))\n",
    "vshear = (np.array(vdic['high'])-np.array(vdic['low'])) - (np.array(vcdic['high'])-np.array(vcdic['low']))\n",
    "\n",
    "shearss = u_met.u_v_to_ws_wd(ushear, vshear)"
   ]
  },
  {
   "cell_type": "code",
   "execution_count": 23,
   "metadata": {},
   "outputs": [],
   "source": [
    "dic = {\n",
    "    'u650' : e_u650,\n",
    "    'u925' : e_u925,\n",
    "    'q925' : np.array(e_q925)*1000,\n",
    "    'q700' : np.array(e_q700)*1000,\n",
    "    'shear' : shearss[0], #e_u650-e_u925,#\n",
    "    'month' : era_out['month'],\n",
    "    'area' : np.array(era_out['area'])*7.7**2,\n",
    "    'tmin' : era_out['tmin'],\n",
    "    'tmean' : era_out['tmean'],\n",
    "    'lat' : era_out['lat'],\n",
    "    'lon' : era_out['lon'],\n",
    "    'cape' : cape\n",
    "} \n",
    "ds = pd.DataFrame(dic)"
   ]
  },
  {
   "cell_type": "code",
   "execution_count": 24,
   "metadata": {},
   "outputs": [],
   "source": [
    "ds = ds.dropna()\n",
    "dsc = dsc.dropna()"
   ]
  },
  {
   "cell_type": "code",
   "execution_count": 147,
   "metadata": {},
   "outputs": [],
   "source": [
    "pos1 = (ds.month<=5) & (ds.u650<0) & (ds.area>=5000) & (ds.lon>=-10)&(ds.lon<=12)&(ds.lat>=5.2)&(ds.lat<=8.3)\n",
    "pos2 = (ds.month>=6) & (ds.u650<0) & (ds.area>=5000) & (ds.lon>=-10)&(ds.lon<=12)&(ds.lat>=5.2)&(ds.lat<=8.3)\n",
    "\n",
    "opos1 = (obs.month<=5) & (obs.u650<0) & (obs.area>=1000) & (obs.lon>=-10)&(obs.lon<=12)&(obs.lat>=5.2)&(obs.lat<=8.3)\n",
    "opos2 = (obs.month>=6) & (obs.u650<0) & (obs.area>=1000) & (obs.lon>=-10)&(obs.lon<=12)&(obs.lat>=5.2)&(obs.lat<=8.3)"
   ]
  },
  {
   "cell_type": "code",
   "execution_count": 148,
   "metadata": {},
   "outputs": [],
   "source": [
    "oposi = (obs.u650<0) & (obs.area>=5000) & (obs.prcp>=1) & ((obs.month>=9) | (obs.month<=5))"
   ]
  },
  {
   "cell_type": "code",
   "execution_count": 149,
   "metadata": {},
   "outputs": [],
   "source": [
    "ds_march = ds[pos1]\n",
    "ds_oct = ds[pos2]\n",
    "dsc_march = dsc[pos1]\n",
    "dsc_oct = dsc[pos2]\n",
    "obs_march = obs[opos1]\n",
    "obs_oct = obs[opos2]"
   ]
  },
  {
   "cell_type": "code",
   "execution_count": 150,
   "metadata": {},
   "outputs": [],
   "source": [
    "obsp = obs[oposi]"
   ]
  },
  {
   "cell_type": "code",
   "execution_count": 151,
   "metadata": {},
   "outputs": [
    {
     "data": {
      "text/plain": [
       "<matplotlib.collections.PathCollection at 0x7f0d93b2a278>"
      ]
     },
     "execution_count": 151,
     "metadata": {},
     "output_type": "execute_result"
    },
    {
     "data": {
      "image/png": "[encoded data removed]",
      "text/plain": [
       "<Figure size 432x288 with 2 Axes>"
      ]
     },
     "metadata": {
      "needs_background": "light"
     },
     "output_type": "display_data"
    }
   ],
   "source": [
    "f = plt.figure()\n",
    "ax = f.add_subplot(121)\n",
    "plt.scatter(obs_oct.rhtot, obs_oct.prcp)\n",
    "#plt.xlim(0,150)\n",
    "\n",
    "ax = f.add_subplot(122)\n",
    "plt.scatter(obs_march.rhtot, obs_march.prcp)\n",
    "#plt.xlim(0,150)\n",
    "#ax.set_ylim(0,130)"
   ]
  },
  {
   "cell_type": "code",
   "execution_count": 152,
   "metadata": {},
   "outputs": [
    {
     "data": {
      "text/plain": [
       "(array([460., 365., 299., 277., 238., 219., 200., 140.,  98.,  96.,  61.,\n",
       "         48.,  40.,  35.,  23.,  14.,  11.,   6.,   3.,   2.,   2.,   3.,\n",
       "          0.,   2.,   0.,   0.,   0.,   0.,   0.,   0.]),\n",
       " array([ 10.        ,  14.66666667,  19.33333333,  24.        ,\n",
       "         28.66666667,  33.33333333,  38.        ,  42.66666667,\n",
       "         47.33333333,  52.        ,  56.66666667,  61.33333333,\n",
       "         66.        ,  70.66666667,  75.33333333,  80.        ,\n",
       "         84.66666667,  89.33333333,  94.        ,  98.66666667,\n",
       "        103.33333333, 108.        , 112.66666667, 117.33333333,\n",
       "        122.        , 126.66666667, 131.33333333, 136.        ,\n",
       "        140.66666667, 145.33333333, 150.        ]),\n",
       " <a list of 30 Patch objects>)"
      ]
     },
     "execution_count": 152,
     "metadata": {},
     "output_type": "execute_result"
    },
    {
     "data": {
      "image/png": "[encoded data removed]",
      "text/plain": [
       "<Figure size 432x288 with 1 Axes>"
      ]
     },
     "metadata": {
      "needs_background": "light"
     },
     "output_type": "display_data"
    }
   ],
   "source": [
    "plt.hist(obs_oct.prcp, bins=30, range=(10,150))\n",
    "plt.hist(obs_march.prcp, bins=30, range=(10,150))"
   ]
  },
  {
   "cell_type": "code",
   "execution_count": 153,
   "metadata": {},
   "outputs": [
    {
     "name": "stdout",
     "output_type": "stream",
     "text": [
      "46.69868953922118\n",
      "46.46821889532691\n"
     ]
    }
   ],
   "source": [
    "print(np.percentile(obs_march.prcp,90))\n",
    "print(np.percentile(obs_oct.prcp,90))"
   ]
  },
  {
   "cell_type": "code",
   "execution_count": null,
   "metadata": {
    "scrolled": false
   },
   "outputs": [],
   "source": [
    "f = plt.figure(figsize=(6,10), dpi=100)\n",
    "ax = f.add_subplot(211)\n",
    "\n",
    "Ho = binned_statistic(ds_oct.q925, ds_oct.q925,bins=np.arange(-3.5,5.5,0.5),statistic='count')#plt.hist(dss_oct.q925, label='October', bins=12, range=(-4,5))\n",
    "#std = binned_statistic(ds_oct.q925, dsc_oct.q925,bins=np.arange(-3.5,5.5,0.5), statistic='median')\n",
    "\n",
    "\n",
    "bins = Ho[1]\n",
    "binmid = bins[1::]-((bins[1::]-bins[0:-1])/2)\n",
    "#Ho = plt.hist(dss_oct.q925, label='October', alpha=0.8, bins=12, range=(-4,5))\n",
    "plt.bar(binmid, Ho[0]/np.sum(Ho[0]),  color='lightblue', ecolor='black', edgecolor='k', width=0.5, label='Sep-Nov')\n",
    "#ipdb.set_trace()\n",
    "\n",
    "print(Ho)\n",
    "#plt.vlines(15.048924, 0, 1900, 'b', linestyle='dashed')\n",
    "shears_oct = []\n",
    "tmin_oct = []\n",
    "\n",
    "for ids, qs in enumerate(bins[0:-2]):\n",
    "    pos = (ds_oct.q925>=qs) & (ds_oct.q925<bins[ids+1])\n",
    "    pick = ds_oct.where(pos)\n",
    "   \n",
    "    shears_oct.append(np.mean(pick.shear))\n",
    "    tmin_oct.append(np.mean(pick.tmean))\n",
    "\n",
    "\n",
    "Hm = binned_statistic(ds_march.q925, ds_march.q925, statistic='count', bins=np.arange(-3.5,5.5,0.5))#plt.hist(dss_oct.q925, label='October', bins=12, range=(-4,5))\n",
    "#std = binned_statistic(dss_march.q925, dss_march.q925, bins=12, statistic='std')\n",
    "\n",
    "\n",
    "print(Hm)\n",
    "#plt.vlines(15.146461,0, 1900,'r', linestyle='dashed')\n",
    "bins = Hm[1]\n",
    "binmid = bins[1::]-((bins[1::]-bins[0:-1])/2)\n",
    "\n",
    "plt.bar(binmid, Hm[0]/np.sum(Hm[0]),  color='navajowhite', ecolor='black', edgecolor='k', width=0.5, alpha=0.5, label='Mar-May')\n",
    "\n",
    "shears_march = []\n",
    "tmin_march = []\n",
    "for ids, qs in enumerate(bins[0:-2]):\n",
    "    pos = (ds_march.q925>=qs) & (ds_march.q925<bins[ids+2])\n",
    "    pick = ds_march.where(pos)\n",
    "    shears_march.append(np.mean(pick.shear))\n",
    "    tmin_march.append(np.mean(pick.tmean))\n",
    "    \n",
    "ax1 = ax.twinx()\n",
    "\n",
    "ax1.plot(binmid[0:-1],np.array(shears_oct), 'bo')   #*(-1)-1\n",
    "ax1.plot(binmid[0:-1],np.array(shears_march), 'ro')  #*(-1)\n",
    "ax1.set_ylim(5,18)\n",
    "\n",
    "ax.set_ylabel('Number of storms')\n",
    "plt.title('Dashed: avg. q925, bars: pre-storm q925, dots: shear')\n",
    "ax.legend(loc='upper left')\n",
    "\n",
    "\n",
    "ax = f.add_subplot(212)\n",
    "plt.title('Min. storm temperature')\n",
    "plt.bar(binmid[0:-1],tmin_oct, align='center', zorder=9, edgecolor='k', alpha=0.5, width=0.5)\n",
    "plt.bar(binmid[0:-1],tmin_march, alpha=0.8, align='center', width=0.5)\n",
    "ax.set_xlabel('q925hPa (g kg$^-1$)')\n",
    "plt.ylim(-65,-50)\n",
    "plt.ylabel('Storm average Tmin')\n",
    "\n",
    "plt.savefig(cnst.network_data + 'figs/barplot_storm_avgQ.jpg')"
   ]
  },
  {
   "cell_type": "code",
   "execution_count": null,
   "metadata": {},
   "outputs": [],
   "source": []
  },
  {
   "cell_type": "code",
   "execution_count": 40,
   "metadata": {},
   "outputs": [
    {
     "name": "stdout",
     "output_type": "stream",
     "text": [
      "BinnedStatisticResult(statistic=array([0.000e+00, 1.000e+00, 0.000e+00, 3.000e+00, 1.000e+01, 1.590e+02,\n",
      "       7.810e+02, 1.016e+03, 5.720e+02, 1.460e+02, 7.000e+00, 0.000e+00]), bin_edges=array([10.  , 10.75, 11.5 , 12.25, 13.  , 13.75, 14.5 , 15.25, 16.  ,\n",
      "       16.75, 17.5 , 18.25, 19.  ]), binnumber=array([8, 8, 8, ..., 7, 9, 9]))\n",
      "BinnedStatisticResult(statistic=array([1.000e+00, 1.000e+00, 3.000e+00, 2.000e+01, 1.590e+02, 6.280e+02,\n",
      "       1.111e+03, 8.140e+02, 2.150e+02, 1.600e+01]), bin_edges=array([10. , 10.9, 11.8, 12.7, 13.6, 14.5, 15.4, 16.3, 17.2, 18.1, 19. ]), binnumber=array([8, 6, 7, ..., 8, 7, 7]))\n"
     ]
    },
    {
     "name": "stderr",
     "output_type": "stream",
     "text": [
      "/home/ck/miniconda3/lib/python3.5/site-packages/scipy/stats/_binned_statistic.py:607: FutureWarning: Using a non-tuple sequence for multidimensional indexing is deprecated; use `arr[tuple(seq)]` instead of `arr[seq]`. In the future this will be interpreted as an array index, `arr[np.array(seq)]`, which will result either in an error or a different result.\n",
      "  result = result[core]\n"
     ]
    },
    {
     "ename": "ValueError",
     "evalue": "x and y must have same first dimension, but have shapes (9,) and (11,)",
     "output_type": "error",
     "traceback": [
      "\u001b[0;31m---------------------------------------------------------------------------\u001b[0m",
      "\u001b[0;31mValueError\u001b[0m                                Traceback (most recent call last)",
      "\u001b[0;32m<ipython-input-40-c84c322dd626>\u001b[0m in \u001b[0;36m<module>\u001b[0;34m()\u001b[0m\n\u001b[1;32m     46\u001b[0m \u001b[0max1\u001b[0m \u001b[0;34m=\u001b[0m \u001b[0max\u001b[0m\u001b[0;34m.\u001b[0m\u001b[0mtwinx\u001b[0m\u001b[0;34m(\u001b[0m\u001b[0;34m)\u001b[0m\u001b[0;34m\u001b[0m\u001b[0m\n\u001b[1;32m     47\u001b[0m \u001b[0;34m\u001b[0m\u001b[0m\n\u001b[0;32m---> 48\u001b[0;31m \u001b[0max1\u001b[0m\u001b[0;34m.\u001b[0m\u001b[0mplot\u001b[0m\u001b[0;34m(\u001b[0m\u001b[0mbinmid\u001b[0m\u001b[0;34m[\u001b[0m\u001b[0;36m0\u001b[0m\u001b[0;34m:\u001b[0m\u001b[0;34m-\u001b[0m\u001b[0;36m1\u001b[0m\u001b[0;34m]\u001b[0m\u001b[0;34m,\u001b[0m\u001b[0mshears_oct\u001b[0m\u001b[0;34m,\u001b[0m \u001b[0;34m'bo'\u001b[0m\u001b[0;34m)\u001b[0m\u001b[0;34m\u001b[0m\u001b[0m\n\u001b[0m\u001b[1;32m     49\u001b[0m \u001b[0max1\u001b[0m\u001b[0;34m.\u001b[0m\u001b[0mplot\u001b[0m\u001b[0;34m(\u001b[0m\u001b[0mbinmid\u001b[0m\u001b[0;34m[\u001b[0m\u001b[0;36m0\u001b[0m\u001b[0;34m:\u001b[0m\u001b[0;34m-\u001b[0m\u001b[0;36m1\u001b[0m\u001b[0;34m]\u001b[0m\u001b[0;34m,\u001b[0m\u001b[0mshears_march\u001b[0m\u001b[0;34m,\u001b[0m \u001b[0;34m'ro'\u001b[0m\u001b[0;34m)\u001b[0m\u001b[0;34m\u001b[0m\u001b[0m\n\u001b[1;32m     50\u001b[0m \u001b[0;34m\u001b[0m\u001b[0m\n",
      "\u001b[0;32m~/miniconda3/lib/python3.5/site-packages/matplotlib/__init__.py\u001b[0m in \u001b[0;36minner\u001b[0;34m(ax, data, *args, **kwargs)\u001b[0m\n\u001b[1;32m   1803\u001b[0m                         \u001b[0;34m\"the Matplotlib list!)\"\u001b[0m \u001b[0;34m%\u001b[0m \u001b[0;34m(\u001b[0m\u001b[0mlabel_namer\u001b[0m\u001b[0;34m,\u001b[0m \u001b[0mfunc\u001b[0m\u001b[0;34m.\u001b[0m\u001b[0m__name__\u001b[0m\u001b[0;34m)\u001b[0m\u001b[0;34m,\u001b[0m\u001b[0;34m\u001b[0m\u001b[0m\n\u001b[1;32m   1804\u001b[0m                         RuntimeWarning, stacklevel=2)\n\u001b[0;32m-> 1805\u001b[0;31m             \u001b[0;32mreturn\u001b[0m \u001b[0mfunc\u001b[0m\u001b[0;34m(\u001b[0m\u001b[0max\u001b[0m\u001b[0;34m,\u001b[0m \u001b[0;34m*\u001b[0m\u001b[0margs\u001b[0m\u001b[0;34m,\u001b[0m \u001b[0;34m**\u001b[0m\u001b[0mkwargs\u001b[0m\u001b[0;34m)\u001b[0m\u001b[0;34m\u001b[0m\u001b[0m\n\u001b[0m\u001b[1;32m   1806\u001b[0m \u001b[0;34m\u001b[0m\u001b[0m\n\u001b[1;32m   1807\u001b[0m         inner.__doc__ = _add_data_doc(inner.__doc__,\n",
      "\u001b[0;32m~/miniconda3/lib/python3.5/site-packages/matplotlib/axes/_axes.py\u001b[0m in \u001b[0;36mplot\u001b[0;34m(self, scalex, scaley, *args, **kwargs)\u001b[0m\n\u001b[1;32m   1601\u001b[0m         \u001b[0mkwargs\u001b[0m \u001b[0;34m=\u001b[0m \u001b[0mcbook\u001b[0m\u001b[0;34m.\u001b[0m\u001b[0mnormalize_kwargs\u001b[0m\u001b[0;34m(\u001b[0m\u001b[0mkwargs\u001b[0m\u001b[0;34m,\u001b[0m \u001b[0mmlines\u001b[0m\u001b[0;34m.\u001b[0m\u001b[0mLine2D\u001b[0m\u001b[0;34m.\u001b[0m\u001b[0m_alias_map\u001b[0m\u001b[0;34m)\u001b[0m\u001b[0;34m\u001b[0m\u001b[0m\n\u001b[1;32m   1602\u001b[0m \u001b[0;34m\u001b[0m\u001b[0m\n\u001b[0;32m-> 1603\u001b[0;31m         \u001b[0;32mfor\u001b[0m \u001b[0mline\u001b[0m \u001b[0;32min\u001b[0m \u001b[0mself\u001b[0m\u001b[0;34m.\u001b[0m\u001b[0m_get_lines\u001b[0m\u001b[0;34m(\u001b[0m\u001b[0;34m*\u001b[0m\u001b[0margs\u001b[0m\u001b[0;34m,\u001b[0m \u001b[0;34m**\u001b[0m\u001b[0mkwargs\u001b[0m\u001b[0;34m)\u001b[0m\u001b[0;34m:\u001b[0m\u001b[0;34m\u001b[0m\u001b[0m\n\u001b[0m\u001b[1;32m   1604\u001b[0m             \u001b[0mself\u001b[0m\u001b[0;34m.\u001b[0m\u001b[0madd_line\u001b[0m\u001b[0;34m(\u001b[0m\u001b[0mline\u001b[0m\u001b[0;34m)\u001b[0m\u001b[0;34m\u001b[0m\u001b[0m\n\u001b[1;32m   1605\u001b[0m             \u001b[0mlines\u001b[0m\u001b[0;34m.\u001b[0m\u001b[0mappend\u001b[0m\u001b[0;34m(\u001b[0m\u001b[0mline\u001b[0m\u001b[0;34m)\u001b[0m\u001b[0;34m\u001b[0m\u001b[0m\n",
      "\u001b[0;32m~/miniconda3/lib/python3.5/site-packages/matplotlib/axes/_base.py\u001b[0m in \u001b[0;36m_grab_next_args\u001b[0;34m(self, *args, **kwargs)\u001b[0m\n\u001b[1;32m    391\u001b[0m                 \u001b[0mthis\u001b[0m \u001b[0;34m+=\u001b[0m \u001b[0margs\u001b[0m\u001b[0;34m[\u001b[0m\u001b[0;36m0\u001b[0m\u001b[0;34m]\u001b[0m\u001b[0;34m,\u001b[0m\u001b[0;34m\u001b[0m\u001b[0m\n\u001b[1;32m    392\u001b[0m                 \u001b[0margs\u001b[0m \u001b[0;34m=\u001b[0m \u001b[0margs\u001b[0m\u001b[0;34m[\u001b[0m\u001b[0;36m1\u001b[0m\u001b[0;34m:\u001b[0m\u001b[0;34m]\u001b[0m\u001b[0;34m\u001b[0m\u001b[0m\n\u001b[0;32m--> 393\u001b[0;31m             \u001b[0;32myield\u001b[0m \u001b[0;32mfrom\u001b[0m \u001b[0mself\u001b[0m\u001b[0;34m.\u001b[0m\u001b[0m_plot_args\u001b[0m\u001b[0;34m(\u001b[0m\u001b[0mthis\u001b[0m\u001b[0;34m,\u001b[0m \u001b[0mkwargs\u001b[0m\u001b[0;34m)\u001b[0m\u001b[0;34m\u001b[0m\u001b[0m\n\u001b[0m\u001b[1;32m    394\u001b[0m \u001b[0;34m\u001b[0m\u001b[0m\n\u001b[1;32m    395\u001b[0m \u001b[0;34m\u001b[0m\u001b[0m\n",
      "\u001b[0;32m~/miniconda3/lib/python3.5/site-packages/matplotlib/axes/_base.py\u001b[0m in \u001b[0;36m_plot_args\u001b[0;34m(self, tup, kwargs)\u001b[0m\n\u001b[1;32m    368\u001b[0m             \u001b[0mx\u001b[0m\u001b[0;34m,\u001b[0m \u001b[0my\u001b[0m \u001b[0;34m=\u001b[0m \u001b[0mindex_of\u001b[0m\u001b[0;34m(\u001b[0m\u001b[0mtup\u001b[0m\u001b[0;34m[\u001b[0m\u001b[0;34m-\u001b[0m\u001b[0;36m1\u001b[0m\u001b[0;34m]\u001b[0m\u001b[0;34m)\u001b[0m\u001b[0;34m\u001b[0m\u001b[0m\n\u001b[1;32m    369\u001b[0m \u001b[0;34m\u001b[0m\u001b[0m\n\u001b[0;32m--> 370\u001b[0;31m         \u001b[0mx\u001b[0m\u001b[0;34m,\u001b[0m \u001b[0my\u001b[0m \u001b[0;34m=\u001b[0m \u001b[0mself\u001b[0m\u001b[0;34m.\u001b[0m\u001b[0m_xy_from_xy\u001b[0m\u001b[0;34m(\u001b[0m\u001b[0mx\u001b[0m\u001b[0;34m,\u001b[0m \u001b[0my\u001b[0m\u001b[0;34m)\u001b[0m\u001b[0;34m\u001b[0m\u001b[0m\n\u001b[0m\u001b[1;32m    371\u001b[0m \u001b[0;34m\u001b[0m\u001b[0m\n\u001b[1;32m    372\u001b[0m         \u001b[0;32mif\u001b[0m \u001b[0mself\u001b[0m\u001b[0;34m.\u001b[0m\u001b[0mcommand\u001b[0m \u001b[0;34m==\u001b[0m \u001b[0;34m'plot'\u001b[0m\u001b[0;34m:\u001b[0m\u001b[0;34m\u001b[0m\u001b[0m\n",
      "\u001b[0;32m~/miniconda3/lib/python3.5/site-packages/matplotlib/axes/_base.py\u001b[0m in \u001b[0;36m_xy_from_xy\u001b[0;34m(self, x, y)\u001b[0m\n\u001b[1;32m    229\u001b[0m         \u001b[0;32mif\u001b[0m \u001b[0mx\u001b[0m\u001b[0;34m.\u001b[0m\u001b[0mshape\u001b[0m\u001b[0;34m[\u001b[0m\u001b[0;36m0\u001b[0m\u001b[0;34m]\u001b[0m \u001b[0;34m!=\u001b[0m \u001b[0my\u001b[0m\u001b[0;34m.\u001b[0m\u001b[0mshape\u001b[0m\u001b[0;34m[\u001b[0m\u001b[0;36m0\u001b[0m\u001b[0;34m]\u001b[0m\u001b[0;34m:\u001b[0m\u001b[0;34m\u001b[0m\u001b[0m\n\u001b[1;32m    230\u001b[0m             raise ValueError(\"x and y must have same first dimension, but \"\n\u001b[0;32m--> 231\u001b[0;31m                              \"have shapes {} and {}\".format(x.shape, y.shape))\n\u001b[0m\u001b[1;32m    232\u001b[0m         \u001b[0;32mif\u001b[0m \u001b[0mx\u001b[0m\u001b[0;34m.\u001b[0m\u001b[0mndim\u001b[0m \u001b[0;34m>\u001b[0m \u001b[0;36m2\u001b[0m \u001b[0;32mor\u001b[0m \u001b[0my\u001b[0m\u001b[0;34m.\u001b[0m\u001b[0mndim\u001b[0m \u001b[0;34m>\u001b[0m \u001b[0;36m2\u001b[0m\u001b[0;34m:\u001b[0m\u001b[0;34m\u001b[0m\u001b[0m\n\u001b[1;32m    233\u001b[0m             raise ValueError(\"x and y can be no greater than 2-D, but have \"\n",
      "\u001b[0;31mValueError\u001b[0m: x and y must have same first dimension, but have shapes (9,) and (11,)"
     ]
    },
    {
     "data": {
      "image/png": "[encoded data removed]",
      "text/plain": [
       "<Figure size 600x1000 with 2 Axes>"
      ]
     },
     "metadata": {
      "needs_background": "light"
     },
     "output_type": "display_data"
    }
   ],
   "source": [
    "f = plt.figure(figsize=(6,10), dpi=100)\n",
    "ax = f.add_subplot(211)\n",
    "\n",
    "Ho = binned_statistic(dsc_oct.q925, dsc_oct.q925,bins=12,statistic='count', range=(10,19))#plt.hist(dss_oct.q925, label='October', bins=12, range=(-4,5))\n",
    "#std = binned_statistic(dss_oct.q925, dss_oct.q925, bins=12, statistic='std')\n",
    "\n",
    "\n",
    "bins = Ho[1]\n",
    "binmid = bins[1::]-((bins[1::]-bins[0:-1])/2)\n",
    "#Ho = plt.hist(dss_oct.q925, label='October', alpha=0.8, bins=12, range=(-4,5))\n",
    "plt.bar(binmid, Ho[0]/np.sum(Ho[0]),  color='lightblue', ecolor='black', edgecolor='k', width=0.5, label='October')\n",
    "#ipdb.set_trace()\n",
    "\n",
    "print(Ho)\n",
    "#plt.vlines(15.048924, 0, 1900, 'b', linestyle='dashed')\n",
    "shears_oct = []\n",
    "tmin_oct = []\n",
    "\n",
    "for ids, qs in enumerate(bins[0:-2]):\n",
    "    pos = (dsc_oct.q925>=qs) & (dsc_oct.q925<bins[ids+1])\n",
    "    pick = dsc_oct.where(pos)\n",
    "   \n",
    "    shears_oct.append(np.mean(pick.shear))\n",
    "    tmin_oct.append(np.mean(pick.tmin))\n",
    "\n",
    "\n",
    "Hm = binned_statistic(dsc_march.q925, dsc_march.q925, statistic='count', range=(10,19))#plt.hist(dss_oct.q925, label='October', bins=12, range=(-4,5))\n",
    "#std = binned_statistic(dss_march.q925, dss_march.q925, bins=12, statistic='std')\n",
    "\n",
    "\n",
    "print(Hm)\n",
    "#plt.vlines(15.146461,0, 1900,'r', linestyle='dashed')\n",
    "bins = Hm[1]\n",
    "binmid = bins[1::]-((bins[1::]-bins[0:-1])/2)\n",
    "plt.bar(binmid, Hm[0]/np.sum(Hm[0]),  color='navajowhite', ecolor='black', edgecolor='k', width=0.5, alpha=0.5, label='March')\n",
    "\n",
    "shears_march = []\n",
    "tmin_march = []\n",
    "for ids, qs in enumerate(bins[0:-2]):\n",
    "    pos = (dsc_march.q925>=qs) & (dsc_march.q925<bins[ids+2])\n",
    "    pick = dsc_march.where(pos)\n",
    "    shears_march.append(np.mean(pick.shear))\n",
    "    tmin_march.append(np.mean(pick.tmin))\n",
    "    \n",
    "\n",
    "ax1 = ax.twinx()\n",
    "\n",
    "ax1.plot(binmid[0:-1],shears_oct, 'bo') \n",
    "ax1.plot(binmid[0:-1],shears_march, 'ro')\n",
    "\n",
    "\n",
    "ax.set_ylabel('Number of storms')\n",
    "plt.title('Dashed: avg. q925, bars: pre-storm q925, dots: shear')\n",
    "ax.legend(loc='upper left')\n",
    "\n",
    "\n",
    "ax = f.add_subplot(212)\n",
    "plt.title('Min. storm temperature')\n",
    "plt.bar(binmid[0:-1],tmin_oct, align='center', zorder=9, edgecolor='k', alpha=0.5, width=0.5)\n",
    "plt.bar(binmid[0:-1],tmin_march, alpha=0.8, align='center', width=0.5)\n",
    "ax.set_xlabel('q925hPa (g kg$^-1$)')\n",
    "plt.ylim(-85,-70)\n",
    "plt.ylabel('Storm average Tmin')\n",
    "\n"
   ]
  },
  {
   "cell_type": "code",
   "execution_count": 41,
   "metadata": {},
   "outputs": [
    {
     "ename": "NameError",
     "evalue": "name 'dss_oct' is not defined",
     "output_type": "error",
     "traceback": [
      "\u001b[0;31m---------------------------------------------------------------------------\u001b[0m",
      "\u001b[0;31mNameError\u001b[0m                                 Traceback (most recent call last)",
      "\u001b[0;32m<ipython-input-41-da79368c01d8>\u001b[0m in \u001b[0;36m<module>\u001b[0;34m()\u001b[0m\n\u001b[0;32m----> 1\u001b[0;31m \u001b[0mplt\u001b[0m\u001b[0;34m.\u001b[0m\u001b[0mhist\u001b[0m\u001b[0;34m(\u001b[0m\u001b[0mdss_oct\u001b[0m\u001b[0;34m.\u001b[0m\u001b[0mqtot\u001b[0m\u001b[0;34m,\u001b[0m \u001b[0mlabel\u001b[0m\u001b[0;34m=\u001b[0m\u001b[0;34m'October'\u001b[0m\u001b[0;34m,\u001b[0m \u001b[0mbins\u001b[0m\u001b[0;34m=\u001b[0m\u001b[0;36m10\u001b[0m\u001b[0;34m)\u001b[0m\u001b[0;34m\u001b[0m\u001b[0m\n\u001b[0m\u001b[1;32m      2\u001b[0m \u001b[0;31m#plt.vlines(15.048924, 0, 3000, 'b', linestyle='dashed')\u001b[0m\u001b[0;34m\u001b[0m\u001b[0;34m\u001b[0m\u001b[0m\n\u001b[1;32m      3\u001b[0m \u001b[0;34m\u001b[0m\u001b[0m\n\u001b[1;32m      4\u001b[0m \u001b[0mplt\u001b[0m\u001b[0;34m.\u001b[0m\u001b[0mhist\u001b[0m\u001b[0;34m(\u001b[0m\u001b[0mdss_march\u001b[0m\u001b[0;34m.\u001b[0m\u001b[0mqtot\u001b[0m\u001b[0;34m,\u001b[0m \u001b[0mlabel\u001b[0m\u001b[0;34m=\u001b[0m\u001b[0;34m'March'\u001b[0m\u001b[0;34m,\u001b[0m \u001b[0malpha\u001b[0m\u001b[0;34m=\u001b[0m\u001b[0;36m0.8\u001b[0m\u001b[0;34m,\u001b[0m \u001b[0mbins\u001b[0m\u001b[0;34m=\u001b[0m\u001b[0;36m10\u001b[0m\u001b[0;34m)\u001b[0m\u001b[0;34m\u001b[0m\u001b[0m\n\u001b[1;32m      5\u001b[0m \u001b[0;31m#plt.vlines(15.146461,0, 3000,'r', linestyle='dashed')\u001b[0m\u001b[0;34m\u001b[0m\u001b[0;34m\u001b[0m\u001b[0m\n",
      "\u001b[0;31mNameError\u001b[0m: name 'dss_oct' is not defined"
     ]
    }
   ],
   "source": [
    "plt.hist(dss_oct.qtot, label='October', bins=10)\n",
    "#plt.vlines(15.048924, 0, 3000, 'b', linestyle='dashed')\n",
    "\n",
    "plt.hist(dss_march.qtot, label='March', alpha=0.8, bins=10)\n",
    "#plt.vlines(15.146461,0, 3000,'r', linestyle='dashed')\n",
    "plt.xlabel('q925hPa (g kg$^-1$)')\n",
    "plt.ylabel('Number of storms')\n",
    "plt.title('Dashed lines: average q925, bars: pre-storm q925')\n",
    "plt.legend()"
   ]
  },
  {
   "cell_type": "code",
   "execution_count": 38,
   "metadata": {},
   "outputs": [
    {
     "ename": "NameError",
     "evalue": "name 'dss_march' is not defined",
     "output_type": "error",
     "traceback": [
      "\u001b[0;31m---------------------------------------------------------------------------\u001b[0m",
      "\u001b[0;31mNameError\u001b[0m                                 Traceback (most recent call last)",
      "\u001b[0;32m<ipython-input-38-78c0cf188294>\u001b[0m in \u001b[0;36m<module>\u001b[0;34m()\u001b[0m\n\u001b[1;32m     13\u001b[0m \u001b[0;34m\u001b[0m\u001b[0m\n\u001b[1;32m     14\u001b[0m \u001b[0;34m\u001b[0m\u001b[0m\n\u001b[0;32m---> 15\u001b[0;31m \u001b[0mdata1\u001b[0m\u001b[0;34m,\u001b[0m \u001b[0mr1\u001b[0m \u001b[0;34m=\u001b[0m \u001b[0mdensity_plot\u001b[0m\u001b[0;34m(\u001b[0m\u001b[0mdss_march\u001b[0m\u001b[0;34m.\u001b[0m\u001b[0mq925\u001b[0m\u001b[0;34m,\u001b[0m \u001b[0mdss_march\u001b[0m\u001b[0;34m.\u001b[0m\u001b[0mu925\u001b[0m\u001b[0;34m)\u001b[0m\u001b[0;34m\u001b[0m\u001b[0m\n\u001b[0m\u001b[1;32m     16\u001b[0m \u001b[0;34m\u001b[0m\u001b[0m\n\u001b[1;32m     17\u001b[0m \u001b[0max1\u001b[0m \u001b[0;34m=\u001b[0m \u001b[0mfig\u001b[0m\u001b[0;34m.\u001b[0m\u001b[0madd_subplot\u001b[0m\u001b[0;34m(\u001b[0m\u001b[0;36m121\u001b[0m\u001b[0;34m)\u001b[0m\u001b[0;34m\u001b[0m\u001b[0m\n",
      "\u001b[0;31mNameError\u001b[0m: name 'dss_march' is not defined"
     ]
    },
    {
     "data": {
      "text/plain": [
       "<Figure size 1500x500 with 0 Axes>"
      ]
     },
     "metadata": {},
     "output_type": "display_data"
    }
   ],
   "source": [
    "def density_plot(v1,v2):\n",
    "    xy = np.vstack([v1, v2])\n",
    "    z = gaussian_kde(xy)(xy)\n",
    "    data = z / (z.max() - z.min())\n",
    "\n",
    "    r = stats.pearsonr(v1,v2)\n",
    "    print('pears', stats.pearsonr(v1,v2))\n",
    "    \n",
    "    return data, r\n",
    "\n",
    "fig = plt.figure(figsize=(15, 5), dpi=100)\n",
    "cc=11\n",
    "\n",
    "\n",
    "data1, r1 = density_plot(dss_march.q925, dss_march.u925)\n",
    "\n",
    "ax1 = fig.add_subplot(121)\n",
    "mappable = ax1.scatter(dss_march.q925, dss_march.u925, c=data1, edgecolor='', cmap='viridis_r', s=20) # viridis_r\n",
    "#plt.xlim(12,19)\n",
    "ax1.set_ylabel('Shear')\n",
    "ax1.set_xlabel('q925hPa')\n",
    "ax1.set_title('P-corr. q/shear'+str(np.round(r1[0], decimals=2)), fontsize=cc)\n",
    "ax1.tick_params(direction='in')\n",
    "cbar = fig.colorbar(mappable)\n",
    "cbar.set_label('Density')\n",
    "\n",
    "data1, r1 = density_plot(dss_oct.q925, dss_oct.u925)\n",
    "\n",
    "ax1 = fig.add_subplot(122)\n",
    "mappable = ax1.scatter(dss_oct.q925, dss_oct.u925, c=data1, edgecolor='', cmap='viridis_r', s=20) # viridis_r\n",
    "#plt.xlim(12,19)\n",
    "ax1.set_ylabel('Shear')\n",
    "ax1.set_xlabel('q925hPa')\n",
    "ax1.set_title('P-corr. q/shear'+str(np.round(r1[0], decimals=2)), fontsize=cc)\n",
    "ax1.tick_params(direction='in')\n",
    "cbar = fig.colorbar(mappable)\n",
    "cbar.set_label('Density')\n"
   ]
  },
  {
   "cell_type": "code",
   "execution_count": 39,
   "metadata": {},
   "outputs": [
    {
     "ename": "NameError",
     "evalue": "name 'dss_oct' is not defined",
     "output_type": "error",
     "traceback": [
      "\u001b[0;31m---------------------------------------------------------------------------\u001b[0m",
      "\u001b[0;31mNameError\u001b[0m                                 Traceback (most recent call last)",
      "\u001b[0;32m<ipython-input-39-3b4ee2e24dbf>\u001b[0m in \u001b[0;36m<module>\u001b[0;34m()\u001b[0m\n\u001b[1;32m      1\u001b[0m \u001b[0mplt\u001b[0m\u001b[0;34m.\u001b[0m\u001b[0mfigure\u001b[0m\u001b[0;34m(\u001b[0m\u001b[0;34m)\u001b[0m\u001b[0;34m\u001b[0m\u001b[0m\n\u001b[0;32m----> 2\u001b[0;31m \u001b[0mplt\u001b[0m\u001b[0;34m.\u001b[0m\u001b[0mscatter\u001b[0m\u001b[0;34m(\u001b[0m\u001b[0mdss_oct\u001b[0m\u001b[0;34m.\u001b[0m\u001b[0mq925\u001b[0m\u001b[0;34m,\u001b[0m\u001b[0mdss_oct\u001b[0m\u001b[0;34m.\u001b[0m\u001b[0mshear\u001b[0m\u001b[0;34m)\u001b[0m\u001b[0;34m\u001b[0m\u001b[0m\n\u001b[0m\u001b[1;32m      3\u001b[0m \u001b[0mplt\u001b[0m\u001b[0;34m.\u001b[0m\u001b[0mxlim\u001b[0m\u001b[0;34m(\u001b[0m\u001b[0;36m12\u001b[0m\u001b[0;34m,\u001b[0m\u001b[0;36m19\u001b[0m\u001b[0;34m)\u001b[0m\u001b[0;34m\u001b[0m\u001b[0m\n\u001b[1;32m      4\u001b[0m \u001b[0mplt\u001b[0m\u001b[0;34m.\u001b[0m\u001b[0mfigure\u001b[0m\u001b[0;34m(\u001b[0m\u001b[0;34m)\u001b[0m\u001b[0;34m\u001b[0m\u001b[0m\n\u001b[1;32m      5\u001b[0m \u001b[0mplt\u001b[0m\u001b[0;34m.\u001b[0m\u001b[0mxlim\u001b[0m\u001b[0;34m(\u001b[0m\u001b[0;36m12\u001b[0m\u001b[0;34m,\u001b[0m\u001b[0;36m19\u001b[0m\u001b[0;34m)\u001b[0m\u001b[0;34m\u001b[0m\u001b[0m\n",
      "\u001b[0;31mNameError\u001b[0m: name 'dss_oct' is not defined"
     ]
    },
    {
     "data": {
      "text/plain": [
       "<Figure size 432x288 with 0 Axes>"
      ]
     },
     "metadata": {},
     "output_type": "display_data"
    }
   ],
   "source": [
    "plt.figure()\n",
    "plt.scatter(dss_oct.q925,dss_oct.shear)\n",
    "plt.xlim(12,19)\n",
    "plt.figure()\n",
    "plt.xlim(12,19)\n",
    "plt.scatter(dss_march.q925,dss_march.shear, alpha=0.5)"
   ]
  },
  {
   "cell_type": "code",
   "execution_count": 40,
   "metadata": {},
   "outputs": [],
   "source": [
    "def density_plot(v1,v2,v3):\n",
    "    xy = np.vstack([v1, v2])\n",
    "    z = gaussian_kde(xy)(xy)\n",
    "    data = z / (z.max() - z.min())\n",
    "\n",
    "    r = u_stat.pcor(v1,v2,v3)\n",
    "    print('pears', stats.pearsonr(v1,v2))\n",
    "    \n",
    "    return data, r"
   ]
  },
  {
   "cell_type": "code",
   "execution_count": 41,
   "metadata": {},
   "outputs": [
    {
     "name": "stdout",
     "output_type": "stream",
     "text": [
      "Mean storm q, oct 0.33693256682555617\n",
      "Mean storm q, march 0.6632002519576677\n"
     ]
    }
   ],
   "source": [
    "print('Mean storm q, oct', np.mean(ds_oct.q925))\n",
    "print('Mean storm q, march', np.mean(ds_march.q925))"
   ]
  },
  {
   "cell_type": "code",
   "execution_count": 42,
   "metadata": {},
   "outputs": [
    {
     "ename": "NameError",
     "evalue": "name 'create_2dhist' is not defined",
     "output_type": "error",
     "traceback": [
      "\u001b[0;31m---------------------------------------------------------------------------\u001b[0m",
      "\u001b[0;31mNameError\u001b[0m                                 Traceback (most recent call last)",
      "\u001b[0;32m<ipython-input-42-9385b3c7ec45>\u001b[0m in \u001b[0;36m<module>\u001b[0;34m()\u001b[0m\n\u001b[0;32m----> 1\u001b[0;31m \u001b[0mdsperc_mar\u001b[0m\u001b[0;34m,\u001b[0m \u001b[0mdsp_mar\u001b[0m\u001b[0;34m,\u001b[0m \u001b[0mdsarea_mar\u001b[0m\u001b[0;34m,\u001b[0m \u001b[0mdsval_mar\u001b[0m \u001b[0;34m=\u001b[0m \u001b[0mcreate_2dhist\u001b[0m\u001b[0;34m(\u001b[0m\u001b[0mds_march\u001b[0m\u001b[0;34m,\u001b[0m \u001b[0mshearb_march\u001b[0m\u001b[0;34m,\u001b[0m \u001b[0mqbinsb_march\u001b[0m\u001b[0;34m)\u001b[0m\u001b[0;34m\u001b[0m\u001b[0m\n\u001b[0m\u001b[1;32m      2\u001b[0m \u001b[0mdsperc_oct\u001b[0m\u001b[0;34m,\u001b[0m \u001b[0mdsp_oct\u001b[0m\u001b[0;34m,\u001b[0m \u001b[0mdsarea_oct\u001b[0m\u001b[0;34m,\u001b[0m \u001b[0mdsval_oct\u001b[0m \u001b[0;34m=\u001b[0m \u001b[0mcreate_2dhist\u001b[0m\u001b[0;34m(\u001b[0m\u001b[0mds_oct\u001b[0m\u001b[0;34m,\u001b[0m \u001b[0mshearb_oct\u001b[0m\u001b[0;34m,\u001b[0m \u001b[0mqbinsb_oct\u001b[0m\u001b[0;34m)\u001b[0m\u001b[0;34m\u001b[0m\u001b[0m\n",
      "\u001b[0;31mNameError\u001b[0m: name 'create_2dhist' is not defined"
     ]
    }
   ],
   "source": [
    "dsperc_mar, dsp_mar, dsarea_mar, dsval_mar = create_2dhist(ds_march, shearb_march, qbinsb_march)\n",
    "dsperc_oct, dsp_oct, dsarea_oct, dsval_oct = create_2dhist(ds_oct, shearb_oct, qbinsb_oct)"
   ]
  },
  {
   "cell_type": "code",
   "execution_count": 43,
   "metadata": {},
   "outputs": [
    {
     "ename": "NameError",
     "evalue": "name 'create_2dhist' is not defined",
     "output_type": "error",
     "traceback": [
      "\u001b[0;31m---------------------------------------------------------------------------\u001b[0m",
      "\u001b[0;31mNameError\u001b[0m                                 Traceback (most recent call last)",
      "\u001b[0;32m<ipython-input-43-c6bf91c12769>\u001b[0m in \u001b[0;36m<module>\u001b[0;34m()\u001b[0m\n\u001b[0;32m----> 1\u001b[0;31m \u001b[0mcp4perc_mar\u001b[0m\u001b[0;34m,\u001b[0m \u001b[0mcp4pr_mar\u001b[0m\u001b[0;34m,\u001b[0m \u001b[0mcp4area_mar\u001b[0m\u001b[0;34m,\u001b[0m \u001b[0mcp4val_mar\u001b[0m \u001b[0;34m=\u001b[0m \u001b[0mcreate_2dhist\u001b[0m\u001b[0;34m(\u001b[0m\u001b[0mcp4_march\u001b[0m\u001b[0;34m,\u001b[0m \u001b[0mshearc_march\u001b[0m\u001b[0;34m,\u001b[0m \u001b[0mqbinsc_march\u001b[0m\u001b[0;34m)\u001b[0m\u001b[0;34m\u001b[0m\u001b[0m\n\u001b[0m\u001b[1;32m      2\u001b[0m \u001b[0mcp4perc_oct\u001b[0m\u001b[0;34m,\u001b[0m \u001b[0mcp4pr_oct\u001b[0m\u001b[0;34m,\u001b[0m \u001b[0mcp4area_oct\u001b[0m\u001b[0;34m,\u001b[0m \u001b[0mcp4val_oct\u001b[0m \u001b[0;34m=\u001b[0m \u001b[0mcreate_2dhist\u001b[0m\u001b[0;34m(\u001b[0m\u001b[0mcp4_oct\u001b[0m\u001b[0;34m,\u001b[0m \u001b[0mshearc_oct\u001b[0m\u001b[0;34m,\u001b[0m \u001b[0mqbinsc_oct\u001b[0m\u001b[0;34m)\u001b[0m\u001b[0;34m\u001b[0m\u001b[0m\n",
      "\u001b[0;31mNameError\u001b[0m: name 'create_2dhist' is not defined"
     ]
    }
   ],
   "source": [
    "cp4perc_mar, cp4pr_mar, cp4area_mar, cp4val_mar = create_2dhist(cp4_march, shearc_march, qbinsc_march)\n",
    "cp4perc_oct, cp4pr_oct, cp4area_oct, cp4val_oct = create_2dhist(cp4_oct, shearc_oct, qbinsc_oct)"
   ]
  },
  {
   "cell_type": "code",
   "execution_count": 44,
   "metadata": {},
   "outputs": [
    {
     "ename": "NameError",
     "evalue": "name 'create_2dhist' is not defined",
     "output_type": "error",
     "traceback": [
      "\u001b[0;31m---------------------------------------------------------------------------\u001b[0m",
      "\u001b[0;31mNameError\u001b[0m                                 Traceback (most recent call last)",
      "\u001b[0;32m<ipython-input-44-4c6418557a8d>\u001b[0m in \u001b[0;36m<module>\u001b[0;34m()\u001b[0m\n\u001b[0;32m----> 1\u001b[0;31m \u001b[0mcp25perc_mar\u001b[0m\u001b[0;34m,\u001b[0m \u001b[0mpc25pr_mar\u001b[0m\u001b[0;34m,\u001b[0m \u001b[0mcp25area_mar\u001b[0m\u001b[0;34m,\u001b[0m \u001b[0mcp25val_mar\u001b[0m \u001b[0;34m=\u001b[0m \u001b[0mcreate_2dhist\u001b[0m\u001b[0;34m(\u001b[0m\u001b[0mcp25_march\u001b[0m\u001b[0;34m,\u001b[0m \u001b[0mshear25_march\u001b[0m\u001b[0;34m,\u001b[0m \u001b[0mqbinsc25_march\u001b[0m\u001b[0;34m)\u001b[0m\u001b[0;34m\u001b[0m\u001b[0m\n\u001b[0m\u001b[1;32m      2\u001b[0m \u001b[0mcp25perc_oct\u001b[0m\u001b[0;34m,\u001b[0m \u001b[0mpc25pr_oct\u001b[0m\u001b[0;34m,\u001b[0m \u001b[0mcp25area_oct\u001b[0m\u001b[0;34m,\u001b[0m \u001b[0mcp25val_oct\u001b[0m \u001b[0;34m=\u001b[0m \u001b[0mcreate_2dhist\u001b[0m\u001b[0;34m(\u001b[0m\u001b[0mcp25_oct\u001b[0m\u001b[0;34m,\u001b[0m \u001b[0mshear25_oct\u001b[0m\u001b[0;34m,\u001b[0m \u001b[0mqbinsc25_oct\u001b[0m\u001b[0;34m)\u001b[0m\u001b[0;34m\u001b[0m\u001b[0m\n",
      "\u001b[0;31mNameError\u001b[0m: name 'create_2dhist' is not defined"
     ]
    }
   ],
   "source": [
    "cp25perc_mar, pc25pr_mar, cp25area_mar, cp25val_mar = create_2dhist(cp25_march, shear25_march, qbinsc25_march)\n",
    "cp25perc_oct, pc25pr_oct, cp25area_oct, cp25val_oct = create_2dhist(cp25_oct, shear25_oct, qbinsc25_oct)"
   ]
  },
  {
   "cell_type": "code",
   "execution_count": 45,
   "metadata": {},
   "outputs": [
    {
     "ename": "NameError",
     "evalue": "name 'create_2dhist_rh' is not defined",
     "output_type": "error",
     "traceback": [
      "\u001b[0;31m---------------------------------------------------------------------------\u001b[0m",
      "\u001b[0;31mNameError\u001b[0m                                 Traceback (most recent call last)",
      "\u001b[0;32m<ipython-input-45-7f4b2dcdddf3>\u001b[0m in \u001b[0;36m<module>\u001b[0;34m()\u001b[0m\n\u001b[0;32m----> 1\u001b[0;31m \u001b[0mcpobsperc\u001b[0m\u001b[0;34m,\u001b[0m \u001b[0mpcobs\u001b[0m\u001b[0;34m,\u001b[0m \u001b[0mobsarea\u001b[0m\u001b[0;34m,\u001b[0m \u001b[0mobsval\u001b[0m \u001b[0;34m=\u001b[0m \u001b[0mcreate_2dhist_rh\u001b[0m\u001b[0;34m(\u001b[0m\u001b[0mobsp\u001b[0m\u001b[0;34m,\u001b[0m \u001b[0mshear_obsp\u001b[0m\u001b[0;34m,\u001b[0m \u001b[0mqbinso\u001b[0m\u001b[0;34m)\u001b[0m\u001b[0;34m\u001b[0m\u001b[0m\n\u001b[0m\u001b[1;32m      2\u001b[0m \u001b[0mcp4perc\u001b[0m\u001b[0;34m,\u001b[0m \u001b[0mpc4\u001b[0m\u001b[0;34m,\u001b[0m \u001b[0mcp4area\u001b[0m\u001b[0;34m,\u001b[0m \u001b[0mcp4val\u001b[0m \u001b[0;34m=\u001b[0m \u001b[0mcreate_2dhist\u001b[0m\u001b[0;34m(\u001b[0m\u001b[0mcp4p\u001b[0m\u001b[0;34m,\u001b[0m \u001b[0mshear_cp4p\u001b[0m\u001b[0;34m,\u001b[0m \u001b[0mqbinsc\u001b[0m\u001b[0;34m)\u001b[0m\u001b[0;34m\u001b[0m\u001b[0m\n\u001b[1;32m      3\u001b[0m \u001b[0mcp25perc\u001b[0m\u001b[0;34m,\u001b[0m \u001b[0mpc25\u001b[0m\u001b[0;34m,\u001b[0m \u001b[0mcp25area\u001b[0m\u001b[0;34m,\u001b[0m \u001b[0mcp25val\u001b[0m \u001b[0;34m=\u001b[0m \u001b[0mcreate_2dhist\u001b[0m\u001b[0;34m(\u001b[0m\u001b[0mcp25p\u001b[0m\u001b[0;34m,\u001b[0m \u001b[0mshear_cp25p\u001b[0m\u001b[0;34m,\u001b[0m \u001b[0mqbinsc25\u001b[0m\u001b[0;34m)\u001b[0m\u001b[0;34m\u001b[0m\u001b[0m\n",
      "\u001b[0;31mNameError\u001b[0m: name 'create_2dhist_rh' is not defined"
     ]
    }
   ],
   "source": [
    "cpobsperc, pcobs, obsarea, obsval = create_2dhist_rh(obsp, shear_obsp, qbinso)\n",
    "cp4perc, pc4, cp4area, cp4val = create_2dhist(cp4p, shear_cp4p, qbinsc)\n",
    "cp25perc, pc25, cp25area, cp25val = create_2dhist(cp25p, shear_cp25p, qbinsc25)"
   ]
  },
  {
   "cell_type": "code",
   "execution_count": 46,
   "metadata": {},
   "outputs": [
    {
     "ename": "NameError",
     "evalue": "name 'pcobs' is not defined",
     "output_type": "error",
     "traceback": [
      "\u001b[0;31m---------------------------------------------------------------------------\u001b[0m",
      "\u001b[0;31mNameError\u001b[0m                                 Traceback (most recent call last)",
      "\u001b[0;32m<ipython-input-46-03a7151ad32b>\u001b[0m in \u001b[0;36m<module>\u001b[0;34m()\u001b[0m\n\u001b[0;32m----> 1\u001b[0;31m \u001b[0mpcobs\u001b[0m\u001b[0;34m.\u001b[0m\u001b[0mshape\u001b[0m\u001b[0;34m\u001b[0m\u001b[0m\n\u001b[0m",
      "\u001b[0;31mNameError\u001b[0m: name 'pcobs' is not defined"
     ]
    }
   ],
   "source": [
    "pcobs.shape"
   ]
  },
  {
   "cell_type": "code",
   "execution_count": 46,
   "metadata": {},
   "outputs": [
    {
     "name": "stdout",
     "output_type": "stream",
     "text": [
      "-3.0774581227740927\n",
      "0.5284980404586183\n"
     ]
    }
   ],
   "source": [
    "print(ds_march.shear.mean())\n",
    "print(ds_march.q925.mean())"
   ]
  },
  {
   "cell_type": "code",
   "execution_count": 47,
   "metadata": {},
   "outputs": [
    {
     "name": "stdout",
     "output_type": "stream",
     "text": [
      "-2.6536572083357557\n",
      "0.1685568923565829\n"
     ]
    }
   ],
   "source": [
    "print(ds_oct.shear.mean())\n",
    "print(ds_oct.q925.mean())"
   ]
  },
  {
   "cell_type": "code",
   "execution_count": null,
   "metadata": {},
   "outputs": [],
   "source": []
  },
  {
   "cell_type": "code",
   "execution_count": null,
   "metadata": {},
   "outputs": [],
   "source": []
  }
 ],
 "metadata": {
  "kernelspec": {
   "display_name": "Python 3",
   "language": "python",
   "name": "python3"
  },
  "language_info": {
   "codemirror_mode": {
    "name": "ipython",
    "version": 3
   },
   "file_extension": ".py",
   "mimetype": "text/x-python",
   "name": "python",
   "nbconvert_exporter": "python",
   "pygments_lexer": "ipython3",
   "version": "3.5.5"
  }
 },
 "nbformat": 4,
 "nbformat_minor": 2
}
