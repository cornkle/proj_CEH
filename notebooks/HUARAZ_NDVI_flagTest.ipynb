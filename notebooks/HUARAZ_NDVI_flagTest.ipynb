{
 "cells": [
  {
   "cell_type": "code",
   "execution_count": 2,
   "metadata": {},
   "outputs": [],
   "source": [
    "import ipdb\n",
    "import numpy as np\n",
    "import xarray as xr\n",
    "import matplotlib.pyplot as plt\n",
    "import pandas as pd\n",
    "import matplotlib.pylab as pylab\n",
    "import cartopy\n",
    "import cartopy.crs as ccrs\n",
    "from utils import constants as cnst\n",
    "from eod import msg\n",
    "from utils import u_grid, u_interpolate as u_int, u_darrays as uda\n",
    "import datetime\n",
    "\n",
    "pylab.rcParams['figure.figsize'] = (50., 50.)\n",
    "%matplotlib inline"
   ]
  },
  {
   "cell_type": "code",
   "execution_count": 1,
   "metadata": {},
   "outputs": [
    {
     "name": "stdout",
     "output_type": "stream",
     "text": [
      "/home/ck/pythonWorkspace/proj_CEH\n"
     ]
    }
   ],
   "source": [
    "cd .."
   ]
  },
  {
   "cell_type": "code",
   "execution_count": 159,
   "metadata": {},
   "outputs": [],
   "source": [
    "nfile = xr.open_dataset('/home/ck/Desktop/AVHRR-Land_v005_AVH13C1_NOAA-18_20060104_c20170331133114.nc')"
   ]
  },
  {
   "cell_type": "code",
   "execution_count": 160,
   "metadata": {},
   "outputs": [],
   "source": [
    "nfile = uda.flip_lat(nfile)"
   ]
  },
  {
   "cell_type": "code",
   "execution_count": 314,
   "metadata": {},
   "outputs": [],
   "source": [
    "#domain = nfile.sel(longitude=slice(-85,-40), latitude=slice(-70,70)).squeeze()\n",
    "#domain = nfile.sel(longitude=slice(-85,-40), latitude=slice(-30,0)).squeeze()\n",
    "domain = nfile.sel(longitude=slice(-120,120), latitude=slice(-10,10)).squeeze()"
   ]
  },
  {
   "cell_type": "code",
   "execution_count": 315,
   "metadata": {},
   "outputs": [
    {
     "data": {
      "text/html": [
       "<pre>&lt;xarray.Dataset&gt;\n",
       "Dimensions:    (latitude: 400, longitude: 4800, nv: 2)\n",
       "Coordinates:\n",
       "  * latitude   (latitude) float32 -9.975006 -9.925003 ... 9.924995 9.974998\n",
       "  * longitude  (longitude) float32 -119.975 -119.925 ... 119.92499 119.975006\n",
       "    time       datetime64[ns] 2006-01-04\n",
       "Dimensions without coordinates: nv\n",
       "Data variables:\n",
       "    crs        int16 ...\n",
       "    lat_bnds   (latitude, nv) float32 ...\n",
       "    lon_bnds   (longitude, nv) float32 ...\n",
       "    NDVI       (latitude, longitude) float32 ...\n",
       "    TIMEOFDAY  (latitude, longitude) datetime64[ns] ...\n",
       "    QA         (latitude, longitude) int16 ...\n",
       "Attributes:\n",
       "    title:                                  Normalized Difference Vegetation ...\n",
       "    institution:                            NASA/GSFC/SED/ESD/HBSL/TIS/MODIS-...\n",
       "    Conventions:                            CF-1.6, ACDD-1.3\n",
       "    standard_name_vocabulary:               CF Standard Name Table (v25, 05 J...\n",
       "    naming_authority:                       gov.noaa.ncei\n",
       "    license:                                See the Use Agreement for this CD...\n",
       "    cdm_data_type:                          Grid\n",
       "    time_coverage_start:                    2006-01-04T00:00:00Z\n",
       "    time_coverage_end:                      2006-01-04T23:59:59Z\n",
       "    product_version:                        v5r0\n",
       "    platform:                               NOAA-18 &gt; National Oceanic &amp; Atmo...\n",
       "    sensor:                                 AVHRR &gt; Advanced Very High Resolu...\n",
       "    keywords_vocabulary:                    NASA Global Change Master Directo...\n",
       "    platform_vocabulary:                    Global Change Master Directory (G...\n",
       "    instrument_vocabulary:                  Global Change Master Directory (G...\n",
       "    keywords:                               EARTH SCIENCE &gt; BIOSPHERE &gt; VEGET...\n",
       "    source:                                 NSS.GHRR.NN.D06003.S2321.E0111.B0...\n",
       "    date_created:                           2017-03-31T13:31:14Z\n",
       "    spatial_resolution:                     0.050000 degrees per pixel\n",
       "    geospatial_lat_min:                     -90.0\n",
       "    geospatial_lat_max:                     90.0\n",
       "    geospatial_lon_min:                     -180.0\n",
       "    geospatial_lon_max:                     180.0\n",
       "    metadata_link:                          https://doi.org/10.7289/V5ZG6QH9\n",
       "    program:                                NOAA Climate Data Record Program ...\n",
       "    cdr_variable:                           NDVI\n",
       "    Process:                                LTDR_GAPS\n",
       "    PostProcessingVersion:                  2.9\n",
       "    PFIIVersion:                            3.5.45\n",
       "    Satellite:                              NOAA-18\n",
       "    Instrument:                             AVHRR\n",
       "    InputDataType:                          GAC\n",
       "    summary:                                AVHRR GAC data from NOAA-18 for 2...\n",
       "    ProductionDate:                         2017-03-31T13:31:14.000000Z\n",
       "    ESDT:                                   AVH13C1\n",
       "    LocalGranuleId:                         AVHRR-Land_v005_AVH13C1_NOAA-18_2...\n",
       "    id:                                     AVHRR-Land_v005_AVH13C1_NOAA-18_2...\n",
       "    RangeBeginningDate:                     2006-004\n",
       "    RangeBeginningTime:                     00:00:00.0000\n",
       "    RangeEndingDate:                        2006-004\n",
       "    RangeEndingTime:                        23:59:59.9999\n",
       "    PercentMissingData:                     15.61\n",
       "    PercentValidDaytimeData:                33.94\n",
       "    PercentValidDaytimeLand:                33.94\n",
       "    PercentValidClearDaytimeLand:           3.77\n",
       "    PercentValidDaytimeLandInCloudShadow:   0.72\n",
       "    PercentValidClearDaytimeWater:          0.00\n",
       "    PercentValidDaytimeWaterInCloudShadow:  0.00</pre>"
      ],
      "text/plain": [
       "<xarray.Dataset>\n",
       "Dimensions:    (latitude: 400, longitude: 4800, nv: 2)\n",
       "Coordinates:\n",
       "  * latitude   (latitude) float32 -9.975006 -9.925003 ... 9.924995 9.974998\n",
       "  * longitude  (longitude) float32 -119.975 -119.925 ... 119.92499 119.975006\n",
       "    time       datetime64[ns] 2006-01-04\n",
       "Dimensions without coordinates: nv\n",
       "Data variables:\n",
       "    crs        int16 ...\n",
       "    lat_bnds   (latitude, nv) float32 ...\n",
       "    lon_bnds   (longitude, nv) float32 ...\n",
       "    NDVI       (latitude, longitude) float32 ...\n",
       "    TIMEOFDAY  (latitude, longitude) datetime64[ns] ...\n",
       "    QA         (latitude, longitude) int16 ...\n",
       "Attributes:\n",
       "    title:                                  Normalized Difference Vegetation ...\n",
       "    institution:                            NASA/GSFC/SED/ESD/HBSL/TIS/MODIS-...\n",
       "    Conventions:                            CF-1.6, ACDD-1.3\n",
       "    standard_name_vocabulary:               CF Standard Name Table (v25, 05 J...\n",
       "    naming_authority:                       gov.noaa.ncei\n",
       "    license:                                See the Use Agreement for this CD...\n",
       "    cdm_data_type:                          Grid\n",
       "    time_coverage_start:                    2006-01-04T00:00:00Z\n",
       "    time_coverage_end:                      2006-01-04T23:59:59Z\n",
       "    product_version:                        v5r0\n",
       "    platform:                               NOAA-18 > National Oceanic & Atmo...\n",
       "    sensor:                                 AVHRR > Advanced Very High Resolu...\n",
       "    keywords_vocabulary:                    NASA Global Change Master Directo...\n",
       "    platform_vocabulary:                    Global Change Master Directory (G...\n",
       "    instrument_vocabulary:                  Global Change Master Directory (G...\n",
       "    keywords:                               EARTH SCIENCE > BIOSPHERE > VEGET...\n",
       "    source:                                 NSS.GHRR.NN.D06003.S2321.E0111.B0...\n",
       "    date_created:                           2017-03-31T13:31:14Z\n",
       "    spatial_resolution:                     0.050000 degrees per pixel\n",
       "    geospatial_lat_min:                     -90.0\n",
       "    geospatial_lat_max:                     90.0\n",
       "    geospatial_lon_min:                     -180.0\n",
       "    geospatial_lon_max:                     180.0\n",
       "    metadata_link:                          https://doi.org/10.7289/V5ZG6QH9\n",
       "    program:                                NOAA Climate Data Record Program ...\n",
       "    cdr_variable:                           NDVI\n",
       "    Process:                                LTDR_GAPS\n",
       "    PostProcessingVersion:                  2.9\n",
       "    PFIIVersion:                            3.5.45\n",
       "    Satellite:                              NOAA-18\n",
       "    Instrument:                             AVHRR\n",
       "    InputDataType:                          GAC\n",
       "    summary:                                AVHRR GAC data from NOAA-18 for 2...\n",
       "    ProductionDate:                         2017-03-31T13:31:14.000000Z\n",
       "    ESDT:                                   AVH13C1\n",
       "    LocalGranuleId:                         AVHRR-Land_v005_AVH13C1_NOAA-18_2...\n",
       "    id:                                     AVHRR-Land_v005_AVH13C1_NOAA-18_2...\n",
       "    RangeBeginningDate:                     2006-004\n",
       "    RangeBeginningTime:                     00:00:00.0000\n",
       "    RangeEndingDate:                        2006-004\n",
       "    RangeEndingTime:                        23:59:59.9999\n",
       "    PercentMissingData:                     15.61\n",
       "    PercentValidDaytimeData:                33.94\n",
       "    PercentValidDaytimeLand:                33.94\n",
       "    PercentValidClearDaytimeLand:           3.77\n",
       "    PercentValidDaytimeLandInCloudShadow:   0.72\n",
       "    PercentValidClearDaytimeWater:          0.00\n",
       "    PercentValidDaytimeWaterInCloudShadow:  0.00"
      ]
     },
     "execution_count": 315,
     "metadata": {},
     "output_type": "execute_result"
    }
   ],
   "source": [
    "domain"
   ]
  },
  {
   "cell_type": "code",
   "execution_count": 316,
   "metadata": {},
   "outputs": [
    {
     "data": {
      "text/plain": [
       "<matplotlib.collections.QuadMesh at 0x7f0574e3ea90>"
      ]
     },
     "execution_count": 316,
     "metadata": {},
     "output_type": "execute_result"
    },
    {
     "data": {
      "image/png": "[encoded data removed]",
      "text/plain": [
       "<Figure size 432x288 with 2 Axes>"
      ]
     },
     "metadata": {
      "needs_background": "light"
     },
     "output_type": "display_data"
    }
   ],
   "source": [
    "domain['QA'].plot()"
   ]
  },
  {
   "cell_type": "code",
   "execution_count": 317,
   "metadata": {},
   "outputs": [],
   "source": [
    "flags = domain['QA'].values.astype(int)"
   ]
  },
  {
   "cell_type": "code",
   "execution_count": 318,
   "metadata": {},
   "outputs": [
    {
     "data": {
      "text/plain": [
       "(400, 4800)"
      ]
     },
     "execution_count": 318,
     "metadata": {},
     "output_type": "execute_result"
    }
   ],
   "source": [
    "flags.shape"
   ]
  },
  {
   "cell_type": "code",
   "execution_count": 321,
   "metadata": {},
   "outputs": [],
   "source": [
    "#extract oceanflag map, bit position counted backwards i.e. -2 = cloud, -4 = water mask\n",
    "cloud_mask = []\n",
    "bit_position = -7\n",
    "for b, i in zip(np.nditer(flags), range(flags.size)):\n",
    "    #ipdb.set_trace()\n",
    "    bb = np.flip('{0:016b}'.format(int(b)))  #16bit\n",
    "    #print(bb)   # bit printout for test\n",
    "    cloud_mask.append(int(bb[bit_position])) \n",
    "cloud_mask = np.reshape(np.array(cloud_mask), flags.shape)"
   ]
  },
  {
   "cell_type": "code",
   "execution_count": 322,
   "metadata": {},
   "outputs": [
    {
     "data": {
      "text/plain": [
       "<matplotlib.colorbar.Colorbar at 0x7f0574cc0cd0>"
      ]
     },
     "execution_count": 322,
     "metadata": {},
     "output_type": "execute_result"
    },
    {
     "data": {
      "image/png": "[encoded data removed]",
      "text/plain": [
       "<Figure size 432x288 with 2 Axes>"
      ]
     },
     "metadata": {
      "needs_background": "light"
     },
     "output_type": "display_data"
    }
   ],
   "source": [
    "plt.figure()\n",
    "plt.pcolormesh(cloud_mask)\n",
    "plt.colorbar()"
   ]
  },
  {
   "cell_type": "code",
   "execution_count": null,
   "metadata": {},
   "outputs": [],
   "source": []
  },
  {
   "cell_type": "code",
   "execution_count": null,
   "metadata": {},
   "outputs": [],
   "source": []
  }
 ],
 "metadata": {
  "kernelspec": {
   "display_name": "Python 3",
   "language": "python",
   "name": "python3"
  },
  "language_info": {
   "codemirror_mode": {
    "name": "ipython",
    "version": 3
   },
   "file_extension": ".py",
   "mimetype": "text/x-python",
   "name": "python",
   "nbconvert_exporter": "python",
   "pygments_lexer": "ipython3",
   "version": "3.7.6"
  }
 },
 "nbformat": 4,
 "nbformat_minor": 2
}
