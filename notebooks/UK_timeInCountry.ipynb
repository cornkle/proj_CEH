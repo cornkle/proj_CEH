{
 "cells": [
  {
   "cell_type": "code",
   "execution_count": 2,
   "id": "f322706d",
   "metadata": {},
   "outputs": [],
   "source": [
    "import numpy as np\n",
    "import pandas as pd\n",
    "from datetime import datetime, timedelta"
   ]
  },
  {
   "cell_type": "code",
   "execution_count": null,
   "id": "4bdf65dc",
   "metadata": {},
   "outputs": [],
   "source": [
    "import pandas as pd\n",
    "from datetime import datetime, timedelta\n",
    "\n",
    "# Step 1: Define the start date and create the date range\n",
    "start_date = \"2019-11-01\"\n",
    "end_date = datetime.today().strftime('%Y-%m-%d')\n",
    "date_range = pd.date_range(start=start_date, end=end_date)\n",
    "\n",
    "# Step 2: Create a DataFrame with a default value of \"in country\" (0)\n",
    "status_df = pd.DataFrame(date_range, columns=[\"Date\"])\n",
    "status_df[\"Status\"] = 0  # 0 represents \"in country\"\n",
    "\n",
    "# Step 3: Define inbound and outbound travel dates (example format: YYYY-MM-DD)\n",
    "inbound_dates = [\"2021-10-03\", \"2021-12-08\", \"2022-02-06\", \"2022-05-03\", \"2022-06-21\", \"2022-09-20\", \"2022-12-04\", \"2022-12-25\",\"2023-01-31\", \"2023-07-17\", \"2023-09-03\", \"2023-09-30\", \"2023-12-24\", \"2024-01-27\", \"2024-02-20\"  ]  # Add your inbound travel dates here\n",
    "outbound_dates = [\"2021-10-13\", \"2021-12-18\", \"2022-02-24\"\"2022-05-15\",\"2022-07-05\", \"2022-10-12\", \"2022-12-15\", \"2023-01-24\", \"2023-07-10\", \"2023-08-28\",\"2023-09-22\", \"2023-12-10\", \"2024-01-27\"]  # Add your outbound travel dates here\n",
    "\n",
    "# Convert the lists to datetime format for consistency\n",
    "inbound_dates = pd.to_datetime(inbound_dates)\n",
    "outbound_dates = pd.to_datetime(outbound_dates)\n",
    "\n",
    "# Step 4: Mark \"out of country\" days (1) between outbound and inbound trips\n",
    "for out_date, in_date in zip(outbound_dates, inbound_dates):\n",
    "    # Mark outbound and inbound travel days as separate statuses\n",
    "    status_df.loc[status_df[\"Date\"] == out_date, \"Status\"] = 4  # 4 = outbound travel day\n",
    "    status_df.loc[status_df[\"Date\"] == in_date, \"Status\"] = 3   # 3 = inbound travel day\n",
    "    \n",
    "    # Mark days between outbound and inbound as \"out of country\" (1)\n",
    "    status_df.loc[(status_df[\"Date\"] > out_date) & (status_df[\"Date\"] < in_date), \"Status\"] = 1\n",
    "\n",
    "# Display the resulting table\n",
    "print(status_df.head(30))  # Display the first 30 rows for verificatio"
   ]
  }
 ],
 "metadata": {
  "kernelspec": {
   "display_name": "Python 3 (ipykernel)",
   "language": "python",
   "name": "python3"
  },
  "language_info": {
   "codemirror_mode": {
    "name": "ipython",
    "version": 3
   },
   "file_extension": ".py",
   "mimetype": "text/x-python",
   "name": "python",
   "nbconvert_exporter": "python",
   "pygments_lexer": "ipython3",
   "version": "3.10.11"
  }
 },
 "nbformat": 4,
 "nbformat_minor": 5
}
