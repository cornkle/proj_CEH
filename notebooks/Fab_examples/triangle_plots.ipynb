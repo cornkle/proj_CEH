{
 "cells": [
  {
   "cell_type": "markdown",
   "metadata": {},
   "source": [
    "# On the use of \"triangle plots\" in trend analysis "
   ]
  },
  {
   "cell_type": "markdown",
   "metadata": {},
   "source": [
    "This is the code used to produce the plots presented here: http://fabienmaussion.info/2016/04/29/trendy-triangles/"
   ]
  },
  {
   "cell_type": "code",
   "execution_count": null,
   "metadata": {
    "collapsed": false
   },
   "outputs": [],
   "source": [
    "%matplotlib inline\n",
    "import pandas as pd\n",
    "import numpy as np\n",
    "import matplotlib.pyplot as plt\n",
    "import seaborn as sns\n",
    "from scipy import stats\n",
    "# Some defaults\n",
    "cmap = plt.get_cmap('RdBu_r')\n",
    "sns.set_context('talk')\n",
    "sns.set_style('ticks')"
   ]
  },
  {
   "cell_type": "markdown",
   "metadata": {},
   "source": [
    "## Real case: GISS global temperature data "
   ]
  },
  {
   "cell_type": "markdown",
   "metadata": {},
   "source": [
    "### Download"
   ]
  },
  {
   "cell_type": "markdown",
   "metadata": {},
   "source": [
    "Gistemp dataset: http://data.giss.nasa.gov/gistemp/"
   ]
  },
  {
   "cell_type": "code",
   "execution_count": null,
   "metadata": {
    "collapsed": true
   },
   "outputs": [],
   "source": [
    "# This just reads the data from the provided url\n",
    "import io, requests\n",
    "url = 'http://data.giss.nasa.gov/gistemp/tabledata_v3/GLB.Ts+dSST.csv'\n",
    "s = requests.get(url).content\n",
    "df = pd.read_csv(io.StringIO(s.decode('utf-8')), index_col=0, header=1)"
   ]
  },
  {
   "cell_type": "code",
   "execution_count": null,
   "metadata": {
    "collapsed": false
   },
   "outputs": [],
   "source": [
    "# for today we'll concentrate on annual averages\n",
    "ts = df['J-D'].loc[1880:2015].astype('float') "
   ]
  },
  {
   "cell_type": "code",
   "execution_count": null,
   "metadata": {
    "collapsed": false
   },
   "outputs": [],
   "source": [
    "ax = ts.plot(figsize=(9, 5));\n",
    "ax.set_ylabel('Temp anomaly to 1951-1980 [°C]');\n",
    "plt.tight_layout()\n",
    "plt.savefig('ts_giss.png', dpi=150)"
   ]
  },
  {
   "cell_type": "markdown",
   "metadata": {},
   "source": [
    "### Trend analysis "
   ]
  },
  {
   "cell_type": "code",
   "execution_count": null,
   "metadata": {
    "collapsed": false
   },
   "outputs": [],
   "source": [
    "# the trend are computed on time series at least 20yrs long\n",
    "start_years = ts.index[:-20]\n",
    "end_years = ts.index[20:]\n",
    "ny = len(start_years)\n",
    "extent = (start_years[0], start_years[-1], end_years[0], end_years[-1])  # needed for the plot later"
   ]
  },
  {
   "cell_type": "code",
   "execution_count": null,
   "metadata": {
    "collapsed": false
   },
   "outputs": [],
   "source": [
    "# fill the triangle\n",
    "trend = np.zeros((ny, ny)) * np.NaN\n",
    "sig = np.ones((ny, ny)) \n",
    "for i, start_year in enumerate(start_years):\n",
    "    for j, end_year in enumerate(end_years):\n",
    "        data = ts.loc[start_year:end_year]\n",
    "        if len(data) < 20:\n",
    "            continue\n",
    "        slope, _, _, p_val, _ = stats.linregress(data.index, data.values)\n",
    "        trend[j, i] = slope * 10  # for decadal trends\n",
    "        sig[j, i] = p_val"
   ]
  },
  {
   "cell_type": "markdown",
   "metadata": {},
   "source": [
    "### Plot "
   ]
  },
  {
   "cell_type": "code",
   "execution_count": null,
   "metadata": {
    "collapsed": false
   },
   "outputs": [],
   "source": [
    "# plot\n",
    "plt.figure(figsize=(7, 5))\n",
    "im = plt.imshow(trend, extent=extent, interpolation='none', origin='lower', cmap=cmap, vmin=-0.2, vmax=0.2)\n",
    "plt.contour(start_years, end_years, sig < 0.05, linewidths=1)\n",
    "plt.colorbar(im, extend='both');\n",
    "plt.title('Trend [°C per decade] p=0.05');\n",
    "plt.xlabel('Start year');\n",
    "plt.ylabel('End year');\n",
    "plt.tight_layout()\n",
    "plt.savefig('triangle_giss.png', dpi=150)"
   ]
  },
  {
   "cell_type": "code",
   "execution_count": null,
   "metadata": {
    "collapsed": false
   },
   "outputs": [],
   "source": [
    "print('{:.1%} of the triangle has a significant trend.'.format(np.sum(sig < 0.05) / np.sum(np.isfinite(trend))))"
   ]
  },
  {
   "cell_type": "markdown",
   "metadata": {},
   "source": [
    "## Random case "
   ]
  },
  {
   "cell_type": "markdown",
   "metadata": {},
   "source": [
    "We make a fake global temperature timeseries which has the same variance as the real one. We assume normality (which is far from reality...):"
   ]
  },
  {
   "cell_type": "code",
   "execution_count": null,
   "metadata": {
    "collapsed": false
   },
   "outputs": [],
   "source": [
    "np.random.seed(12)  # for reproducible results\n",
    "fake_ts = pd.Series(np.random.normal(0., np.std(ts), len(ts)), index=ts.index)\n",
    "ax = fake_ts.plot(figsize=(9, 5));\n",
    "ax.set_ylabel('A random timeseries');\n",
    "plt.tight_layout()\n",
    "plt.savefig('ts_random.png', dpi=150)"
   ]
  },
  {
   "cell_type": "code",
   "execution_count": null,
   "metadata": {
    "collapsed": false
   },
   "outputs": [],
   "source": [
    "trend = np.zeros((ny, ny)) * np.NaN\n",
    "sig = np.ones((ny, ny))\n",
    "for i, start_year in enumerate(start_years):\n",
    "    for j, end_year in enumerate(end_years):\n",
    "        data = fake_ts.loc[start_year:end_year]\n",
    "        if len(data) < 20:\n",
    "            continue\n",
    "        slope, _, _, p_val, _ = stats.linregress(data.index, data.values)\n",
    "        trend[j, i] = slope * 10  # for decadal trends\n",
    "        sig[j, i] = p_val"
   ]
  },
  {
   "cell_type": "code",
   "execution_count": null,
   "metadata": {
    "collapsed": false,
    "scrolled": true
   },
   "outputs": [],
   "source": [
    "# plot\n",
    "plt.figure(figsize=(7, 5))\n",
    "im = plt.imshow(trend, extent=extent, interpolation='none', origin='lower', cmap=cmap, vmin=-0.2, vmax=0.2)\n",
    "plt.contour(start_years, end_years, sig < 0.05, linewidths=1)\n",
    "plt.colorbar(im, extend='both');\n",
    "plt.title('Trend [°C per decade] p=0.05');\n",
    "plt.xlabel('Start year');\n",
    "plt.ylabel('End year');\n",
    "plt.tight_layout()\n",
    "plt.savefig('triangle_random.png', dpi=150)"
   ]
  },
  {
   "cell_type": "code",
   "execution_count": null,
   "metadata": {
    "collapsed": false
   },
   "outputs": [],
   "source": [
    "print('{:.1%} of the triangle has a significant trend.'.format(np.sum(sig < 0.05) / np.sum(np.isfinite(trend))))"
   ]
  },
  {
   "cell_type": "markdown",
   "metadata": {},
   "source": [
    "### \"Extreme\" example: "
   ]
  },
  {
   "cell_type": "code",
   "execution_count": null,
   "metadata": {
    "collapsed": false
   },
   "outputs": [],
   "source": [
    "np.random.seed(0)  # for reproducible results\n",
    "fake_ts = pd.Series(np.random.normal(0., np.std(ts), len(ts)), index=ts.index)\n",
    "trend = np.zeros((ny, ny)) * np.NaN\n",
    "sig = np.ones((ny, ny))\n",
    "for i, start_year in enumerate(start_years):\n",
    "    for j, end_year in enumerate(end_years):\n",
    "        data = fake_ts.loc[start_year:end_year]\n",
    "        if len(data) < 20:\n",
    "            continue\n",
    "        slope, _, _, p_val, _ = stats.linregress(data.index, data.values)\n",
    "        trend[j, i] = slope * 10  # for decadal trends\n",
    "        sig[j, i] = p_val\n",
    "# plot\n",
    "plt.figure(figsize=(7, 5))\n",
    "im = plt.imshow(trend, extent=extent, interpolation='none', origin='lower', cmap=cmap, vmin=-0.2, vmax=0.2)\n",
    "plt.contour(start_years, end_years, sig < 0.05, linewidths=1)\n",
    "plt.colorbar(im, extend='both');\n",
    "plt.title('Trend [°C per decade] p=0.05');\n",
    "plt.xlabel('Start year');\n",
    "plt.ylabel('End year');\n",
    "plt.tight_layout()\n",
    "plt.savefig('triangle_random_ex.png', dpi=150)\n",
    "print('{:.1%} of the triangle has a significant trend.'.format(np.sum(sig < 0.05) / np.sum(np.isfinite(trend))))"
   ]
  },
  {
   "cell_type": "markdown",
   "metadata": {},
   "source": [
    "## More systematic case: how often does this extreme case happen? "
   ]
  },
  {
   "cell_type": "markdown",
   "metadata": {},
   "source": [
    "We repeat the game a 1000 times and see how many percent of the triangle is \"significant\"."
   ]
  },
  {
   "cell_type": "code",
   "execution_count": null,
   "metadata": {
    "collapsed": true
   },
   "outputs": [],
   "source": [
    "def get_sig_ratio(in_ts):\n",
    "    trend = np.zeros((ny, ny)) * np.NaN\n",
    "    sig = np.ones((ny, ny))\n",
    "    for i, start_year in enumerate(start_years):\n",
    "        for j, end_year in enumerate(end_years):\n",
    "            data = in_ts.loc[start_year:end_year]\n",
    "            if len(data) < 20:\n",
    "                continue\n",
    "            slope, _, _, p_val, _ = stats.linregress(data.index, data.values)\n",
    "            trend[j, i] = slope * 10  # for decadal trends\n",
    "            sig[j, i] = p_val\n",
    "    return len(np.nonzero(sig < 0.05)[0]) / np.sum(np.isfinite(trend))"
   ]
  },
  {
   "cell_type": "code",
   "execution_count": null,
   "metadata": {
    "collapsed": false
   },
   "outputs": [],
   "source": [
    "perc = []\n",
    "np.random.seed(0)  # for reproducible results\n",
    "# this can take *a while*, obviously\n",
    "for _ in range(1000):\n",
    "    fake_ts = pd.Series(np.random.normal(0., np.std(ts), len(ts)), index=ts.index)\n",
    "    perc.append(get_sig_ratio(fake_ts))"
   ]
  },
  {
   "cell_type": "code",
   "execution_count": null,
   "metadata": {
    "collapsed": false
   },
   "outputs": [],
   "source": [
    "d = {'avg': np.average(perc), 'max': np.max(perc), 'nmore':np.sum(np.array(perc)>0.20)}\n",
    "print('The average area of the significance is {avg:.1%}, and {nmore} of the 1000 runs have more then 20%.'.format(**d))"
   ]
  },
  {
   "cell_type": "code",
   "execution_count": null,
   "metadata": {
    "collapsed": false
   },
   "outputs": [],
   "source": [
    "# plot\n",
    "plt.figure(figsize=(7, 5))\n",
    "plt.hist(perc, bins=np.arange(45)*0.01);\n",
    "plt.ylabel('Number of runs')\n",
    "plt.xlabel('Area wich is significant (%)')\n",
    "plt.tight_layout()\n",
    "plt.savefig('hist_real.png', dpi=150)"
   ]
  },
  {
   "cell_type": "code",
   "execution_count": null,
   "metadata": {
    "collapsed": true
   },
   "outputs": [],
   "source": []
  }
 ],
 "metadata": {
  "kernelspec": {
   "display_name": "Python 3",
   "language": "python",
   "name": "python3"
  },
  "language_info": {
   "codemirror_mode": {
    "name": "ipython",
    "version": 3
   },
   "file_extension": ".py",
   "mimetype": "text/x-python",
   "name": "python",
   "nbconvert_exporter": "python",
   "pygments_lexer": "ipython3",
   "version": "3.4.3"
  }
 },
 "nbformat": 4,
 "nbformat_minor": 0
}
