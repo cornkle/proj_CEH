{
 "cells": [
  {
   "cell_type": "code",
   "execution_count": 7,
   "metadata": {},
   "outputs": [
    {
     "name": "stdout",
     "output_type": "stream",
     "text": [
      "/users/global/cornkle/pythonWorkspace\n"
     ]
    }
   ],
   "source": [
    "%cd ..\n",
    "import numpy as np\n",
    "import matplotlib.pyplot as plt\n",
    "import cartopy.crs as ccrs\n",
    "import cartopy.feature as cfeature\n",
    "import cartopy\n",
    "import matplotlib.pylab as pylab\n",
    "import cartopy.feature as cfeature\n",
    "import scipy.stats as stats\n",
    "import xarray as xr\n",
    "import pdb\n",
    "import glob\n",
    "import itertools\n",
    "import numpy.ma as ma\n",
    "import pickle as pkl\n",
    "\n",
    "##for regridding, install xesmf:\n",
    "# conda install esmpy\n",
    "# pip install xesmf\n",
    "from utils import constants as cnst\n",
    "\n",
    "pylab.rcParams['figure.figsize'] = (50., 50.)\n",
    "%matplotlib inline"
   ]
  },
  {
   "cell_type": "code",
   "execution_count": 8,
   "metadata": {},
   "outputs": [
    {
     "data": {
      "text/plain": [
       "'/users/global/cornkle/pythonWorkspace'"
      ]
     },
     "execution_count": 8,
     "metadata": {},
     "output_type": "execute_result"
    }
   ],
   "source": [
    "pwd"
   ]
  },
  {
   "cell_type": "code",
   "execution_count": 11,
   "metadata": {},
   "outputs": [],
   "source": [
    "dic = pkl.load( open (cnst.CLOVER_SAVES + 'bulk_-40_zeroRain_gt5k_-40thresh_OBSera.p', 'rb'))"
   ]
  },
  {
   "cell_type": "code",
   "execution_count": 12,
   "metadata": {},
   "outputs": [
    {
     "data": {
      "text/plain": [
       "dict_keys(['hour', 'u925', 'clat', 'div925', 'tmean', 'pmax', 'q650', 'month', 'shear', 'u650', 'lon', 'rh925', 'div650', 't', 'w650', 'lat', 'v650', 'rh650', 'clon', 'pgt30', 'tmin', 'w925', 't650', 'p', 'v925', 'area', 'pv925', 'pgt01isvalid', 't925', 'pmean', 'q925', 'year', 'pv650'])"
      ]
     },
     "execution_count": 12,
     "metadata": {},
     "output_type": "execute_result"
    }
   ],
   "source": [
    "dic.keys()"
   ]
  },
  {
   "cell_type": "code",
   "execution_count": 29,
   "metadata": {
    "collapsed": true
   },
   "outputs": [],
   "source": [
    "cc=11\n",
    "\n",
    "pp = np.array(dic['pmax'])\n",
    "sh = np.array(dic['shear']) #np.array(dic['shear']) * (-1)\n",
    "umin = np.array(dic['u650']) * (-1)\n",
    "umax = np.array(dic['u925'])\n",
    "qq = np.array(dic['q925']) * 1000\n",
    "tt = np.array(dic['tmin'])\n",
    "month = np.array(dic['month'])\n",
    "area = np.array(dic['area'])*(4.4**2)\n",
    "lat = np.array(dic['clat'])\n",
    "\n",
    "pos = np.where( (pp >= 0.1) & (month>=9))# np.where((pp >= 3) & (sh >= 8) &  (sh <= 30) &  (area<=700000) & ((month<=5) | (month>=10)) & (lat>=5) )   # 5 + 10 look nicest\n",
    "\n",
    "tt = tt[pos]\n",
    "pp = pp[pos]\n",
    "qq = qq[pos]\n",
    "sh = sh[pos]\n",
    "umin = umin[pos]\n",
    "umax = umax[pos]\n",
    "lats = lat[pos]\n",
    "area = area[pos]"
   ]
  },
  {
   "cell_type": "code",
   "execution_count": 30,
   "metadata": {},
   "outputs": [
    {
     "data": {
      "text/plain": [
       "(array([ 13.,  44.,  72.,  83.,  88.,  56.,  30.,  12.,   5.,   2.]),\n",
       " array([-4.64975071, -3.26750202, -1.88525333, -0.50300465,  0.87924404,\n",
       "         2.26149273,  3.64374142,  5.0259901 ,  6.40823879,  7.79048748,\n",
       "         9.17273617]),\n",
       " <a list of 10 Patch objects>)"
      ]
     },
     "execution_count": 30,
     "metadata": {},
     "output_type": "execute_result"
    },
    {
     "data": {
      "image/png": "[encoded data removed]",
      "text/plain": [
       "<matplotlib.figure.Figure at 0x7fe76090ffd0>"
      ]
     },
     "metadata": {},
     "output_type": "display_data"
    }
   ],
   "source": [
    "plt.hist(umax)"
   ]
  },
  {
   "cell_type": "code",
   "execution_count": 23,
   "metadata": {},
   "outputs": [
    {
     "data": {
      "text/plain": [
       "<matplotlib.collections.PathCollection at 0x7fe760870ac8>"
      ]
     },
     "execution_count": 23,
     "metadata": {},
     "output_type": "execute_result"
    },
    {
     "data": {
      "image/png": "[encoded data removed]",
      "text/plain": [
       "<matplotlib.figure.Figure at 0x7fe760ba2390>"
      ]
     },
     "metadata": {},
     "output_type": "display_data"
    }
   ],
   "source": [
    "plt.scatter(umax, tt)"
   ]
  },
  {
   "cell_type": "code",
   "execution_count": null,
   "metadata": {
    "collapsed": true
   },
   "outputs": [],
   "source": []
  }
 ],
 "metadata": {
  "kernelspec": {
   "display_name": "Python 3",
   "language": "python",
   "name": "python3"
  },
  "language_info": {
   "codemirror_mode": {
    "name": "ipython",
    "version": 3
   },
   "file_extension": ".py",
   "mimetype": "text/x-python",
   "name": "python",
   "nbconvert_exporter": "python",
   "pygments_lexer": "ipython3",
   "version": "3.5.3"
  }
 },
 "nbformat": 4,
 "nbformat_minor": 2
}
