{
 "cells": [
  {
   "cell_type": "code",
   "execution_count": 76,
   "metadata": {},
   "outputs": [
    {
     "name": "stdout",
     "output_type": "stream",
     "text": [
      "/users/global\n"
     ]
    }
   ],
   "source": [
    "%cd ..\n",
    "import numpy as np\n",
    "import matplotlib.pyplot as plt\n",
    "import cartopy.crs as ccrs\n",
    "import cartopy.feature as cfeature\n",
    "import cartopy\n",
    "import matplotlib.pylab as pylab\n",
    "import cartopy.feature as cfeature\n",
    "import scipy.stats as stats\n",
    "import xarray as xr\n",
    "import pdb\n",
    "import glob\n",
    "import itertools\n",
    "import numpy.ma as ma\n",
    "import pickle as pkl\n",
    "\n",
    "##for regridding, install xesmf:\n",
    "# conda install esmpy\n",
    "# pip install xesmf\n",
    "from utils import constants as cnst\n",
    "\n",
    "pylab.rcParams['figure.figsize'] = (50., 50.)\n",
    "%matplotlib inline"
   ]
  },
  {
   "cell_type": "code",
   "execution_count": 77,
   "metadata": {},
   "outputs": [
    {
     "data": {
      "text/plain": [
       "'/users/global'"
      ]
     },
     "execution_count": 77,
     "metadata": {},
     "output_type": "execute_result"
    }
   ],
   "source": [
    "pwd"
   ]
  },
  {
   "cell_type": "code",
   "execution_count": 78,
   "metadata": {},
   "outputs": [],
   "source": [
    "#dic = pkl.load( open (cnst.CLOVER_SAVES + 'bulk_-40_zeroRain_gt5k_-40thresh_OBSera.p', 'rb'))\n",
    "dic = pkl.load( open (cnst.CLOVER_SAVES + 'bulk_-40_zeroRain_gt5k_-40thresh_OBSera_thicklayer.p', 'rb'))"
   ]
  },
  {
   "cell_type": "code",
   "execution_count": 79,
   "metadata": {},
   "outputs": [
    {
     "data": {
      "text/plain": [
       "dict_keys(['u925', 'clat', 'w925', 'tmean', 'pmax', 'rh925', 'pgt30', 'shear', 'w650', 'div925', 'div650', 't', 'month', 'u650', 'pv650', 'lat', 'lon', 'v650', 'rh650', 'clon', 'hour', 'tmin', 't650', 'p', 'v925', 'pv925', 'pgt01isvalid', 't925', 'pmean', 'q925', 'year', 'q650', 'area'])"
      ]
     },
     "execution_count": 79,
     "metadata": {},
     "output_type": "execute_result"
    }
   ],
   "source": [
    "dic.keys()"
   ]
  },
  {
   "cell_type": "code",
   "execution_count": 95,
   "metadata": {
    "collapsed": true
   },
   "outputs": [],
   "source": [
    "cc=11\n",
    "\n",
    "pp = np.array(dic['pmax'])\n",
    "sh = np.array(dic['shear']) #np.array(dic['shear']) * (-1)\n",
    "umin = np.array(dic['u650']) * (-1)\n",
    "umax = np.array(dic['u925'])\n",
    "qq = np.array(dic['q925']) * 1000\n",
    "tt = np.array(dic['tmean'])\n",
    "month = np.array(dic['month'])\n",
    "area = np.array(dic['area'])*(4.4**2)\n",
    "lat = np.array(dic['clat'])\n",
    "\n",
    "pos = np.where( (pp >= 0.1) & (month>=9))# np.where((pp >= 3) & (sh >= 8) &  (sh <= 30) &  (area<=700000) & ((month<=5) | (month>=10)) & (lat>=5) )   # 5 + 10 look nicest\n",
    "\n",
    "tt = tt[pos]\n",
    "pp = pp[pos]\n",
    "qq = qq[pos]\n",
    "sh = sh[pos]\n",
    "umin = umin[pos]\n",
    "umax = umax[pos]\n",
    "lats = lat[pos]\n",
    "area = area[pos]"
   ]
  },
  {
   "cell_type": "code",
   "execution_count": 96,
   "metadata": {},
   "outputs": [
    {
     "data": {
      "text/plain": [
       "(array([  5.,  15.,  29.,  49.,  66.,  69.,  94.,  52.,  21.,   5.]),\n",
       " array([ -5.49089139,  -3.31027585,  -1.1296603 ,   1.05095524,\n",
       "          3.23157078,   5.41218633,   7.59280187,   9.77341742,\n",
       "         11.95403296,  14.1346485 ,  16.31526405]),\n",
       " <a list of 10 Patch objects>)"
      ]
     },
     "execution_count": 96,
     "metadata": {},
     "output_type": "execute_result"
    },
    {
     "data": {
      "image/png": "[encoded data removed]",
      "text/plain": [
       "<matplotlib.figure.Figure at 0x7fe75d0cf128>"
      ]
     },
     "metadata": {},
     "output_type": "display_data"
    }
   ],
   "source": [
    "plt.hist(umin)"
   ]
  },
  {
   "cell_type": "code",
   "execution_count": 98,
   "metadata": {},
   "outputs": [
    {
     "data": {
      "text/plain": [
       "<matplotlib.collections.PathCollection at 0x7fe75cf5c860>"
      ]
     },
     "execution_count": 98,
     "metadata": {},
     "output_type": "execute_result"
    },
    {
     "data": {
      "image/png": "[encoded data removed]",
      "text/plain": [
       "<matplotlib.figure.Figure at 0x7fe75d0afda0>"
      ]
     },
     "metadata": {},
     "output_type": "display_data"
    }
   ],
   "source": [
    "plt.scatter(umax, pp)"
   ]
  },
  {
   "cell_type": "code",
   "execution_count": null,
   "metadata": {
    "collapsed": true
   },
   "outputs": [],
   "source": []
  },
  {
   "cell_type": "code",
   "execution_count": null,
   "metadata": {
    "collapsed": true
   },
   "outputs": [],
   "source": []
  }
 ],
 "metadata": {
  "kernelspec": {
   "display_name": "Python 3",
   "language": "python",
   "name": "python3"
  },
  "language_info": {
   "codemirror_mode": {
    "name": "ipython",
    "version": 3
   },
   "file_extension": ".py",
   "mimetype": "text/x-python",
   "name": "python",
   "nbconvert_exporter": "python",
   "pygments_lexer": "ipython3",
   "version": "3.5.3"
  }
 },
 "nbformat": 4,
 "nbformat_minor": 2
}
