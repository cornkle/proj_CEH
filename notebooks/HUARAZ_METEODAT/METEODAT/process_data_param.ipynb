{
 "cells": [
  {
   "cell_type": "markdown",
   "metadata": {},
   "source": [
    "# Preprocess all SEHNAMI data"
   ]
  },
  {
   "cell_type": "markdown",
   "metadata": {},
   "source": [
    "Data downloaded from meteodat database on 02.03.2020. Data goes up to august 2019. "
   ]
  },
  {
   "cell_type": "code",
   "execution_count": null,
   "metadata": {},
   "outputs": [],
   "source": [
    "%matplotlib inline"
   ]
  },
  {
   "cell_type": "code",
   "execution_count": null,
   "metadata": {},
   "outputs": [],
   "source": [
    "import pandas as pd\n",
    "import numpy as np\n",
    "import matplotlib.pyplot as plt\n",
    "import salem\n",
    "import hvplot.pandas\n",
    "import holoviews as hv\n",
    "import geoviews as gv\n",
    "import geopandas as gpd\n",
    "import cartopy.crs as ccrs\n",
    "import shapely.geometry as shpg\n",
    "hv.extension('bokeh')"
   ]
  },
  {
   "cell_type": "code",
   "execution_count": null,
   "metadata": {
    "tags": [
     "parameters"
    ]
   },
   "outputs": [],
   "source": [
    "# parameters\n",
    "processed_dir = './processed/'\n",
    "file_name = 'precip'\n",
    "buffer_size = 40 # in km"
   ]
  },
  {
   "cell_type": "code",
   "execution_count": null,
   "metadata": {},
   "outputs": [],
   "source": [
    "var_names = {'precip':'RR', 'mean_temp':'TMEAN', 'max_temp':'TMAX', 'min_temp':'TMIN' }\n",
    "if file_name not in var_names:\n",
    "    raise ValueError('File name: {} not recognized'.format(file_name))\n",
    "var_name = var_names[file_name]"
   ]
  },
  {
   "cell_type": "markdown",
   "metadata": {},
   "source": [
    "## Raw data to metadata"
   ]
  },
  {
   "cell_type": "code",
   "execution_count": null,
   "metadata": {},
   "outputs": [],
   "source": [
    "def count_achtungs(f, do_print=False):\n",
    "    with open(f, 'r') as file:\n",
    "        n_achtungs = 0\n",
    "        achtungs = []\n",
    "        while True:\n",
    "            l = file.readline()\n",
    "            if 'ACHTUNG' in l:\n",
    "                n_achtungs += 1\n",
    "                achtungs.append(l)\n",
    "            else:\n",
    "                break\n",
    "    if do_print:\n",
    "        print('Filename ', f)\n",
    "        print('Number of Achtungs: ', n_achtungs)\n",
    "        print('Achtungs:')\n",
    "        for a in achtungs:\n",
    "            print('  ' + a)\n",
    "        print('')\n",
    "    return n_achtungs"
   ]
  },
  {
   "cell_type": "code",
   "execution_count": null,
   "metadata": {},
   "outputs": [],
   "source": [
    "f = './raw/SEHNAMI/{}_all.csv'.format(file_name)\n",
    "n_achtungs = count_achtungs(f, do_print=True)\n",
    "df_meta = pd.read_csv(f, sep=';', index_col=0, skiprows=n_achtungs, nrows=5, header=None)\n",
    "df_meta = df_meta.T\n",
    "df_meta.columns = [c.strip().replace('DATE', 'ID') for c in df_meta.columns]\n",
    "df_meta['ID'] = df_meta['ID'].map(lambda x: x.strip().replace('_{}'.format(var_name), ''))\n",
    "df_meta = df_meta.set_index('ID')\n",
    "df_meta.columns = [c.strip().replace('DATE', 'ID') for c in df_meta.columns]\n",
    "df_meta['NAME'] = [c.strip() for c in df_meta['NAME']]\n",
    "df_meta['LAT'] = df_meta['LAT'].astype(float)\n",
    "df_meta['LON'] = df_meta['LON'].astype(float)\n",
    "df_meta['HEIGHT'] = df_meta['HEIGHT'].astype(float)\n",
    "df_meta.to_csv(processed_dir + 'L0_{}_StationsMeta.csv'.format(file_name))"
   ]
  },
  {
   "cell_type": "code",
   "execution_count": null,
   "metadata": {},
   "outputs": [],
   "source": [
    "df_meta.head()"
   ]
  },
  {
   "cell_type": "markdown",
   "metadata": {},
   "source": [
    "## L1 data: RAW data and coarse filter for stations with at least 1 year of data in the period 1980-2018"
   ]
  },
  {
   "cell_type": "code",
   "execution_count": null,
   "metadata": {},
   "outputs": [],
   "source": [
    "df = pd.read_csv(f, sep=';', index_col=0, header=4+n_achtungs, parse_dates=True,\n",
    "                 date_parser=lambda x: pd.datetime.strptime(x, '%d.%m.%Y'))\n",
    "df.columns = [c.strip().split('_')[0] for c in df.columns]\n",
    "df = df.replace(-9999, np.NaN)"
   ]
  },
  {
   "cell_type": "code",
   "execution_count": null,
   "metadata": {},
   "outputs": [],
   "source": [
    "df.tail()"
   ]
  },
  {
   "cell_type": "code",
   "execution_count": null,
   "metadata": {},
   "outputs": [],
   "source": [
    "# Sum up the valid days\n",
    "df_s = (~ df.loc['1980':].isnull()).sum()\n",
    "# Plot the number of stations with at least X year of data\n",
    "n_stats = pd.DataFrame()\n",
    "for ny in range(31):\n",
    "    n_stats.loc[ny, 'N_STATIONS'] = len(df_s.loc[df_s >= (365*ny)])\n",
    "n_stats.index.name = 'N_YEARS'\n",
    "n_stats.hvplot(ylim=(0, int(n_stats.max()+100)), title='Number of stations with at least X year of data')"
   ]
  },
  {
   "cell_type": "code",
   "execution_count": null,
   "metadata": {},
   "outputs": [],
   "source": [
    "# Select over a year\n",
    "df_s = df_s.loc[df_s >= 365]\n",
    "df = df[df_s.index]\n",
    "df_meta = df_meta.loc[df.columns]"
   ]
  },
  {
   "cell_type": "code",
   "execution_count": null,
   "metadata": {},
   "outputs": [],
   "source": [
    "n_obs = (~ df.isnull()).sum(axis=1)\n",
    "n_obs.hvplot(ylim=(0, int(n_obs.max()+20)), title='Number of daily valid observations')"
   ]
  },
  {
   "cell_type": "code",
   "execution_count": null,
   "metadata": {},
   "outputs": [],
   "source": [
    "df.to_csv(processed_dir + 'L1_{}_all_stats.csv'.format(file_name))"
   ]
  },
  {
   "cell_type": "code",
   "execution_count": null,
   "metadata": {},
   "outputs": [],
   "source": [
    "n_years = (~ df.isnull()).sum(axis=0) / 365\n",
    "cat = pd.cut(n_years, [0, 5, 10, 20, 30, 70], labels=['< 5', '< 10', '< 20', '< 30', '> 30'])\n",
    "dfm = df_meta.loc[cat.index].copy()\n",
    "dfm['N_YEARS'] = cat\n",
    "\n",
    "graph = dfm.sort_values(by='N_YEARS').hvplot.points(x='LON', y='LAT', c='N_YEARS', \n",
    "                                                    hover_cols=['NAME', 'HEIGHT'], \n",
    "                                                    geo=True) \n",
    "graph = graph.options(width=600, height=600,  active_tools=['pan', 'wheel_zoom'])\n",
    "graph * gv.tile_sources.StamenTerrain"
   ]
  },
  {
   "cell_type": "markdown",
   "metadata": {
    "hidePrompt": true
   },
   "source": [
    "## L2: Data within a buffer region around riosanta"
   ]
  },
  {
   "cell_type": "code",
   "execution_count": null,
   "metadata": {},
   "outputs": [],
   "source": [
    "gdf_riosan = gpd.read_file('../gis/RioSanta/riosan_sel_one.shp')\n",
    "gdf_riosan_buf = gpd.GeoDataFrame(gdf_riosan.buffer(buffer_size*1e3).to_frame(name='geometry'))\n",
    "gdf_riosan_buf.crs = gdf_riosan.crs\n",
    "gdf_riosan_buf_ll = gdf_riosan_buf.to_crs('+proj=longlat +datum=WGS84 +no_defs')\n",
    "gdf_riosan = gdf_riosan.append(gdf_riosan_buf, sort=False)"
   ]
  },
  {
   "cell_type": "code",
   "execution_count": null,
   "metadata": {},
   "outputs": [],
   "source": [
    "# GeoDataframe of station points\n",
    "gdf_meta = gpd.GeoDataFrame(df_meta).copy()\n",
    "gdf_meta['geometry'] = [shpg.Point(lon, lat) for (lon, lat) in zip(gdf_meta.LON, gdf_meta.LAT)]\n",
    "# Test into\n",
    "gdf_meta['is_in'] = gdf_meta.intersects(gdf_riosan_buf_ll.unary_union)"
   ]
  },
  {
   "cell_type": "code",
   "execution_count": null,
   "metadata": {},
   "outputs": [],
   "source": [
    "# Select data\n",
    "df_meta = df_meta.loc[gdf_meta.is_in]\n",
    "df = df[df_meta.index]"
   ]
  },
  {
   "cell_type": "code",
   "execution_count": null,
   "metadata": {},
   "outputs": [],
   "source": [
    "# Sum up the valid days\n",
    "df_s = (~ df.loc['1980':].isnull()).sum()\n",
    "# Plot the number of stations with at least X year of data\n",
    "n_stats = pd.DataFrame()\n",
    "for ny in range(31):\n",
    "    n_stats.loc[ny, 'N_STATIONS'] = len(df_s.loc[df_s >= (365*ny)])\n",
    "n_stats.index.name = 'N_YEARS'\n",
    "n_stats.hvplot(ylim=(0, int(n_stats.max()+10)), title='Number of stations with at least X year of data')"
   ]
  },
  {
   "cell_type": "code",
   "execution_count": null,
   "metadata": {},
   "outputs": [],
   "source": [
    "# Select over a year\n",
    "df_s = df_s.loc[df_s >= 365]\n",
    "df = df[df_s.index]\n",
    "df_meta = df_meta.loc[df.columns]"
   ]
  },
  {
   "cell_type": "code",
   "execution_count": null,
   "metadata": {},
   "outputs": [],
   "source": [
    "n_obs = (~ df.isnull()).sum(axis=1)\n",
    "n_obs.hvplot(ylim=(0, int(n_obs.max()+5)), title='Number of daily valid observations')"
   ]
  },
  {
   "cell_type": "code",
   "execution_count": null,
   "metadata": {},
   "outputs": [],
   "source": [
    "df.to_csv(processed_dir + 'L2_{}_all_stats.csv'.format(file_name))"
   ]
  },
  {
   "cell_type": "code",
   "execution_count": null,
   "metadata": {},
   "outputs": [],
   "source": [
    "n_years = (~ df.isnull()).sum(axis=0) / 365\n",
    "cat = pd.cut(n_years, [0, 5, 10, 20, 30, 70], labels=['< 5', '< 10', '< 20', '< 30', '> 30'])\n",
    "dfm = df_meta.loc[cat.index].copy()\n",
    "dfm['N_YEARS'] = cat\n",
    "\n",
    "graph = dfm.sort_values(by='N_YEARS').hvplot.points(x='LON', y='LAT', c='N_YEARS', \n",
    "                                                    hover_cols=['NAME', 'HEIGHT'], \n",
    "                                                    geo=True) \n",
    "graph = graph.options(width=600, height=600,  active_tools=['pan', 'wheel_zoom'])\n",
    "poly = gv.Polygons(gdf_riosan.to_crs(ccrs.GOOGLE_MERCATOR.proj4_init), crs=ccrs.GOOGLE_MERCATOR)\n",
    "graph * gv.tile_sources.StamenTerrain * poly.opts(color='black', fill_color=None, width=600, height=600)"
   ]
  },
  {
   "cell_type": "markdown",
   "metadata": {},
   "source": [
    "## L3: with at least 10 years of data within buffer after 2000"
   ]
  },
  {
   "cell_type": "code",
   "execution_count": null,
   "metadata": {},
   "outputs": [],
   "source": [
    "# Sum up the valid days\n",
    "df_s = (~ df.loc['2000':].isnull()).sum()\n",
    "# Select over N years\n",
    "N = 10\n",
    "df_s = df_s.loc[df_s >= N * 365]\n",
    "df = df[df_s.index]\n",
    "df_meta = df_meta.loc[df.columns]"
   ]
  },
  {
   "cell_type": "code",
   "execution_count": null,
   "metadata": {},
   "outputs": [],
   "source": [
    "df.to_csv(processed_dir + 'L3_{}_all_stats.csv'.format(file_name))"
   ]
  },
  {
   "cell_type": "code",
   "execution_count": null,
   "metadata": {},
   "outputs": [],
   "source": [
    "df_meta['AVG'] = df.mean()\n",
    "\n",
    "graph = df_meta.hvplot.points(x='LON', y='LAT', c='AVG', \n",
    "                              hover_cols=['index', 'NAME', 'HEIGHT', 'AVG'], \n",
    "                              geo=True) \n",
    "graph = graph.options(width=600, height=600,  active_tools=['pan', 'wheel_zoom'])\n",
    "poly = gv.Polygons(gdf_riosan.to_crs(ccrs.GOOGLE_MERCATOR.proj4_init), crs=ccrs.GOOGLE_MERCATOR)\n",
    "graph * gv.tile_sources.StamenTerrain * poly.opts(color='black', fill_color=None, width=600, height=600)"
   ]
  },
  {
   "cell_type": "code",
   "execution_count": null,
   "metadata": {},
   "outputs": [],
   "source": []
  }
 ],
 "metadata": {
  "hide_input": false,
  "kernelspec": {
   "display_name": "Python 3",
   "language": "python",
   "name": "python3"
  },
  "language_info": {
   "codemirror_mode": {
    "name": "ipython",
    "version": 3
   },
   "file_extension": ".py",
   "mimetype": "text/x-python",
   "name": "python",
   "nbconvert_exporter": "python",
   "pygments_lexer": "ipython3",
   "version": "3.5.2"
  },
  "latex_envs": {
   "LaTeX_envs_menu_present": true,
   "autoclose": false,
   "autocomplete": true,
   "bibliofile": "biblio.bib",
   "cite_by": "apalike",
   "current_citInitial": 1,
   "eqLabelWithNumbers": true,
   "eqNumInitial": 1,
   "hotkeys": {
    "equation": "Ctrl-E",
    "itemize": "Ctrl-I"
   },
   "labels_anchors": false,
   "latex_user_defs": false,
   "report_style_numbering": false,
   "user_envs_cfg": false
  },
  "nbTranslate": {
   "displayLangs": [
    "*"
   ],
   "hotkey": "alt-t",
   "langInMainMenu": true,
   "sourceLang": "en",
   "targetLang": "fr",
   "useGoogleTranslate": true
  },
  "toc": {
   "base_numbering": 1,
   "nav_menu": {},
   "number_sections": false,
   "sideBar": true,
   "skip_h1_title": true,
   "title_cell": "Table of Contents",
   "title_sidebar": "Contents",
   "toc_cell": false,
   "toc_position": {},
   "toc_section_display": true,
   "toc_window_display": false
  }
 },
 "nbformat": 4,
 "nbformat_minor": 2
}
