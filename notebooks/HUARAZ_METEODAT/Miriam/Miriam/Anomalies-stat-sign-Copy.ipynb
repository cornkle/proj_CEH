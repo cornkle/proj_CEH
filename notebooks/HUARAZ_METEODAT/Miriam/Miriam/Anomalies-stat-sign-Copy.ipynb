{
 "cells": [
  {
   "cell_type": "code",
   "execution_count": 1,
   "metadata": {
    "collapsed": true
   },
   "outputs": [],
   "source": [
    "import xarray as xr\n",
    "import numpy as np\n",
    "import pandas as pd\n",
    "\n",
    "import salem\n",
    "import cleo\n",
    "import geopandas as gpd\n",
    "import shapely.geometry as shpg\n",
    "import matplotlib.pyplot as plt  \n",
    "import cartopy \n",
    "import cartopy.crs as ccrs\n",
    "from glob import glob\n",
    "from scipy import stats\n",
    "from scipy.stats import ttest_1samp, wilcoxon, ttest_ind, mannwhitneyu\n",
    "import itertools\n",
    "from itertools import combinations\n",
    "\n",
    "\n",
    "%matplotlib inline\n",
    "# Some defaults\n",
    "plt.rcParams['figure.figsize'] = (14, 5)  # Default plot size\n",
    "np.set_printoptions(threshold=20)  # avoid to print very large arrays on screen\n",
    "# The commands below are not important\n",
    "import warnings\n",
    "warnings.filterwarnings('ignore')"
   ]
  },
  {
   "cell_type": "code",
   "execution_count": 2,
   "metadata": {},
   "outputs": [],
   "source": [
    "# settings for plots for latex\n",
    "fig_width_pt = 345.0  # Get this from LaTeX using \\showthe\\columnwidth\n",
    "inches_per_pt = 1.0/72.27               # Convert pt to inches\n",
    "golden_mean = (np.sqrt(5)-1.0)/2.0         # Aesthetic ratio\n",
    "fig_width = fig_width_pt*inches_per_pt  # width in inches\n",
    "fig_height =fig_width*golden_mean       # height in inches\n",
    "fig_size = [fig_width,fig_height]"
   ]
  },
  {
   "cell_type": "code",
   "execution_count": 3,
   "metadata": {},
   "outputs": [],
   "source": [
    "ds_dry = xr.open_mfdataset('/home/miri/Dokumente/Master/MA/ERA-Interim and Spells/DrySpell.nc')\n",
    "ds_dry_sig = xr.open_mfdataset('/home/miri/Dokumente/Master/MA/ERA-Interim and Spells/Dry_Spell_std.nc')\n",
    "ds_wet = xr.open_mfdataset('/home/miri/Dokumente/Master/MA/ERA-Interim and Spells/WetSpell.nc')\n",
    "ds_wet_sig = xr.open_mfdataset('/home/miri/Dokumente/Master/MA/ERA-Interim and Spells/Wet_Spell_std.nc')\n",
    "\n",
    "ds = xr.open_dataset('/home/miri/Dokumente/Master/MA/Data/data_DJFM_mean.nc')\n",
    "dstd = xr.open_dataset('/home/miri/Dokumente/Master/MA/Data/data_DJFM_std.nc')\n",
    "ds_z = xr.open_dataset('/home/miri/Dokumente/Master/MA/Data/data_mmodm_INVARIANT_new.nc')\n",
    "\n",
    "plot_loc = ('/home/miri/Dokumente/Master/MA/Doc/Plots/Anomaly/')"
   ]
  },
  {
   "cell_type": "code",
   "execution_count": 4,
   "metadata": {
    "collapsed": true
   },
   "outputs": [],
   "source": [
    "shdf = salem.read_shapefile(salem.get_demo_file('world_borders.shp'))\n",
    "shdf = shdf.loc[shdf['CNTRY_NAME'].isin(['Peru','Brazil','Bolivia','Ecuador'])]  # GeoPandas' GeoDataFrame\n",
    "ds_sub = ds.salem.subset(shape=shdf, margin=2)  # add 2 grid points\n",
    "dstd_sub = dstd.salem.subset(shape=shdf, margin=2) \n",
    "# mask roi = region of interest\n",
    "#ds_sub = ds_sub.salem.roi(shape=shdf) #wird nur ROI betrachtet --> Maskierung der Region von Interesse\n"
   ]
  },
  {
   "cell_type": "code",
   "execution_count": 5,
   "metadata": {},
   "outputs": [],
   "source": [
    "# global parameters\n",
    "# length of dataset\n",
    "N_dry = 947 # Dry\n",
    "N_wet = 997 # Wet\n",
    "N_all = 4487\n",
    "\n",
    "# levels \n",
    "levels = [200, 500, 850]\n",
    "#levels2 = [700, 850]\n",
    "\n",
    "# selected latitude and longitude for the various seasons\n",
    "lon= -77.25\n",
    "lat= -9.75\n"
   ]
  },
  {
   "cell_type": "code",
   "execution_count": 6,
   "metadata": {
    "collapsed": true
   },
   "outputs": [],
   "source": [
    "# slice east, west, north, south boarders\n",
    "sliceE = lon+40*0.75\n",
    "sliceW = lon-25*0.75\n",
    "sliceN = lat +25*0.75\n",
    "sliceS = lat -18*0.75\n",
    "\n",
    "# slice east, west, north, south boarders\n",
    "sliceEZ = lon+20*0.75\n",
    "sliceWZ = lon-5*0.75\n",
    "sliceNZ = lat +10*0.75\n",
    "sliceSZ = lat -10*0.75\n",
    "\n",
    "sliceE_CS = lon+20*0.75\n",
    "sliceW_CS = lon-5*0.75\n",
    "sliceN_CS = lat +10*0.75\n",
    "sliceS_CS = lat -10*0.75"
   ]
  },
  {
   "cell_type": "code",
   "execution_count": 7,
   "metadata": {},
   "outputs": [],
   "source": [
    "height = levels\n",
    "height = list(map(int, height))\n",
    "level = list(map(int, ds.level))\n",
    "\n",
    "from collections import OrderedDict # ordered dictionaries for loops\n",
    "\n",
    "\n",
    "\n",
    "outdatam = OrderedDict()\n",
    "for h in height:\n",
    "    d = dict()\n",
    "    d['u_h'] = ds.u.sel(level=h)\n",
    "    d['v_h'] = ds.v.sel(level=h)\n",
    "    d['w_h'] = ds.w.sel(level=h)\n",
    "    d['z_h'] = ds.z.sel(level=h)\n",
    "    d['t_h'] = ds.t.sel(level=h)\n",
    "    d['r_h'] = ds.r.sel(level=h)\n",
    "    d['q_h'] = ds.q.sel(level=h)\n",
    "    outdatam[h] = d\n",
    "    \n",
    "# ordered dictionary for std ds\n",
    "outdatas = OrderedDict()\n",
    "for h in height:\n",
    "    d = dict()\n",
    "    d['u_h'] = dstd.u.sel(level=h)\n",
    "    d['v_h'] = dstd.v.sel(level=h)\n",
    "    d['w_h'] = dstd.w.sel(level=h)\n",
    "    d['z_h'] = dstd.z.sel(level=h)\n",
    "    d['t_h'] = dstd.t.sel(level=h)\n",
    "    d['r_h'] = dstd.r.sel(level=h)\n",
    "    d['q_h'] = dstd.q.sel(level=h)\n",
    "    outdatas[h] = d\n",
    "\n",
    "\n",
    "# ordered dictionary for dry ds\n",
    "drydata = OrderedDict()\n",
    "for h in height:\n",
    "    d = dict()\n",
    "    d['u_h'] = ds_dry.u.sel(level=h)\n",
    "    d['v_h'] = ds_dry.v.sel(level=h)\n",
    "    d['w_h'] = ds_dry.w.sel(level=h)\n",
    "    d['z_h'] = ds_dry.z.sel(level=h)\n",
    "    d['t_h'] = ds_dry.t.sel(level=h)\n",
    "    d['r_h'] = ds_dry.r.sel(level=h)\n",
    "    d['q_h'] = ds_dry.q.sel(level=h)\n",
    "    drydata[h] = d\n",
    "    \n",
    "    \n",
    "# ordered dictionary for wet ds\n",
    "wetdata = OrderedDict()\n",
    "for h in height:\n",
    "    d = dict()\n",
    "    d['u_h'] = ds_wet.u.sel(level=h)\n",
    "    d['v_h'] = ds_wet.v.sel(level=h)\n",
    "    d['w_h'] = ds_wet.w.sel(level=h)\n",
    "    d['z_h'] = ds_wet.z.sel(level=h)\n",
    "    d['t_h'] = ds_wet.t.sel(level=h)\n",
    "    d['r_h'] = ds_wet.r.sel(level=h)\n",
    "    d['q_h'] = ds_wet.q.sel(level=h)\n",
    "    wetdata[h] = d\n",
    "\n",
    "# ordered dictionary for dry ds\n",
    "drydata_sig = OrderedDict()\n",
    "for h in height:\n",
    "    d = dict()\n",
    "    d['u_h'] = ds_dry_sig.u.sel(level=h)\n",
    "    d['v_h'] = ds_dry_sig.v.sel(level=h)\n",
    "    d['w_h'] = ds_dry_sig.w.sel(level=h)\n",
    "    d['z_h'] = ds_dry_sig.z.sel(level=h)\n",
    "    d['t_h'] = ds_dry_sig.t.sel(level=h)\n",
    "    d['r_h'] = ds_dry_sig.r.sel(level=h)\n",
    "    d['q_h'] = ds_dry_sig.q.sel(level=h)\n",
    "    drydata_sig[h] = d\n",
    "    \n",
    "    \n",
    "# ordered dictionary for wet ds\n",
    "wetdata_sig = OrderedDict()\n",
    "for h in height:\n",
    "    d = dict()\n",
    "    d['u_h'] = ds_wet_sig.u.sel(level=h)\n",
    "    d['v_h'] = ds_wet_sig.v.sel(level=h)\n",
    "    d['w_h'] = ds_wet_sig.w.sel(level=h)\n",
    "    d['z_h'] = ds_wet_sig.z.sel(level=h)\n",
    "    d['t_h'] = ds_wet_sig.t.sel(level=h)\n",
    "    d['r_h'] = ds_wet_sig.r.sel(level=h)\n",
    "    d['q_h'] = ds_wet_sig.q.sel(level=h)\n",
    "    wetdata_sig[h] = d"
   ]
  },
  {
   "cell_type": "code",
   "execution_count": 42,
   "metadata": {
    "collapsed": true
   },
   "outputs": [],
   "source": [
    "def welch_t_test(mu1, s1, N1, mu2, s2, N2):\n",
    "    \"\"\"http://en.wikipedia.org/wiki/Welch%27s_t_test\"\"\"\n",
    "    \n",
    "    mu1 = np.asarray(mu1)\n",
    "    mu2 = np.asarray(mu2)\n",
    "    s1 = np.asarray(s1)\n",
    "    s2 = np.asarray(s2)\n",
    "    \n",
    "    if not np.allclose(mu1.shape, mu2.shape):\n",
    "        raise ValueError('mu1 and mu2 should have the same shape')\n",
    "    \n",
    "    if not np.allclose(s1.shape, s2.shape):\n",
    "        raise ValueError('s2 and s2 should have the same shape')\n",
    "    \n",
    "    if not mu1.shape:\n",
    "        # Construct arrays to make calculations more succint.\n",
    "        N_i = np.array([N1, N2])\n",
    "        dof_i = N_i - 1\n",
    "        v_i = np.array([s1, s2]) ** 2\n",
    "        # Calculate t-stat, degrees of freedom, use scipy to find p-value.\n",
    "        t = (mu1 - mu2) / np.sqrt(np.sum(v_i / N_i))\n",
    "        dof = (np.sum(v_i / N_i) ** 2) / np.sum((v_i ** 2) / ((N_i ** 2) * dof_i))\n",
    "        p = stats.distributions.t.sf(np.abs(t), dof) * 2\n",
    "        return t, p\n",
    "    else:\n",
    "        ps = []\n",
    "        ts = []\n",
    "        for _mu1, _s1, _mu2, _s2 in zip(mu1.flatten(), s1.flatten(), mu2.flatten(), s2.flatten()):\n",
    "            t, p = welch_t_test(_mu1, _s1,  N1, _mu2,_s2, N2)  \n",
    "            ps.append(p)\n",
    "            ts.append(t)\n",
    "        return np.asarray(ts).reshape(mu1.shape), np.asarray(ps).reshape(mu1.shape)"
   ]
  },
  {
   "cell_type": "code",
   "execution_count": 43,
   "metadata": {
    "collapsed": true
   },
   "outputs": [],
   "source": [
    "def fdr_threshold(pvalues, alpha=0.05):\n",
    "    \"\"\"Computes the FDR threshod after Wilks (2016).\"\"\"\n",
    "    p = np.sort(np.asarray(pvalues).flatten())\n",
    "    n = len(p)\n",
    "    return np.max(np.where(p <= (np.arange(1, n+1) / n * alpha), p, 0))"
   ]
  },
  {
   "cell_type": "code",
   "execution_count": 25,
   "metadata": {},
   "outputs": [],
   "source": [
    "lons, lats = ds.salem.grid.ll_coordinates  # np.meshgrid"
   ]
  },
  {
   "cell_type": "code",
   "execution_count": 44,
   "metadata": {},
   "outputs": [],
   "source": [
    "# welsh test u wind component\n",
    "# all levels\n",
    "dry_u = ds_dry.u\n",
    "dry_usig = ds_dry_sig.u\n",
    "wet_u = ds_wet.u\n",
    "wet_usig = ds_wet_sig.u\n",
    "clim_u = ds.u\n",
    "clim_usig = dstd.u\n",
    "\n",
    "out_u_dry = [] \n",
    "for mu1, s1, mu2, s2 in zip(dry_u, dry_usig, clim_u, clim_usig):\n",
    "    t_udry, p_udry = welch_t_test(mu1, s1, N_dry, mu2, s2, N_all)\n",
    "\n",
    "out_u_wet = [] \n",
    "for mu1, s1, mu2, s2 in zip(wet_u, wet_usig, clim_u, clim_usig):\n",
    "    t_uwet, p_uwet = welch_t_test(mu1, s1, N_wet, mu2, s2, N_all)\n",
    "    "
   ]
  },
  {
   "cell_type": "code",
   "execution_count": 49,
   "metadata": {},
   "outputs": [
    {
     "data": {
      "text/plain": [
       "(12, 68, 162)"
      ]
     },
     "execution_count": 49,
     "metadata": {},
     "output_type": "execute_result"
    }
   ],
   "source": [
    "dry_u.shape"
   ]
  },
  {
   "cell_type": "code",
   "execution_count": 46,
   "metadata": {},
   "outputs": [
    {
     "data": {
      "text/plain": [
       "(68, 162)"
      ]
     },
     "execution_count": 46,
     "metadata": {},
     "output_type": "execute_result"
    }
   ],
   "source": [
    "p_udry.shape"
   ]
  },
  {
   "cell_type": "code",
   "execution_count": 67,
   "metadata": {},
   "outputs": [],
   "source": [
    "\n",
    "\n",
    "\n",
    "dry_u = ds_dry.u\n",
    "dry_usig = ds_dry_sig.u\n",
    "wet_u = ds_wet.u\n",
    "wet_usig = ds_wet_sig.u\n",
    "clim_u = ds.u\n",
    "clim_usig = dstd.u\n",
    "\n",
    "out_u_dry = [] \n",
    "for mu1, s1, mu2, s2 in zip(dry_u, dry_usig, clim_u, clim_usig):\n",
    "    t_udry, p_udry = welch_t_test(mu1, s1, N_dry, mu2, s2, N_all)\n",
    "\n",
    "out_u_wet = [] \n",
    "for mu1, s1, mu2, s2 in zip(wet_u, wet_usig, clim_u, clim_usig):\n",
    "    t_uwet, p_uwet = welch_t_test(mu1, s1, N_wet, mu2, s2, N_all)\n",
    "\n",
    "    "
   ]
  },
  {
   "cell_type": "code",
   "execution_count": 71,
   "metadata": {},
   "outputs": [
    {
     "data": {
      "text/plain": [
       "(12, 68, 162)"
      ]
     },
     "execution_count": 71,
     "metadata": {},
     "output_type": "execute_result"
    }
   ],
   "source": [
    "dry_u.shape"
   ]
  },
  {
   "cell_type": "code",
   "execution_count": 69,
   "metadata": {},
   "outputs": [
    {
     "data": {
      "text/plain": [
       "<xarray.DataArray 'u' (latitude: 68, longitude: 162)>\n",
       "array([[-6.65993881, -6.52154255, -6.38559151, ..., -3.52422786,\n",
       "        -3.2020781 , -3.06937599],\n",
       "       [-6.95741224, -6.835711  , -6.69778872, ..., -3.79625797,\n",
       "        -3.45649719, -3.29211068],\n",
       "       [-7.20594645, -7.09165049, -6.9596324 , ..., -3.77786493,\n",
       "        -3.452106  , -3.36447883],\n",
       "       ..., \n",
       "       [-2.66413713, -2.65651417, -2.66010809, ..., -2.18486476,\n",
       "        -2.23656917, -2.31308746],\n",
       "       [-2.41791916, -2.40983224, -2.40652227, ..., -1.6215589 ,\n",
       "        -1.67721593, -1.75770438],\n",
       "       [-2.17435551, -2.16784883, -2.15592766, ..., -1.0886718 ,\n",
       "        -1.15179086, -1.20399833]], dtype=float32)\n",
       "Coordinates:\n",
       "  * longitude  (longitude) float32 -130.5 -129.75 -129.0 -128.25 -127.5 ...\n",
       "  * latitude   (latitude) float32 20.25 19.5 18.75 18.0 17.25 16.5 15.75 ...\n",
       "    level      int32 1000"
      ]
     },
     "execution_count": 69,
     "metadata": {},
     "output_type": "execute_result"
    }
   ],
   "source": [
    "mu1"
   ]
  },
  {
   "cell_type": "code",
   "execution_count": 72,
   "metadata": {},
   "outputs": [
    {
     "data": {
      "text/plain": [
       "(68, 162)"
      ]
     },
     "execution_count": 72,
     "metadata": {},
     "output_type": "execute_result"
    }
   ],
   "source": [
    "p_udry.shape"
   ]
  },
  {
   "cell_type": "code",
   "execution_count": 30,
   "metadata": {},
   "outputs": [],
   "source": [
    "# welsh test v wind component\n",
    "# all levels\n",
    "dry_v = ds_dry.v\n",
    "dry_vsig = ds_dry_sig.v\n",
    "wet_v = ds_wet.v\n",
    "wet_vsig = ds_wet_sig.v\n",
    "clim_v = ds.v\n",
    "clim_vsig = dstd.v\n",
    "\n",
    "out_v_dry = [] \n",
    "for mu1, s1, mu2, s2 in zip(dry_v.values, dry_vsig.values, clim_v.values, clim_vsig.values):\n",
    "    t_vdry, p_vdry = welch_t_test(mu1, s1, N_dry, mu2, s2, N_all)\n",
    "    \n",
    "\n",
    "out_v_wet = [] \n",
    "for mu1, s1, mu2, s2 in zip(wet_v, wet_vsig, clim_v, clim_vsig):\n",
    "    t_vwet, p_vwet = welch_t_test(mu1, s1, N_wet, mu2, s2, N_all)\n",
    "    "
   ]
  },
  {
   "cell_type": "code",
   "execution_count": 31,
   "metadata": {},
   "outputs": [
    {
     "data": {
      "text/plain": [
       "(68, 162)"
      ]
     },
     "execution_count": 31,
     "metadata": {},
     "output_type": "execute_result"
    }
   ],
   "source": [
    "mu1.shape"
   ]
  },
  {
   "cell_type": "code",
   "execution_count": 32,
   "metadata": {},
   "outputs": [
    {
     "data": {
      "text/plain": [
       "(12, 68, 162)"
      ]
     },
     "execution_count": 32,
     "metadata": {},
     "output_type": "execute_result"
    }
   ],
   "source": [
    "dry_v.shape"
   ]
  },
  {
   "cell_type": "code",
   "execution_count": 34,
   "metadata": {},
   "outputs": [
    {
     "data": {
      "text/plain": [
       "(68, 162)"
      ]
     },
     "execution_count": 34,
     "metadata": {},
     "output_type": "execute_result"
    }
   ],
   "source": [
    "p_vdry.shape"
   ]
  },
  {
   "cell_type": "code",
   "execution_count": null,
   "metadata": {
    "collapsed": true
   },
   "outputs": [],
   "source": []
  },
  {
   "cell_type": "code",
   "execution_count": null,
   "metadata": {
    "collapsed": true
   },
   "outputs": [],
   "source": []
  },
  {
   "cell_type": "code",
   "execution_count": null,
   "metadata": {
    "collapsed": true
   },
   "outputs": [],
   "source": []
  },
  {
   "cell_type": "code",
   "execution_count": null,
   "metadata": {
    "collapsed": true
   },
   "outputs": [],
   "source": []
  },
  {
   "cell_type": "code",
   "execution_count": null,
   "metadata": {
    "collapsed": true
   },
   "outputs": [],
   "source": []
  },
  {
   "cell_type": "code",
   "execution_count": null,
   "metadata": {
    "collapsed": true
   },
   "outputs": [],
   "source": []
  }
 ],
 "metadata": {
  "kernelspec": {
   "display_name": "Python 3",
   "language": "python",
   "name": "python3"
  },
  "language_info": {
   "codemirror_mode": {
    "name": "ipython",
    "version": 3
   },
   "file_extension": ".py",
   "mimetype": "text/x-python",
   "name": "python",
   "nbconvert_exporter": "python",
   "pygments_lexer": "ipython3",
   "version": "3.7.8"
  }
 },
 "nbformat": 4,
 "nbformat_minor": 1
}
