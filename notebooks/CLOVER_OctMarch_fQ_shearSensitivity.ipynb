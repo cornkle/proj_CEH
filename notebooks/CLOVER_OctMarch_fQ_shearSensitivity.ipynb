{
 "cells": [
  {
   "cell_type": "code",
   "execution_count": 2,
   "metadata": {},
   "outputs": [],
   "source": [
    "import numpy as np\n",
    "import matplotlib.pyplot as plt\n",
    "import cartopy.crs as ccrs\n",
    "import cartopy.feature as cfeature\n",
    "import cartopy\n",
    "import matplotlib.pylab as pylab\n",
    "import cartopy.feature as cfeature\n",
    "import scipy.stats as stats\n",
    "import xarray as xr\n",
    "import ipdb\n",
    "import glob\n",
    "import itertools\n",
    "import numpy.ma as ma\n",
    "from utils import u_statistics as u_stat, u_darrays\n",
    "from scipy.stats import gaussian_kde, binned_statistic\n",
    "import pickle as pkl\n",
    "from utils import u_plot as uplot, u_met\n",
    "import pandas as pd\n",
    "\n",
    "##for regridding, install xesmf:\n",
    "# conda install esmpy\n",
    "# pip install xesmf\n",
    "from utils import constants as cnst\n",
    "\n",
    "pylab.rcParams['figure.figsize'] = (50., 50.)\n",
    "%matplotlib inline"
   ]
  },
  {
   "cell_type": "code",
   "execution_count": 1,
   "metadata": {},
   "outputs": [
    {
     "name": "stdout",
     "output_type": "stream",
     "text": [
      "/home/ck/pythonWorkspace/proj_CEH\n"
     ]
    }
   ],
   "source": [
    "cd .."
   ]
  },
  {
   "cell_type": "code",
   "execution_count": 3,
   "metadata": {},
   "outputs": [],
   "source": [
    "OBS = pkl.load( open (cnst.CLOVER_SAVES + 'bulk_-40_zeroRain_gt5k_-40thresh_OBSera.p', 'rb'))"
   ]
  },
  {
   "cell_type": "code",
   "execution_count": 4,
   "metadata": {},
   "outputs": [
    {
     "name": "stdout",
     "output_type": "stream",
     "text": [
      "dict_keys(['tmin', 'p', 'month', 'pmax', 'u925', 'tmean', 'v650', 'w925', 'div925', 'div650', 't', 'q650', 'u650', 'area', 'w650', 'hour', 'pgt30', 'v925', 'year', 't650', 'shear', 'rh925', 'clon', 'pgt01isvalid', 'pv925', 't925', 'rh650', 'q925', 'pmean', 'pv650', 'clat', 'lon', 'lat'])\n"
     ]
    }
   ],
   "source": [
    "print(OBS.keys())"
   ]
  },
  {
   "cell_type": "code",
   "execution_count": 5,
   "metadata": {},
   "outputs": [],
   "source": [
    "dic = OBS\n",
    "\n",
    "pp = np.array(dic['pmax'])\n",
    "sh = np.array(dic['shear']) #np.array(dic['shear']) * (-1)\n",
    "umin = np.array(dic['u650'])\n",
    "umax = np.array(dic['u925'])\n",
    "qq = np.array(dic['q925']) \n",
    "rh = np.array(dic['rh925']) \n",
    "tt = np.array(dic['tmin'])\n",
    "ttm = np.array(dic['tmean'])\n",
    "month = np.array(dic['month'])\n",
    "area = np.array(dic['area'])\n",
    "lat = np.array(dic['clat'])\n",
    "lon = np.array(dic['clon'])\n",
    "\n",
    "obs_pcp = {\n",
    "    'prcp' : pp,\n",
    "    'u650' : umin,\n",
    "    'u925' : umax,\n",
    "    'q925' : qq*1000,\n",
    "    'rhtot' : rh,\n",
    "    'shear' : sh*-1,\n",
    "    'month' : month,\n",
    "    'area' : area*7.7**2,\n",
    "    'tmin' : tt,\n",
    "    'tmean' : ttm,\n",
    "    'lat' : lat,\n",
    "    'lon' : lon,\n",
    "} \n",
    "obs = pd.DataFrame(obs_pcp)"
   ]
  },
  {
   "cell_type": "code",
   "execution_count": 6,
   "metadata": {},
   "outputs": [],
   "source": [
    "def get_ERA(era, indic, clim=False):\n",
    "\n",
    "    dic = {}\n",
    "    dic['u925'] = []\n",
    "    dic['u650'] = []\n",
    "    dic['q925'] = []\n",
    "    dic['q700'] = []\n",
    "    dic['rh925'] = []\n",
    "    \n",
    "    for id, date in enumerate(indic.date):\n",
    "        \n",
    "        if clim == True:\n",
    "            getera =np.where((era['time.month']==indic.month[id]) & (era['time.year']==indic.year[id]))\n",
    "\n",
    "        else:\n",
    "            getera =np.where((era['time.day']==(indic['date'])[id].day) & (era['time.month']==indic.month[id]) & (era['time.year']==indic.year[id]))\n",
    "\n",
    "        try:\n",
    "            era_day = era.isel(time=int(getera[0]))\n",
    "        except TypeError:\n",
    "            print('Era missing')\n",
    "            for k in dic.keys():\n",
    "                dic[k].append(np.nan)\n",
    "\n",
    "            continue\n",
    "\n",
    "        elat = indic.clat[id]\n",
    "        elon = indic.clon[id]\n",
    "        dic['u925'].append(float(era_day['u'].sel(latitude=elat, longitude=elon, level=925, method='nearest').values))\n",
    "        dic['u650'].append(float(era_day['u'].sel(latitude=elat, longitude=elon, level=650, method='nearest').values))\n",
    "        dic['q925'].append(float(era_day['q'].sel(latitude=elat, longitude=elon, level=925, method='nearest').values))\n",
    "        dic['q700'].append(float(era_day['q'].sel(latitude=elat, longitude=elon, level=700, method='nearest').values))\n",
    "        dic['rh925'].append(float(era_day['r'].sel(latitude=elat, longitude=elon, level=925, method='nearest').values))\n",
    "\n",
    "    return dic"
   ]
  },
  {
   "cell_type": "code",
   "execution_count": 7,
   "metadata": {},
   "outputs": [],
   "source": [
    "pdf = pkl.load(open (cnst.CLOVER_SAVES + 'StormLoc_-50_5000km_WA.p', 'rb'))\n",
    "pdf = pdf.where((pdf.clat>=4.5) & (pdf.clat<=8.5) & (pdf.clon>=-12) & (pdf.clon<=12))\n",
    "pdf = pdf.dropna()\n",
    "\n",
    "ttg = np.array(pdf.tmin, dtype=float)\n",
    "ttm = np.array(pdf.tmean, dtype=float)\n",
    "month = pdf.month.values\n",
    "area = pdf.area.values\n",
    "area70 = np.array(pdf['70area'], dtype=int)\n",
    "lat = pdf.clat.values\n",
    "lon = pdf.clon.values"
   ]
  },
  {
   "cell_type": "code",
   "execution_count": 8,
   "metadata": {},
   "outputs": [],
   "source": [
    "era = xr.open_dataset(cnst.ERA_DAILY_PL12UTC)\n",
    "era = u_darrays.flip_lat(era)"
   ]
  },
  {
   "cell_type": "code",
   "execution_count": 9,
   "metadata": {},
   "outputs": [],
   "source": [
    "# era_out = get_ERA(era, pdf)\n",
    "# pkl.dump(era_out,open(cnst.CLOVER_SAVES + 'StormLoc_-50_5000km_WA_ERA_qhistogram.p', 'wb'))"
   ]
  },
  {
   "cell_type": "code",
   "execution_count": 52,
   "metadata": {},
   "outputs": [],
   "source": [
    "era_out = pkl.load( open (cnst.CLOVER_SAVES + 'StormLoc_-50_5000km_WA_ERA5_allmonth_2000-2014_18UTC_front.p', 'rb'))\n",
    "era_clim = pkl.load( open (cnst.CLOVER_SAVES + 'StormLoc_-50_5000km_WA_ERA5_allmonth_2000-2014_18UTC_front_CLIM.p', 'rb'))"
   ]
  },
  {
   "cell_type": "code",
   "execution_count": 53,
   "metadata": {},
   "outputs": [
    {
     "data": {
      "text/plain": [
       "dict_keys(['q_col', 'q_col_s', 'CAPE', 'u925', 'tmean', 'q925_s', 'tmin', 'u925_s', 'dates', 'level', 'area', 'u650', 'tcwv_s', 'u650_s', 'tcwv', 'u_col', 'q925', 'v_col_s', 'CAPE_s', 'v_col', 'q700_s', 'area70', 't10', 'u_col_s', 'r_col_s', 'r_col', 'lon', 'q700', 'lat'])"
      ]
     },
     "execution_count": 53,
     "metadata": {},
     "output_type": "execute_result"
    }
   ],
   "source": [
    "era_out.keys()"
   ]
  },
  {
   "cell_type": "code",
   "execution_count": 54,
   "metadata": {},
   "outputs": [],
   "source": [
    "def get_col(var):\n",
    "    vdic = {}\n",
    "    vdic['low'] = []\n",
    "    vdic['high'] = []\n",
    "    vdic['mean'] = []\n",
    "    for v in var:\n",
    "        \n",
    "        vdic['low'].append(v.flatten()[16])\n",
    "        vdic['high'].append(v.flatten()[9])\n",
    "        vdic['mean'].append(np.array(v).flatten().mean())        \n",
    "    return vdic\n",
    "    \n",
    "udic = get_col(era_out['u_col'])\n",
    "vdic = get_col(era_out['v_col'])\n",
    "ucdic = get_col(era_clim['u_col'])\n",
    "vcdic = get_col(era_clim['v_col'])\n",
    "\n",
    "ushear = (np.array(udic['high'])-np.array(udic['low'])) - (np.array(ucdic['high'])-np.array(ucdic['low']))\n",
    "vshear = (np.array(vdic['high'])-np.array(vdic['low'])) - (np.array(vcdic['high'])-np.array(vcdic['low']))\n",
    "\n",
    "shearss = u_met.u_v_to_ws_wd(ushear, vshear)"
   ]
  },
  {
   "cell_type": "code",
   "execution_count": 55,
   "metadata": {},
   "outputs": [],
   "source": [
    "e_u650 = np.array(era_out['u650'])  - np.array(era_clim['u650'])\n",
    "e_u925 = np.array(era_out['u925'])  - np.array(era_clim['u925'])\n",
    "e_q925 = np.array(era_out['q925']) - np.array(era_clim['q925'])\n",
    "e_q700 = np.array(era_out['q700']) - np.array(era_clim['q700'])"
   ]
  },
  {
   "cell_type": "code",
   "execution_count": 56,
   "metadata": {},
   "outputs": [],
   "source": [
    "era_out['month'] = []\n",
    "for d in era_out['dates']:\n",
    "    era_out['month'].append(d.month)"
   ]
  },
  {
   "cell_type": "code",
   "execution_count": 57,
   "metadata": {},
   "outputs": [
    {
     "data": {
      "text/plain": [
       "18878"
      ]
     },
     "execution_count": 57,
     "metadata": {},
     "output_type": "execute_result"
    }
   ],
   "source": [
    "len(era_out['month'])"
   ]
  },
  {
   "cell_type": "code",
   "execution_count": 58,
   "metadata": {},
   "outputs": [],
   "source": [
    "dic = {\n",
    "    'u650' : e_u650,\n",
    "    'u925' : e_u925,\n",
    "    'q925' : e_q925*1000,\n",
    "    'q700' : e_q700*1000,\n",
    "    'shear' : shearss[0],\n",
    "    'month' : era_out['month'],\n",
    "    'area' : np.array(era_out['area'])*7.7**2,\n",
    "    'tmin' : era_out['tmin'],\n",
    "    'tmean' : era_out['tmean'],\n",
    "    'lat' : era_out['lat'],\n",
    "    'lon' : era_out['lon'],\n",
    "} \n",
    "ds = pd.DataFrame(dic)"
   ]
  },
  {
   "cell_type": "code",
   "execution_count": 59,
   "metadata": {},
   "outputs": [
    {
     "data": {
      "text/plain": [
       "4921.070000000001"
      ]
     },
     "execution_count": 59,
     "metadata": {},
     "output_type": "execute_result"
    }
   ],
   "source": [
    "dic['area'].min()"
   ]
  },
  {
   "cell_type": "code",
   "execution_count": 60,
   "metadata": {},
   "outputs": [],
   "source": [
    "ds = ds.dropna()"
   ]
  },
  {
   "cell_type": "code",
   "execution_count": 61,
   "metadata": {},
   "outputs": [],
   "source": [
    "pos1 = (ds.month==3)  & (ds.u650<0) & (ds.area>=5000)\n",
    "pos2 = (ds.month==10)  & (ds.u650<0) & (ds.area>=5000)\n",
    "\n",
    "opos1 = (obs.month==3)  & (obs.u650<0) & (obs.area>=1000)\n",
    "opos2 = (obs.month==10)  & (obs.u650<0) & (obs.area>=1000)"
   ]
  },
  {
   "cell_type": "code",
   "execution_count": 62,
   "metadata": {},
   "outputs": [],
   "source": [
    "oposi = (obs.u650<0) & (obs.area>=5000) & (obs.prcp>=1) & ((obs.month>=9) | (obs.month<=5))"
   ]
  },
  {
   "cell_type": "code",
   "execution_count": 63,
   "metadata": {},
   "outputs": [],
   "source": [
    "ds_march = ds[pos1]\n",
    "ds_oct = ds[pos2]\n",
    "obs_march = obs[opos1]\n",
    "obs_oct = obs[opos2]"
   ]
  },
  {
   "cell_type": "code",
   "execution_count": 64,
   "metadata": {},
   "outputs": [],
   "source": [
    "obsp = obs[oposi]"
   ]
  },
  {
   "cell_type": "code",
   "execution_count": 65,
   "metadata": {},
   "outputs": [
    {
     "data": {
      "text/plain": [
       "<matplotlib.collections.PathCollection at 0x7f3bb82a9320>"
      ]
     },
     "execution_count": 65,
     "metadata": {},
     "output_type": "execute_result"
    },
    {
     "data": {
      "image/png": "[encoded data removed]",
      "text/plain": [
       "<Figure size 432x288 with 2 Axes>"
      ]
     },
     "metadata": {
      "needs_background": "light"
     },
     "output_type": "display_data"
    }
   ],
   "source": [
    "f = plt.figure()\n",
    "ax = f.add_subplot(121)\n",
    "plt.scatter(obs_oct.rhtot, obs_oct.prcp)\n",
    "#plt.xlim(0,150)\n",
    "\n",
    "ax = f.add_subplot(122)\n",
    "plt.scatter(obs_march.rhtot, obs_march.prcp)\n",
    "#plt.xlim(0,150)\n",
    "#ax.set_ylim(0,130)"
   ]
  },
  {
   "cell_type": "code",
   "execution_count": 66,
   "metadata": {},
   "outputs": [
    {
     "data": {
      "text/plain": [
       "(array([ 9.,  5., 10., 12.,  9., 19.,  7., 10.,  5.,  6.,  3.,  3.,  0.,\n",
       "         1.,  0.,  3.,  3.,  1.,  0.,  0.,  0.,  1.,  0.,  0.,  0.,  0.,\n",
       "         0.,  0.,  0.,  0.]),\n",
       " array([ 10.        ,  14.66666667,  19.33333333,  24.        ,\n",
       "         28.66666667,  33.33333333,  38.        ,  42.66666667,\n",
       "         47.33333333,  52.        ,  56.66666667,  61.33333333,\n",
       "         66.        ,  70.66666667,  75.33333333,  80.        ,\n",
       "         84.66666667,  89.33333333,  94.        ,  98.66666667,\n",
       "        103.33333333, 108.        , 112.66666667, 117.33333333,\n",
       "        122.        , 126.66666667, 131.33333333, 136.        ,\n",
       "        140.66666667, 145.33333333, 150.        ]),\n",
       " <a list of 30 Patch objects>)"
      ]
     },
     "execution_count": 66,
     "metadata": {},
     "output_type": "execute_result"
    },
    {
     "data": {
      "image/png": "[encoded data removed]",
      "text/plain": [
       "<Figure size 432x288 with 1 Axes>"
      ]
     },
     "metadata": {
      "needs_background": "light"
     },
     "output_type": "display_data"
    }
   ],
   "source": [
    "plt.hist(obs_oct.prcp, bins=30, range=(10,150))\n",
    "plt.hist(obs_march.prcp, bins=30, range=(10,150))"
   ]
  },
  {
   "cell_type": "code",
   "execution_count": 67,
   "metadata": {},
   "outputs": [
    {
     "name": "stdout",
     "output_type": "stream",
     "text": [
      "59.906640237483174\n",
      "68.74397024805508\n"
     ]
    }
   ],
   "source": [
    "print(np.percentile(obs_march.prcp,90))\n",
    "print(np.percentile(obs_oct.prcp,90))"
   ]
  },
  {
   "cell_type": "code",
   "execution_count": 68,
   "metadata": {},
   "outputs": [],
   "source": [
    "#March oct test\n",
    "inputs = ds\n",
    "pos_march = (inputs.month==3)  & (inputs.u650<0) & (inputs.area>=5000) #& (ds.q925>=12.5)\n",
    "pos_oct = (inputs.month==10)  & (inputs.u650<0) & (inputs.area>=5000)\n",
    "dss_march = inputs[pos_march]\n",
    "dss_oct = inputs[pos_oct]"
   ]
  },
  {
   "cell_type": "code",
   "execution_count": 69,
   "metadata": {},
   "outputs": [
    {
     "data": {
      "text/plain": [
       "(array([  3.,   9.,  52., 213., 516., 499., 199.,  54.,   8.,   2.]),\n",
       " array([-2.81112175, -2.2145153 , -1.61790885, -1.0213024 , -0.42469595,\n",
       "         0.17191051,  0.76851696,  1.36512341,  1.96172986,  2.55833631,\n",
       "         3.15494277]),\n",
       " <a list of 10 Patch objects>)"
      ]
     },
     "execution_count": 69,
     "metadata": {},
     "output_type": "execute_result"
    },
    {
     "data": {
      "image/png": "[encoded data removed]",
      "text/plain": [
       "<Figure size 432x288 with 1 Axes>"
      ]
     },
     "metadata": {
      "needs_background": "light"
     },
     "output_type": "display_data"
    }
   ],
   "source": [
    "plt.hist(dss_march.q925)\n",
    "plt.hist(dss_oct.q925)"
   ]
  },
  {
   "cell_type": "code",
   "execution_count": 70,
   "metadata": {},
   "outputs": [
    {
     "data": {
      "text/plain": [
       "854      6.685332\n",
       "855      5.205241\n",
       "856      5.462972\n",
       "857      4.019753\n",
       "864      9.468341\n",
       "867      3.229138\n",
       "868      2.376202\n",
       "869      2.145891\n",
       "870      3.975778\n",
       "871      5.541834\n",
       "874      4.040791\n",
       "878      1.853748\n",
       "880      3.754888\n",
       "881      4.849446\n",
       "882      1.832489\n",
       "901      4.435464\n",
       "902      6.265232\n",
       "906      4.105950\n",
       "907      2.209949\n",
       "910      4.013220\n",
       "912      4.899977\n",
       "913      5.228184\n",
       "914      5.863323\n",
       "916      8.559269\n",
       "917      4.372503\n",
       "919      4.424703\n",
       "922      6.492866\n",
       "923      3.708715\n",
       "924      5.889800\n",
       "927      6.879925\n",
       "           ...   \n",
       "18672    2.586651\n",
       "18673    4.909940\n",
       "18675    5.854661\n",
       "18676    4.814132\n",
       "18677    5.289323\n",
       "18678    7.997410\n",
       "18679    6.589296\n",
       "18680    5.716139\n",
       "18681    4.163824\n",
       "18682    5.349176\n",
       "18683    3.383643\n",
       "18684    4.089108\n",
       "18685    7.636221\n",
       "18686    5.508180\n",
       "18687    3.962391\n",
       "18688    6.244519\n",
       "18689    4.270598\n",
       "18690    7.786901\n",
       "18691    4.340700\n",
       "18692    3.377458\n",
       "18693    2.163176\n",
       "18694    5.356584\n",
       "18695    8.420298\n",
       "18696    2.351388\n",
       "18697    5.531024\n",
       "18698    0.621730\n",
       "18699    5.463589\n",
       "18700    6.536620\n",
       "18701    5.282963\n",
       "18705    2.470073\n",
       "Name: shear, Length: 1555, dtype: float32"
      ]
     },
     "execution_count": 70,
     "metadata": {},
     "output_type": "execute_result"
    }
   ],
   "source": [
    "dss_oct.shear"
   ]
  },
  {
   "cell_type": "code",
   "execution_count": 71,
   "metadata": {
    "scrolled": false
   },
   "outputs": [
    {
     "name": "stdout",
     "output_type": "stream",
     "text": [
      "BinnedStatisticResult(statistic=array([  0.,   1.,   5.,   9.,  50., 179., 372., 474., 307., 122.,  28.,\n",
      "         6.,   1.,   1.,   0.,   0.,   0.]), bin_edges=array([-3.5, -3. , -2.5, -2. , -1.5, -1. , -0.5,  0. ,  0.5,  1. ,  1.5,\n",
      "        2. ,  2.5,  3. ,  3.5,  4. ,  4.5,  5. ]), binnumber=array([ 6,  5,  5, ...,  8, 10,  8]))\n",
      "BinnedStatisticResult(statistic=array([  0.,   1.,   1.,   9.,  14.,  80., 147., 219., 252., 188., 108.,\n",
      "        58.,  31.,  14.,   9.,   4.,   2.]), bin_edges=array([-3.5, -3. , -2.5, -2. , -1.5, -1. , -0.5,  0. ,  0.5,  1. ,  1.5,\n",
      "        2. ,  2.5,  3. ,  3.5,  4. ,  4.5,  5. ]), binnumber=array([ 7,  6,  9, ...,  7, 12,  8]))\n"
     ]
    },
    {
     "name": "stderr",
     "output_type": "stream",
     "text": [
      "/home/ck/miniconda3/lib/python3.5/site-packages/scipy/stats/_binned_statistic.py:607: FutureWarning: Using a non-tuple sequence for multidimensional indexing is deprecated; use `arr[tuple(seq)]` instead of `arr[seq]`. In the future this will be interpreted as an array index, `arr[np.array(seq)]`, which will result either in an error or a different result.\n",
      "  result = result[core]\n"
     ]
    },
    {
     "data": {
      "text/plain": [
       "Text(0, 0.5, 'Storm average Tmin')"
      ]
     },
     "execution_count": 71,
     "metadata": {},
     "output_type": "execute_result"
    },
    {
     "data": {
      "image/png": "[encoded data removed]",
      "text/plain": [
       "<Figure size 600x1000 with 3 Axes>"
      ]
     },
     "metadata": {
      "needs_background": "light"
     },
     "output_type": "display_data"
    }
   ],
   "source": [
    "f = plt.figure(figsize=(6,10), dpi=100)\n",
    "ax = f.add_subplot(211)\n",
    "\n",
    "Ho = binned_statistic(dss_oct.q925, dss_oct.q925,bins=np.arange(-3.5,5.5,0.5),statistic='count')#plt.hist(dss_oct.q925, label='October', bins=12, range=(-4,5))\n",
    "#std = binned_statistic(dss_oct.q925, dss_oct.q925, bins=12, statistic='std')\n",
    "\n",
    "\n",
    "bins = Ho[1]\n",
    "binmid = bins[1::]-((bins[1::]-bins[0:-1])/2)\n",
    "#Ho = plt.hist(dss_oct.q925, label='October', alpha=0.8, bins=12, range=(-4,5))\n",
    "plt.bar(binmid, Ho[0]/np.sum(Ho[0]),  color='lightblue', ecolor='black', edgecolor='k', width=0.5, label='October')\n",
    "#ipdb.set_trace()\n",
    "\n",
    "print(Ho)\n",
    "#plt.vlines(15.048924, 0, 1900, 'b', linestyle='dashed')\n",
    "shears_oct = []\n",
    "tmin_oct = []\n",
    "\n",
    "for ids, qs in enumerate(bins[0:-2]):\n",
    "    pos = (dss_oct.q925>=qs) & (dss_oct.q925<bins[ids+1])\n",
    "    pick = dss_oct.where(pos)\n",
    "   \n",
    "    shears_oct.append(np.mean(pick.shear))\n",
    "    tmin_oct.append(np.mean(pick.tmin))\n",
    "\n",
    "\n",
    "Hm = binned_statistic(dss_march.q925, dss_march.q925, statistic='count', bins=np.arange(-3.5,5.5,0.5))#plt.hist(dss_oct.q925, label='October', bins=12, range=(-4,5))\n",
    "#std = binned_statistic(dss_march.q925, dss_march.q925, bins=12, statistic='std')\n",
    "\n",
    "\n",
    "print(Hm)\n",
    "#plt.vlines(15.146461,0, 1900,'r', linestyle='dashed')\n",
    "bins = Hm[1]\n",
    "binmid = bins[1::]-((bins[1::]-bins[0:-1])/2)\n",
    "plt.bar(binmid, Hm[0]/np.sum(Hm[0]),  color='navajowhite', ecolor='black', edgecolor='k', width=0.5, alpha=0.5, label='March')\n",
    "\n",
    "shears_march = []\n",
    "tmin_march = []\n",
    "for ids, qs in enumerate(bins[0:-2]):\n",
    "    pos = (dss_march.q925>=qs) & (dss_march.q925<bins[ids+2])\n",
    "    pick = dss_march.where(pos)\n",
    "    shears_march.append(np.mean(pick.shear))\n",
    "    tmin_march.append(np.mean(pick.tmin))\n",
    "    \n",
    "\n",
    "ax1 = ax.twinx()\n",
    "\n",
    "ax1.plot(binmid[0:-1],shears_oct, 'bo') \n",
    "ax1.plot(binmid[0:-1],shears_march, 'ro')\n",
    "\n",
    "\n",
    "ax.set_ylabel('Number of storms')\n",
    "plt.title('Dashed: avg. q925, bars: pre-storm q925, dots: shear')\n",
    "ax.legend(loc='upper left')\n",
    "\n",
    "\n",
    "ax = f.add_subplot(212)\n",
    "plt.title('Min. storm temperature')\n",
    "plt.bar(binmid[0:-1],tmin_oct, align='center', zorder=9, edgecolor='k', alpha=0.5, width=0.5)\n",
    "plt.bar(binmid[0:-1],tmin_march, alpha=0.8, align='center', width=0.5)\n",
    "ax.set_xlabel('q925hPa (g kg$^-1$)')\n",
    "plt.ylim(-90,-70)\n",
    "plt.ylabel('Storm average Tmin')\n",
    "\n",
    "#plt.savefig(cnst.network_data + 'figs/barplot_storm_avgQ.jpg')"
   ]
  },
  {
   "cell_type": "code",
   "execution_count": null,
   "metadata": {},
   "outputs": [],
   "source": [
    "f = plt.figure(figsize=(6,10), dpi=100)\n",
    "ax = f.add_subplot(211)\n",
    "\n",
    "Ho = plt.hist(dss_oct.q925, label='October', bins=10, range=(40,100))\n",
    "bins = Ho[1]\n",
    "binmid = bins[1::]-((bins[1::]-bins[0:-1])/2)\n",
    "print(Ho)\n",
    "#plt.vlines(15.048924, 0, 1900, 'b', linestyle='dashed')\n",
    "shears_oct = []\n",
    "tmin_oct = []\n",
    "for ids, qs in enumerate(bins[0:-1]):\n",
    "    pos = (dss_oct.q925>=qs) & (dss_oct.q925<bins[ids+1])\n",
    "    pick = dss_oct.where(pos)\n",
    "    shears_oct.append(np.mean(pick.u650))\n",
    "    tmin_oct.append(np.mean(pick.tmin))\n",
    "print(shears_oct)\n",
    "  \n",
    "Hm = plt.hist(dss_march.q925, label='March', alpha=0.8, bins=10, range=(40,100))\n",
    "print(Hm)\n",
    "#plt.vlines(15.146461,0, 1900,'r', linestyle='dashed')\n",
    "bins = Hm[1]\n",
    "binmid = bins[1::]-((bins[1::]-bins[0:-1])/2)\n",
    "shears_march = []\n",
    "tmin_march = []\n",
    "for ids, qs in enumerate(bins[0:-1]):\n",
    "    pos = (dss_march.q925>=qs) & (dss_march.q925<bins[ids+1])\n",
    "    pick = dss_march.where(pos)\n",
    "    \n",
    "    shears_march.append(np.mean(pick.u650))\n",
    "    tmin_march.append(np.mean(pick.tmin))\n",
    "\n",
    "ax1 = ax.twinx()\n",
    "ax1.plot(binmid,shears_oct, 'bo') \n",
    "ax1.plot(binmid,shears_march, 'ro')\n",
    "\n",
    "\n",
    "plt.ylabel('Number of storms')\n",
    "plt.title('Dashed: avg. q925, bars: pre-storm q925, dots: shear')\n",
    "ax.legend(loc='upper left')\n",
    "\n",
    "\n",
    "ax = f.add_subplot(212)\n",
    "plt.title('Min. storm temperature')\n",
    "plt.bar(binmid,tmin_oct, align='center', zorder=9, edgecolor='k', alpha=0.5)\n",
    "plt.bar(binmid,tmin_march, alpha=0.8, align='center')\n",
    "ax.set_xlabel('q925hPa (g kg$^-1$)')\n",
    "plt.ylim(-83,-60)\n",
    "plt.ylabel('Storm average Tmin')\n"
   ]
  },
  {
   "cell_type": "code",
   "execution_count": null,
   "metadata": {},
   "outputs": [],
   "source": [
    "plt.hist(dss_oct.qtot, label='October', bins=10)\n",
    "#plt.vlines(15.048924, 0, 3000, 'b', linestyle='dashed')\n",
    "\n",
    "plt.hist(dss_march.qtot, label='March', alpha=0.8, bins=10)\n",
    "#plt.vlines(15.146461,0, 3000,'r', linestyle='dashed')\n",
    "plt.xlabel('q925hPa (g kg$^-1$)')\n",
    "plt.ylabel('Number of storms')\n",
    "plt.title('Dashed lines: average q925, bars: pre-storm q925')\n",
    "plt.legend()"
   ]
  },
  {
   "cell_type": "code",
   "execution_count": null,
   "metadata": {},
   "outputs": [],
   "source": [
    "def density_plot(v1,v2):\n",
    "    xy = np.vstack([v1, v2])\n",
    "    z = gaussian_kde(xy)(xy)\n",
    "    data = z / (z.max() - z.min())\n",
    "\n",
    "    r = stats.pearsonr(v1,v2)\n",
    "    print('pears', stats.pearsonr(v1,v2))\n",
    "    \n",
    "    return data, r\n",
    "\n",
    "fig = plt.figure(figsize=(15, 5), dpi=100)\n",
    "cc=11\n",
    "\n",
    "\n",
    "data1, r1 = density_plot(dss_march.q925, dss_march.u925)\n",
    "\n",
    "ax1 = fig.add_subplot(121)\n",
    "mappable = ax1.scatter(dss_march.q925, dss_march.u925, c=data1, edgecolor='', cmap='viridis_r', s=20) # viridis_r\n",
    "#plt.xlim(12,19)\n",
    "ax1.set_ylabel('Shear')\n",
    "ax1.set_xlabel('q925hPa')\n",
    "ax1.set_title('P-corr. q/shear'+str(np.round(r1[0], decimals=2)), fontsize=cc)\n",
    "ax1.tick_params(direction='in')\n",
    "cbar = fig.colorbar(mappable)\n",
    "cbar.set_label('Density')\n",
    "\n",
    "data1, r1 = density_plot(dss_oct.q925, dss_oct.u925)\n",
    "\n",
    "ax1 = fig.add_subplot(122)\n",
    "mappable = ax1.scatter(dss_oct.q925, dss_oct.u925, c=data1, edgecolor='', cmap='viridis_r', s=20) # viridis_r\n",
    "#plt.xlim(12,19)\n",
    "ax1.set_ylabel('Shear')\n",
    "ax1.set_xlabel('q925hPa')\n",
    "ax1.set_title('P-corr. q/shear'+str(np.round(r1[0], decimals=2)), fontsize=cc)\n",
    "ax1.tick_params(direction='in')\n",
    "cbar = fig.colorbar(mappable)\n",
    "cbar.set_label('Density')\n"
   ]
  },
  {
   "cell_type": "code",
   "execution_count": null,
   "metadata": {},
   "outputs": [],
   "source": [
    "plt.figure()\n",
    "plt.scatter(dss_oct.q925,dss_oct.shear)\n",
    "plt.xlim(12,19)\n",
    "plt.figure()\n",
    "plt.xlim(12,19)\n",
    "plt.scatter(dss_march.q925,dss_march.shear, alpha=0.5)"
   ]
  },
  {
   "cell_type": "code",
   "execution_count": null,
   "metadata": {},
   "outputs": [],
   "source": [
    "def density_plot(v1,v2,v3):\n",
    "    xy = np.vstack([v1, v2])\n",
    "    z = gaussian_kde(xy)(xy)\n",
    "    data = z / (z.max() - z.min())\n",
    "\n",
    "    r = u_stat.pcor(v1,v2,v3)\n",
    "    print('pears', stats.pearsonr(v1,v2))\n",
    "    \n",
    "    return data, r"
   ]
  },
  {
   "cell_type": "code",
   "execution_count": null,
   "metadata": {},
   "outputs": [],
   "source": [
    "print('Mean storm q, oct', np.mean(ds_oct.q925))\n",
    "print('Mean storm q, march', np.mean(ds_march.q925))"
   ]
  },
  {
   "cell_type": "code",
   "execution_count": null,
   "metadata": {},
   "outputs": [],
   "source": [
    "dsperc_mar, dsp_mar, dsarea_mar, dsval_mar = create_2dhist(ds_march, shearb_march, qbinsb_march)\n",
    "dsperc_oct, dsp_oct, dsarea_oct, dsval_oct = create_2dhist(ds_oct, shearb_oct, qbinsb_oct)"
   ]
  },
  {
   "cell_type": "code",
   "execution_count": null,
   "metadata": {},
   "outputs": [],
   "source": [
    "cp4perc_mar, cp4pr_mar, cp4area_mar, cp4val_mar = create_2dhist(cp4_march, shearc_march, qbinsc_march)\n",
    "cp4perc_oct, cp4pr_oct, cp4area_oct, cp4val_oct = create_2dhist(cp4_oct, shearc_oct, qbinsc_oct)"
   ]
  },
  {
   "cell_type": "code",
   "execution_count": null,
   "metadata": {},
   "outputs": [],
   "source": [
    "cp25perc_mar, pc25pr_mar, cp25area_mar, cp25val_mar = create_2dhist(cp25_march, shear25_march, qbinsc25_march)\n",
    "cp25perc_oct, pc25pr_oct, cp25area_oct, cp25val_oct = create_2dhist(cp25_oct, shear25_oct, qbinsc25_oct)"
   ]
  },
  {
   "cell_type": "code",
   "execution_count": null,
   "metadata": {},
   "outputs": [],
   "source": [
    "cpobsperc, pcobs, obsarea, obsval = create_2dhist_rh(obsp, shear_obsp, qbinso)\n",
    "cp4perc, pc4, cp4area, cp4val = create_2dhist(cp4p, shear_cp4p, qbinsc)\n",
    "cp25perc, pc25, cp25area, cp25val = create_2dhist(cp25p, shear_cp25p, qbinsc25)"
   ]
  },
  {
   "cell_type": "code",
   "execution_count": null,
   "metadata": {},
   "outputs": [],
   "source": [
    "pcobs.shape"
   ]
  },
  {
   "cell_type": "code",
   "execution_count": null,
   "metadata": {},
   "outputs": [],
   "source": [
    "print(ds_march.shear.mean())\n",
    "print(ds_march.q925.mean())"
   ]
  },
  {
   "cell_type": "code",
   "execution_count": null,
   "metadata": {},
   "outputs": [],
   "source": [
    "print(ds_oct.shear.mean())\n",
    "print(ds_oct.q925.mean())"
   ]
  },
  {
   "cell_type": "code",
   "execution_count": null,
   "metadata": {},
   "outputs": [],
   "source": []
  },
  {
   "cell_type": "code",
   "execution_count": null,
   "metadata": {},
   "outputs": [],
   "source": []
  }
 ],
 "metadata": {
  "kernelspec": {
   "display_name": "Python 3",
   "language": "python",
   "name": "python3"
  },
  "language_info": {
   "codemirror_mode": {
    "name": "ipython",
    "version": 3
   },
   "file_extension": ".py",
   "mimetype": "text/x-python",
   "name": "python",
   "nbconvert_exporter": "python",
   "pygments_lexer": "ipython3",
   "version": "3.5.5"
  }
 },
 "nbformat": 4,
 "nbformat_minor": 2
}
