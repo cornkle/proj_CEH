{
 "cells": [
  {
   "cell_type": "code",
   "execution_count": 1,
   "id": "64b57e3c-4b37-43e4-8dd8-ac5c4cd550d9",
   "metadata": {},
   "outputs": [],
   "source": [
    "#from user_functions import *\n",
    "import xarray as xr\n",
    "import pandas as pd\n",
    "import cartopy.geodesic as cgeo\n",
    "\n",
    "import scipy.stats as stats\n",
    "import numpy as np\n",
    "import matplotlib.pyplot as plt\n",
    "import glob\n",
    "import pdb"
   ]
  },
  {
   "cell_type": "code",
   "execution_count": 22,
   "id": "484b3438-fd99-475e-aa60-88875b0cddd6",
   "metadata": {},
   "outputs": [],
   "source": [
    "#function to read the raw tracker output (.txt files) and extract data into pd DataFrame rows. \n",
    "def get_track_info_orig(period,sim,stamp,hour,sql=50):\n",
    "    #Reads from IMAGES_DIR (l108) in wrapper.py. File format set by tracker algorithm.\n",
    "    with open(\"/gws/nopw/j04/lmcs/MCSMIP/simple-track_outputs/DYAMOND_{}/{}/history_S{}_T241_A10_{}.txt\".format(period,sim.upper(),sql,stamp),\"r\") as data_file:\n",
    "        storm_ids,areas,cx_vals,cy_vals,dx_vals,dy_vals=[],[],[],[],[],[]\n",
    "        for line in data_file:\n",
    "            data = line.split()\n",
    "            if len(data) > 5:\n",
    "                storm_ids.append(int(data[1]))\n",
    "                areas.append(int([d for d in data if d.startswith('area=')][0].replace('area=','')))\n",
    "                cx_vals.append(float([d for d in data if d.startswith('centroid=')][0].replace('centroid=','').split(',')[0]))\n",
    "                cy_vals.append(float([d for d in data if d.startswith('centroid=')][0].replace('centroid=','').split(',')[1]))\n",
    "                #Multiplication factor converts rawstorm speeds from pixels/timestep -> km/h:\n",
    "                dx_vals.append(11*float([d for d in data if d.startswith('dx=')][0].replace('dx=','')))\n",
    "                dy_vals.append(11*float([d for d in data if d.startswith('dy=')][0].replace('dy=','')))\n",
    "    \n",
    "    storm_data=pd.DataFrame(np.column_stack([areas,cx_vals,cy_vals,dx_vals,dy_vals]),index=storm_ids,columns=[\n",
    "                            \"area_{:02d}\".format(hour),\"clon_idx_{:02d}\".format(hour),\"clat_idx_{:02d}\".format(hour),\"PSu_{:02d}\".format(hour),\"PSv_{:02d}\".format(hour)])\n",
    "    storm_data.index=storm_data.index.rename(\"storm\")\n",
    "\n",
    "    pdb.set_trace()\n",
    "    storm_data[[\"clon_idx_{:02d}\".format(hour),\"clat_idx_{:02d}\".format(hour)]]=np.round(storm_data[[\"clon_idx_{:02d}\".format(hour),\"clat_idx_{:02d}\".format(hour)]])\n",
    "\n",
    "    pdb.set_trace()\n",
    "    \n",
    "    return storm_data.sort_index()"
   ]
  },
  {
   "cell_type": "code",
   "execution_count": 25,
   "id": "b39fe7a0-507f-4ce2-96ca-84ad2c002f11",
   "metadata": {},
   "outputs": [],
   "source": [
    "#function to read the raw tracker output (.txt files) and extract data into pd DataFrame rows. \n",
    "def get_track_info(period,sim,stamp,hour,sql=50):\n",
    "    #Reads from IMAGES_DIR (l108) in wrapper.py. File format set by tracker algorithm.\n",
    "    with open(\"/gws/nopw/j04/lmcs/MCSMIP/simple-track_outputs/DYAMOND_{}/{}/history_S{}_T241_A10_{}.txt\".format(period,sim.upper(),sql,stamp),\"r\") as data_file:\n",
    "        storm_ids,areas,cx_vals,cy_vals,dx_vals,dy_vals,meanv,extreme,date=[],[],[],[],[],[],[],[],[]\n",
    "        \n",
    "        for line in data_file:\n",
    "            data = line.split()\n",
    "            if len(data) > 5:\n",
    "                storm_ids.append(int(data[1]))\n",
    "                areas.append(int([d for d in data if d.startswith('area=')][0].replace('area=','')))\n",
    "                cx_vals.append(float([d for d in data if d.startswith('centroid=')][0].replace('centroid=','').split(',')[0])) # centre point\n",
    "                cy_vals.append(float([d for d in data if d.startswith('centroid=')][0].replace('centroid=','').split(',')[1]))\n",
    "                #Multiplication factor converts rawstorm speeds from pixels/timestep -> km/h:\n",
    "                dx_vals.append(11*float([d for d in data if d.startswith('dx=')][0].replace('dx=','')))  # the velocity of this storm at this timestep as determined from pattern correlation\n",
    "                dy_vals.append(11*float([d for d in data if d.startswith('dy=')][0].replace('dy=','')))\n",
    "                meanv.append(float([d for d in data if d.startswith('meanv=')][0].replace('meanv=','')))\n",
    "                extreme.append(float([d for d in data if d.startswith('extreme=')][0].replace('extreme=','')))\n",
    "                date.append(stamp)\n",
    "    storm_data=pd.DataFrame(np.column_stack([areas,cx_vals,cy_vals,dx_vals,dy_vals, meanv, extreme,date]),index=storm_ids,columns=[\n",
    "                            \"area_{:02d}\".format(hour),\"clon_idx_{:02d}\".format(hour),\"clat_idx_{:02d}\".format(hour),\"PSu_{:02d}\".format(hour),\"PSv_{:02d}\".format(hour), \n",
    "        \"vmean_{:02d}\".format(hour), \"extreme_{:02d}\".format(hour), \"date_{:02d}\".format(hour)])\n",
    "    storm_data.index=storm_data.index.rename(\"storm\")\n",
    "\n",
    "    pdb.set_trace()\n",
    "    storm_data[[\"clon_idx_{:02d}\".format(hour),\"clat_idx_{:02d}\".format(hour)]]=np.round(storm_data[[\"clon_idx_{:02d}\".format(hour),\"clat_idx_{:02d}\".format(hour)]])\n",
    "\n",
    "    pdb.set_trace()\n",
    "\n",
    "    return storm_data.sort_index()"
   ]
  },
  {
   "cell_type": "code",
   "execution_count": 10,
   "id": "505fdbaa-bebb-40e7-a65f-b6e946839c06",
   "metadata": {},
   "outputs": [],
   "source": [
    "#storm tracks give indices of position on common DYAMOND analysis grid; get grid lon/lat vals for reference\n",
    "ds_ref=xr.open_dataset(\"/gws/nopw/j04/lmcs/MCSMIP/DYAMOND/Summer/UM/olr_pcp_instantaneous/pr_rlut_um_summer_2016090923.nc\")\n",
    "ref_lons=ds_ref.lon.values\n",
    "ref_lats=ds_ref.lat.values"
   ]
  },
  {
   "cell_type": "code",
   "execution_count": 26,
   "id": "626f2e38-c937-492b-8c5d-f405b28838a3",
   "metadata": {},
   "outputs": [],
   "source": [
    "#Function to build complete table of tracker outputs from the raw output\n",
    "#Two output tables:\n",
    "# - storm_data: all data extracted from the tacker output files. Rows pertain to unique storm ids. Columns are labelled by hour since beginning of period.\n",
    "#               For each hour detail storm area, centroid coordinates and velocity components. Note no post-processing done to identify MCSs here.\n",
    "#               Note that most table entries are NaN, with storm values roughly clustered around the matrix diagonal.\n",
    "# - storm_props: simple table that uses area threshold to isolate MCSs. Just lists MCS lifetime (hours), mean storm speed and mean storm direction; unique storm per row.\n",
    "def process_storm_data(region,sim,sql=50):\n",
    "    storm_data=[]\n",
    "    period=pd.date_range(start=\"2016-08-01\",end=\"2016-08-02\",freq=\"H\")\n",
    "    print(\"Getting track output files\")\n",
    "    for i in range(len(period)):\n",
    "        tstamp=period[i]\n",
    "        nt=int((tstamp-period[0]).seconds/3600)\n",
    "        stamp_str=\"%04d%02d%02d%02d\"%(tstamp.year,tstamp.month,tstamp.day,tstamp.hour)\n",
    "        storm_data.append(get_track_info(region,sim,stamp_str,i,sql=sql))\n",
    "    storm_data=pd.concat(storm_data,axis=1)\n",
    "\n",
    "    print(\"Done; calculating MCS speeds\")\n",
    "    prop_data = {\"mcs\":[],\"ltime\":[],\"speeds\":[],\"dirs\":[]}\n",
    "    geo=cgeo.Geodesic()\n",
    "    for i in range(len(storm_data)):\n",
    "        storm_locs=storm_data.iloc[i].dropna()\n",
    "        #MCS area threshold; 11km ~ 0.1 degree resolution of k-scale gws analysis grid. Change if different!\n",
    "        #\n",
    "        is_mcs = storm_locs.filter(regex=\"area\").where(storm_locs.filter(regex=\"area\").astype(int) > 5000/11**2).dropna()\n",
    "        #NInclude cutoff to remove storms that only pop over MCS threshold once, can pollute tracking stats\n",
    "        if len(is_mcs) > 1:\n",
    "            prop_data[\"mcs\"].append(storm_locs.name)\n",
    "            prop_data[\"ltime\"].append(len(is_mcs))\n",
    "\n",
    "            #Get mean storm speeds; geodesic distance between start and end centroids / lifetime.\n",
    "            storm_locs=storm_locs.filter(regex=\"idx\")\n",
    "            \n",
    "            start_lon, start_lat = ref_lons[int(storm_locs.iloc[0])], ref_lats[int(storm_locs.iloc[1])]\n",
    "            end_lon, end_lat = ref_lons[int(storm_locs.iloc[-2])], ref_lats[int(storm_locs.iloc[-1])]\n",
    "            \n",
    "            path=cgeo.Geodesic.inverse(geo,np.array((start_lon,start_lat)),np.array((end_lon,end_lat)))\n",
    "        \n",
    "            prop_data[\"speeds\"].append(path[0,0] / (3600*len(storm_locs)/2))\n",
    "            prop_data[\"dirs\"].append(path[0,1])\n",
    "\n",
    "    storm_prop=pd.DataFrame(prop_data)\n",
    "    storm_prop.index = storm_prop[\"mcs\"]\n",
    "    storm_prop[\"dirs\"][storm_prop[\"dirs\"]<0] = storm_prop[\"dirs\"][storm_prop[\"dirs\"]<0] + 360\n",
    "\n",
    "    return storm_data, storm_prop"
   ]
  },
  {
   "cell_type": "code",
   "execution_count": null,
   "id": "1caabd79-5a08-45a6-bcea-4792a7ea2d16",
   "metadata": {},
   "outputs": [
    {
     "name": "stdout",
     "output_type": "stream",
     "text": [
      "Getting track output files\n",
      "> \u001b[0;32m/tmp/ipykernel_533/3669579310.py\u001b[0m(26)\u001b[0;36mget_track_info\u001b[0;34m()\u001b[0m\n",
      "\u001b[0;32m     24 \u001b[0;31m\u001b[0;34m\u001b[0m\u001b[0m\n",
      "\u001b[0m\u001b[0;32m     25 \u001b[0;31m    \u001b[0mpdb\u001b[0m\u001b[0;34m.\u001b[0m\u001b[0mset_trace\u001b[0m\u001b[0;34m(\u001b[0m\u001b[0;34m)\u001b[0m\u001b[0;34m\u001b[0m\u001b[0;34m\u001b[0m\u001b[0m\n",
      "\u001b[0m\u001b[0;32m---> 26 \u001b[0;31m    \u001b[0mstorm_data\u001b[0m\u001b[0;34m[\u001b[0m\u001b[0;34m[\u001b[0m\u001b[0;34m\"clon_idx_{:02d}\"\u001b[0m\u001b[0;34m.\u001b[0m\u001b[0mformat\u001b[0m\u001b[0;34m(\u001b[0m\u001b[0mhour\u001b[0m\u001b[0;34m)\u001b[0m\u001b[0;34m,\u001b[0m\u001b[0;34m\"clat_idx_{:02d}\"\u001b[0m\u001b[0;34m.\u001b[0m\u001b[0mformat\u001b[0m\u001b[0;34m(\u001b[0m\u001b[0mhour\u001b[0m\u001b[0;34m)\u001b[0m\u001b[0;34m]\u001b[0m\u001b[0;34m]\u001b[0m\u001b[0;34m=\u001b[0m\u001b[0mnp\u001b[0m\u001b[0;34m.\u001b[0m\u001b[0mround\u001b[0m\u001b[0;34m(\u001b[0m\u001b[0mstorm_data\u001b[0m\u001b[0;34m[\u001b[0m\u001b[0;34m[\u001b[0m\u001b[0;34m\"clon_idx_{:02d}\"\u001b[0m\u001b[0;34m.\u001b[0m\u001b[0mformat\u001b[0m\u001b[0;34m(\u001b[0m\u001b[0mhour\u001b[0m\u001b[0;34m)\u001b[0m\u001b[0;34m,\u001b[0m\u001b[0;34m\"clat_idx_{:02d}\"\u001b[0m\u001b[0;34m.\u001b[0m\u001b[0mformat\u001b[0m\u001b[0;34m(\u001b[0m\u001b[0mhour\u001b[0m\u001b[0;34m)\u001b[0m\u001b[0;34m]\u001b[0m\u001b[0;34m]\u001b[0m\u001b[0;34m)\u001b[0m\u001b[0;34m\u001b[0m\u001b[0;34m\u001b[0m\u001b[0m\n",
      "\u001b[0m\u001b[0;32m     27 \u001b[0;31m\u001b[0;34m\u001b[0m\u001b[0m\n",
      "\u001b[0m\u001b[0;32m     28 \u001b[0;31m    \u001b[0mpdb\u001b[0m\u001b[0;34m.\u001b[0m\u001b[0mset_trace\u001b[0m\u001b[0;34m(\u001b[0m\u001b[0;34m)\u001b[0m\u001b[0;34m\u001b[0m\u001b[0;34m\u001b[0m\u001b[0m\n",
      "\u001b[0m\n"
     ]
    },
    {
     "name": "stdin",
     "output_type": "stream",
     "text": [
      "ipdb>  type(cx_vals)\n"
     ]
    },
    {
     "name": "stdout",
     "output_type": "stream",
     "text": [
      "<class 'list'>\n"
     ]
    },
    {
     "name": "stdin",
     "output_type": "stream",
     "text": [
      "ipdb>  type(cx_vals[0])\n"
     ]
    },
    {
     "name": "stdout",
     "output_type": "stream",
     "text": [
      "<class 'float'>\n"
     ]
    },
    {
     "name": "stdin",
     "output_type": "stream",
     "text": [
      "ipdb>  cx_vals\n"
     ]
    },
    {
     "name": "stdout",
     "output_type": "stream",
     "text": [
      "[1796.09, 3461.31, 492.27, 313.6, 3458.55, 3452.62, 3168.45, 363.63, 707.24, 1114.5, 3457.5, 3176.79, 372.6, 718.94, 441.02, 346.71, 312.92, 3184.95, 328.31, 1857.69, 1348.47, 50.81, 2304.65, 470.79, 2621.06, 935.43, 1176.58, 73.38, 937.52, 1167.38, 1845.93, 3417.22, 2587.88, 742.17, 1156.65, 506.56, 63.0, 2068.84, 2330.0, 65.2, 3414.95, 1775.88, 2100.69, 3448.1, 3429.6, 3107.55, 2317.45, 490.29, 2450.1, 3566.09, 111.35, 1700.24, 73.0, 1710.35, 3460.88, 420.56, 591.92, 134.67, 2488.34, 435.0, 629.95, 2413.23, 1693.84, 153.6, 1721.1, 2759.89, 692.62, 2430.53, 2468.0, 2477.21, 647.75, 3587.61, 992.85, 637.67, 27.05, 712.08, 2091.91, 657.3, 713.48, 953.0, 3572.21, 662.44, 3138.63, 0.4, 682.5, 195.88, 1645.33, 1657.89, 3125.54, 1157.22, 145.55, 926.49, 50.84, 1672.95, 1626.66, 941.9, 1644.0, 953.17, 625.48, 1654.15, 925.16, 976.42, 300.18, 574.48, 3119.65, 976.5, 643.16, 941.33, 3108.95, 550.09, 498.55, 537.29, 2333.58, 647.03, 3226.54, 1162.55, 546.25, 576.2, 2127.45, 638.41, 2285.45, 1128.47, 2417.26, 2345.52, 326.71, 267.73, 786.47, 821.48, 812.48, 355.38, 2555.44, 764.75, 545.13, 1714.75, 3109.17, 382.07, 299.37, 641.47, 1165.26, 523.06, 3512.7, 2587.37, 717.38, 1161.31, 2573.2, 2548.66, 2533.7, 489.82, 3590.1, 480.91, 473.82, 3596.92, 3597.25, 3580.05, 3548.65, 3537.67, 147.47, 3503.4, 118.92, 3494.39, 2599.93, 2617.03, 27.77, 1079.35, 2513.4, 3372.75, 170.59, 1049.42, 3460.0, 1025.61, 2720.0, 3485.24, 2414.94, 3165.57, 2700.22, 3134.12, 1033.95, 2681.83, 2419.68, 2521.4, 3115.31, 26.56, 3174.51, 3454.15, 2594.65, 3281.71, 3398.7, 9.68, 3589.38, 128.03, 1015.45, 3090.34, 2987.55, 3232.89, 3152.45, 3218.71, 1013.43, 3090.97, 3277.04, 1414.64, 3206.59, 3078.53, 3247.32, 3225.33, 1396.89, 3102.6, 3266.23, 3284.14, 3206.9, 3242.1, 3377.89, 2425.75, 41.05, 3228.73, 3342.4, 3000.09, 1324.32, 1089.82, 3113.97, 1187.38, 1323.0, 3145.59, 1017.4, 3118.34, 3171.43, 3385.3, 871.5, 1016.38, 2397.92, 3363.48, 2090.02, 3356.18, 3181.98, 1443.5, 2803.65, 1361.0, 2334.86, 1435.41, 1104.85, 1403.69, 588.03, 2917.33, 2449.12, 3150.85, 2694.59, 2708.8, 1085.75, 2809.04, 1412.26, 2301.25, 2163.6, 2724.97, 1060.58, 1606.31, 3415.75, 1092.62, 2361.22, 640.43, 745.03, 3324.33, 3353.96, 528.45, 1078.86, 3426.75, 1641.36, 1973.17, 2861.33, 3513.63, 2246.25, 202.84, 986.8, 2850.37, 873.11, 2802.95, 904.1, 2834.61, 663.35, 2274.09, 2665.26, 3536.83, 3555.91, 1893.67, 2753.52, 3337.07, 177.32, 1410.65, 2232.0, 1524.16, 216.34, 2358.36, 2522.98, 3108.61, 3349.45, 2848.42, 3274.95, 279.48, 2833.87, 3283.59, 3548.73, 3264.6, 3497.12, 2698.48, 903.11, 161.51, 2806.38, 188.1, 879.54, 1260.01, 1878.29, 2197.92, 3318.64, 1779.07, 2398.87, 2863.48, 1217.97, 1092.07, 2836.42, 1945.95, 2055.85, 2599.62, 3110.73, 1746.43, 881.5, 2050.0, 2869.71, 2880.24, 3187.27, 1809.14, 1123.19, 1491.24, 2177.09, 3203.3, 2184.18, 3105.36, 1095.21, 2113.07, 3254.77, 350.45, 1520.59, 1807.6, 1843.31, 2238.35, 2556.0, 1120.58, 3209.22, 667.94, 1177.88, 1213.8, 1461.27, 237.38, 323.94, 2871.25, 229.41, 3222.22, 2251.4, 550.93, 1201.47, 35.34, 3577.41, 409.93, 1630.6, 1194.45, 2279.48, 2290.6, 3586.28, 1630.69, 888.1, 3130.1, 3210.55, 900.82, 1498.87, 2399.06, 3134.47, 3109.33, 1597.0, 1653.6, 1606.29, 624.6, 1970.4, 1565.58, 3072.15, 1602.83, 3254.8, 1705.3, 2001.09, 3250.42, 3516.58, 820.96, 1961.76, 3057.1, 2148.45, 170.86, 3045.0, 3076.83, 3041.0, 1019.74, 195.51, 211.25, 2921.64, 2190.06, 1053.08, 949.45, 977.74, 3061.72, 708.79, 214.99, 814.03, 1316.12, 1331.49, 2345.35, 2399.73, 1026.86, 2810.09, 3465.4, 902.04, 790.05, 3534.23, 12.0, 3037.88, 2330.36, 710.59, 2468.42, 688.5, 2855.24, 2834.18, 3574.04, 3294.0, 41.13, 3214.92, 3592.98, 18.87, 2532.7, 692.79, 668.17, 694.72, 3097.37, 657.08, 2195.18, 2832.97, 1022.44, 3196.42, 47.9, 2802.16, 686.96, 2718.78, 1015.0, 2823.08, 37.74, 2764.2, 2816.73, 3143.13, 0.6, 993.15, 2776.0, 3129.09, 2735.47, 2746.68, 823.53, 1743.17, 7.95, 25.84, 1298.29, 1739.2, 823.8, 273.87, 642.09, 2575.5, 3325.38, 1793.06, 1755.8, 3102.71, 3541.34, 1041.38, 1808.66, 1711.65, 3280.86, 2565.93, 2893.15, 1354.06, 1134.61, 1743.78, 1758.46, 60.24, 1762.9, 3119.4, 1448.07, 3180.94, 1321.04, 19.74, 1158.11, 3525.37, 3356.42, 2609.1, 3279.63, 991.73, 630.1, 2565.67, 3362.8, 2546.09, 31.41, 2518.23, 887.27, 2548.38, 139.14, 625.0, 2528.67, 2576.23, 86.61, 2563.8, 2608.96, 3364.65, 3568.98, 614.68, 2532.67, 3453.5, 834.42, 2636.54, 637.13, 636.71, 1871.36, 1895.95, 1.16, 3598.0, 830.57, 1167.58, 43.86, 2525.84, 851.67, 2632.21, 899.0, 615.0, 925.68, 860.0, 3216.0, 2500.0, 1836.93, 2686.14, 3367.65, 1594.99, 657.47, 999.77, 1393.31, 1024.25, 2260.14, 2677.3, 3451.49, 2687.15, 608.36, 666.0, 689.59, 2737.67, 2346.47, 2292.09, 790.88, 2417.65, 3039.94, 1527.83, 2672.47, 3214.2, 164.22, 704.7, 2333.39, 3221.0, 2669.81, 2706.45, 1423.34, 231.63, 3048.6, 1960.24, 2651.0, 244.38, 2663.37, 714.0, 730.0, 721.29, 1504.42, 1533.42, 1518.91, 1902.87, 1874.91, 211.44, 745.3, 2570.09, 1947.53, 3299.66, 3363.7, 1147.91, 703.88, 1137.42, 752.25, 2747.19, 71.72, 1158.86, 714.59, 2756.47, 2729.36, 1873.16, 705.0, 2701.9, 1413.56, 2775.44, 743.9, 779.37, 2007.93, 2787.66, 2308.37, 761.2, 1880.6, 3299.88, 1926.62, 1937.82, 3481.67, 3308.0, 3211.97, 2842.77, 1285.62, 3173.2, 2887.92, 3270.5, 2959.47, 2904.05, 3253.19, 698.96, 3465.57, 3457.05, 481.79, 277.96, 585.35, 597.06, 257.79, 1316.69, 227.14, 236.61, 2238.29, 415.45, 578.88, 1288.48, 1837.99, 562.33, 3319.69, 921.81, 1010.11, 2299.15, 547.21, 2297.31, 848.88, 540.09, 3247.21, 2807.52, 1303.33, 521.51, 3063.96, 1174.38, 804.46, 3023.19, 523.4, 1146.08, 507.39, 927.9, 3181.8, 520.06, 1139.87, 1878.5, 3168.73, 526.72, 3178.96, 505.34, 443.58, 3408.71, 514.76, 463.2, 530.42, 871.0, 1513.89, 2864.85, 440.0, 439.35, 2856.3, 1126.0, 474.53, 3416.1, 2636.26, 2662.2, 573.56, 765.45, 3404.0, 1888.16, 3393.42, 3418.78, 123.44, 1174.21, 529.38, 2837.03, 3349.26, 2800.38, 1160.59, 3327.7, 2256.74, 3502.53, 1812.01, 458.64, 1173.38, 599.09, 3412.85, 3200.99, 499.76, 2448.09, 3154.41, 1140.87, 1920.07, 2205.32, 3151.0, 2107.78, 616.04, 636.5, 550.37, 3355.1, 394.76]\n"
     ]
    },
    {
     "name": "stdin",
     "output_type": "stream",
     "text": [
      "ipdb>  storm_data[\"clon_idx_01\"]\n"
     ]
    },
    {
     "name": "stdout",
     "output_type": "stream",
     "text": [
      "*** KeyError: 'clon_idx_01'\n"
     ]
    },
    {
     "name": "stdin",
     "output_type": "stream",
     "text": [
      "ipdb>  storm_data[\"clon_idx\"]\n"
     ]
    },
    {
     "name": "stdout",
     "output_type": "stream",
     "text": [
      "*** KeyError: 'clon_idx'\n"
     ]
    },
    {
     "name": "stdin",
     "output_type": "stream",
     "text": [
      "ipdb>  storm_data[\"clon_idx_{:02d}\"]\n"
     ]
    },
    {
     "name": "stdout",
     "output_type": "stream",
     "text": [
      "*** KeyError: 'clon_idx_{:02d}'\n"
     ]
    },
    {
     "name": "stdin",
     "output_type": "stream",
     "text": [
      "ipdb>  storm_data.keys()\n"
     ]
    },
    {
     "name": "stdout",
     "output_type": "stream",
     "text": [
      "Index(['area_00', 'clon_idx_00', 'clat_idx_00', 'PSu_00', 'PSv_00', 'vmean_00',\n",
      "       'extreme_00', 'date_00'],\n",
      "      dtype='object')\n"
     ]
    },
    {
     "name": "stdin",
     "output_type": "stream",
     "text": [
      "ipdb>  storm_data['clon_idx_00']\n"
     ]
    },
    {
     "name": "stdout",
     "output_type": "stream",
     "text": [
      "storm\n",
      "1      1796.09\n",
      "2      3461.31\n",
      "3       492.27\n",
      "4        313.6\n",
      "5      3458.55\n",
      "        ...   \n",
      "714     616.04\n",
      "715      636.5\n",
      "716     550.37\n",
      "717     3355.1\n",
      "718     394.76\n",
      "Name: clon_idx_00, Length: 718, dtype: object\n"
     ]
    },
    {
     "name": "stdin",
     "output_type": "stream",
     "text": [
      "ipdb>  storm_data['clon_idx_00'][0]\n"
     ]
    },
    {
     "name": "stdout",
     "output_type": "stream",
     "text": [
      "*** KeyError: 0\n"
     ]
    },
    {
     "name": "stdin",
     "output_type": "stream",
     "text": [
      "ipdb>  storm_data['clon_idx_00'].iloc[0]\n"
     ]
    },
    {
     "name": "stdout",
     "output_type": "stream",
     "text": [
      "'1796.09'\n"
     ]
    },
    {
     "name": "stdin",
     "output_type": "stream",
     "text": [
      "ipdb>  type(storm_data['clon_idx_00'].iloc[0])\n"
     ]
    },
    {
     "name": "stdout",
     "output_type": "stream",
     "text": [
      "<class 'str'>\n"
     ]
    }
   ],
   "source": [
    "storms1, mcs_prop1 = process_storm_data(\"Summer\",\"um\",sql=50)\n",
    "storms2, mcs_prop2 = process_storm_data(\"Summer\",\"um\",sql=100)"
   ]
  },
  {
   "cell_type": "code",
   "execution_count": 17,
   "id": "18aae0e3-df41-4c81-85a4-d6da4039555f",
   "metadata": {},
   "outputs": [
    {
     "name": "stdout",
     "output_type": "stream",
     "text": [
      "13984\n",
      "7645\n"
     ]
    }
   ],
   "source": [
    "for props in [storms1, storms2]:\n",
    "    print(len(props))"
   ]
  },
  {
   "cell_type": "code",
   "execution_count": 18,
   "id": "5d7c43b8-ac0c-4634-b0f2-cf261c159304",
   "metadata": {},
   "outputs": [
    {
     "name": "stdout",
     "output_type": "stream",
     "text": [
      "Getting track output files\n",
      "> \u001b[0;32m/tmp/ipykernel_533/2070342979.py\u001b[0m(28)\u001b[0;36mget_track_info\u001b[0;34m()\u001b[0m\n",
      "\u001b[0;32m     24 \u001b[0;31m    \u001b[0mstorm_data\u001b[0m\u001b[0;34m[\u001b[0m\u001b[0;34m[\u001b[0m\u001b[0;34m\"clon_idx_{:02d}\"\u001b[0m\u001b[0;34m.\u001b[0m\u001b[0mformat\u001b[0m\u001b[0;34m(\u001b[0m\u001b[0mhour\u001b[0m\u001b[0;34m)\u001b[0m\u001b[0;34m,\u001b[0m\u001b[0;34m\"clat_idx_{:02d}\"\u001b[0m\u001b[0;34m.\u001b[0m\u001b[0mformat\u001b[0m\u001b[0;34m(\u001b[0m\u001b[0mhour\u001b[0m\u001b[0;34m)\u001b[0m\u001b[0;34m]\u001b[0m\u001b[0;34m]\u001b[0m\u001b[0;34m=\u001b[0m\u001b[0mnp\u001b[0m\u001b[0;34m.\u001b[0m\u001b[0mround\u001b[0m\u001b[0;34m(\u001b[0m\u001b[0mstorm_data\u001b[0m\u001b[0;34m[\u001b[0m\u001b[0;34m[\u001b[0m\u001b[0;34m\"clon_idx_{:02d}\"\u001b[0m\u001b[0;34m.\u001b[0m\u001b[0mformat\u001b[0m\u001b[0;34m(\u001b[0m\u001b[0mhour\u001b[0m\u001b[0;34m)\u001b[0m\u001b[0;34m,\u001b[0m\u001b[0;34m\"clat_idx_{:02d}\"\u001b[0m\u001b[0;34m.\u001b[0m\u001b[0mformat\u001b[0m\u001b[0;34m(\u001b[0m\u001b[0mhour\u001b[0m\u001b[0;34m)\u001b[0m\u001b[0;34m]\u001b[0m\u001b[0;34m]\u001b[0m\u001b[0;34m)\u001b[0m\u001b[0;34m\u001b[0m\u001b[0;34m\u001b[0m\u001b[0m\n",
      "\u001b[0m\u001b[0;32m     25 \u001b[0;31m\u001b[0;34m\u001b[0m\u001b[0m\n",
      "\u001b[0m\u001b[0;32m     26 \u001b[0;31m    \u001b[0mpdb\u001b[0m\u001b[0;34m.\u001b[0m\u001b[0mset_trace\u001b[0m\u001b[0;34m(\u001b[0m\u001b[0;34m)\u001b[0m\u001b[0;34m\u001b[0m\u001b[0;34m\u001b[0m\u001b[0m\n",
      "\u001b[0m\u001b[0;32m     27 \u001b[0;31m\u001b[0;34m\u001b[0m\u001b[0m\n",
      "\u001b[0m\u001b[0;32m---> 28 \u001b[0;31m    \u001b[0;32mreturn\u001b[0m \u001b[0mstorm_data\u001b[0m\u001b[0;34m.\u001b[0m\u001b[0msort_index\u001b[0m\u001b[0;34m(\u001b[0m\u001b[0;34m)\u001b[0m\u001b[0;34m\u001b[0m\u001b[0;34m\u001b[0m\u001b[0m\n",
      "\u001b[0m\n"
     ]
    },
    {
     "name": "stdin",
     "output_type": "stream",
     "text": [
      "ipdb>  storm_data.iloc[0]\n"
     ]
    },
    {
     "name": "stdout",
     "output_type": "stream",
     "text": [
      "area_00            716480\n",
      "clon_idx_00       1796.09\n",
      "clat_idx_00        118.78\n",
      "PSu_00                0.0\n",
      "PSv_00                0.0\n",
      "vmean_00            207.6\n",
      "extreme_00         104.53\n",
      "date_00        2016080100\n",
      "Name: 1, dtype: object\n"
     ]
    },
    {
     "name": "stdin",
     "output_type": "stream",
     "text": [
      "ipdb>  np.round(storm_data[[\"clon_idx_{:02d}\".format(hour),\"clat_idx_{:02d}\".format(hour)]])\n"
     ]
    },
    {
     "name": "stdout",
     "output_type": "stream",
     "text": [
      "      clon_idx_00 clat_idx_00\n",
      "storm                        \n",
      "1         1796.09      118.78\n",
      "2         3461.31       60.92\n",
      "3          492.27      114.86\n",
      "4           313.6       86.75\n",
      "5         3458.55       91.45\n",
      "...           ...         ...\n",
      "714        616.04     1196.93\n",
      "715         636.5     1195.82\n",
      "716        550.37     1197.41\n",
      "717        3355.1      1198.0\n",
      "718        394.76      1198.2\n",
      "\n",
      "[718 rows x 2 columns]\n"
     ]
    },
    {
     "name": "stdin",
     "output_type": "stream",
     "text": [
      "ipdb>  quit\n"
     ]
    }
   ],
   "source": [
    "storms1, mcs_prop1 = process_storm_data(\"Summer\",\"um\",sql=50)"
   ]
  },
  {
   "cell_type": "code",
   "execution_count": 11,
   "id": "b5b65bc7-abbd-4e15-8e61-2cab4a97da39",
   "metadata": {},
   "outputs": [
    {
     "data": {
      "image/png": "[encoded data removed]",
      "text/plain": [
       "<Figure size 432x288 with 1 Axes>"
      ]
     },
     "metadata": {
      "needs_background": "light"
     },
     "output_type": "display_data"
    }
   ],
   "source": [
    "bins=[]\n",
    "for props in [mcs_prop1,mcs_prop2]:\n",
    "    mx=np.ceil(props[\"speeds\"].max())\n",
    "    bins.append(stats.binned_statistic(props[\"speeds\"],props[\"speeds\"],statistic='count',bins=(mx+mx%2)/2 + 1,range=(-1,mx+mx%2 + 1)))\n",
    "\n",
    "plt.plot(bins[0].bin_edges[:-1]+1,100*bins[0].statistic/np.sum(bins[0].statistic),label=\"Global GAL9, (n={:.0f})\".format(np.sum(bins[0].statistic)),color=\"seagreen\",ls=\"--\")#\"darkseagreen\")\n",
    "plt.plot(bins[1].bin_edges[:-1]+1,100*bins[1].statistic/np.sum(bins[1].statistic),label=\"Channel GAL9, (n={:.0f})\".format(np.sum(bins[1].statistic)),color=\"maroon\",ls=\"--\")#\"mediumturquoise\")\n",
    "#plt.plot(bins[2].bin_edges[:-1]+1,100*bins[2].statistic/np.sum(bins[2].statistic),label=\"Channel RAL3, (n={:.0f})\".format(np.sum(bins[2].statistic)),color=\"maroon\")\n",
    "#Values read manually off fig 6a of Crook et al, 2018\n",
    "cp4=[11,9,20.25,20.25,17,8.5,5.5,2,3,1,0,1,0.3,0.2]\n",
    "plt.plot(np.arange(0,2*len(cp4),2),cp4,label=\"CP4-A (Crook et al, 2018)\",color=\"steelblue\")\n",
    "#plt.plot(bins[3].bin_edges[:-1]+1,100*bins[3].statistic/np.sum(bins[3].statistic),label=\"LAM RAL3, (n={:.0f})\".format(np.sum(bins[3].statistic)),color=\"goldenrod\")\n",
    "#Values read manually off fig 6a of Crook et al, 2018\n",
    "obs=[16,3,9,15.5,19.5,17,11,5,3,1,0.5,0.3,0.2]\n",
    "plt.plot(np.arange(0,2*len(obs),2),obs,label=\"OBS (Crook et al, 2018)\",color=\"k\")\n",
    "plt.legend()\n",
    "plt.xlabel(\"Mean propagation speed (ms$^{-1}$)\")\n",
    "plt.ylabel(\"% of storms\")\n",
    "#plt.xticks(bins[0].bin_edges[::5],np.arange(0,30,5))\n",
    "plt.xlim([0,27])#improves shear response of intense rainfall from MCSs\n",
    "plt.ylim([0,30])\n",
    "plt.savefig(\"MCS_propogation_speed_model_distributions.png\",dpi=200)"
   ]
  },
  {
   "cell_type": "code",
   "execution_count": 12,
   "id": "3edfabb1-c791-4342-8394-473ca32fb8ec",
   "metadata": {},
   "outputs": [
    {
     "data": {
      "text/plain": [
       "(0.0, 25.0)"
      ]
     },
     "execution_count": 12,
     "metadata": {},
     "output_type": "execute_result"
    },
    {
     "data": {
      "image/png": "[encoded data removed]",
      "text/plain": [
       "<Figure size 432x288 with 1 Axes>"
      ]
     },
     "metadata": {
      "needs_background": "light"
     },
     "output_type": "display_data"
    }
   ],
   "source": [
    "bins=[]\n",
    "for props in [mcs_prop1, mcs_prop2]:\n",
    "    bins.append(stats.binned_statistic(props[\"dirs\"],props[\"dirs\"],statistic='count',bins=37,range=(-5,365)))\n",
    "\n",
    "plt.plot(bins[0].bin_edges[:-1]+5,100*bins[0].statistic/np.sum(bins[0].statistic),label=\"Global GAL9\")\n",
    "plt.plot(bins[1].bin_edges[:-1]+5,100*bins[1].statistic/np.sum(bins[1].statistic),label=\"Channel GAL9\")\n",
    "#plt.plot(bins[2].bin_edges[:-1]+5,100*bins[2].statistic/np.sum(bins[2].statistic),label=\"Channel RAL3\")\n",
    "#plt.plot(bins[3].bin_edges[:-1]+1,100*bins[3].statistic/np.sum(bins[3].statistic),label=\"LAM RAL3\")\n",
    "plt.legend()\n",
    "plt.xlabel(\"Mean propagation angle (degrees)\")\n",
    "plt.ylabel(\"% of storms\")\n",
    "#plt.xticks(bins[0].bin_edges[:-1:5],[int(i) for i in (bins[0].bin_edges[:-1:5]+5)])\n",
    "plt.xlim([0,360])\n",
    "plt.ylim([0,25])"
   ]
  },
  {
   "cell_type": "code",
   "execution_count": 14,
   "id": "50921fa4-ccb2-484f-80e0-7d3d8e1d6b57",
   "metadata": {},
   "outputs": [
    {
     "data": {
      "text/html": [
       "<div>\n",
       "<style scoped>\n",
       "    .dataframe tbody tr th:only-of-type {\n",
       "        vertical-align: middle;\n",
       "    }\n",
       "\n",
       "    .dataframe tbody tr th {\n",
       "        vertical-align: top;\n",
       "    }\n",
       "\n",
       "    .dataframe thead th {\n",
       "        text-align: right;\n",
       "    }\n",
       "</style>\n",
       "<table border=\"1\" class=\"dataframe\">\n",
       "  <thead>\n",
       "    <tr style=\"text-align: right;\">\n",
       "      <th></th>\n",
       "      <th>area_00</th>\n",
       "      <th>clon_idx_00</th>\n",
       "      <th>clat_idx_00</th>\n",
       "      <th>PSu_00</th>\n",
       "      <th>PSv_00</th>\n",
       "      <th>area_01</th>\n",
       "      <th>clon_idx_01</th>\n",
       "      <th>clat_idx_01</th>\n",
       "      <th>PSu_01</th>\n",
       "      <th>PSv_01</th>\n",
       "      <th>...</th>\n",
       "      <th>area_23</th>\n",
       "      <th>clon_idx_23</th>\n",
       "      <th>clat_idx_23</th>\n",
       "      <th>PSu_23</th>\n",
       "      <th>PSv_23</th>\n",
       "      <th>area_24</th>\n",
       "      <th>clon_idx_24</th>\n",
       "      <th>clat_idx_24</th>\n",
       "      <th>PSu_24</th>\n",
       "      <th>PSv_24</th>\n",
       "    </tr>\n",
       "    <tr>\n",
       "      <th>storm</th>\n",
       "      <th></th>\n",
       "      <th></th>\n",
       "      <th></th>\n",
       "      <th></th>\n",
       "      <th></th>\n",
       "      <th></th>\n",
       "      <th></th>\n",
       "      <th></th>\n",
       "      <th></th>\n",
       "      <th></th>\n",
       "      <th></th>\n",
       "      <th></th>\n",
       "      <th></th>\n",
       "      <th></th>\n",
       "      <th></th>\n",
       "      <th></th>\n",
       "      <th></th>\n",
       "      <th></th>\n",
       "      <th></th>\n",
       "      <th></th>\n",
       "      <th></th>\n",
       "    </tr>\n",
       "  </thead>\n",
       "  <tbody>\n",
       "    <tr>\n",
       "      <th>1</th>\n",
       "      <td>716480.0</td>\n",
       "      <td>1796.0</td>\n",
       "      <td>119.0</td>\n",
       "      <td>0.0</td>\n",
       "      <td>0.0</td>\n",
       "      <td>746977.0</td>\n",
       "      <td>1797.0</td>\n",
       "      <td>120.0</td>\n",
       "      <td>2.53</td>\n",
       "      <td>1.98</td>\n",
       "      <td>...</td>\n",
       "      <td>776497.0</td>\n",
       "      <td>1817.0</td>\n",
       "      <td>123.0</td>\n",
       "      <td>1.87</td>\n",
       "      <td>1.32</td>\n",
       "      <td>775605.0</td>\n",
       "      <td>1817.0</td>\n",
       "      <td>123.0</td>\n",
       "      <td>-0.11</td>\n",
       "      <td>0.0</td>\n",
       "    </tr>\n",
       "    <tr>\n",
       "      <th>2</th>\n",
       "      <td>26.0</td>\n",
       "      <td>3461.0</td>\n",
       "      <td>61.0</td>\n",
       "      <td>0.0</td>\n",
       "      <td>0.0</td>\n",
       "      <td>NaN</td>\n",
       "      <td>NaN</td>\n",
       "      <td>NaN</td>\n",
       "      <td>NaN</td>\n",
       "      <td>NaN</td>\n",
       "      <td>...</td>\n",
       "      <td>NaN</td>\n",
       "      <td>NaN</td>\n",
       "      <td>NaN</td>\n",
       "      <td>NaN</td>\n",
       "      <td>NaN</td>\n",
       "      <td>NaN</td>\n",
       "      <td>NaN</td>\n",
       "      <td>NaN</td>\n",
       "      <td>NaN</td>\n",
       "      <td>NaN</td>\n",
       "    </tr>\n",
       "    <tr>\n",
       "      <th>3</th>\n",
       "      <td>1390.0</td>\n",
       "      <td>492.0</td>\n",
       "      <td>115.0</td>\n",
       "      <td>0.0</td>\n",
       "      <td>0.0</td>\n",
       "      <td>NaN</td>\n",
       "      <td>NaN</td>\n",
       "      <td>NaN</td>\n",
       "      <td>NaN</td>\n",
       "      <td>NaN</td>\n",
       "      <td>...</td>\n",
       "      <td>NaN</td>\n",
       "      <td>NaN</td>\n",
       "      <td>NaN</td>\n",
       "      <td>NaN</td>\n",
       "      <td>NaN</td>\n",
       "      <td>NaN</td>\n",
       "      <td>NaN</td>\n",
       "      <td>NaN</td>\n",
       "      <td>NaN</td>\n",
       "      <td>NaN</td>\n",
       "    </tr>\n",
       "    <tr>\n",
       "      <th>4</th>\n",
       "      <td>48.0</td>\n",
       "      <td>314.0</td>\n",
       "      <td>87.0</td>\n",
       "      <td>0.0</td>\n",
       "      <td>0.0</td>\n",
       "      <td>NaN</td>\n",
       "      <td>NaN</td>\n",
       "      <td>NaN</td>\n",
       "      <td>NaN</td>\n",
       "      <td>NaN</td>\n",
       "      <td>...</td>\n",
       "      <td>NaN</td>\n",
       "      <td>NaN</td>\n",
       "      <td>NaN</td>\n",
       "      <td>NaN</td>\n",
       "      <td>NaN</td>\n",
       "      <td>NaN</td>\n",
       "      <td>NaN</td>\n",
       "      <td>NaN</td>\n",
       "      <td>NaN</td>\n",
       "      <td>NaN</td>\n",
       "    </tr>\n",
       "    <tr>\n",
       "      <th>5</th>\n",
       "      <td>11.0</td>\n",
       "      <td>3459.0</td>\n",
       "      <td>91.0</td>\n",
       "      <td>0.0</td>\n",
       "      <td>0.0</td>\n",
       "      <td>NaN</td>\n",
       "      <td>NaN</td>\n",
       "      <td>NaN</td>\n",
       "      <td>NaN</td>\n",
       "      <td>NaN</td>\n",
       "      <td>...</td>\n",
       "      <td>NaN</td>\n",
       "      <td>NaN</td>\n",
       "      <td>NaN</td>\n",
       "      <td>NaN</td>\n",
       "      <td>NaN</td>\n",
       "      <td>NaN</td>\n",
       "      <td>NaN</td>\n",
       "      <td>NaN</td>\n",
       "      <td>NaN</td>\n",
       "      <td>NaN</td>\n",
       "    </tr>\n",
       "  </tbody>\n",
       "</table>\n",
       "<p>5 rows × 125 columns</p>\n",
       "</div>"
      ],
      "text/plain": [
       "        area_00  clon_idx_00  clat_idx_00  PSu_00  PSv_00   area_01  \\\n",
       "storm                                                                 \n",
       "1      716480.0       1796.0        119.0     0.0     0.0  746977.0   \n",
       "2          26.0       3461.0         61.0     0.0     0.0       NaN   \n",
       "3        1390.0        492.0        115.0     0.0     0.0       NaN   \n",
       "4          48.0        314.0         87.0     0.0     0.0       NaN   \n",
       "5          11.0       3459.0         91.0     0.0     0.0       NaN   \n",
       "\n",
       "       clon_idx_01  clat_idx_01  PSu_01  PSv_01  ...   area_23  clon_idx_23  \\\n",
       "storm                                            ...                          \n",
       "1           1797.0        120.0    2.53    1.98  ...  776497.0       1817.0   \n",
       "2              NaN          NaN     NaN     NaN  ...       NaN          NaN   \n",
       "3              NaN          NaN     NaN     NaN  ...       NaN          NaN   \n",
       "4              NaN          NaN     NaN     NaN  ...       NaN          NaN   \n",
       "5              NaN          NaN     NaN     NaN  ...       NaN          NaN   \n",
       "\n",
       "       clat_idx_23  PSu_23  PSv_23   area_24  clon_idx_24  clat_idx_24  \\\n",
       "storm                                                                    \n",
       "1            123.0    1.87    1.32  775605.0       1817.0        123.0   \n",
       "2              NaN     NaN     NaN       NaN          NaN          NaN   \n",
       "3              NaN     NaN     NaN       NaN          NaN          NaN   \n",
       "4              NaN     NaN     NaN       NaN          NaN          NaN   \n",
       "5              NaN     NaN     NaN       NaN          NaN          NaN   \n",
       "\n",
       "       PSu_24  PSv_24  \n",
       "storm                  \n",
       "1       -0.11     0.0  \n",
       "2         NaN     NaN  \n",
       "3         NaN     NaN  \n",
       "4         NaN     NaN  \n",
       "5         NaN     NaN  \n",
       "\n",
       "[5 rows x 125 columns]"
      ]
     },
     "execution_count": 14,
     "metadata": {},
     "output_type": "execute_result"
    }
   ],
   "source": [
    "storms1.head()"
   ]
  },
  {
   "cell_type": "code",
   "execution_count": 30,
   "id": "13419d21-992a-4f38-b638-38aa79181b36",
   "metadata": {},
   "outputs": [
    {
     "data": {
      "text/html": [
       "<div>\n",
       "<style scoped>\n",
       "    .dataframe tbody tr th:only-of-type {\n",
       "        vertical-align: middle;\n",
       "    }\n",
       "\n",
       "    .dataframe tbody tr th {\n",
       "        vertical-align: top;\n",
       "    }\n",
       "\n",
       "    .dataframe thead th {\n",
       "        text-align: right;\n",
       "    }\n",
       "</style>\n",
       "<table border=\"1\" class=\"dataframe\">\n",
       "  <thead>\n",
       "    <tr style=\"text-align: right;\">\n",
       "      <th></th>\n",
       "      <th>mcs</th>\n",
       "      <th>ltime</th>\n",
       "      <th>speeds</th>\n",
       "      <th>dirs</th>\n",
       "    </tr>\n",
       "    <tr>\n",
       "      <th>mcs</th>\n",
       "      <th></th>\n",
       "      <th></th>\n",
       "      <th></th>\n",
       "      <th></th>\n",
       "    </tr>\n",
       "  </thead>\n",
       "  <tbody>\n",
       "    <tr>\n",
       "      <th>1</th>\n",
       "      <td>1</td>\n",
       "      <td>25</td>\n",
       "      <td>1.814805</td>\n",
       "      <td>74.979816</td>\n",
       "    </tr>\n",
       "    <tr>\n",
       "      <th>15</th>\n",
       "      <td>15</td>\n",
       "      <td>3</td>\n",
       "      <td>15.993406</td>\n",
       "      <td>121.180509</td>\n",
       "    </tr>\n",
       "    <tr>\n",
       "      <th>24</th>\n",
       "      <td>24</td>\n",
       "      <td>7</td>\n",
       "      <td>13.582796</td>\n",
       "      <td>129.180451</td>\n",
       "    </tr>\n",
       "    <tr>\n",
       "      <th>44</th>\n",
       "      <td>44</td>\n",
       "      <td>2</td>\n",
       "      <td>11.058355</td>\n",
       "      <td>106.487166</td>\n",
       "    </tr>\n",
       "    <tr>\n",
       "      <th>45</th>\n",
       "      <td>45</td>\n",
       "      <td>3</td>\n",
       "      <td>10.330083</td>\n",
       "      <td>96.129327</td>\n",
       "    </tr>\n",
       "  </tbody>\n",
       "</table>\n",
       "</div>"
      ],
      "text/plain": [
       "     mcs  ltime     speeds        dirs\n",
       "mcs                                   \n",
       "1      1     25   1.814805   74.979816\n",
       "15    15      3  15.993406  121.180509\n",
       "24    24      7  13.582796  129.180451\n",
       "44    44      2  11.058355  106.487166\n",
       "45    45      3  10.330083   96.129327"
      ]
     },
     "execution_count": 30,
     "metadata": {},
     "output_type": "execute_result"
    }
   ],
   "source": [
    "mcs_prop1.head()"
   ]
  },
  {
   "cell_type": "code",
   "execution_count": null,
   "id": "a0c97458-3b4c-421e-a2e5-5c7b1971e3e3",
   "metadata": {},
   "outputs": [],
   "source": []
  }
 ],
 "metadata": {
  "kernelspec": {
   "display_name": "Python 3 + Jaspy",
   "language": "python",
   "name": "jaspy"
  },
  "language_info": {
   "codemirror_mode": {
    "name": "ipython",
    "version": 3
   },
   "file_extension": ".py",
   "mimetype": "text/x-python",
   "name": "python",
   "nbconvert_exporter": "python",
   "pygments_lexer": "ipython3",
   "version": "3.10.8"
  }
 },
 "nbformat": 4,
 "nbformat_minor": 5
}
